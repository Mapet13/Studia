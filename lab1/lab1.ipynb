{
 "cells": [
  {
   "cell_type": "markdown",
   "metadata": {},
   "source": [
    "TODO: R Studio ogarnąć"
   ]
  },
  {
   "cell_type": "code",
   "execution_count": 51,
   "metadata": {},
   "outputs": [
    {
     "data": {
      "text/html": [
       "579"
      ],
      "text/latex": [
       "579"
      ],
      "text/markdown": [
       "579"
      ],
      "text/plain": [
       "[1] 579"
      ]
     },
     "metadata": {},
     "output_type": "display_data"
    }
   ],
   "source": [
    "123+456"
   ]
  },
  {
   "cell_type": "code",
   "execution_count": 52,
   "metadata": {},
   "outputs": [],
   "source": [
    "a<-2+2"
   ]
  },
  {
   "cell_type": "code",
   "execution_count": 53,
   "metadata": {},
   "outputs": [
    {
     "data": {
      "text/html": [
       "9"
      ],
      "text/latex": [
       "9"
      ],
      "text/markdown": [
       "9"
      ],
      "text/plain": [
       "[1] 9"
      ]
     },
     "metadata": {},
     "output_type": "display_data"
    }
   ],
   "source": [
    "3**2"
   ]
  },
  {
   "cell_type": "code",
   "execution_count": 54,
   "metadata": {},
   "outputs": [
    {
     "data": {
      "text/html": [
       "2"
      ],
      "text/latex": [
       "2"
      ],
      "text/markdown": [
       "2"
      ],
      "text/plain": [
       "[1] 2"
      ]
     },
     "metadata": {},
     "output_type": "display_data"
    }
   ],
   "source": [
    "17%%5"
   ]
  },
  {
   "cell_type": "code",
   "execution_count": 55,
   "metadata": {},
   "outputs": [
    {
     "data": {
      "text/html": [
       "3"
      ],
      "text/latex": [
       "3"
      ],
      "text/markdown": [
       "3"
      ],
      "text/plain": [
       "[1] 3"
      ]
     },
     "metadata": {},
     "output_type": "display_data"
    }
   ],
   "source": [
    "17%/%5"
   ]
  },
  {
   "cell_type": "markdown",
   "metadata": {},
   "source": [
    "pliki:\n",
    "-  csv   (coma seperated values)\n",
    "-  tsv   (tab)"
   ]
  },
  {
   "cell_type": "code",
   "execution_count": 56,
   "metadata": {},
   "outputs": [
    {
     "data": {
      "text/html": [
       "6"
      ],
      "text/latex": [
       "6"
      ],
      "text/markdown": [
       "6"
      ],
      "text/plain": [
       "[1] 6"
      ]
     },
     "metadata": {},
     "output_type": "display_data"
    }
   ],
   "source": [
    "ceiling(5.1)"
   ]
  },
  {
   "cell_type": "code",
   "execution_count": 57,
   "metadata": {},
   "outputs": [],
   "source": [
    "# komentarze"
   ]
  },
  {
   "cell_type": "code",
   "execution_count": 58,
   "metadata": {},
   "outputs": [
    {
     "data": {
      "text/html": [
       "4"
      ],
      "text/latex": [
       "4"
      ],
      "text/markdown": [
       "4"
      ],
      "text/plain": [
       "[1] 4"
      ]
     },
     "metadata": {},
     "output_type": "display_data"
    }
   ],
   "source": [
    "log(exp(4))"
   ]
  },
  {
   "cell_type": "code",
   "execution_count": 59,
   "metadata": {},
   "outputs": [
    {
     "ename": "ERROR",
     "evalue": "Error in exp(4) %>% log(): could not find function \"%>%\"\n",
     "output_type": "error",
     "traceback": [
      "Error in exp(4) %>% log(): could not find function \"%>%\"\nTraceback:\n"
     ]
    }
   ],
   "source": [
    "#package magrittr\n",
    "\n",
    "exp(4) %>% log()\n",
    "exp(4) %>% log(.)"
   ]
  },
  {
   "cell_type": "code",
   "execution_count": null,
   "metadata": {},
   "outputs": [
    {
     "name": "stdout",
     "output_type": "stream",
     "text": [
      "[1] 3.14159265358979\n",
      "[1] 3.1416\n",
      "[1] 3.141593\n"
     ]
    }
   ],
   "source": [
    "print(pi, 15)\n",
    "print(pi, 5)\n",
    "print(pi)"
   ]
  },
  {
   "cell_type": "code",
   "execution_count": null,
   "metadata": {},
   "outputs": [
    {
     "data": {
      "text/html": [
       "1.22464679914735e-16"
      ],
      "text/latex": [
       "1.22464679914735e-16"
      ],
      "text/markdown": [
       "1.22464679914735e-16"
      ],
      "text/plain": [
       "[1] 1.224647e-16"
      ]
     },
     "metadata": {},
     "output_type": "display_data"
    }
   ],
   "source": [
    "sin(pi)"
   ]
  },
  {
   "cell_type": "code",
   "execution_count": null,
   "metadata": {},
   "outputs": [
    {
     "data": {
      "text/html": [
       "3.14159"
      ],
      "text/latex": [
       "3.14159"
      ],
      "text/markdown": [
       "3.14159"
      ],
      "text/plain": [
       "[1] 3.14159"
      ]
     },
     "metadata": {},
     "output_type": "display_data"
    }
   ],
   "source": [
    "round(pi, 5)"
   ]
  },
  {
   "cell_type": "code",
   "execution_count": null,
   "metadata": {},
   "outputs": [
    {
     "data": {
      "text/html": [
       "FALSE"
      ],
      "text/latex": [
       "FALSE"
      ],
      "text/markdown": [
       "FALSE"
      ],
      "text/plain": [
       "[1] FALSE"
      ]
     },
     "metadata": {},
     "output_type": "display_data"
    },
    {
     "data": {
      "text/html": [
       "TRUE"
      ],
      "text/latex": [
       "TRUE"
      ],
      "text/markdown": [
       "TRUE"
      ],
      "text/plain": [
       "[1] TRUE"
      ]
     },
     "metadata": {},
     "output_type": "display_data"
    }
   ],
   "source": [
    "6>7 & 1<2\n",
    "6>7 | 1<2"
   ]
  },
  {
   "cell_type": "code",
   "execution_count": null,
   "metadata": {},
   "outputs": [
    {
     "data": {
      "text/html": [
       "<style>\n",
       ".list-inline {list-style: none; margin:0; padding: 0}\n",
       ".list-inline>li {display: inline-block}\n",
       ".list-inline>li:not(:last-child)::after {content: \"\\00b7\"; padding: 0 .5ex}\n",
       "</style>\n",
       "<ol class=list-inline><li>1</li><li>2</li><li>3</li><li>4</li><li>5</li><li>6</li><li>7</li><li>8</li><li>9</li><li>-4</li><li>21</li></ol>\n"
      ],
      "text/latex": [
       "\\begin{enumerate*}\n",
       "\\item 1\n",
       "\\item 2\n",
       "\\item 3\n",
       "\\item 4\n",
       "\\item 5\n",
       "\\item 6\n",
       "\\item 7\n",
       "\\item 8\n",
       "\\item 9\n",
       "\\item -4\n",
       "\\item 21\n",
       "\\end{enumerate*}\n"
      ],
      "text/markdown": [
       "1. 1\n",
       "2. 2\n",
       "3. 3\n",
       "4. 4\n",
       "5. 5\n",
       "6. 6\n",
       "7. 7\n",
       "8. 8\n",
       "9. 9\n",
       "10. -4\n",
       "11. 21\n",
       "\n",
       "\n"
      ],
      "text/plain": [
       " [1]  1  2  3  4  5  6  7  8  9 -4 21"
      ]
     },
     "metadata": {},
     "output_type": "display_data"
    }
   ],
   "source": [
    "c(1,2,3,4,5,6,7,8,9,-4,21)"
   ]
  },
  {
   "cell_type": "code",
   "execution_count": null,
   "metadata": {},
   "outputs": [
    {
     "data": {
      "text/html": [
       "3"
      ],
      "text/latex": [
       "3"
      ],
      "text/markdown": [
       "3"
      ],
      "text/plain": [
       "[1] 3"
      ]
     },
     "metadata": {},
     "output_type": "display_data"
    },
    {
     "data": {
      "text/html": [
       "<style>\n",
       ".list-inline {list-style: none; margin:0; padding: 0}\n",
       ".list-inline>li {display: inline-block}\n",
       ".list-inline>li:not(:last-child)::after {content: \"\\00b7\"; padding: 0 .5ex}\n",
       "</style>\n",
       "<ol class=list-inline><li>FALSE</li><li>FALSE</li><li>FALSE</li></ol>\n"
      ],
      "text/latex": [
       "\\begin{enumerate*}\n",
       "\\item FALSE\n",
       "\\item FALSE\n",
       "\\item FALSE\n",
       "\\end{enumerate*}\n"
      ],
      "text/markdown": [
       "1. FALSE\n",
       "2. FALSE\n",
       "3. FALSE\n",
       "\n",
       "\n"
      ],
      "text/plain": [
       "[1] FALSE FALSE FALSE"
      ]
     },
     "metadata": {},
     "output_type": "display_data"
    },
    {
     "data": {
      "text/html": [
       "<style>\n",
       ".list-inline {list-style: none; margin:0; padding: 0}\n",
       ".list-inline>li {display: inline-block}\n",
       ".list-inline>li:not(:last-child)::after {content: \"\\00b7\"; padding: 0 .5ex}\n",
       "</style>\n",
       "<ol class=list-inline><li>FALSE</li><li>TRUE</li><li>FALSE</li></ol>\n"
      ],
      "text/latex": [
       "\\begin{enumerate*}\n",
       "\\item FALSE\n",
       "\\item TRUE\n",
       "\\item FALSE\n",
       "\\end{enumerate*}\n"
      ],
      "text/markdown": [
       "1. FALSE\n",
       "2. TRUE\n",
       "3. FALSE\n",
       "\n",
       "\n"
      ],
      "text/plain": [
       "[1] FALSE  TRUE FALSE"
      ]
     },
     "metadata": {},
     "output_type": "display_data"
    },
    {
     "data": {
      "text/html": [
       "1"
      ],
      "text/latex": [
       "1"
      ],
      "text/markdown": [
       "1"
      ],
      "text/plain": [
       "[1] 1"
      ]
     },
     "metadata": {},
     "output_type": "display_data"
    },
    {
     "data": {
      "text/html": [
       "3"
      ],
      "text/latex": [
       "3"
      ],
      "text/markdown": [
       "3"
      ],
      "text/plain": [
       "[1] 3"
      ]
     },
     "metadata": {},
     "output_type": "display_data"
    },
    {
     "data": {
      "text/html": [
       "<style>\n",
       ".list-inline {list-style: none; margin:0; padding: 0}\n",
       ".list-inline>li {display: inline-block}\n",
       ".list-inline>li:not(:last-child)::after {content: \"\\00b7\"; padding: 0 .5ex}\n",
       "</style>\n",
       "<ol class=list-inline><li>1</li><li>2</li></ol>\n"
      ],
      "text/latex": [
       "\\begin{enumerate*}\n",
       "\\item 1\n",
       "\\item 2\n",
       "\\end{enumerate*}\n"
      ],
      "text/markdown": [
       "1. 1\n",
       "2. 2\n",
       "\n",
       "\n"
      ],
      "text/plain": [
       "[1] 1 2"
      ]
     },
     "metadata": {},
     "output_type": "display_data"
    },
    {
     "data": {
      "text/html": [
       "<style>\n",
       ".list-inline {list-style: none; margin:0; padding: 0}\n",
       ".list-inline>li {display: inline-block}\n",
       ".list-inline>li:not(:last-child)::after {content: \"\\00b7\"; padding: 0 .5ex}\n",
       "</style>\n",
       "<ol class=list-inline><li>2</li><li>3</li><li>4</li><li>5</li></ol>\n"
      ],
      "text/latex": [
       "\\begin{enumerate*}\n",
       "\\item 2\n",
       "\\item 3\n",
       "\\item 4\n",
       "\\item 5\n",
       "\\end{enumerate*}\n"
      ],
      "text/markdown": [
       "1. 2\n",
       "2. 3\n",
       "3. 4\n",
       "4. 5\n",
       "\n",
       "\n"
      ],
      "text/plain": [
       "[1] 2 3 4 5"
      ]
     },
     "metadata": {},
     "output_type": "display_data"
    }
   ],
   "source": [
    "wektor<-c(1, 2, 3)\n",
    "length(wektor)\n",
    "is.na(wektor)\n",
    "\n",
    "w2<-c(1, NA, 43)\n",
    "is.na(w2)\n",
    "sum(is.na(w2))\n",
    "\n",
    "wektor[3]\n",
    "wektor[1:2]\n",
    "\n",
    "2:5"
   ]
  },
  {
   "cell_type": "code",
   "execution_count": 70,
   "metadata": {},
   "outputs": [
    {
     "data": {
      "text/html": [
       "<strong>rzutA:</strong> 1"
      ],
      "text/latex": [
       "\\textbf{rzutA:} 1"
      ],
      "text/markdown": [
       "**rzutA:** 1"
      ],
      "text/plain": [
       "rzutA \n",
       "    1 "
      ]
     },
     "metadata": {},
     "output_type": "display_data"
    },
    {
     "data": {
      "text/html": [
       "<strong>rzutA:</strong> 1"
      ],
      "text/latex": [
       "\\textbf{rzutA:} 1"
      ],
      "text/markdown": [
       "**rzutA:** 1"
      ],
      "text/plain": [
       "rzutA \n",
       "    1 "
      ]
     },
     "metadata": {},
     "output_type": "display_data"
    },
    {
     "data": {
      "text/html": [
       "<strong>rzutA:</strong> 1"
      ],
      "text/latex": [
       "\\textbf{rzutA:} 1"
      ],
      "text/markdown": [
       "**rzutA:** 1"
      ],
      "text/plain": [
       "rzutA \n",
       "    1 "
      ]
     },
     "metadata": {},
     "output_type": "display_data"
    },
    {
     "data": {
      "text/html": [
       "<style>\n",
       ".dl-inline {width: auto; margin:0; padding: 0}\n",
       ".dl-inline>dt, .dl-inline>dd {float: none; width: auto; display: inline-block}\n",
       ".dl-inline>dt::after {content: \":\\0020\"; padding-right: .5ex}\n",
       ".dl-inline>dt:not(:first-of-type) {padding-left: .5ex}\n",
       "</style><dl class=dl-inline><dt>rzutA</dt><dd>1</dd><dt>rzutB</dt><dd>234</dd><dt>rzutC</dt><dd>123</dd></dl>\n"
      ],
      "text/latex": [
       "\\begin{description*}\n",
       "\\item[rzutA] 1\n",
       "\\item[rzutB] 234\n",
       "\\item[rzutC] 123\n",
       "\\end{description*}\n"
      ],
      "text/markdown": [
       "rzutA\n",
       ":   1rzutB\n",
       ":   234rzutC\n",
       ":   123\n",
       "\n"
      ],
      "text/plain": [
       "rzutA rzutB rzutC \n",
       "    1   234   123 "
      ]
     },
     "metadata": {},
     "output_type": "display_data"
    },
    {
     "data": {
      "text/html": [
       "<strong>rzutB:</strong> 234"
      ],
      "text/latex": [
       "\\textbf{rzutB:} 234"
      ],
      "text/markdown": [
       "**rzutB:** 234"
      ],
      "text/plain": [
       "rzutB \n",
       "  234 "
      ]
     },
     "metadata": {},
     "output_type": "display_data"
    },
    {
     "data": {
      "text/html": [
       "<style>\n",
       ".dl-inline {width: auto; margin:0; padding: 0}\n",
       ".dl-inline>dt, .dl-inline>dd {float: none; width: auto; display: inline-block}\n",
       ".dl-inline>dt::after {content: \":\\0020\"; padding-right: .5ex}\n",
       ".dl-inline>dt:not(:first-of-type) {padding-left: .5ex}\n",
       "</style><dl class=dl-inline><dt>rzutA</dt><dd>2</dd><dt>rzutB</dt><dd>468</dd><dt>rzutC</dt><dd>246</dd></dl>\n"
      ],
      "text/latex": [
       "\\begin{description*}\n",
       "\\item[rzutA] 2\n",
       "\\item[rzutB] 468\n",
       "\\item[rzutC] 246\n",
       "\\end{description*}\n"
      ],
      "text/markdown": [
       "rzutA\n",
       ":   2rzutB\n",
       ":   468rzutC\n",
       ":   246\n",
       "\n"
      ],
      "text/plain": [
       "rzutA rzutB rzutC \n",
       "    2   468   246 "
      ]
     },
     "metadata": {},
     "output_type": "display_data"
    },
    {
     "data": {
      "text/html": [
       "<style>\n",
       ".dl-inline {width: auto; margin:0; padding: 0}\n",
       ".dl-inline>dt, .dl-inline>dd {float: none; width: auto; display: inline-block}\n",
       ".dl-inline>dt::after {content: \":\\0020\"; padding-right: .5ex}\n",
       ".dl-inline>dt:not(:first-of-type) {padding-left: .5ex}\n",
       "</style><dl class=dl-inline><dt>rzutA</dt><dd>3</dd><dt>rzutB</dt><dd>469</dd><dt>rzutC</dt><dd>247</dd></dl>\n"
      ],
      "text/latex": [
       "\\begin{description*}\n",
       "\\item[rzutA] 3\n",
       "\\item[rzutB] 469\n",
       "\\item[rzutC] 247\n",
       "\\end{description*}\n"
      ],
      "text/markdown": [
       "rzutA\n",
       ":   3rzutB\n",
       ":   469rzutC\n",
       ":   247\n",
       "\n"
      ],
      "text/plain": [
       "rzutA rzutB rzutC \n",
       "    3   469   247 "
      ]
     },
     "metadata": {},
     "output_type": "display_data"
    }
   ],
   "source": [
    "wyniki<-c(rzutA=1, rzutB=234, rzutC=123)\n",
    "wyniki[\"rzutA\"]\n",
    "wyniki[c(\"rzutA\")]\n",
    "wyniki[1]\n",
    "wyniki\n",
    "wyniki[-c(1, 3)]\n",
    "\n",
    "# wyniki[-c(\"rzutA\")] <<-- error\n",
    "\n",
    "w2 <- 2*wyniki\n",
    "w2\n",
    "\n",
    "a3<-c(1, 1, 1)\n",
    "w2+a3"
   ]
  },
  {
   "cell_type": "code",
   "execution_count": 75,
   "metadata": {},
   "outputs": [
    {
     "data": {
      "text/html": [
       "<style>\n",
       ".list-inline {list-style: none; margin:0; padding: 0}\n",
       ".list-inline>li {display: inline-block}\n",
       ".list-inline>li:not(:last-child)::after {content: \"\\00b7\"; padding: 0 .5ex}\n",
       "</style>\n",
       "<ol class=list-inline><li>2</li><li>4</li><li>4</li><li>6</li></ol>\n"
      ],
      "text/latex": [
       "\\begin{enumerate*}\n",
       "\\item 2\n",
       "\\item 4\n",
       "\\item 4\n",
       "\\item 6\n",
       "\\end{enumerate*}\n"
      ],
      "text/markdown": [
       "1. 2\n",
       "2. 4\n",
       "3. 4\n",
       "4. 6\n",
       "\n",
       "\n"
      ],
      "text/plain": [
       "[1] 2 4 4 6"
      ]
     },
     "metadata": {},
     "output_type": "display_data"
    },
    {
     "data": {
      "text/html": [
       "<style>\n",
       ".list-inline {list-style: none; margin:0; padding: 0}\n",
       ".list-inline>li {display: inline-block}\n",
       ".list-inline>li:not(:last-child)::after {content: \"\\00b7\"; padding: 0 .5ex}\n",
       "</style>\n",
       "<ol class=list-inline><li>3</li><li>4</li><li>5</li><li>6</li></ol>\n"
      ],
      "text/latex": [
       "\\begin{enumerate*}\n",
       "\\item 3\n",
       "\\item 4\n",
       "\\item 5\n",
       "\\item 6\n",
       "\\end{enumerate*}\n"
      ],
      "text/markdown": [
       "1. 3\n",
       "2. 4\n",
       "3. 5\n",
       "4. 6\n",
       "\n",
       "\n"
      ],
      "text/plain": [
       "[1] 3 4 5 6"
      ]
     },
     "metadata": {},
     "output_type": "display_data"
    }
   ],
   "source": [
    "a<-c(1,2,3,4)\n",
    "b<-c(1,2)\n",
    "a+b\n",
    "2+a"
   ]
  },
  {
   "cell_type": "code",
   "execution_count": 73,
   "metadata": {},
   "outputs": [
    {
     "name": "stderr",
     "output_type": "stream",
     "text": [
      "Warning message in seq_len(head.end.idx):\n",
      "“first element used of 'length.out' argument”\n",
      "ERROR while rich displaying an object: Error in seq_len(head.end.idx): argument must be coercible to non-negative integer\n",
      "\n",
      "Traceback:\n",
      "1. FUN(X[[i]], ...)\n",
      "2. tryCatch(withCallingHandlers({\n",
      " .     if (!mime %in% names(repr::mime2repr)) \n",
      " .         stop(\"No repr_* for mimetype \", mime, \" in repr::mime2repr\")\n",
      " .     rpr <- repr::mime2repr[[mime]](obj)\n",
      " .     if (is.null(rpr)) \n",
      " .         return(NULL)\n",
      " .     prepare_content(is.raw(rpr), rpr)\n",
      " . }, error = error_handler), error = outer_handler)\n",
      "3. tryCatchList(expr, classes, parentenv, handlers)\n",
      "4. tryCatchOne(expr, names, parentenv, handlers[[1L]])\n",
      "5. doTryCatch(return(expr), name, parentenv, handler)\n",
      "6. withCallingHandlers({\n",
      " .     if (!mime %in% names(repr::mime2repr)) \n",
      " .         stop(\"No repr_* for mimetype \", mime, \" in repr::mime2repr\")\n",
      " .     rpr <- repr::mime2repr[[mime]](obj)\n",
      " .     if (is.null(rpr)) \n",
      " .         return(NULL)\n",
      " .     prepare_content(is.raw(rpr), rpr)\n",
      " . }, error = error_handler)\n",
      "7. repr::mime2repr[[mime]](obj)\n",
      "8. repr_html.help_files_with_topic(obj)\n",
      "9. repr_help_files_with_topic_generic(obj, Rd2HTML)\n"
     ]
    },
    {
     "name": "stdout",
     "output_type": "stream",
     "text": [
      "rep                    package:base                    R Documentation\n",
      "\n",
      "_\bR_\be_\bp_\bl_\bi_\bc_\ba_\bt_\be _\bE_\bl_\be_\bm_\be_\bn_\bt_\bs _\bo_\bf _\bV_\be_\bc_\bt_\bo_\br_\bs _\ba_\bn_\bd _\bL_\bi_\bs_\bt_\bs\n",
      "\n",
      "_\bD_\be_\bs_\bc_\br_\bi_\bp_\bt_\bi_\bo_\bn:\n",
      "\n",
      "     ‘rep’ replicates the values in ‘x’.  It is a generic function, and\n",
      "     the (internal) default method is described here.\n",
      "\n",
      "     ‘rep.int’ and ‘rep_len’ are faster simplified versions for two\n",
      "     common cases.  Internally, they are generic, so methods can be\n",
      "     defined for them (see InternalMethods).\n",
      "\n",
      "_\bU_\bs_\ba_\bg_\be:\n",
      "\n",
      "     rep(x, ...)\n",
      "     \n",
      "     rep.int(x, times)\n",
      "     \n",
      "     rep_len(x, length.out)\n",
      "     \n",
      "_\bA_\br_\bg_\bu_\bm_\be_\bn_\bt_\bs:\n",
      "\n",
      "       x: a vector (of any mode including a ‘list’) or a factor or (for\n",
      "          ‘rep’ only) a ‘POSIXct’ or ‘POSIXlt’ or ‘Date’ object; or an\n",
      "          S4 object containing such an object.\n",
      "\n",
      "     ...: further arguments to be passed to or from other methods.  For\n",
      "          the internal default method these can include:\n",
      "\n",
      "          ‘times’ an integer-valued vector giving the (non-negative)\n",
      "              number of times to repeat each element if of length\n",
      "              ‘length(x)’, or to repeat the whole vector if of length\n",
      "              1.  Negative or ‘NA’ values are an error.  A ‘double’\n",
      "              vector is accepted, other inputs being coerced to an\n",
      "              integer or double vector.\n",
      "\n",
      "          ‘length.out’ non-negative integer.  The desired length of the\n",
      "              output vector.  Other inputs will be coerced to a double\n",
      "              vector and the first element taken.  Ignored if ‘NA’ or\n",
      "              invalid.\n",
      "\n",
      "          ‘each’ non-negative integer.  Each element of ‘x’ is repeated\n",
      "              ‘each’ times.  Other inputs will be coerced to an integer\n",
      "              or double vector and the first element taken.  Treated as\n",
      "              ‘1’ if ‘NA’ or invalid.\n",
      "\n",
      "times, length.out: see ‘...’ above.\n",
      "\n",
      "_\bD_\be_\bt_\ba_\bi_\bl_\bs:\n",
      "\n",
      "     The default behaviour is as if the call was\n",
      "\n",
      "       rep(x, times = 1, length.out = NA, each = 1)\n",
      "     \n",
      "     .  Normally just one of the additional arguments is specified, but\n",
      "     if ‘each’ is specified with either of the other two, its\n",
      "     replication is performed first, and then that implied by ‘times’\n",
      "     or ‘length.out’.\n",
      "\n",
      "     If ‘times’ consists of a single integer, the result consists of\n",
      "     the whole input repeated this many times.  If ‘times’ is a vector\n",
      "     of the same length as ‘x’ (after replication by ‘each’), the\n",
      "     result consists of ‘x[1]’ repeated ‘times[1]’ times, ‘x[2]’\n",
      "     repeated ‘times[2]’ times and so on.\n",
      "\n",
      "     ‘length.out’ may be given in place of ‘times’, in which case ‘x’\n",
      "     is repeated as many times as is necessary to create a vector of\n",
      "     this length.  If both are given, ‘length.out’ takes priority and\n",
      "     ‘times’ is ignored.\n",
      "\n",
      "     Non-integer values of ‘times’ will be truncated towards zero.  If\n",
      "     ‘times’ is a computed quantity it is prudent to add a small fuzz\n",
      "     or use ‘round’.  And analogously for ‘each’.\n",
      "\n",
      "     If ‘x’ has length zero and ‘length.out’ is supplied and is\n",
      "     positive, the values are filled in using the extraction rules,\n",
      "     that is by an ‘NA’ of the appropriate class for an atomic vector\n",
      "     (‘0’ for raw vectors) and ‘NULL’ for a list.\n",
      "\n",
      "_\bV_\ba_\bl_\bu_\be:\n",
      "\n",
      "     An object of the same type as ‘x’.\n",
      "\n",
      "     ‘rep.int’ and ‘rep_len’ return no attributes (except the class if\n",
      "     returning a factor).\n",
      "\n",
      "     The default method of ‘rep’ gives the result names (which will\n",
      "     almost always contain duplicates) if ‘x’ had names, but retains no\n",
      "     other attributes.\n",
      "\n",
      "_\bN_\bo_\bt_\be:\n",
      "\n",
      "     Function ‘rep.int’ is a simple case which was provided as a\n",
      "     separate function partly for S compatibility and partly for speed\n",
      "     (especially when names can be dropped).  The performance of ‘rep’\n",
      "     has been improved since, but ‘rep.int’ is still at least twice as\n",
      "     fast when ‘x’ has names.\n",
      "\n",
      "     The name ‘rep.int’ long precedes making ‘rep’ generic.\n",
      "\n",
      "     Function ‘rep’ is a primitive, but (partial) matching of argument\n",
      "     names is performed as for normal functions.\n",
      "\n",
      "     For historical reasons ‘rep’ (only) works on ‘NULL’: the result is\n",
      "     always ‘NULL’ even when ‘length.out’ is positive.\n",
      "\n",
      "     Although it has never been documented, these functions have always\n",
      "     worked on expression vectors.\n",
      "\n",
      "_\bR_\be_\bf_\be_\br_\be_\bn_\bc_\be_\bs:\n",
      "\n",
      "     Becker, R. A., Chambers, J. M. and Wilks, A. R. (1988) _The New S\n",
      "     Language_.  Wadsworth & Brooks/Cole.\n",
      "\n",
      "_\bS_\be_\be _\bA_\bl_\bs_\bo:\n",
      "\n",
      "     ‘seq’, ‘sequence’, ‘replicate’.\n",
      "\n",
      "_\bE_\bx_\ba_\bm_\bp_\bl_\be_\bs:\n",
      "\n",
      "     rep(1:4, 2)\n",
      "     rep(1:4, each = 2)       # not the same.\n",
      "     rep(1:4, c(2,2,2,2))     # same as second.\n",
      "     rep(1:4, c(2,1,2,1))\n",
      "     rep(1:4, each = 2, length.out = 4)    # first 4 only.\n",
      "     rep(1:4, each = 2, length.out = 10)   # 8 integers plus two recycled 1's.\n",
      "     rep(1:4, each = 2, times = 3)         # length 24, 3 complete replications\n",
      "     \n",
      "     rep(1, 40*(1-.8)) # length 7 on most platforms\n",
      "     rep(1, 40*(1-.8)+1e-7) # better\n",
      "     \n",
      "     ## replicate a list\n",
      "     fred <- list(happy = 1:10, name = \"squash\")\n",
      "     rep(fred, 5)\n",
      "     \n",
      "     # date-time objects\n",
      "     x <- .leap.seconds[1:3]\n",
      "     rep(x, 2)\n",
      "     rep(as.POSIXlt(x), rep(2, 3))\n",
      "     \n",
      "     ## named factor\n",
      "     x <- factor(LETTERS[1:4]); names(x) <- letters[1:4]\n",
      "     x\n",
      "     rep(x, 2)\n",
      "     rep(x, each = 2)\n",
      "     rep.int(x, 2)  # no names\n",
      "     rep_len(x, 10)\n",
      "     "
     ]
    }
   ],
   "source": [
    "?rep"
   ]
  },
  {
   "cell_type": "code",
   "execution_count": 76,
   "metadata": {},
   "outputs": [
    {
     "data": {
      "text/html": [
       "<style>\n",
       ".list-inline {list-style: none; margin:0; padding: 0}\n",
       ".list-inline>li {display: inline-block}\n",
       ".list-inline>li:not(:last-child)::after {content: \"\\00b7\"; padding: 0 .5ex}\n",
       "</style>\n",
       "<ol class=list-inline><li>1</li><li>1</li><li>1</li></ol>\n"
      ],
      "text/latex": [
       "\\begin{enumerate*}\n",
       "\\item 1\n",
       "\\item 1\n",
       "\\item 1\n",
       "\\end{enumerate*}\n"
      ],
      "text/markdown": [
       "1. 1\n",
       "2. 1\n",
       "3. 1\n",
       "\n",
       "\n"
      ],
      "text/plain": [
       "[1] 1 1 1"
      ]
     },
     "metadata": {},
     "output_type": "display_data"
    }
   ],
   "source": [
    "rep(1, 3)"
   ]
  },
  {
   "cell_type": "code",
   "execution_count": 78,
   "metadata": {},
   "outputs": [
    {
     "data": {
      "text/html": [
       "<style>\n",
       ".list-inline {list-style: none; margin:0; padding: 0}\n",
       ".list-inline>li {display: inline-block}\n",
       ".list-inline>li:not(:last-child)::after {content: \"\\00b7\"; padding: 0 .5ex}\n",
       "</style>\n",
       "<ol class=list-inline><li>2</li><li>3</li><li>4</li></ol>\n"
      ],
      "text/latex": [
       "\\begin{enumerate*}\n",
       "\\item 2\n",
       "\\item 3\n",
       "\\item 4\n",
       "\\end{enumerate*}\n"
      ],
      "text/markdown": [
       "1. 2\n",
       "2. 3\n",
       "3. 4\n",
       "\n",
       "\n"
      ],
      "text/plain": [
       "[1] 2 3 4"
      ]
     },
     "metadata": {},
     "output_type": "display_data"
    },
    {
     "data": {
      "text/html": [
       "<style>\n",
       ".list-inline {list-style: none; margin:0; padding: 0}\n",
       ".list-inline>li {display: inline-block}\n",
       ".list-inline>li:not(:last-child)::after {content: \"\\00b7\"; padding: 0 .5ex}\n",
       "</style>\n",
       "<ol class=list-inline><li>1</li><li>3.5</li><li>6</li><li>8.5</li><li>11</li><li>13.5</li><li>16</li><li>18.5</li><li>21</li><li>23.5</li><li>26</li><li>28.5</li><li>31</li><li>33.5</li><li>36</li><li>38.5</li><li>41</li><li>43.5</li><li>46</li><li>48.5</li></ol>\n"
      ],
      "text/latex": [
       "\\begin{enumerate*}\n",
       "\\item 1\n",
       "\\item 3.5\n",
       "\\item 6\n",
       "\\item 8.5\n",
       "\\item 11\n",
       "\\item 13.5\n",
       "\\item 16\n",
       "\\item 18.5\n",
       "\\item 21\n",
       "\\item 23.5\n",
       "\\item 26\n",
       "\\item 28.5\n",
       "\\item 31\n",
       "\\item 33.5\n",
       "\\item 36\n",
       "\\item 38.5\n",
       "\\item 41\n",
       "\\item 43.5\n",
       "\\item 46\n",
       "\\item 48.5\n",
       "\\end{enumerate*}\n"
      ],
      "text/markdown": [
       "1. 1\n",
       "2. 3.5\n",
       "3. 6\n",
       "4. 8.5\n",
       "5. 11\n",
       "6. 13.5\n",
       "7. 16\n",
       "8. 18.5\n",
       "9. 21\n",
       "10. 23.5\n",
       "11. 26\n",
       "12. 28.5\n",
       "13. 31\n",
       "14. 33.5\n",
       "15. 36\n",
       "16. 38.5\n",
       "17. 41\n",
       "18. 43.5\n",
       "19. 46\n",
       "20. 48.5\n",
       "\n",
       "\n"
      ],
      "text/plain": [
       " [1]  1.0  3.5  6.0  8.5 11.0 13.5 16.0 18.5 21.0 23.5 26.0 28.5 31.0 33.5 36.0\n",
       "[16] 38.5 41.0 43.5 46.0 48.5"
      ]
     },
     "metadata": {},
     "output_type": "display_data"
    },
    {
     "data": {
      "text/html": [
       "<style>\n",
       ".list-inline {list-style: none; margin:0; padding: 0}\n",
       ".list-inline>li {display: inline-block}\n",
       ".list-inline>li:not(:last-child)::after {content: \"\\00b7\"; padding: 0 .5ex}\n",
       "</style>\n",
       "<ol class=list-inline><li>1</li><li>3.5</li><li>6</li><li>8.5</li><li>11</li><li>13.5</li><li>16</li><li>18.5</li><li>21</li><li>23.5</li><li>26</li><li>28.5</li><li>31</li><li>33.5</li><li>36</li><li>38.5</li><li>41</li><li>43.5</li><li>46</li><li>48.5</li></ol>\n"
      ],
      "text/latex": [
       "\\begin{enumerate*}\n",
       "\\item 1\n",
       "\\item 3.5\n",
       "\\item 6\n",
       "\\item 8.5\n",
       "\\item 11\n",
       "\\item 13.5\n",
       "\\item 16\n",
       "\\item 18.5\n",
       "\\item 21\n",
       "\\item 23.5\n",
       "\\item 26\n",
       "\\item 28.5\n",
       "\\item 31\n",
       "\\item 33.5\n",
       "\\item 36\n",
       "\\item 38.5\n",
       "\\item 41\n",
       "\\item 43.5\n",
       "\\item 46\n",
       "\\item 48.5\n",
       "\\end{enumerate*}\n"
      ],
      "text/markdown": [
       "1. 1\n",
       "2. 3.5\n",
       "3. 6\n",
       "4. 8.5\n",
       "5. 11\n",
       "6. 13.5\n",
       "7. 16\n",
       "8. 18.5\n",
       "9. 21\n",
       "10. 23.5\n",
       "11. 26\n",
       "12. 28.5\n",
       "13. 31\n",
       "14. 33.5\n",
       "15. 36\n",
       "16. 38.5\n",
       "17. 41\n",
       "18. 43.5\n",
       "19. 46\n",
       "20. 48.5\n",
       "\n",
       "\n"
      ],
      "text/plain": [
       " [1]  1.0  3.5  6.0  8.5 11.0 13.5 16.0 18.5 21.0 23.5 26.0 28.5 31.0 33.5 36.0\n",
       "[16] 38.5 41.0 43.5 46.0 48.5"
      ]
     },
     "metadata": {},
     "output_type": "display_data"
    }
   ],
   "source": [
    "seq(2, 4)\n",
    "seq(from=1, to=50, by=2.5)\n",
    "seq(1, 50, 2.5)"
   ]
  },
  {
   "cell_type": "code",
   "execution_count": 83,
   "metadata": {},
   "outputs": [
    {
     "data": {
      "text/html": [
       "<style>\n",
       ".list-inline {list-style: none; margin:0; padding: 0}\n",
       ".list-inline>li {display: inline-block}\n",
       ".list-inline>li:not(:last-child)::after {content: \"\\00b7\"; padding: 0 .5ex}\n",
       "</style>\n",
       "<ol class=list-inline><li>1</li><li>4</li><li>9</li><li>16</li><li>36</li></ol>\n"
      ],
      "text/latex": [
       "\\begin{enumerate*}\n",
       "\\item 1\n",
       "\\item 4\n",
       "\\item 9\n",
       "\\item 16\n",
       "\\item 36\n",
       "\\end{enumerate*}\n"
      ],
      "text/markdown": [
       "1. 1\n",
       "2. 4\n",
       "3. 9\n",
       "4. 16\n",
       "5. 36\n",
       "\n",
       "\n"
      ],
      "text/plain": [
       "[1]  1  4  9 16 36"
      ]
     },
     "metadata": {},
     "output_type": "display_data"
    },
    {
     "data": {
      "text/html": [
       "<style>\n",
       ".list-inline {list-style: none; margin:0; padding: 0}\n",
       ".list-inline>li {display: inline-block}\n",
       ".list-inline>li:not(:last-child)::after {content: \"\\00b7\"; padding: 0 .5ex}\n",
       "</style>\n",
       "<ol class=list-inline><li>0.5</li><li>1</li><li>1.5</li><li>2</li><li>-3</li></ol>\n"
      ],
      "text/latex": [
       "\\begin{enumerate*}\n",
       "\\item 0.5\n",
       "\\item 1\n",
       "\\item 1.5\n",
       "\\item 2\n",
       "\\item -3\n",
       "\\end{enumerate*}\n"
      ],
      "text/markdown": [
       "1. 0.5\n",
       "2. 1\n",
       "3. 1.5\n",
       "4. 2\n",
       "5. -3\n",
       "\n",
       "\n"
      ],
      "text/plain": [
       "[1]  0.5  1.0  1.5  2.0 -3.0"
      ]
     },
     "metadata": {},
     "output_type": "display_data"
    },
    {
     "data": {
      "text/html": [
       "<style>\n",
       ".list-inline {list-style: none; margin:0; padding: 0}\n",
       ".list-inline>li {display: inline-block}\n",
       ".list-inline>li:not(:last-child)::after {content: \"\\00b7\"; padding: 0 .5ex}\n",
       "</style>\n",
       "<ol class=list-inline><li>1</li><li>1</li><li>1</li><li>1</li><li>1</li></ol>\n"
      ],
      "text/latex": [
       "\\begin{enumerate*}\n",
       "\\item 1\n",
       "\\item 1\n",
       "\\item 1\n",
       "\\item 1\n",
       "\\item 1\n",
       "\\end{enumerate*}\n"
      ],
      "text/markdown": [
       "1. 1\n",
       "2. 1\n",
       "3. 1\n",
       "4. 1\n",
       "5. 1\n",
       "\n",
       "\n"
      ],
      "text/plain": [
       "[1] 1 1 1 1 1"
      ]
     },
     "metadata": {},
     "output_type": "display_data"
    },
    {
     "data": {
      "text/html": [
       "<style>\n",
       ".list-inline {list-style: none; margin:0; padding: 0}\n",
       ".list-inline>li {display: inline-block}\n",
       ".list-inline>li:not(:last-child)::after {content: \"\\00b7\"; padding: 0 .5ex}\n",
       "</style>\n",
       "<ol class=list-inline><li>1</li><li>2</li><li>3</li><li>4</li><li>6</li></ol>\n"
      ],
      "text/latex": [
       "\\begin{enumerate*}\n",
       "\\item 1\n",
       "\\item 2\n",
       "\\item 3\n",
       "\\item 4\n",
       "\\item 6\n",
       "\\end{enumerate*}\n"
      ],
      "text/markdown": [
       "1. 1\n",
       "2. 2\n",
       "3. 3\n",
       "4. 4\n",
       "5. 6\n",
       "\n",
       "\n"
      ],
      "text/plain": [
       "[1] 1 2 3 4 6"
      ]
     },
     "metadata": {},
     "output_type": "display_data"
    }
   ],
   "source": [
    "w<-c(1, 2, 3, 4, -6)\n",
    "w*w\n",
    "1/2*w\n",
    "w/w\n",
    "sqrt(w^2)"
   ]
  },
  {
   "cell_type": "code",
   "execution_count": 85,
   "metadata": {},
   "outputs": [
    {
     "name": "stdout",
     "output_type": "stream",
     "text": [
      "[1] 1\n",
      "[1] 2\n",
      "[1] 3\n",
      "[1] 4\n",
      "[1] 5\n",
      "[1] 6\n",
      "[1] 7\n",
      "[1] 8\n",
      "[1] 9\n",
      "[1] 10\n",
      "[1] 11\n",
      "[1] 12\n",
      "[1] 13\n",
      "[1] 14\n",
      "[1] 15\n",
      "[1] 16\n",
      "[1] 17\n",
      "[1] 18\n",
      "[1] 19\n",
      "[1] 20\n"
     ]
    }
   ],
   "source": [
    "for(i in 1:20){ print(i) }"
   ]
  },
  {
   "cell_type": "code",
   "execution_count": 87,
   "metadata": {},
   "outputs": [
    {
     "name": "stdout",
     "output_type": "stream",
     "text": [
      "[1] 2\n",
      "[1] 4\n",
      "[1] 6\n",
      "[1] 8\n",
      "[1] 10\n",
      "[1] 12\n",
      "[1] 14\n",
      "[1] 16\n",
      "[1] 18\n",
      "[1] 20\n",
      "[1] 22\n",
      "[1] 24\n",
      "[1] 26\n",
      "[1] 28\n",
      "[1] 30\n",
      "[1] 32\n",
      "[1] 34\n",
      "[1] 36\n",
      "[1] 38\n",
      "[1] 40\n",
      "[1] 42\n",
      "[1] 44\n",
      "[1] 46\n",
      "[1] 48\n",
      "[1] 50\n"
     ]
    }
   ],
   "source": [
    "indeksy<-seq(2, 50, by=2)\n",
    "for(i in indeksy){ print(i) }"
   ]
  },
  {
   "cell_type": "code",
   "execution_count": 88,
   "metadata": {},
   "outputs": [],
   "source": [
    "# if ( warunek )\n",
    "# cat (i, \"\\n\")\n"
   ]
  },
  {
   "cell_type": "code",
   "execution_count": 90,
   "metadata": {},
   "outputs": [
    {
     "data": {
      "text/html": [
       "15"
      ],
      "text/latex": [
       "15"
      ],
      "text/markdown": [
       "15"
      ],
      "text/plain": [
       "[1] 15"
      ]
     },
     "metadata": {},
     "output_type": "display_data"
    }
   ],
   "source": [
    "sumaR<-function(x) {\n",
    "    w=0\n",
    "    for(i in x) {\n",
    "        w<-w+i\n",
    "    }\n",
    "    w\n",
    "}\n",
    "sumaR(c(1, 2, 3, 4, 5))"
   ]
  },
  {
   "cell_type": "code",
   "execution_count": 93,
   "metadata": {},
   "outputs": [
    {
     "data": {
      "text/html": [
       "<style>\n",
       ".dl-inline {width: auto; margin:0; padding: 0}\n",
       ".dl-inline>dt, .dl-inline>dd {float: none; width: auto; display: inline-block}\n",
       ".dl-inline>dt::after {content: \":\\0020\"; padding-right: .5ex}\n",
       ".dl-inline>dt:not(:first-of-type) {padding-left: .5ex}\n",
       "</style><dl class=dl-inline><dt>a</dt><dd>1</dd><dt>b</dt><dd>2</dd></dl>\n"
      ],
      "text/latex": [
       "\\begin{description*}\n",
       "\\item[a] 1\n",
       "\\item[b] 2\n",
       "\\end{description*}\n"
      ],
      "text/markdown": [
       "a\n",
       ":   1b\n",
       ":   2\n",
       "\n"
      ],
      "text/plain": [
       "a b \n",
       "1 2 "
      ]
     },
     "metadata": {},
     "output_type": "display_data"
    }
   ],
   "source": [
    "asd<-function(x) {\n",
    "    c(a=x[1], b=x[2])\n",
    "}\n",
    "\n",
    "asd(c(1, 2, 3, 4, 5))"
   ]
  },
  {
   "cell_type": "code",
   "execution_count": 112,
   "metadata": {},
   "outputs": [
    {
     "data": {
      "text/html": [
       "<style>\n",
       ".list-inline {list-style: none; margin:0; padding: 0}\n",
       ".list-inline>li {display: inline-block}\n",
       ".list-inline>li:not(:last-child)::after {content: \"\\00b7\"; padding: 0 .5ex}\n",
       "</style>\n",
       "<ol class=list-inline><li>25</li><li>22</li><li>9</li><li>20</li><li>20</li><li>12</li><li>6</li><li>18</li><li>21</li><li>9</li><li>1</li><li>4</li><li>24</li><li>3</li><li>3</li><li>25</li><li>1</li><li>11</li><li>25</li><li>24</li><li>9</li><li>7</li><li>7</li><li>1</li><li>18</li><li>24</li><li>16</li><li>16</li><li>19</li><li>15</li><li>13</li><li>22</li><li>25</li><li>0</li><li>12</li><li>4</li><li>1</li><li>25</li><li>0</li><li>6</li><li>6</li><li>2</li><li>16</li><li>17</li><li>3</li><li>2</li><li>21</li><li>9</li><li>4</li><li>6</li><li>14</li><li>0</li><li>9</li><li>23</li><li>22</li><li>25</li><li>18</li><li>3</li><li>16</li><li>12</li><li>16</li><li>25</li><li>10</li><li>11</li><li>3</li><li>19</li><li>7</li><li>23</li><li>8</li><li>12</li><li>22</li><li>14</li><li>9</li><li>14</li><li>21</li><li>8</li><li>2</li><li>1</li><li>4</li><li>20</li><li>0</li><li>20</li><li>25</li><li>24</li><li>15</li><li>23</li><li>23</li><li>24</li><li>19</li><li>4</li><li>25</li><li>11</li><li>12</li><li>25</li><li>20</li><li>0</li><li>23</li><li>10</li><li>1</li><li>11</li></ol>\n"
      ],
      "text/latex": [
       "\\begin{enumerate*}\n",
       "\\item 25\n",
       "\\item 22\n",
       "\\item 9\n",
       "\\item 20\n",
       "\\item 20\n",
       "\\item 12\n",
       "\\item 6\n",
       "\\item 18\n",
       "\\item 21\n",
       "\\item 9\n",
       "\\item 1\n",
       "\\item 4\n",
       "\\item 24\n",
       "\\item 3\n",
       "\\item 3\n",
       "\\item 25\n",
       "\\item 1\n",
       "\\item 11\n",
       "\\item 25\n",
       "\\item 24\n",
       "\\item 9\n",
       "\\item 7\n",
       "\\item 7\n",
       "\\item 1\n",
       "\\item 18\n",
       "\\item 24\n",
       "\\item 16\n",
       "\\item 16\n",
       "\\item 19\n",
       "\\item 15\n",
       "\\item 13\n",
       "\\item 22\n",
       "\\item 25\n",
       "\\item 0\n",
       "\\item 12\n",
       "\\item 4\n",
       "\\item 1\n",
       "\\item 25\n",
       "\\item 0\n",
       "\\item 6\n",
       "\\item 6\n",
       "\\item 2\n",
       "\\item 16\n",
       "\\item 17\n",
       "\\item 3\n",
       "\\item 2\n",
       "\\item 21\n",
       "\\item 9\n",
       "\\item 4\n",
       "\\item 6\n",
       "\\item 14\n",
       "\\item 0\n",
       "\\item 9\n",
       "\\item 23\n",
       "\\item 22\n",
       "\\item 25\n",
       "\\item 18\n",
       "\\item 3\n",
       "\\item 16\n",
       "\\item 12\n",
       "\\item 16\n",
       "\\item 25\n",
       "\\item 10\n",
       "\\item 11\n",
       "\\item 3\n",
       "\\item 19\n",
       "\\item 7\n",
       "\\item 23\n",
       "\\item 8\n",
       "\\item 12\n",
       "\\item 22\n",
       "\\item 14\n",
       "\\item 9\n",
       "\\item 14\n",
       "\\item 21\n",
       "\\item 8\n",
       "\\item 2\n",
       "\\item 1\n",
       "\\item 4\n",
       "\\item 20\n",
       "\\item 0\n",
       "\\item 20\n",
       "\\item 25\n",
       "\\item 24\n",
       "\\item 15\n",
       "\\item 23\n",
       "\\item 23\n",
       "\\item 24\n",
       "\\item 19\n",
       "\\item 4\n",
       "\\item 25\n",
       "\\item 11\n",
       "\\item 12\n",
       "\\item 25\n",
       "\\item 20\n",
       "\\item 0\n",
       "\\item 23\n",
       "\\item 10\n",
       "\\item 1\n",
       "\\item 11\n",
       "\\end{enumerate*}\n"
      ],
      "text/markdown": [
       "1. 25\n",
       "2. 22\n",
       "3. 9\n",
       "4. 20\n",
       "5. 20\n",
       "6. 12\n",
       "7. 6\n",
       "8. 18\n",
       "9. 21\n",
       "10. 9\n",
       "11. 1\n",
       "12. 4\n",
       "13. 24\n",
       "14. 3\n",
       "15. 3\n",
       "16. 25\n",
       "17. 1\n",
       "18. 11\n",
       "19. 25\n",
       "20. 24\n",
       "21. 9\n",
       "22. 7\n",
       "23. 7\n",
       "24. 1\n",
       "25. 18\n",
       "26. 24\n",
       "27. 16\n",
       "28. 16\n",
       "29. 19\n",
       "30. 15\n",
       "31. 13\n",
       "32. 22\n",
       "33. 25\n",
       "34. 0\n",
       "35. 12\n",
       "36. 4\n",
       "37. 1\n",
       "38. 25\n",
       "39. 0\n",
       "40. 6\n",
       "41. 6\n",
       "42. 2\n",
       "43. 16\n",
       "44. 17\n",
       "45. 3\n",
       "46. 2\n",
       "47. 21\n",
       "48. 9\n",
       "49. 4\n",
       "50. 6\n",
       "51. 14\n",
       "52. 0\n",
       "53. 9\n",
       "54. 23\n",
       "55. 22\n",
       "56. 25\n",
       "57. 18\n",
       "58. 3\n",
       "59. 16\n",
       "60. 12\n",
       "61. 16\n",
       "62. 25\n",
       "63. 10\n",
       "64. 11\n",
       "65. 3\n",
       "66. 19\n",
       "67. 7\n",
       "68. 23\n",
       "69. 8\n",
       "70. 12\n",
       "71. 22\n",
       "72. 14\n",
       "73. 9\n",
       "74. 14\n",
       "75. 21\n",
       "76. 8\n",
       "77. 2\n",
       "78. 1\n",
       "79. 4\n",
       "80. 20\n",
       "81. 0\n",
       "82. 20\n",
       "83. 25\n",
       "84. 24\n",
       "85. 15\n",
       "86. 23\n",
       "87. 23\n",
       "88. 24\n",
       "89. 19\n",
       "90. 4\n",
       "91. 25\n",
       "92. 11\n",
       "93. 12\n",
       "94. 25\n",
       "95. 20\n",
       "96. 0\n",
       "97. 23\n",
       "98. 10\n",
       "99. 1\n",
       "100. 11\n",
       "\n",
       "\n"
      ],
      "text/plain": [
       "  [1] 25 22  9 20 20 12  6 18 21  9  1  4 24  3  3 25  1 11 25 24  9  7  7  1 18\n",
       " [26] 24 16 16 19 15 13 22 25  0 12  4  1 25  0  6  6  2 16 17  3  2 21  9  4  6\n",
       " [51] 14  0  9 23 22 25 18  3 16 12 16 25 10 11  3 19  7 23  8 12 22 14  9 14 21\n",
       " [76]  8  2  1  4 20  0 20 25 24 15 23 23 24 19  4 25 11 12 25 20  0 23 10  1 11"
      ]
     },
     "metadata": {},
     "output_type": "display_data"
    },
    {
     "data": {
      "text/html": [
       "48"
      ],
      "text/latex": [
       "48"
      ],
      "text/markdown": [
       "48"
      ],
      "text/plain": [
       "[1] 48"
      ]
     },
     "metadata": {},
     "output_type": "display_data"
    },
    {
     "data": {
      "text/html": [
       "<style>\n",
       ".list-inline {list-style: none; margin:0; padding: 0}\n",
       ".list-inline>li {display: inline-block}\n",
       ".list-inline>li:not(:last-child)::after {content: \"\\00b7\"; padding: 0 .5ex}\n",
       "</style>\n",
       "<ol class=list-inline><li>50</li><li>46</li><li>46</li><li>53</li><li>49</li><li>57</li><li>54</li><li>47</li><li>46</li><li>49</li><li>54</li><li>53</li><li>57</li><li>44</li><li>50</li><li>53</li><li>51</li><li>55</li><li>48</li><li>47</li><li>48</li><li>52</li><li>44</li><li>56</li><li>59</li><li>51</li><li>52</li><li>52</li><li>58</li><li>56</li><li>46</li><li>38</li><li>53</li><li>58</li><li>44</li><li>52</li><li>48</li><li>54</li><li>51</li><li>42</li><li>47</li><li>57</li><li>57</li><li>52</li><li>61</li><li>55</li><li>44</li><li>44</li><li>49</li><li>59</li><li>42</li><li>53</li><li>47</li><li>48</li><li>53</li><li>51</li><li>51</li><li>60</li><li>46</li><li>51</li><li>52</li><li>55</li><li>51</li><li>42</li><li>54</li><li>48</li><li>52</li><li>54</li><li>54</li><li>54</li><li>50</li><li>49</li><li>47</li><li>60</li><li>52</li><li>41</li><li>50</li><li>46</li><li>54</li><li>49</li><li>44</li><li>49</li><li>46</li><li>51</li><li>56</li><li>59</li><li>62</li><li>49</li><li>49</li><li>54</li><li>48</li><li>53</li><li>54</li><li>50</li><li>46</li><li>55</li><li>59</li><li>48</li><li>51</li><li>52</li></ol>\n"
      ],
      "text/latex": [
       "\\begin{enumerate*}\n",
       "\\item 50\n",
       "\\item 46\n",
       "\\item 46\n",
       "\\item 53\n",
       "\\item 49\n",
       "\\item 57\n",
       "\\item 54\n",
       "\\item 47\n",
       "\\item 46\n",
       "\\item 49\n",
       "\\item 54\n",
       "\\item 53\n",
       "\\item 57\n",
       "\\item 44\n",
       "\\item 50\n",
       "\\item 53\n",
       "\\item 51\n",
       "\\item 55\n",
       "\\item 48\n",
       "\\item 47\n",
       "\\item 48\n",
       "\\item 52\n",
       "\\item 44\n",
       "\\item 56\n",
       "\\item 59\n",
       "\\item 51\n",
       "\\item 52\n",
       "\\item 52\n",
       "\\item 58\n",
       "\\item 56\n",
       "\\item 46\n",
       "\\item 38\n",
       "\\item 53\n",
       "\\item 58\n",
       "\\item 44\n",
       "\\item 52\n",
       "\\item 48\n",
       "\\item 54\n",
       "\\item 51\n",
       "\\item 42\n",
       "\\item 47\n",
       "\\item 57\n",
       "\\item 57\n",
       "\\item 52\n",
       "\\item 61\n",
       "\\item 55\n",
       "\\item 44\n",
       "\\item 44\n",
       "\\item 49\n",
       "\\item 59\n",
       "\\item 42\n",
       "\\item 53\n",
       "\\item 47\n",
       "\\item 48\n",
       "\\item 53\n",
       "\\item 51\n",
       "\\item 51\n",
       "\\item 60\n",
       "\\item 46\n",
       "\\item 51\n",
       "\\item 52\n",
       "\\item 55\n",
       "\\item 51\n",
       "\\item 42\n",
       "\\item 54\n",
       "\\item 48\n",
       "\\item 52\n",
       "\\item 54\n",
       "\\item 54\n",
       "\\item 54\n",
       "\\item 50\n",
       "\\item 49\n",
       "\\item 47\n",
       "\\item 60\n",
       "\\item 52\n",
       "\\item 41\n",
       "\\item 50\n",
       "\\item 46\n",
       "\\item 54\n",
       "\\item 49\n",
       "\\item 44\n",
       "\\item 49\n",
       "\\item 46\n",
       "\\item 51\n",
       "\\item 56\n",
       "\\item 59\n",
       "\\item 62\n",
       "\\item 49\n",
       "\\item 49\n",
       "\\item 54\n",
       "\\item 48\n",
       "\\item 53\n",
       "\\item 54\n",
       "\\item 50\n",
       "\\item 46\n",
       "\\item 55\n",
       "\\item 59\n",
       "\\item 48\n",
       "\\item 51\n",
       "\\item 52\n",
       "\\end{enumerate*}\n"
      ],
      "text/markdown": [
       "1. 50\n",
       "2. 46\n",
       "3. 46\n",
       "4. 53\n",
       "5. 49\n",
       "6. 57\n",
       "7. 54\n",
       "8. 47\n",
       "9. 46\n",
       "10. 49\n",
       "11. 54\n",
       "12. 53\n",
       "13. 57\n",
       "14. 44\n",
       "15. 50\n",
       "16. 53\n",
       "17. 51\n",
       "18. 55\n",
       "19. 48\n",
       "20. 47\n",
       "21. 48\n",
       "22. 52\n",
       "23. 44\n",
       "24. 56\n",
       "25. 59\n",
       "26. 51\n",
       "27. 52\n",
       "28. 52\n",
       "29. 58\n",
       "30. 56\n",
       "31. 46\n",
       "32. 38\n",
       "33. 53\n",
       "34. 58\n",
       "35. 44\n",
       "36. 52\n",
       "37. 48\n",
       "38. 54\n",
       "39. 51\n",
       "40. 42\n",
       "41. 47\n",
       "42. 57\n",
       "43. 57\n",
       "44. 52\n",
       "45. 61\n",
       "46. 55\n",
       "47. 44\n",
       "48. 44\n",
       "49. 49\n",
       "50. 59\n",
       "51. 42\n",
       "52. 53\n",
       "53. 47\n",
       "54. 48\n",
       "55. 53\n",
       "56. 51\n",
       "57. 51\n",
       "58. 60\n",
       "59. 46\n",
       "60. 51\n",
       "61. 52\n",
       "62. 55\n",
       "63. 51\n",
       "64. 42\n",
       "65. 54\n",
       "66. 48\n",
       "67. 52\n",
       "68. 54\n",
       "69. 54\n",
       "70. 54\n",
       "71. 50\n",
       "72. 49\n",
       "73. 47\n",
       "74. 60\n",
       "75. 52\n",
       "76. 41\n",
       "77. 50\n",
       "78. 46\n",
       "79. 54\n",
       "80. 49\n",
       "81. 44\n",
       "82. 49\n",
       "83. 46\n",
       "84. 51\n",
       "85. 56\n",
       "86. 59\n",
       "87. 62\n",
       "88. 49\n",
       "89. 49\n",
       "90. 54\n",
       "91. 48\n",
       "92. 53\n",
       "93. 54\n",
       "94. 50\n",
       "95. 46\n",
       "96. 55\n",
       "97. 59\n",
       "98. 48\n",
       "99. 51\n",
       "100. 52\n",
       "\n",
       "\n"
      ],
      "text/plain": [
       "  [1] 50 46 46 53 49 57 54 47 46 49 54 53 57 44 50 53 51 55 48 47 48 52 44 56 59\n",
       " [26] 51 52 52 58 56 46 38 53 58 44 52 48 54 51 42 47 57 57 52 61 55 44 44 49 59\n",
       " [51] 42 53 47 48 53 51 51 60 46 51 52 55 51 42 54 48 52 54 54 54 50 49 47 60 52\n",
       " [76] 41 50 46 54 49 44 49 46 51 56 59 62 49 49 54 48 53 54 50 46 55 59 48 51 52"
      ]
     },
     "metadata": {},
     "output_type": "display_data"
    },
    {
     "data": {
      "text/plain": [
       "   Min. 1st Qu.  Median    Mean 3rd Qu.    Max. \n",
       "  38.00   48.00   51.00   50.99   54.00   62.00 "
      ]
     },
     "metadata": {},
     "output_type": "display_data"
    },
    {
     "data": {
      "image/png": "[encoded data removed]",
      "text/plain": [
       "plot without title"
      ]
     },
     "metadata": {
      "image/png": {
       "height": 420,
       "width": 420
      }
     },
     "output_type": "display_data"
    },
    {
     "ename": "ERROR",
     "evalue": "Error in install.packages(ggplot2): object 'ggplot2' not found\n",
     "output_type": "error",
     "traceback": [
      "Error in install.packages(ggplot2): object 'ggplot2' not found\nTraceback:\n",
      "1. install.packages(ggplot2)"
     ]
    },
    {
     "data": {
      "image/png": "[encoded data removed]",
      "text/plain": [
       "Plot with title “Histogram of sample”"
      ]
     },
     "metadata": {
      "image/png": {
       "height": 420,
       "width": 420
      }
     },
     "output_type": "display_data"
    }
   ],
   "source": [
    "floor(runif(100, min=0, max=26))\n",
    "\n",
    "czyParzysta<-function(x){\n",
    "    (x%%2==0)\n",
    "}\n",
    "\n",
    "pomocnicze<-czyParzysta(floor(runif(100, min=0, max=26)))\n",
    "sum(pomocnicze)\n",
    "\n",
    "\n",
    "sample<-rep(NA, 100)\n",
    "for(i in 1:100) {\n",
    "    x<-runif(100, min=0, max=26)\n",
    "    sample[i]<-sum(czyParzysta(floor(x)))\n",
    "}\n",
    "sample\n",
    "summary(sample)\n",
    "boxplot(sample)\n",
    "hist(sample)\n",
    "\n",
    "install.packages(ggplot2)\n",
    "libary(ggplot2)\n",
    "\n",
    "#ggplot2 (do sprzypcowego)"
   ]
  }
 ],
 "metadata": {
  "kernelspec": {
   "display_name": "R",
   "language": "R",
   "name": "ir"
  },
  "language_info": {
   "codemirror_mode": "r",
   "file_extension": ".r",
   "mimetype": "text/x-r-source",
   "name": "R",
   "pygments_lexer": "r",
   "version": "4.1.1"
  },
  "orig_nbformat": 4
 },
 "nbformat": 4,
 "nbformat_minor": 2
}
