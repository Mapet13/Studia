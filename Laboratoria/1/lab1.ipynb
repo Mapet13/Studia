{
    "metadata": {
        "kernelspec": {
            "name": "SQL",
            "display_name": "SQL",
            "language": "sql"
        },
        "language_info": {
            "name": "sql",
            "version": ""
        },
        "extensions": {
            "azuredatastudio": {
                "version": 1,
                "views": []
            }
        }
    },
    "nbformat_minor": 2,
    "nbformat": 4,
    "cells": [
        {
            "cell_type": "markdown",
            "source": [
                "Just Some help"
            ],
            "metadata": {
                "azdata_cell_guid": "74b7f970-debc-4c43-a20c-35628e7fb0c9"
            },
            "attachments": {}
        },
        {
            "cell_type": "code",
            "source": [
                "SELECT * FROM Customers\r\n",
                "SELECT * FROM Products"
            ],
            "metadata": {
                "azdata_cell_guid": "1a729ddb-7a94-4974-a7ad-3584d031b167",
                "tags": []
            },
            "outputs": [
                {
                    "output_type": "display_data",
                    "data": {
                        "text/html": "(91 rows affected)"
                    },
                    "metadata": {}
                },
                {
                    "output_type": "display_data",
                    "data": {
                        "text/html": "(77 rows affected)"
                    },
                    "metadata": {}
                },
                {
                    "output_type": "display_data",
                    "data": {
                        "text/html": "Total execution time: 00:00:00.030"
                    },
                    "metadata": {}
                },
                {
                    "output_type": "execute_result",
                    "execution_count": 11,
                    "data": {
                        "application/vnd.dataresource+json": {
                            "schema": {
                                "fields": [
                                    {
                                        "name": "CustomerID"
                                    },
                                    {
                                        "name": "CompanyName"
                                    },
                                    {
                                        "name": "ContactName"
                                    },
                                    {
                                        "name": "ContactTitle"
                                    },
                                    {
                                        "name": "Address"
                                    },
                                    {
                                        "name": "City"
                                    },
                                    {
                                        "name": "Region"
                                    },
                                    {
                                        "name": "PostalCode"
                                    },
                                    {
                                        "name": "Country"
                                    },
                                    {
                                        "name": "Phone"
                                    },
                                    {
                                        "name": "Fax"
                                    }
                                ]
                            },
                            "data": [
                                {
                                    "0": "ALFKI",
                                    "1": "Alfreds Futterkiste",
                                    "2": "Maria Anders",
                                    "3": "Sales Representative",
                                    "4": "Obere Str. 57",
                                    "5": "Berlin",
                                    "6": "NULL",
                                    "7": "12209",
                                    "8": "Germany",
                                    "9": "030-0074321",
                                    "10": "030-0076545"
                                },
                                {
                                    "0": "ANATR",
                                    "1": "Ana Trujillo Emparedados y helados",
                                    "2": "Ana Trujillo",
                                    "3": "Owner",
                                    "4": "Avda. de la Constitución 2222",
                                    "5": "México D.F.",
                                    "6": "NULL",
                                    "7": "05021",
                                    "8": "Mexico",
                                    "9": "(5) 555-4729",
                                    "10": "(5) 555-3745"
                                },
                                {
                                    "0": "ANTON",
                                    "1": "Antonio Moreno Taquería",
                                    "2": "Antonio Moreno",
                                    "3": "Owner",
                                    "4": "Mataderos  2312",
                                    "5": "México D.F.",
                                    "6": "NULL",
                                    "7": "05023",
                                    "8": "Mexico",
                                    "9": "(5) 555-3932",
                                    "10": "NULL"
                                },
                                {
                                    "0": "AROUT",
                                    "1": "Around the Horn",
                                    "2": "Thomas Hardy",
                                    "3": "Sales Representative",
                                    "4": "120 Hanover Sq.",
                                    "5": "London",
                                    "6": "NULL",
                                    "7": "WA1 1DP",
                                    "8": "UK",
                                    "9": "(171) 555-7788",
                                    "10": "(171) 555-6750"
                                },
                                {
                                    "0": "BERGS",
                                    "1": "Berglunds snabbköp",
                                    "2": "Christina Berglund",
                                    "3": "Order Administrator",
                                    "4": "Berguvsvägen  8",
                                    "5": "Luleå",
                                    "6": "NULL",
                                    "7": "S-958 22",
                                    "8": "Sweden",
                                    "9": "0921-12 34 65",
                                    "10": "0921-12 34 67"
                                },
                                {
                                    "0": "BLAUS",
                                    "1": "Blauer See Delikatessen",
                                    "2": "Hanna Moos",
                                    "3": "Sales Representative",
                                    "4": "Forsterstr. 57",
                                    "5": "Mannheim",
                                    "6": "NULL",
                                    "7": "68306",
                                    "8": "Germany",
                                    "9": "0621-08460",
                                    "10": "0621-08924"
                                },
                                {
                                    "0": "BLONP",
                                    "1": "Blondesddsl père et fils",
                                    "2": "Frédérique Citeaux",
                                    "3": "Marketing Manager",
                                    "4": "24, place Kléber",
                                    "5": "Strasbourg",
                                    "6": "NULL",
                                    "7": "67000",
                                    "8": "France",
                                    "9": "88.60.15.31",
                                    "10": "88.60.15.32"
                                },
                                {
                                    "0": "BOLID",
                                    "1": "Bólido Comidas preparadas",
                                    "2": "Martín Sommer",
                                    "3": "Owner",
                                    "4": "C/ Araquil, 67",
                                    "5": "Madrid",
                                    "6": "NULL",
                                    "7": "28023",
                                    "8": "Spain",
                                    "9": "(91) 555 22 82",
                                    "10": "(91) 555 91 99"
                                },
                                {
                                    "0": "BONAP",
                                    "1": "Bon app'",
                                    "2": "Laurence Lebihan",
                                    "3": "Owner",
                                    "4": "12, rue des Bouchers",
                                    "5": "Marseille",
                                    "6": "NULL",
                                    "7": "13008",
                                    "8": "France",
                                    "9": "91.24.45.40",
                                    "10": "91.24.45.41"
                                },
                                {
                                    "0": "BOTTM",
                                    "1": "Bottom-Dollar Markets",
                                    "2": "Elizabeth Lincoln",
                                    "3": "Accounting Manager",
                                    "4": "23 Tsawassen Blvd.",
                                    "5": "Tsawassen",
                                    "6": "BC",
                                    "7": "T2F 8M4",
                                    "8": "Canada",
                                    "9": "(604) 555-4729",
                                    "10": "(604) 555-3745"
                                },
                                {
                                    "0": "BSBEV",
                                    "1": "B's Beverages",
                                    "2": "Victoria Ashworth",
                                    "3": "Sales Representative",
                                    "4": "Fauntleroy Circus",
                                    "5": "London",
                                    "6": "NULL",
                                    "7": "EC2 5NT",
                                    "8": "UK",
                                    "9": "(171) 555-1212",
                                    "10": "NULL"
                                },
                                {
                                    "0": "CACTU",
                                    "1": "Cactus Comidas para llevar",
                                    "2": "Patricio Simpson",
                                    "3": "Sales Agent",
                                    "4": "Cerrito 333",
                                    "5": "Buenos Aires",
                                    "6": "NULL",
                                    "7": "1010",
                                    "8": "Argentina",
                                    "9": "(1) 135-5555",
                                    "10": "(1) 135-4892"
                                },
                                {
                                    "0": "CENTC",
                                    "1": "Centro comercial Moctezuma",
                                    "2": "Francisco Chang",
                                    "3": "Marketing Manager",
                                    "4": "Sierras de Granada 9993",
                                    "5": "México D.F.",
                                    "6": "NULL",
                                    "7": "05022",
                                    "8": "Mexico",
                                    "9": "(5) 555-3392",
                                    "10": "(5) 555-7293"
                                },
                                {
                                    "0": "CHOPS",
                                    "1": "Chop-suey Chinese",
                                    "2": "Yang Wang",
                                    "3": "Owner",
                                    "4": "Hauptstr. 29",
                                    "5": "Bern",
                                    "6": "NULL",
                                    "7": "3012",
                                    "8": "Switzerland",
                                    "9": "0452-076545",
                                    "10": "NULL"
                                },
                                {
                                    "0": "COMMI",
                                    "1": "Comércio Mineiro",
                                    "2": "Pedro Afonso",
                                    "3": "Sales Associate",
                                    "4": "Av. dos Lusíadas, 23",
                                    "5": "Sao Paulo",
                                    "6": "SP",
                                    "7": "05432-043",
                                    "8": "Brazil",
                                    "9": "(11) 555-7647",
                                    "10": "NULL"
                                },
                                {
                                    "0": "CONSH",
                                    "1": "Consolidated Holdings",
                                    "2": "Elizabeth Brown",
                                    "3": "Sales Representative",
                                    "4": "Berkeley Gardens 12  Brewery",
                                    "5": "London",
                                    "6": "NULL",
                                    "7": "WX1 6LT",
                                    "8": "UK",
                                    "9": "(171) 555-2282",
                                    "10": "(171) 555-9199"
                                },
                                {
                                    "0": "DRACD",
                                    "1": "Drachenblut Delikatessen",
                                    "2": "Sven Ottlieb",
                                    "3": "Order Administrator",
                                    "4": "Walserweg 21",
                                    "5": "Aachen",
                                    "6": "NULL",
                                    "7": "52066",
                                    "8": "Germany",
                                    "9": "0241-039123",
                                    "10": "0241-059428"
                                },
                                {
                                    "0": "DUMON",
                                    "1": "Du monde entier",
                                    "2": "Janine Labrune",
                                    "3": "Owner",
                                    "4": "67, rue des Cinquante Otages",
                                    "5": "Nantes",
                                    "6": "NULL",
                                    "7": "44000",
                                    "8": "France",
                                    "9": "40.67.88.88",
                                    "10": "40.67.89.89"
                                },
                                {
                                    "0": "EASTC",
                                    "1": "Eastern Connection",
                                    "2": "Ann Devon",
                                    "3": "Sales Agent",
                                    "4": "35 King George",
                                    "5": "London",
                                    "6": "NULL",
                                    "7": "WX3 6FW",
                                    "8": "UK",
                                    "9": "(171) 555-0297",
                                    "10": "(171) 555-3373"
                                },
                                {
                                    "0": "ERNSH",
                                    "1": "Ernst Handel",
                                    "2": "Roland Mendel",
                                    "3": "Sales Manager",
                                    "4": "Kirchgasse 6",
                                    "5": "Graz",
                                    "6": "NULL",
                                    "7": "8010",
                                    "8": "Austria",
                                    "9": "7675-3425",
                                    "10": "7675-3426"
                                },
                                {
                                    "0": "FAMIA",
                                    "1": "Familia Arquibaldo",
                                    "2": "Aria Cruz",
                                    "3": "Marketing Assistant",
                                    "4": "Rua Orós, 92",
                                    "5": "Sao Paulo",
                                    "6": "SP",
                                    "7": "05442-030",
                                    "8": "Brazil",
                                    "9": "(11) 555-9857",
                                    "10": "NULL"
                                },
                                {
                                    "0": "FISSA",
                                    "1": "FISSA Fabrica Inter. Salchichas S.A.",
                                    "2": "Diego Roel",
                                    "3": "Accounting Manager",
                                    "4": "C/ Moralzarzal, 86",
                                    "5": "Madrid",
                                    "6": "NULL",
                                    "7": "28034",
                                    "8": "Spain",
                                    "9": "(91) 555 94 44",
                                    "10": "(91) 555 55 93"
                                },
                                {
                                    "0": "FOLIG",
                                    "1": "Folies gourmandes",
                                    "2": "Martine Rancé",
                                    "3": "Assistant Sales Agent",
                                    "4": "184, chaussée de Tournai",
                                    "5": "Lille",
                                    "6": "NULL",
                                    "7": "59000",
                                    "8": "France",
                                    "9": "20.16.10.16",
                                    "10": "20.16.10.17"
                                },
                                {
                                    "0": "FOLKO",
                                    "1": "Folk och fä HB",
                                    "2": "Maria Larsson",
                                    "3": "Owner",
                                    "4": "Åkergatan 24",
                                    "5": "Bräcke",
                                    "6": "NULL",
                                    "7": "S-844 67",
                                    "8": "Sweden",
                                    "9": "0695-34 67 21",
                                    "10": "NULL"
                                },
                                {
                                    "0": "FRANK",
                                    "1": "Frankenversand",
                                    "2": "Peter Franken",
                                    "3": "Marketing Manager",
                                    "4": "Berliner Platz 43",
                                    "5": "München",
                                    "6": "NULL",
                                    "7": "80805",
                                    "8": "Germany",
                                    "9": "089-0877310",
                                    "10": "089-0877451"
                                },
                                {
                                    "0": "FRANR",
                                    "1": "France restauration",
                                    "2": "Carine Schmitt",
                                    "3": "Marketing Manager",
                                    "4": "54, rue Royale",
                                    "5": "Nantes",
                                    "6": "NULL",
                                    "7": "44000",
                                    "8": "France",
                                    "9": "40.32.21.21",
                                    "10": "40.32.21.20"
                                },
                                {
                                    "0": "FRANS",
                                    "1": "Franchi S.p.A.",
                                    "2": "Paolo Accorti",
                                    "3": "Sales Representative",
                                    "4": "Via Monte Bianco 34",
                                    "5": "Torino",
                                    "6": "NULL",
                                    "7": "10100",
                                    "8": "Italy",
                                    "9": "011-4988260",
                                    "10": "011-4988261"
                                },
                                {
                                    "0": "FURIB",
                                    "1": "Furia Bacalhau e Frutos do Mar",
                                    "2": "Lino Rodriguez",
                                    "3": "Sales Manager",
                                    "4": "Jardim das rosas n. 32",
                                    "5": "Lisboa",
                                    "6": "NULL",
                                    "7": "1675",
                                    "8": "Portugal",
                                    "9": "(1) 354-2534",
                                    "10": "(1) 354-2535"
                                },
                                {
                                    "0": "GALED",
                                    "1": "Galería del gastrónomo",
                                    "2": "Eduardo Saavedra",
                                    "3": "Marketing Manager",
                                    "4": "Rambla de Cataluña, 23",
                                    "5": "Barcelona",
                                    "6": "NULL",
                                    "7": "08022",
                                    "8": "Spain",
                                    "9": "(93) 203 4560",
                                    "10": "(93) 203 4561"
                                },
                                {
                                    "0": "GODOS",
                                    "1": "Godos Cocina Típica",
                                    "2": "José Pedro Freyre",
                                    "3": "Sales Manager",
                                    "4": "C/ Romero, 33",
                                    "5": "Sevilla",
                                    "6": "NULL",
                                    "7": "41101",
                                    "8": "Spain",
                                    "9": "(95) 555 82 82",
                                    "10": "NULL"
                                },
                                {
                                    "0": "GOURL",
                                    "1": "Gourmet Lanchonetes",
                                    "2": "André Fonseca",
                                    "3": "Sales Associate",
                                    "4": "Av. Brasil, 442",
                                    "5": "Campinas",
                                    "6": "SP",
                                    "7": "04876-786",
                                    "8": "Brazil",
                                    "9": "(11) 555-9482",
                                    "10": "NULL"
                                },
                                {
                                    "0": "GREAL",
                                    "1": "Great Lakes Food Market",
                                    "2": "Howard Snyder",
                                    "3": "Marketing Manager",
                                    "4": "2732 Baker Blvd.",
                                    "5": "Eugene",
                                    "6": "OR",
                                    "7": "97403",
                                    "8": "USA",
                                    "9": "(503) 555-7555",
                                    "10": "NULL"
                                },
                                {
                                    "0": "GROSR",
                                    "1": "GROSELLA-Restaurante",
                                    "2": "Manuel Pereira",
                                    "3": "Owner",
                                    "4": "5ª Ave. Los Palos Grandes",
                                    "5": "Caracas",
                                    "6": "DF",
                                    "7": "1081",
                                    "8": "Venezuela",
                                    "9": "(2) 283-2951",
                                    "10": "(2) 283-3397"
                                },
                                {
                                    "0": "HANAR",
                                    "1": "Hanari Carnes",
                                    "2": "Mario Pontes",
                                    "3": "Accounting Manager",
                                    "4": "Rua do Paço, 67",
                                    "5": "Rio de Janeiro",
                                    "6": "RJ",
                                    "7": "05454-876",
                                    "8": "Brazil",
                                    "9": "(21) 555-0091",
                                    "10": "(21) 555-8765"
                                },
                                {
                                    "0": "HILAA",
                                    "1": "HILARION-Abastos",
                                    "2": "Carlos Hernández",
                                    "3": "Sales Representative",
                                    "4": "Carrera 22 con Ave. Carlos Soublette #8-35",
                                    "5": "San Cristóbal",
                                    "6": "Táchira",
                                    "7": "5022",
                                    "8": "Venezuela",
                                    "9": "(5) 555-1340",
                                    "10": "(5) 555-1948"
                                },
                                {
                                    "0": "HUNGC",
                                    "1": "Hungry Coyote Import Store",
                                    "2": "Yoshi Latimer",
                                    "3": "Sales Representative",
                                    "4": "City Center Plaza 516 Main St.",
                                    "5": "Elgin",
                                    "6": "OR",
                                    "7": "97827",
                                    "8": "USA",
                                    "9": "(503) 555-6874",
                                    "10": "(503) 555-2376"
                                },
                                {
                                    "0": "HUNGO",
                                    "1": "Hungry Owl All-Night Grocers",
                                    "2": "Patricia McKenna",
                                    "3": "Sales Associate",
                                    "4": "8 Johnstown Road",
                                    "5": "Cork",
                                    "6": "Co. Cork",
                                    "7": "NULL",
                                    "8": "Ireland",
                                    "9": "2967 542",
                                    "10": "2967 3333"
                                },
                                {
                                    "0": "ISLAT",
                                    "1": "Island Trading",
                                    "2": "Helen Bennett",
                                    "3": "Marketing Manager",
                                    "4": "Garden House Crowther Way",
                                    "5": "Cowes",
                                    "6": "Isle of Wight",
                                    "7": "PO31 7PJ",
                                    "8": "UK",
                                    "9": "(198) 555-8888",
                                    "10": "NULL"
                                },
                                {
                                    "0": "KOENE",
                                    "1": "Königlich Essen",
                                    "2": "Philip Cramer",
                                    "3": "Sales Associate",
                                    "4": "Maubelstr. 90",
                                    "5": "Brandenburg",
                                    "6": "NULL",
                                    "7": "14776",
                                    "8": "Germany",
                                    "9": "0555-09876",
                                    "10": "NULL"
                                },
                                {
                                    "0": "LACOR",
                                    "1": "La corne d'abondance",
                                    "2": "Daniel Tonini",
                                    "3": "Sales Representative",
                                    "4": "67, avenue de l'Europe",
                                    "5": "Versailles",
                                    "6": "NULL",
                                    "7": "78000",
                                    "8": "France",
                                    "9": "30.59.84.10",
                                    "10": "30.59.85.11"
                                },
                                {
                                    "0": "LAMAI",
                                    "1": "La maison d'Asie",
                                    "2": "Annette Roulet",
                                    "3": "Sales Manager",
                                    "4": "1 rue Alsace-Lorraine",
                                    "5": "Toulouse",
                                    "6": "NULL",
                                    "7": "31000",
                                    "8": "France",
                                    "9": "61.77.61.10",
                                    "10": "61.77.61.11"
                                },
                                {
                                    "0": "LAUGB",
                                    "1": "Laughing Bacchus Wine Cellars",
                                    "2": "Yoshi Tannamuri",
                                    "3": "Marketing Assistant",
                                    "4": "1900 Oak St.",
                                    "5": "Vancouver",
                                    "6": "BC",
                                    "7": "V3F 2K1",
                                    "8": "Canada",
                                    "9": "(604) 555-3392",
                                    "10": "(604) 555-7293"
                                },
                                {
                                    "0": "LAZYK",
                                    "1": "Lazy K Kountry Store",
                                    "2": "John Steel",
                                    "3": "Marketing Manager",
                                    "4": "12 Orchestra Terrace",
                                    "5": "Walla Walla",
                                    "6": "WA",
                                    "7": "99362",
                                    "8": "USA",
                                    "9": "(509) 555-7969",
                                    "10": "(509) 555-6221"
                                },
                                {
                                    "0": "LEHMS",
                                    "1": "Lehmanns Marktstand",
                                    "2": "Renate Messner",
                                    "3": "Sales Representative",
                                    "4": "Magazinweg 7",
                                    "5": "Frankfurt a.M.",
                                    "6": "NULL",
                                    "7": "60528",
                                    "8": "Germany",
                                    "9": "069-0245984",
                                    "10": "069-0245874"
                                },
                                {
                                    "0": "LETSS",
                                    "1": "Let's Stop N Shop",
                                    "2": "Jaime Yorres",
                                    "3": "Owner",
                                    "4": "87 Polk St. Suite 5",
                                    "5": "San Francisco",
                                    "6": "CA",
                                    "7": "94117",
                                    "8": "USA",
                                    "9": "(415) 555-5938",
                                    "10": "NULL"
                                },
                                {
                                    "0": "LILAS",
                                    "1": "LILA-Supermercado",
                                    "2": "Carlos González",
                                    "3": "Accounting Manager",
                                    "4": "Carrera 52 con Ave. Bolívar #65-98 Llano Largo",
                                    "5": "Barquisimeto",
                                    "6": "Lara",
                                    "7": "3508",
                                    "8": "Venezuela",
                                    "9": "(9) 331-6954",
                                    "10": "(9) 331-7256"
                                },
                                {
                                    "0": "LINOD",
                                    "1": "LINO-Delicateses",
                                    "2": "Felipe Izquierdo",
                                    "3": "Owner",
                                    "4": "Ave. 5 de Mayo Porlamar",
                                    "5": "I. de Margarita",
                                    "6": "Nueva Esparta",
                                    "7": "4980",
                                    "8": "Venezuela",
                                    "9": "(8) 34-56-12",
                                    "10": "(8) 34-93-93"
                                },
                                {
                                    "0": "LONEP",
                                    "1": "Lonesome Pine Restaurant",
                                    "2": "Fran Wilson",
                                    "3": "Sales Manager",
                                    "4": "89 Chiaroscuro Rd.",
                                    "5": "Portland",
                                    "6": "OR",
                                    "7": "97219",
                                    "8": "USA",
                                    "9": "(503) 555-9573",
                                    "10": "(503) 555-9646"
                                },
                                {
                                    "0": "MAGAA",
                                    "1": "Magazzini Alimentari Riuniti",
                                    "2": "Giovanni Rovelli",
                                    "3": "Marketing Manager",
                                    "4": "Via Ludovico il Moro 22",
                                    "5": "Bergamo",
                                    "6": "NULL",
                                    "7": "24100",
                                    "8": "Italy",
                                    "9": "035-640230",
                                    "10": "035-640231"
                                },
                                {
                                    "0": "MAISD",
                                    "1": "Maison Dewey",
                                    "2": "Catherine Dewey",
                                    "3": "Sales Agent",
                                    "4": "Rue Joseph-Bens 532",
                                    "5": "Bruxelles",
                                    "6": "NULL",
                                    "7": "B-1180",
                                    "8": "Belgium",
                                    "9": "(02) 201 24 67",
                                    "10": "(02) 201 24 68"
                                },
                                {
                                    "0": "MEREP",
                                    "1": "Mère Paillarde",
                                    "2": "Jean Fresnière",
                                    "3": "Marketing Assistant",
                                    "4": "43 rue St. Laurent",
                                    "5": "Montréal",
                                    "6": "Québec",
                                    "7": "H1J 1C3",
                                    "8": "Canada",
                                    "9": "(514) 555-8054",
                                    "10": "(514) 555-8055"
                                },
                                {
                                    "0": "MORGK",
                                    "1": "Morgenstern Gesundkost",
                                    "2": "Alexander Feuer",
                                    "3": "Marketing Assistant",
                                    "4": "Heerstr. 22",
                                    "5": "Leipzig",
                                    "6": "NULL",
                                    "7": "04179",
                                    "8": "Germany",
                                    "9": "0342-023176",
                                    "10": "NULL"
                                },
                                {
                                    "0": "NORTS",
                                    "1": "North/South",
                                    "2": "Simon Crowther",
                                    "3": "Sales Associate",
                                    "4": "South House 300 Queensbridge",
                                    "5": "London",
                                    "6": "NULL",
                                    "7": "SW7 1RZ",
                                    "8": "UK",
                                    "9": "(171) 555-7733",
                                    "10": "(171) 555-2530"
                                },
                                {
                                    "0": "OCEAN",
                                    "1": "Océano Atlántico Ltda.",
                                    "2": "Yvonne Moncada",
                                    "3": "Sales Agent",
                                    "4": "Ing. Gustavo Moncada 8585 Piso 20-A",
                                    "5": "Buenos Aires",
                                    "6": "NULL",
                                    "7": "1010",
                                    "8": "Argentina",
                                    "9": "(1) 135-5333",
                                    "10": "(1) 135-5535"
                                },
                                {
                                    "0": "OLDWO",
                                    "1": "Old World Delicatessen",
                                    "2": "Rene Phillips",
                                    "3": "Sales Representative",
                                    "4": "2743 Bering St.",
                                    "5": "Anchorage",
                                    "6": "AK",
                                    "7": "99508",
                                    "8": "USA",
                                    "9": "(907) 555-7584",
                                    "10": "(907) 555-2880"
                                },
                                {
                                    "0": "OTTIK",
                                    "1": "Ottilies Käseladen",
                                    "2": "Henriette Pfalzheim",
                                    "3": "Owner",
                                    "4": "Mehrheimerstr. 369",
                                    "5": "Köln",
                                    "6": "NULL",
                                    "7": "50739",
                                    "8": "Germany",
                                    "9": "0221-0644327",
                                    "10": "0221-0765721"
                                },
                                {
                                    "0": "PARIS",
                                    "1": "Paris spécialités",
                                    "2": "Marie Bertrand",
                                    "3": "Owner",
                                    "4": "265, boulevard Charonne",
                                    "5": "Paris",
                                    "6": "NULL",
                                    "7": "75012",
                                    "8": "France",
                                    "9": "(1) 42.34.22.66",
                                    "10": "(1) 42.34.22.77"
                                },
                                {
                                    "0": "PERIC",
                                    "1": "Pericles Comidas clásicas",
                                    "2": "Guillermo Fernández",
                                    "3": "Sales Representative",
                                    "4": "Calle Dr. Jorge Cash 321",
                                    "5": "México D.F.",
                                    "6": "NULL",
                                    "7": "05033",
                                    "8": "Mexico",
                                    "9": "(5) 552-3745",
                                    "10": "(5) 545-3745"
                                },
                                {
                                    "0": "PICCO",
                                    "1": "Piccolo und mehr",
                                    "2": "Georg Pipps",
                                    "3": "Sales Manager",
                                    "4": "Geislweg 14",
                                    "5": "Salzburg",
                                    "6": "NULL",
                                    "7": "5020",
                                    "8": "Austria",
                                    "9": "6562-9722",
                                    "10": "6562-9723"
                                },
                                {
                                    "0": "PRINI",
                                    "1": "Princesa Isabel Vinhos",
                                    "2": "Isabel de Castro",
                                    "3": "Sales Representative",
                                    "4": "Estrada da saúde n. 58",
                                    "5": "Lisboa",
                                    "6": "NULL",
                                    "7": "1756",
                                    "8": "Portugal",
                                    "9": "(1) 356-5634",
                                    "10": "NULL"
                                },
                                {
                                    "0": "QUEDE",
                                    "1": "Que Delícia",
                                    "2": "Bernardo Batista",
                                    "3": "Accounting Manager",
                                    "4": "Rua da Panificadora, 12",
                                    "5": "Rio de Janeiro",
                                    "6": "RJ",
                                    "7": "02389-673",
                                    "8": "Brazil",
                                    "9": "(21) 555-4252",
                                    "10": "(21) 555-4545"
                                },
                                {
                                    "0": "QUEEN",
                                    "1": "Queen Cozinha",
                                    "2": "Lúcia Carvalho",
                                    "3": "Marketing Assistant",
                                    "4": "Alameda dos Canàrios, 891",
                                    "5": "Sao Paulo",
                                    "6": "SP",
                                    "7": "05487-020",
                                    "8": "Brazil",
                                    "9": "(11) 555-1189",
                                    "10": "NULL"
                                },
                                {
                                    "0": "QUICK",
                                    "1": "QUICK-Stop",
                                    "2": "Horst Kloss",
                                    "3": "Accounting Manager",
                                    "4": "Taucherstraße 10",
                                    "5": "Cunewalde",
                                    "6": "NULL",
                                    "7": "01307",
                                    "8": "Germany",
                                    "9": "0372-035188",
                                    "10": "NULL"
                                },
                                {
                                    "0": "RANCH",
                                    "1": "Rancho grande",
                                    "2": "Sergio Gutiérrez",
                                    "3": "Sales Representative",
                                    "4": "Av. del Libertador 900",
                                    "5": "Buenos Aires",
                                    "6": "NULL",
                                    "7": "1010",
                                    "8": "Argentina",
                                    "9": "(1) 123-5555",
                                    "10": "(1) 123-5556"
                                },
                                {
                                    "0": "RATTC",
                                    "1": "Rattlesnake Canyon Grocery",
                                    "2": "Paula Wilson",
                                    "3": "Assistant Sales Representative",
                                    "4": "2817 Milton Dr.",
                                    "5": "Albuquerque",
                                    "6": "NM",
                                    "7": "87110",
                                    "8": "USA",
                                    "9": "(505) 555-5939",
                                    "10": "(505) 555-3620"
                                },
                                {
                                    "0": "REGGC",
                                    "1": "Reggiani Caseifici",
                                    "2": "Maurizio Moroni",
                                    "3": "Sales Associate",
                                    "4": "Strada Provinciale 124",
                                    "5": "Reggio Emilia",
                                    "6": "NULL",
                                    "7": "42100",
                                    "8": "Italy",
                                    "9": "0522-556721",
                                    "10": "0522-556722"
                                },
                                {
                                    "0": "RICAR",
                                    "1": "Ricardo Adocicados",
                                    "2": "Janete Limeira",
                                    "3": "Assistant Sales Agent",
                                    "4": "Av. Copacabana, 267",
                                    "5": "Rio de Janeiro",
                                    "6": "RJ",
                                    "7": "02389-890",
                                    "8": "Brazil",
                                    "9": "(21) 555-3412",
                                    "10": "NULL"
                                },
                                {
                                    "0": "RICSU",
                                    "1": "Richter Supermarkt",
                                    "2": "Michael Holz",
                                    "3": "Sales Manager",
                                    "4": "Grenzacherweg 237",
                                    "5": "Genève",
                                    "6": "NULL",
                                    "7": "1203",
                                    "8": "Switzerland",
                                    "9": "0897-034214",
                                    "10": "NULL"
                                },
                                {
                                    "0": "ROMEY",
                                    "1": "Romero y tomillo",
                                    "2": "Alejandra Camino",
                                    "3": "Accounting Manager",
                                    "4": "Gran Vía, 1",
                                    "5": "Madrid",
                                    "6": "NULL",
                                    "7": "28001",
                                    "8": "Spain",
                                    "9": "(91) 745 6200",
                                    "10": "(91) 745 6210"
                                },
                                {
                                    "0": "SANTG",
                                    "1": "Santé Gourmet",
                                    "2": "Jonas Bergulfsen",
                                    "3": "Owner",
                                    "4": "Erling Skakkes gate 78",
                                    "5": "Stavern",
                                    "6": "NULL",
                                    "7": "4110",
                                    "8": "Norway",
                                    "9": "07-98 92 35",
                                    "10": "07-98 92 47"
                                },
                                {
                                    "0": "SAVEA",
                                    "1": "Save-a-lot Markets",
                                    "2": "Jose Pavarotti",
                                    "3": "Sales Representative",
                                    "4": "187 Suffolk Ln.",
                                    "5": "Boise",
                                    "6": "ID",
                                    "7": "83720",
                                    "8": "USA",
                                    "9": "(208) 555-8097",
                                    "10": "NULL"
                                },
                                {
                                    "0": "SEVES",
                                    "1": "Seven Seas Imports",
                                    "2": "Hari Kumar",
                                    "3": "Sales Manager",
                                    "4": "90 Wadhurst Rd.",
                                    "5": "London",
                                    "6": "NULL",
                                    "7": "OX15 4NB",
                                    "8": "UK",
                                    "9": "(171) 555-1717",
                                    "10": "(171) 555-5646"
                                },
                                {
                                    "0": "SIMOB",
                                    "1": "Simons bistro",
                                    "2": "Jytte Petersen",
                                    "3": "Owner",
                                    "4": "Vinbæltet 34",
                                    "5": "Kobenhavn",
                                    "6": "NULL",
                                    "7": "1734",
                                    "8": "Denmark",
                                    "9": "31 12 34 56",
                                    "10": "31 13 35 57"
                                },
                                {
                                    "0": "SPECD",
                                    "1": "Spécialités du monde",
                                    "2": "Dominique Perrier",
                                    "3": "Marketing Manager",
                                    "4": "25, rue Lauriston",
                                    "5": "Paris",
                                    "6": "NULL",
                                    "7": "75016",
                                    "8": "France",
                                    "9": "(1) 47.55.60.10",
                                    "10": "(1) 47.55.60.20"
                                },
                                {
                                    "0": "SPLIR",
                                    "1": "Split Rail Beer & Ale",
                                    "2": "Art Braunschweiger",
                                    "3": "Sales Manager",
                                    "4": "P.O. Box 555",
                                    "5": "Lander",
                                    "6": "WY",
                                    "7": "82520",
                                    "8": "USA",
                                    "9": "(307) 555-4680",
                                    "10": "(307) 555-6525"
                                },
                                {
                                    "0": "SUPRD",
                                    "1": "Suprêmes délices",
                                    "2": "Pascale Cartrain",
                                    "3": "Accounting Manager",
                                    "4": "Boulevard Tirou, 255",
                                    "5": "Charleroi",
                                    "6": "NULL",
                                    "7": "B-6000",
                                    "8": "Belgium",
                                    "9": "(071) 23 67 22 20",
                                    "10": "(071) 23 67 22 21"
                                },
                                {
                                    "0": "THEBI",
                                    "1": "The Big Cheese",
                                    "2": "Liz Nixon",
                                    "3": "Marketing Manager",
                                    "4": "89 Jefferson Way Suite 2",
                                    "5": "Portland",
                                    "6": "OR",
                                    "7": "97201",
                                    "8": "USA",
                                    "9": "(503) 555-3612",
                                    "10": "NULL"
                                },
                                {
                                    "0": "THECR",
                                    "1": "The Cracker Box",
                                    "2": "Liu Wong",
                                    "3": "Marketing Assistant",
                                    "4": "55 Grizzly Peak Rd.",
                                    "5": "Butte",
                                    "6": "MT",
                                    "7": "59801",
                                    "8": "USA",
                                    "9": "(406) 555-5834",
                                    "10": "(406) 555-8083"
                                },
                                {
                                    "0": "TOMSP",
                                    "1": "Toms Spezialitäten",
                                    "2": "Karin Josephs",
                                    "3": "Marketing Manager",
                                    "4": "Luisenstr. 48",
                                    "5": "Münster",
                                    "6": "NULL",
                                    "7": "44087",
                                    "8": "Germany",
                                    "9": "0251-031259",
                                    "10": "0251-035695"
                                },
                                {
                                    "0": "TORTU",
                                    "1": "Tortuga Restaurante",
                                    "2": "Miguel Angel Paolino",
                                    "3": "Owner",
                                    "4": "Avda. Azteca 123",
                                    "5": "México D.F.",
                                    "6": "NULL",
                                    "7": "05033",
                                    "8": "Mexico",
                                    "9": "(5) 555-2933",
                                    "10": "NULL"
                                },
                                {
                                    "0": "TRADH",
                                    "1": "Tradição Hipermercados",
                                    "2": "Anabela Domingues",
                                    "3": "Sales Representative",
                                    "4": "Av. Inês de Castro, 414",
                                    "5": "Sao Paulo",
                                    "6": "SP",
                                    "7": "05634-030",
                                    "8": "Brazil",
                                    "9": "(11) 555-2167",
                                    "10": "(11) 555-2168"
                                },
                                {
                                    "0": "TRAIH",
                                    "1": "Trail's Head Gourmet Provisioners",
                                    "2": "Helvetius Nagy",
                                    "3": "Sales Associate",
                                    "4": "722 DaVinci Blvd.",
                                    "5": "Kirkland",
                                    "6": "WA",
                                    "7": "98034",
                                    "8": "USA",
                                    "9": "(206) 555-8257",
                                    "10": "(206) 555-2174"
                                },
                                {
                                    "0": "VAFFE",
                                    "1": "Vaffeljernet",
                                    "2": "Palle Ibsen",
                                    "3": "Sales Manager",
                                    "4": "Smagsloget 45",
                                    "5": "Århus",
                                    "6": "NULL",
                                    "7": "8200",
                                    "8": "Denmark",
                                    "9": "86 21 32 43",
                                    "10": "86 22 33 44"
                                },
                                {
                                    "0": "VICTE",
                                    "1": "Victuailles en stock",
                                    "2": "Mary Saveley",
                                    "3": "Sales Agent",
                                    "4": "2, rue du Commerce",
                                    "5": "Lyon",
                                    "6": "NULL",
                                    "7": "69004",
                                    "8": "France",
                                    "9": "78.32.54.86",
                                    "10": "78.32.54.87"
                                },
                                {
                                    "0": "VINET",
                                    "1": "Vins et alcools Chevalier",
                                    "2": "Paul Henriot",
                                    "3": "Accounting Manager",
                                    "4": "59 rue de l'Abbaye",
                                    "5": "Reims",
                                    "6": "NULL",
                                    "7": "51100",
                                    "8": "France",
                                    "9": "26.47.15.10",
                                    "10": "26.47.15.11"
                                },
                                {
                                    "0": "WANDK",
                                    "1": "Die Wandernde Kuh",
                                    "2": "Rita Müller",
                                    "3": "Sales Representative",
                                    "4": "Adenauerallee 900",
                                    "5": "Stuttgart",
                                    "6": "NULL",
                                    "7": "70563",
                                    "8": "Germany",
                                    "9": "0711-020361",
                                    "10": "0711-035428"
                                },
                                {
                                    "0": "WARTH",
                                    "1": "Wartian Herkku",
                                    "2": "Pirkko Koskitalo",
                                    "3": "Accounting Manager",
                                    "4": "Torikatu 38",
                                    "5": "Oulu",
                                    "6": "NULL",
                                    "7": "90110",
                                    "8": "Finland",
                                    "9": "981-443655",
                                    "10": "981-443655"
                                },
                                {
                                    "0": "WELLI",
                                    "1": "Wellington Importadora",
                                    "2": "Paula Parente",
                                    "3": "Sales Manager",
                                    "4": "Rua do Mercado, 12",
                                    "5": "Resende",
                                    "6": "SP",
                                    "7": "08737-363",
                                    "8": "Brazil",
                                    "9": "(14) 555-8122",
                                    "10": "NULL"
                                },
                                {
                                    "0": "WHITC",
                                    "1": "White Clover Markets",
                                    "2": "Karl Jablonski",
                                    "3": "Owner",
                                    "4": "305 - 14th Ave. S. Suite 3B",
                                    "5": "Seattle",
                                    "6": "WA",
                                    "7": "98128",
                                    "8": "USA",
                                    "9": "(206) 555-4112",
                                    "10": "(206) 555-4115"
                                },
                                {
                                    "0": "WILMK",
                                    "1": "Wilman Kala",
                                    "2": "Matti Karttunen",
                                    "3": "Owner/Marketing Assistant",
                                    "4": "Keskuskatu 45",
                                    "5": "Helsinki",
                                    "6": "NULL",
                                    "7": "21240",
                                    "8": "Finland",
                                    "9": "90-224 8858",
                                    "10": "90-224 8858"
                                },
                                {
                                    "0": "WOLZA",
                                    "1": "Wolski  Zajazd",
                                    "2": "Zbyszek Piestrzeniewicz",
                                    "3": "Owner",
                                    "4": "ul. Filtrowa 68",
                                    "5": "Warszawa",
                                    "6": "NULL",
                                    "7": "01-012",
                                    "8": "Poland",
                                    "9": "(26) 642-7012",
                                    "10": "(26) 642-7012"
                                }
                            ]
                        },
                        "text/html": "<table><tr><th>CustomerID</th><th>CompanyName</th><th>ContactName</th><th>ContactTitle</th><th>Address</th><th>City</th><th>Region</th><th>PostalCode</th><th>Country</th><th>Phone</th><th>Fax</th></tr><tr><td>ALFKI</td><td>Alfreds Futterkiste</td><td>Maria Anders</td><td>Sales Representative</td><td>Obere Str. 57</td><td>Berlin</td><td>NULL</td><td>12209</td><td>Germany</td><td>030-0074321</td><td>030-0076545</td></tr><tr><td>ANATR</td><td>Ana Trujillo Emparedados y helados</td><td>Ana Trujillo</td><td>Owner</td><td>Avda. de la Constitución 2222</td><td>México D.F.</td><td>NULL</td><td>05021</td><td>Mexico</td><td>(5) 555-4729</td><td>(5) 555-3745</td></tr><tr><td>ANTON</td><td>Antonio Moreno Taquería</td><td>Antonio Moreno</td><td>Owner</td><td>Mataderos  2312</td><td>México D.F.</td><td>NULL</td><td>05023</td><td>Mexico</td><td>(5) 555-3932</td><td>NULL</td></tr><tr><td>AROUT</td><td>Around the Horn</td><td>Thomas Hardy</td><td>Sales Representative</td><td>120 Hanover Sq.</td><td>London</td><td>NULL</td><td>WA1 1DP</td><td>UK</td><td>(171) 555-7788</td><td>(171) 555-6750</td></tr><tr><td>BERGS</td><td>Berglunds snabbköp</td><td>Christina Berglund</td><td>Order Administrator</td><td>Berguvsvägen  8</td><td>Luleå</td><td>NULL</td><td>S-958 22</td><td>Sweden</td><td>0921-12 34 65</td><td>0921-12 34 67</td></tr><tr><td>BLAUS</td><td>Blauer See Delikatessen</td><td>Hanna Moos</td><td>Sales Representative</td><td>Forsterstr. 57</td><td>Mannheim</td><td>NULL</td><td>68306</td><td>Germany</td><td>0621-08460</td><td>0621-08924</td></tr><tr><td>BLONP</td><td>Blondesddsl père et fils</td><td>Frédérique Citeaux</td><td>Marketing Manager</td><td>24, place Kléber</td><td>Strasbourg</td><td>NULL</td><td>67000</td><td>France</td><td>88.60.15.31</td><td>88.60.15.32</td></tr><tr><td>BOLID</td><td>Bólido Comidas preparadas</td><td>Martín Sommer</td><td>Owner</td><td>C/ Araquil, 67</td><td>Madrid</td><td>NULL</td><td>28023</td><td>Spain</td><td>(91) 555 22 82</td><td>(91) 555 91 99</td></tr><tr><td>BONAP</td><td>Bon app'</td><td>Laurence Lebihan</td><td>Owner</td><td>12, rue des Bouchers</td><td>Marseille</td><td>NULL</td><td>13008</td><td>France</td><td>91.24.45.40</td><td>91.24.45.41</td></tr><tr><td>BOTTM</td><td>Bottom-Dollar Markets</td><td>Elizabeth Lincoln</td><td>Accounting Manager</td><td>23 Tsawassen Blvd.</td><td>Tsawassen</td><td>BC</td><td>T2F 8M4</td><td>Canada</td><td>(604) 555-4729</td><td>(604) 555-3745</td></tr><tr><td>BSBEV</td><td>B's Beverages</td><td>Victoria Ashworth</td><td>Sales Representative</td><td>Fauntleroy Circus</td><td>London</td><td>NULL</td><td>EC2 5NT</td><td>UK</td><td>(171) 555-1212</td><td>NULL</td></tr><tr><td>CACTU</td><td>Cactus Comidas para llevar</td><td>Patricio Simpson</td><td>Sales Agent</td><td>Cerrito 333</td><td>Buenos Aires</td><td>NULL</td><td>1010</td><td>Argentina</td><td>(1) 135-5555</td><td>(1) 135-4892</td></tr><tr><td>CENTC</td><td>Centro comercial Moctezuma</td><td>Francisco Chang</td><td>Marketing Manager</td><td>Sierras de Granada 9993</td><td>México D.F.</td><td>NULL</td><td>05022</td><td>Mexico</td><td>(5) 555-3392</td><td>(5) 555-7293</td></tr><tr><td>CHOPS</td><td>Chop-suey Chinese</td><td>Yang Wang</td><td>Owner</td><td>Hauptstr. 29</td><td>Bern</td><td>NULL</td><td>3012</td><td>Switzerland</td><td>0452-076545</td><td>NULL</td></tr><tr><td>COMMI</td><td>Comércio Mineiro</td><td>Pedro Afonso</td><td>Sales Associate</td><td>Av. dos Lusíadas, 23</td><td>Sao Paulo</td><td>SP</td><td>05432-043</td><td>Brazil</td><td>(11) 555-7647</td><td>NULL</td></tr><tr><td>CONSH</td><td>Consolidated Holdings</td><td>Elizabeth Brown</td><td>Sales Representative</td><td>Berkeley Gardens 12  Brewery</td><td>London</td><td>NULL</td><td>WX1 6LT</td><td>UK</td><td>(171) 555-2282</td><td>(171) 555-9199</td></tr><tr><td>DRACD</td><td>Drachenblut Delikatessen</td><td>Sven Ottlieb</td><td>Order Administrator</td><td>Walserweg 21</td><td>Aachen</td><td>NULL</td><td>52066</td><td>Germany</td><td>0241-039123</td><td>0241-059428</td></tr><tr><td>DUMON</td><td>Du monde entier</td><td>Janine Labrune</td><td>Owner</td><td>67, rue des Cinquante Otages</td><td>Nantes</td><td>NULL</td><td>44000</td><td>France</td><td>40.67.88.88</td><td>40.67.89.89</td></tr><tr><td>EASTC</td><td>Eastern Connection</td><td>Ann Devon</td><td>Sales Agent</td><td>35 King George</td><td>London</td><td>NULL</td><td>WX3 6FW</td><td>UK</td><td>(171) 555-0297</td><td>(171) 555-3373</td></tr><tr><td>ERNSH</td><td>Ernst Handel</td><td>Roland Mendel</td><td>Sales Manager</td><td>Kirchgasse 6</td><td>Graz</td><td>NULL</td><td>8010</td><td>Austria</td><td>7675-3425</td><td>7675-3426</td></tr><tr><td>FAMIA</td><td>Familia Arquibaldo</td><td>Aria Cruz</td><td>Marketing Assistant</td><td>Rua Orós, 92</td><td>Sao Paulo</td><td>SP</td><td>05442-030</td><td>Brazil</td><td>(11) 555-9857</td><td>NULL</td></tr><tr><td>FISSA</td><td>FISSA Fabrica Inter. Salchichas S.A.</td><td>Diego Roel</td><td>Accounting Manager</td><td>C/ Moralzarzal, 86</td><td>Madrid</td><td>NULL</td><td>28034</td><td>Spain</td><td>(91) 555 94 44</td><td>(91) 555 55 93</td></tr><tr><td>FOLIG</td><td>Folies gourmandes</td><td>Martine Rancé</td><td>Assistant Sales Agent</td><td>184, chaussée de Tournai</td><td>Lille</td><td>NULL</td><td>59000</td><td>France</td><td>20.16.10.16</td><td>20.16.10.17</td></tr><tr><td>FOLKO</td><td>Folk och fä HB</td><td>Maria Larsson</td><td>Owner</td><td>Åkergatan 24</td><td>Bräcke</td><td>NULL</td><td>S-844 67</td><td>Sweden</td><td>0695-34 67 21</td><td>NULL</td></tr><tr><td>FRANK</td><td>Frankenversand</td><td>Peter Franken</td><td>Marketing Manager</td><td>Berliner Platz 43</td><td>München</td><td>NULL</td><td>80805</td><td>Germany</td><td>089-0877310</td><td>089-0877451</td></tr><tr><td>FRANR</td><td>France restauration</td><td>Carine Schmitt</td><td>Marketing Manager</td><td>54, rue Royale</td><td>Nantes</td><td>NULL</td><td>44000</td><td>France</td><td>40.32.21.21</td><td>40.32.21.20</td></tr><tr><td>FRANS</td><td>Franchi S.p.A.</td><td>Paolo Accorti</td><td>Sales Representative</td><td>Via Monte Bianco 34</td><td>Torino</td><td>NULL</td><td>10100</td><td>Italy</td><td>011-4988260</td><td>011-4988261</td></tr><tr><td>FURIB</td><td>Furia Bacalhau e Frutos do Mar</td><td>Lino Rodriguez</td><td>Sales Manager</td><td>Jardim das rosas n. 32</td><td>Lisboa</td><td>NULL</td><td>1675</td><td>Portugal</td><td>(1) 354-2534</td><td>(1) 354-2535</td></tr><tr><td>GALED</td><td>Galería del gastrónomo</td><td>Eduardo Saavedra</td><td>Marketing Manager</td><td>Rambla de Cataluña, 23</td><td>Barcelona</td><td>NULL</td><td>08022</td><td>Spain</td><td>(93) 203 4560</td><td>(93) 203 4561</td></tr><tr><td>GODOS</td><td>Godos Cocina Típica</td><td>José Pedro Freyre</td><td>Sales Manager</td><td>C/ Romero, 33</td><td>Sevilla</td><td>NULL</td><td>41101</td><td>Spain</td><td>(95) 555 82 82</td><td>NULL</td></tr><tr><td>GOURL</td><td>Gourmet Lanchonetes</td><td>André Fonseca</td><td>Sales Associate</td><td>Av. Brasil, 442</td><td>Campinas</td><td>SP</td><td>04876-786</td><td>Brazil</td><td>(11) 555-9482</td><td>NULL</td></tr><tr><td>GREAL</td><td>Great Lakes Food Market</td><td>Howard Snyder</td><td>Marketing Manager</td><td>2732 Baker Blvd.</td><td>Eugene</td><td>OR</td><td>97403</td><td>USA</td><td>(503) 555-7555</td><td>NULL</td></tr><tr><td>GROSR</td><td>GROSELLA-Restaurante</td><td>Manuel Pereira</td><td>Owner</td><td>5ª Ave. Los Palos Grandes</td><td>Caracas</td><td>DF</td><td>1081</td><td>Venezuela</td><td>(2) 283-2951</td><td>(2) 283-3397</td></tr><tr><td>HANAR</td><td>Hanari Carnes</td><td>Mario Pontes</td><td>Accounting Manager</td><td>Rua do Paço, 67</td><td>Rio de Janeiro</td><td>RJ</td><td>05454-876</td><td>Brazil</td><td>(21) 555-0091</td><td>(21) 555-8765</td></tr><tr><td>HILAA</td><td>HILARION-Abastos</td><td>Carlos Hernández</td><td>Sales Representative</td><td>Carrera 22 con Ave. Carlos Soublette #8-35</td><td>San Cristóbal</td><td>Táchira</td><td>5022</td><td>Venezuela</td><td>(5) 555-1340</td><td>(5) 555-1948</td></tr><tr><td>HUNGC</td><td>Hungry Coyote Import Store</td><td>Yoshi Latimer</td><td>Sales Representative</td><td>City Center Plaza 516 Main St.</td><td>Elgin</td><td>OR</td><td>97827</td><td>USA</td><td>(503) 555-6874</td><td>(503) 555-2376</td></tr><tr><td>HUNGO</td><td>Hungry Owl All-Night Grocers</td><td>Patricia McKenna</td><td>Sales Associate</td><td>8 Johnstown Road</td><td>Cork</td><td>Co. Cork</td><td>NULL</td><td>Ireland</td><td>2967 542</td><td>2967 3333</td></tr><tr><td>ISLAT</td><td>Island Trading</td><td>Helen Bennett</td><td>Marketing Manager</td><td>Garden House Crowther Way</td><td>Cowes</td><td>Isle of Wight</td><td>PO31 7PJ</td><td>UK</td><td>(198) 555-8888</td><td>NULL</td></tr><tr><td>KOENE</td><td>Königlich Essen</td><td>Philip Cramer</td><td>Sales Associate</td><td>Maubelstr. 90</td><td>Brandenburg</td><td>NULL</td><td>14776</td><td>Germany</td><td>0555-09876</td><td>NULL</td></tr><tr><td>LACOR</td><td>La corne d'abondance</td><td>Daniel Tonini</td><td>Sales Representative</td><td>67, avenue de l'Europe</td><td>Versailles</td><td>NULL</td><td>78000</td><td>France</td><td>30.59.84.10</td><td>30.59.85.11</td></tr><tr><td>LAMAI</td><td>La maison d'Asie</td><td>Annette Roulet</td><td>Sales Manager</td><td>1 rue Alsace-Lorraine</td><td>Toulouse</td><td>NULL</td><td>31000</td><td>France</td><td>61.77.61.10</td><td>61.77.61.11</td></tr><tr><td>LAUGB</td><td>Laughing Bacchus Wine Cellars</td><td>Yoshi Tannamuri</td><td>Marketing Assistant</td><td>1900 Oak St.</td><td>Vancouver</td><td>BC</td><td>V3F 2K1</td><td>Canada</td><td>(604) 555-3392</td><td>(604) 555-7293</td></tr><tr><td>LAZYK</td><td>Lazy K Kountry Store</td><td>John Steel</td><td>Marketing Manager</td><td>12 Orchestra Terrace</td><td>Walla Walla</td><td>WA</td><td>99362</td><td>USA</td><td>(509) 555-7969</td><td>(509) 555-6221</td></tr><tr><td>LEHMS</td><td>Lehmanns Marktstand</td><td>Renate Messner</td><td>Sales Representative</td><td>Magazinweg 7</td><td>Frankfurt a.M.</td><td>NULL</td><td>60528</td><td>Germany</td><td>069-0245984</td><td>069-0245874</td></tr><tr><td>LETSS</td><td>Let's Stop N Shop</td><td>Jaime Yorres</td><td>Owner</td><td>87 Polk St. Suite 5</td><td>San Francisco</td><td>CA</td><td>94117</td><td>USA</td><td>(415) 555-5938</td><td>NULL</td></tr><tr><td>LILAS</td><td>LILA-Supermercado</td><td>Carlos González</td><td>Accounting Manager</td><td>Carrera 52 con Ave. Bolívar #65-98 Llano Largo</td><td>Barquisimeto</td><td>Lara</td><td>3508</td><td>Venezuela</td><td>(9) 331-6954</td><td>(9) 331-7256</td></tr><tr><td>LINOD</td><td>LINO-Delicateses</td><td>Felipe Izquierdo</td><td>Owner</td><td>Ave. 5 de Mayo Porlamar</td><td>I. de Margarita</td><td>Nueva Esparta</td><td>4980</td><td>Venezuela</td><td>(8) 34-56-12</td><td>(8) 34-93-93</td></tr><tr><td>LONEP</td><td>Lonesome Pine Restaurant</td><td>Fran Wilson</td><td>Sales Manager</td><td>89 Chiaroscuro Rd.</td><td>Portland</td><td>OR</td><td>97219</td><td>USA</td><td>(503) 555-9573</td><td>(503) 555-9646</td></tr><tr><td>MAGAA</td><td>Magazzini Alimentari Riuniti</td><td>Giovanni Rovelli</td><td>Marketing Manager</td><td>Via Ludovico il Moro 22</td><td>Bergamo</td><td>NULL</td><td>24100</td><td>Italy</td><td>035-640230</td><td>035-640231</td></tr><tr><td>MAISD</td><td>Maison Dewey</td><td>Catherine Dewey</td><td>Sales Agent</td><td>Rue Joseph-Bens 532</td><td>Bruxelles</td><td>NULL</td><td>B-1180</td><td>Belgium</td><td>(02) 201 24 67</td><td>(02) 201 24 68</td></tr><tr><td>MEREP</td><td>Mère Paillarde</td><td>Jean Fresnière</td><td>Marketing Assistant</td><td>43 rue St. Laurent</td><td>Montréal</td><td>Québec</td><td>H1J 1C3</td><td>Canada</td><td>(514) 555-8054</td><td>(514) 555-8055</td></tr><tr><td>MORGK</td><td>Morgenstern Gesundkost</td><td>Alexander Feuer</td><td>Marketing Assistant</td><td>Heerstr. 22</td><td>Leipzig</td><td>NULL</td><td>04179</td><td>Germany</td><td>0342-023176</td><td>NULL</td></tr><tr><td>NORTS</td><td>North/South</td><td>Simon Crowther</td><td>Sales Associate</td><td>South House 300 Queensbridge</td><td>London</td><td>NULL</td><td>SW7 1RZ</td><td>UK</td><td>(171) 555-7733</td><td>(171) 555-2530</td></tr><tr><td>OCEAN</td><td>Océano Atlántico Ltda.</td><td>Yvonne Moncada</td><td>Sales Agent</td><td>Ing. Gustavo Moncada 8585 Piso 20-A</td><td>Buenos Aires</td><td>NULL</td><td>1010</td><td>Argentina</td><td>(1) 135-5333</td><td>(1) 135-5535</td></tr><tr><td>OLDWO</td><td>Old World Delicatessen</td><td>Rene Phillips</td><td>Sales Representative</td><td>2743 Bering St.</td><td>Anchorage</td><td>AK</td><td>99508</td><td>USA</td><td>(907) 555-7584</td><td>(907) 555-2880</td></tr><tr><td>OTTIK</td><td>Ottilies Käseladen</td><td>Henriette Pfalzheim</td><td>Owner</td><td>Mehrheimerstr. 369</td><td>Köln</td><td>NULL</td><td>50739</td><td>Germany</td><td>0221-0644327</td><td>0221-0765721</td></tr><tr><td>PARIS</td><td>Paris spécialités</td><td>Marie Bertrand</td><td>Owner</td><td>265, boulevard Charonne</td><td>Paris</td><td>NULL</td><td>75012</td><td>France</td><td>(1) 42.34.22.66</td><td>(1) 42.34.22.77</td></tr><tr><td>PERIC</td><td>Pericles Comidas clásicas</td><td>Guillermo Fernández</td><td>Sales Representative</td><td>Calle Dr. Jorge Cash 321</td><td>México D.F.</td><td>NULL</td><td>05033</td><td>Mexico</td><td>(5) 552-3745</td><td>(5) 545-3745</td></tr><tr><td>PICCO</td><td>Piccolo und mehr</td><td>Georg Pipps</td><td>Sales Manager</td><td>Geislweg 14</td><td>Salzburg</td><td>NULL</td><td>5020</td><td>Austria</td><td>6562-9722</td><td>6562-9723</td></tr><tr><td>PRINI</td><td>Princesa Isabel Vinhos</td><td>Isabel de Castro</td><td>Sales Representative</td><td>Estrada da saúde n. 58</td><td>Lisboa</td><td>NULL</td><td>1756</td><td>Portugal</td><td>(1) 356-5634</td><td>NULL</td></tr><tr><td>QUEDE</td><td>Que Delícia</td><td>Bernardo Batista</td><td>Accounting Manager</td><td>Rua da Panificadora, 12</td><td>Rio de Janeiro</td><td>RJ</td><td>02389-673</td><td>Brazil</td><td>(21) 555-4252</td><td>(21) 555-4545</td></tr><tr><td>QUEEN</td><td>Queen Cozinha</td><td>Lúcia Carvalho</td><td>Marketing Assistant</td><td>Alameda dos Canàrios, 891</td><td>Sao Paulo</td><td>SP</td><td>05487-020</td><td>Brazil</td><td>(11) 555-1189</td><td>NULL</td></tr><tr><td>QUICK</td><td>QUICK-Stop</td><td>Horst Kloss</td><td>Accounting Manager</td><td>Taucherstraße 10</td><td>Cunewalde</td><td>NULL</td><td>01307</td><td>Germany</td><td>0372-035188</td><td>NULL</td></tr><tr><td>RANCH</td><td>Rancho grande</td><td>Sergio Gutiérrez</td><td>Sales Representative</td><td>Av. del Libertador 900</td><td>Buenos Aires</td><td>NULL</td><td>1010</td><td>Argentina</td><td>(1) 123-5555</td><td>(1) 123-5556</td></tr><tr><td>RATTC</td><td>Rattlesnake Canyon Grocery</td><td>Paula Wilson</td><td>Assistant Sales Representative</td><td>2817 Milton Dr.</td><td>Albuquerque</td><td>NM</td><td>87110</td><td>USA</td><td>(505) 555-5939</td><td>(505) 555-3620</td></tr><tr><td>REGGC</td><td>Reggiani Caseifici</td><td>Maurizio Moroni</td><td>Sales Associate</td><td>Strada Provinciale 124</td><td>Reggio Emilia</td><td>NULL</td><td>42100</td><td>Italy</td><td>0522-556721</td><td>0522-556722</td></tr><tr><td>RICAR</td><td>Ricardo Adocicados</td><td>Janete Limeira</td><td>Assistant Sales Agent</td><td>Av. Copacabana, 267</td><td>Rio de Janeiro</td><td>RJ</td><td>02389-890</td><td>Brazil</td><td>(21) 555-3412</td><td>NULL</td></tr><tr><td>RICSU</td><td>Richter Supermarkt</td><td>Michael Holz</td><td>Sales Manager</td><td>Grenzacherweg 237</td><td>Genève</td><td>NULL</td><td>1203</td><td>Switzerland</td><td>0897-034214</td><td>NULL</td></tr><tr><td>ROMEY</td><td>Romero y tomillo</td><td>Alejandra Camino</td><td>Accounting Manager</td><td>Gran Vía, 1</td><td>Madrid</td><td>NULL</td><td>28001</td><td>Spain</td><td>(91) 745 6200</td><td>(91) 745 6210</td></tr><tr><td>SANTG</td><td>Santé Gourmet</td><td>Jonas Bergulfsen</td><td>Owner</td><td>Erling Skakkes gate 78</td><td>Stavern</td><td>NULL</td><td>4110</td><td>Norway</td><td>07-98 92 35</td><td>07-98 92 47</td></tr><tr><td>SAVEA</td><td>Save-a-lot Markets</td><td>Jose Pavarotti</td><td>Sales Representative</td><td>187 Suffolk Ln.</td><td>Boise</td><td>ID</td><td>83720</td><td>USA</td><td>(208) 555-8097</td><td>NULL</td></tr><tr><td>SEVES</td><td>Seven Seas Imports</td><td>Hari Kumar</td><td>Sales Manager</td><td>90 Wadhurst Rd.</td><td>London</td><td>NULL</td><td>OX15 4NB</td><td>UK</td><td>(171) 555-1717</td><td>(171) 555-5646</td></tr><tr><td>SIMOB</td><td>Simons bistro</td><td>Jytte Petersen</td><td>Owner</td><td>Vinbæltet 34</td><td>Kobenhavn</td><td>NULL</td><td>1734</td><td>Denmark</td><td>31 12 34 56</td><td>31 13 35 57</td></tr><tr><td>SPECD</td><td>Spécialités du monde</td><td>Dominique Perrier</td><td>Marketing Manager</td><td>25, rue Lauriston</td><td>Paris</td><td>NULL</td><td>75016</td><td>France</td><td>(1) 47.55.60.10</td><td>(1) 47.55.60.20</td></tr><tr><td>SPLIR</td><td>Split Rail Beer &amp; Ale</td><td>Art Braunschweiger</td><td>Sales Manager</td><td>P.O. Box 555</td><td>Lander</td><td>WY</td><td>82520</td><td>USA</td><td>(307) 555-4680</td><td>(307) 555-6525</td></tr><tr><td>SUPRD</td><td>Suprêmes délices</td><td>Pascale Cartrain</td><td>Accounting Manager</td><td>Boulevard Tirou, 255</td><td>Charleroi</td><td>NULL</td><td>B-6000</td><td>Belgium</td><td>(071) 23 67 22 20</td><td>(071) 23 67 22 21</td></tr><tr><td>THEBI</td><td>The Big Cheese</td><td>Liz Nixon</td><td>Marketing Manager</td><td>89 Jefferson Way Suite 2</td><td>Portland</td><td>OR</td><td>97201</td><td>USA</td><td>(503) 555-3612</td><td>NULL</td></tr><tr><td>THECR</td><td>The Cracker Box</td><td>Liu Wong</td><td>Marketing Assistant</td><td>55 Grizzly Peak Rd.</td><td>Butte</td><td>MT</td><td>59801</td><td>USA</td><td>(406) 555-5834</td><td>(406) 555-8083</td></tr><tr><td>TOMSP</td><td>Toms Spezialitäten</td><td>Karin Josephs</td><td>Marketing Manager</td><td>Luisenstr. 48</td><td>Münster</td><td>NULL</td><td>44087</td><td>Germany</td><td>0251-031259</td><td>0251-035695</td></tr><tr><td>TORTU</td><td>Tortuga Restaurante</td><td>Miguel Angel Paolino</td><td>Owner</td><td>Avda. Azteca 123</td><td>México D.F.</td><td>NULL</td><td>05033</td><td>Mexico</td><td>(5) 555-2933</td><td>NULL</td></tr><tr><td>TRADH</td><td>Tradição Hipermercados</td><td>Anabela Domingues</td><td>Sales Representative</td><td>Av. Inês de Castro, 414</td><td>Sao Paulo</td><td>SP</td><td>05634-030</td><td>Brazil</td><td>(11) 555-2167</td><td>(11) 555-2168</td></tr><tr><td>TRAIH</td><td>Trail's Head Gourmet Provisioners</td><td>Helvetius Nagy</td><td>Sales Associate</td><td>722 DaVinci Blvd.</td><td>Kirkland</td><td>WA</td><td>98034</td><td>USA</td><td>(206) 555-8257</td><td>(206) 555-2174</td></tr><tr><td>VAFFE</td><td>Vaffeljernet</td><td>Palle Ibsen</td><td>Sales Manager</td><td>Smagsloget 45</td><td>Århus</td><td>NULL</td><td>8200</td><td>Denmark</td><td>86 21 32 43</td><td>86 22 33 44</td></tr><tr><td>VICTE</td><td>Victuailles en stock</td><td>Mary Saveley</td><td>Sales Agent</td><td>2, rue du Commerce</td><td>Lyon</td><td>NULL</td><td>69004</td><td>France</td><td>78.32.54.86</td><td>78.32.54.87</td></tr><tr><td>VINET</td><td>Vins et alcools Chevalier</td><td>Paul Henriot</td><td>Accounting Manager</td><td>59 rue de l'Abbaye</td><td>Reims</td><td>NULL</td><td>51100</td><td>France</td><td>26.47.15.10</td><td>26.47.15.11</td></tr><tr><td>WANDK</td><td>Die Wandernde Kuh</td><td>Rita Müller</td><td>Sales Representative</td><td>Adenauerallee 900</td><td>Stuttgart</td><td>NULL</td><td>70563</td><td>Germany</td><td>0711-020361</td><td>0711-035428</td></tr><tr><td>WARTH</td><td>Wartian Herkku</td><td>Pirkko Koskitalo</td><td>Accounting Manager</td><td>Torikatu 38</td><td>Oulu</td><td>NULL</td><td>90110</td><td>Finland</td><td>981-443655</td><td>981-443655</td></tr><tr><td>WELLI</td><td>Wellington Importadora</td><td>Paula Parente</td><td>Sales Manager</td><td>Rua do Mercado, 12</td><td>Resende</td><td>SP</td><td>08737-363</td><td>Brazil</td><td>(14) 555-8122</td><td>NULL</td></tr><tr><td>WHITC</td><td>White Clover Markets</td><td>Karl Jablonski</td><td>Owner</td><td>305 - 14th Ave. S. Suite 3B</td><td>Seattle</td><td>WA</td><td>98128</td><td>USA</td><td>(206) 555-4112</td><td>(206) 555-4115</td></tr><tr><td>WILMK</td><td>Wilman Kala</td><td>Matti Karttunen</td><td>Owner/Marketing Assistant</td><td>Keskuskatu 45</td><td>Helsinki</td><td>NULL</td><td>21240</td><td>Finland</td><td>90-224 8858</td><td>90-224 8858</td></tr><tr><td>WOLZA</td><td>Wolski  Zajazd</td><td>Zbyszek Piestrzeniewicz</td><td>Owner</td><td>ul. Filtrowa 68</td><td>Warszawa</td><td>NULL</td><td>01-012</td><td>Poland</td><td>(26) 642-7012</td><td>(26) 642-7012</td></tr></table>"
                    },
                    "metadata": {}
                },
                {
                    "output_type": "execute_result",
                    "execution_count": 11,
                    "data": {
                        "application/vnd.dataresource+json": {
                            "schema": {
                                "fields": [
                                    {
                                        "name": "ProductID"
                                    },
                                    {
                                        "name": "ProductName"
                                    },
                                    {
                                        "name": "SupplierID"
                                    },
                                    {
                                        "name": "CategoryID"
                                    },
                                    {
                                        "name": "QuantityPerUnit"
                                    },
                                    {
                                        "name": "UnitPrice"
                                    },
                                    {
                                        "name": "UnitsInStock"
                                    },
                                    {
                                        "name": "UnitsOnOrder"
                                    },
                                    {
                                        "name": "ReorderLevel"
                                    },
                                    {
                                        "name": "Discontinued"
                                    }
                                ]
                            },
                            "data": [
                                {
                                    "0": "1",
                                    "1": "Chai",
                                    "2": "1",
                                    "3": "1",
                                    "4": "10 boxes x 20 bags",
                                    "5": "18.0000",
                                    "6": "39",
                                    "7": "0",
                                    "8": "10",
                                    "9": "0"
                                },
                                {
                                    "0": "2",
                                    "1": "Chang",
                                    "2": "1",
                                    "3": "1",
                                    "4": "24 - 12 oz bottles",
                                    "5": "19.0000",
                                    "6": "17",
                                    "7": "40",
                                    "8": "25",
                                    "9": "0"
                                },
                                {
                                    "0": "3",
                                    "1": "Aniseed Syrup",
                                    "2": "1",
                                    "3": "2",
                                    "4": "12 - 550 ml bottles",
                                    "5": "10.0000",
                                    "6": "13",
                                    "7": "70",
                                    "8": "25",
                                    "9": "0"
                                },
                                {
                                    "0": "4",
                                    "1": "Chef Anton's Cajun Seasoning",
                                    "2": "2",
                                    "3": "2",
                                    "4": "48 - 6 oz jars",
                                    "5": "22.0000",
                                    "6": "53",
                                    "7": "0",
                                    "8": "0",
                                    "9": "0"
                                },
                                {
                                    "0": "5",
                                    "1": "Chef Anton's Gumbo Mix",
                                    "2": "2",
                                    "3": "2",
                                    "4": "36 boxes",
                                    "5": "21.3500",
                                    "6": "0",
                                    "7": "0",
                                    "8": "0",
                                    "9": "1"
                                },
                                {
                                    "0": "6",
                                    "1": "Grandma's Boysenberry Spread",
                                    "2": "3",
                                    "3": "2",
                                    "4": "12 - 8 oz jars",
                                    "5": "25.0000",
                                    "6": "120",
                                    "7": "0",
                                    "8": "25",
                                    "9": "0"
                                },
                                {
                                    "0": "7",
                                    "1": "Uncle Bob's Organic Dried Pears",
                                    "2": "3",
                                    "3": "7",
                                    "4": "12 - 1 lb pkgs.",
                                    "5": "30.0000",
                                    "6": "15",
                                    "7": "0",
                                    "8": "10",
                                    "9": "0"
                                },
                                {
                                    "0": "8",
                                    "1": "Northwoods Cranberry Sauce",
                                    "2": "3",
                                    "3": "2",
                                    "4": "12 - 12 oz jars",
                                    "5": "40.0000",
                                    "6": "6",
                                    "7": "0",
                                    "8": "0",
                                    "9": "0"
                                },
                                {
                                    "0": "9",
                                    "1": "Mishi Kobe Niku",
                                    "2": "4",
                                    "3": "6",
                                    "4": "18 - 500 g pkgs.",
                                    "5": "97.0000",
                                    "6": "29",
                                    "7": "0",
                                    "8": "0",
                                    "9": "1"
                                },
                                {
                                    "0": "10",
                                    "1": "Ikura",
                                    "2": "4",
                                    "3": "8",
                                    "4": "12 - 200 ml jars",
                                    "5": "31.0000",
                                    "6": "31",
                                    "7": "0",
                                    "8": "0",
                                    "9": "0"
                                },
                                {
                                    "0": "11",
                                    "1": "Queso Cabrales",
                                    "2": "5",
                                    "3": "4",
                                    "4": "1 kg pkg.",
                                    "5": "21.0000",
                                    "6": "22",
                                    "7": "30",
                                    "8": "30",
                                    "9": "0"
                                },
                                {
                                    "0": "12",
                                    "1": "Queso Manchego La Pastora",
                                    "2": "5",
                                    "3": "4",
                                    "4": "10 - 500 g pkgs.",
                                    "5": "38.0000",
                                    "6": "86",
                                    "7": "0",
                                    "8": "0",
                                    "9": "0"
                                },
                                {
                                    "0": "13",
                                    "1": "Konbu",
                                    "2": "6",
                                    "3": "8",
                                    "4": "2 kg box",
                                    "5": "6.0000",
                                    "6": "24",
                                    "7": "0",
                                    "8": "5",
                                    "9": "0"
                                },
                                {
                                    "0": "14",
                                    "1": "Tofu",
                                    "2": "6",
                                    "3": "7",
                                    "4": "40 - 100 g pkgs.",
                                    "5": "23.2500",
                                    "6": "35",
                                    "7": "0",
                                    "8": "0",
                                    "9": "0"
                                },
                                {
                                    "0": "15",
                                    "1": "Genen Shouyu",
                                    "2": "6",
                                    "3": "2",
                                    "4": "24 - 250 ml bottles",
                                    "5": "15.5000",
                                    "6": "39",
                                    "7": "0",
                                    "8": "5",
                                    "9": "0"
                                },
                                {
                                    "0": "16",
                                    "1": "Pavlova",
                                    "2": "7",
                                    "3": "3",
                                    "4": "32 - 500 g boxes",
                                    "5": "17.4500",
                                    "6": "29",
                                    "7": "0",
                                    "8": "10",
                                    "9": "0"
                                },
                                {
                                    "0": "17",
                                    "1": "Alice Mutton",
                                    "2": "7",
                                    "3": "6",
                                    "4": "20 - 1 kg tins",
                                    "5": "39.0000",
                                    "6": "0",
                                    "7": "0",
                                    "8": "0",
                                    "9": "1"
                                },
                                {
                                    "0": "18",
                                    "1": "Carnarvon Tigers",
                                    "2": "7",
                                    "3": "8",
                                    "4": "16 kg pkg.",
                                    "5": "62.5000",
                                    "6": "42",
                                    "7": "0",
                                    "8": "0",
                                    "9": "0"
                                },
                                {
                                    "0": "19",
                                    "1": "Teatime Chocolate Biscuits",
                                    "2": "8",
                                    "3": "3",
                                    "4": "10 boxes x 12 pieces",
                                    "5": "9.2000",
                                    "6": "25",
                                    "7": "0",
                                    "8": "5",
                                    "9": "0"
                                },
                                {
                                    "0": "20",
                                    "1": "Sir Rodney's Marmalade",
                                    "2": "8",
                                    "3": "3",
                                    "4": "30 gift boxes",
                                    "5": "81.0000",
                                    "6": "40",
                                    "7": "0",
                                    "8": "0",
                                    "9": "0"
                                },
                                {
                                    "0": "21",
                                    "1": "Sir Rodney's Scones",
                                    "2": "8",
                                    "3": "3",
                                    "4": "24 pkgs. x 4 pieces",
                                    "5": "10.0000",
                                    "6": "3",
                                    "7": "40",
                                    "8": "5",
                                    "9": "0"
                                },
                                {
                                    "0": "22",
                                    "1": "Gustaf's Knäckebröd",
                                    "2": "9",
                                    "3": "5",
                                    "4": "24 - 500 g pkgs.",
                                    "5": "21.0000",
                                    "6": "104",
                                    "7": "0",
                                    "8": "25",
                                    "9": "0"
                                },
                                {
                                    "0": "23",
                                    "1": "Tunnbröd",
                                    "2": "9",
                                    "3": "5",
                                    "4": "12 - 250 g pkgs.",
                                    "5": "9.0000",
                                    "6": "61",
                                    "7": "0",
                                    "8": "25",
                                    "9": "0"
                                },
                                {
                                    "0": "24",
                                    "1": "Guaraná Fantástica",
                                    "2": "10",
                                    "3": "1",
                                    "4": "12 - 355 ml cans",
                                    "5": "4.5000",
                                    "6": "20",
                                    "7": "0",
                                    "8": "0",
                                    "9": "1"
                                },
                                {
                                    "0": "25",
                                    "1": "NuNuCa Nuß-Nougat-Creme",
                                    "2": "11",
                                    "3": "3",
                                    "4": "20 - 450 g glasses",
                                    "5": "14.0000",
                                    "6": "76",
                                    "7": "0",
                                    "8": "30",
                                    "9": "0"
                                },
                                {
                                    "0": "26",
                                    "1": "Gumbär Gummibärchen",
                                    "2": "11",
                                    "3": "3",
                                    "4": "100 - 250 g bags",
                                    "5": "31.2300",
                                    "6": "15",
                                    "7": "0",
                                    "8": "0",
                                    "9": "0"
                                },
                                {
                                    "0": "27",
                                    "1": "Schoggi Schokolade",
                                    "2": "11",
                                    "3": "3",
                                    "4": "100 - 100 g pieces",
                                    "5": "43.9000",
                                    "6": "49",
                                    "7": "0",
                                    "8": "30",
                                    "9": "0"
                                },
                                {
                                    "0": "28",
                                    "1": "Rössle Sauerkraut",
                                    "2": "12",
                                    "3": "7",
                                    "4": "25 - 825 g cans",
                                    "5": "45.6000",
                                    "6": "26",
                                    "7": "0",
                                    "8": "0",
                                    "9": "1"
                                },
                                {
                                    "0": "29",
                                    "1": "Thüringer Rostbratwurst",
                                    "2": "12",
                                    "3": "6",
                                    "4": "50 bags x 30 sausgs.",
                                    "5": "123.7900",
                                    "6": "0",
                                    "7": "0",
                                    "8": "0",
                                    "9": "1"
                                },
                                {
                                    "0": "30",
                                    "1": "Nord-Ost Matjeshering",
                                    "2": "13",
                                    "3": "8",
                                    "4": "10 - 200 g glasses",
                                    "5": "25.8900",
                                    "6": "10",
                                    "7": "0",
                                    "8": "15",
                                    "9": "0"
                                },
                                {
                                    "0": "31",
                                    "1": "Gorgonzola Telino",
                                    "2": "14",
                                    "3": "4",
                                    "4": "12 - 100 g pkgs",
                                    "5": "12.5000",
                                    "6": "0",
                                    "7": "70",
                                    "8": "20",
                                    "9": "0"
                                },
                                {
                                    "0": "32",
                                    "1": "Mascarpone Fabioli",
                                    "2": "14",
                                    "3": "4",
                                    "4": "24 - 200 g pkgs.",
                                    "5": "32.0000",
                                    "6": "9",
                                    "7": "40",
                                    "8": "25",
                                    "9": "0"
                                },
                                {
                                    "0": "33",
                                    "1": "Geitost",
                                    "2": "15",
                                    "3": "4",
                                    "4": "500 g",
                                    "5": "2.5000",
                                    "6": "112",
                                    "7": "0",
                                    "8": "20",
                                    "9": "0"
                                },
                                {
                                    "0": "34",
                                    "1": "Sasquatch Ale",
                                    "2": "16",
                                    "3": "1",
                                    "4": "24 - 12 oz bottles",
                                    "5": "14.0000",
                                    "6": "111",
                                    "7": "0",
                                    "8": "15",
                                    "9": "0"
                                },
                                {
                                    "0": "35",
                                    "1": "Steeleye Stout",
                                    "2": "16",
                                    "3": "1",
                                    "4": "24 - 12 oz bottles",
                                    "5": "18.0000",
                                    "6": "20",
                                    "7": "0",
                                    "8": "15",
                                    "9": "0"
                                },
                                {
                                    "0": "36",
                                    "1": "Inlagd Sill",
                                    "2": "17",
                                    "3": "8",
                                    "4": "24 - 250 g  jars",
                                    "5": "19.0000",
                                    "6": "112",
                                    "7": "0",
                                    "8": "20",
                                    "9": "0"
                                },
                                {
                                    "0": "37",
                                    "1": "Gravad lax",
                                    "2": "17",
                                    "3": "8",
                                    "4": "12 - 500 g pkgs.",
                                    "5": "26.0000",
                                    "6": "11",
                                    "7": "50",
                                    "8": "25",
                                    "9": "0"
                                },
                                {
                                    "0": "38",
                                    "1": "Côte de Blaye",
                                    "2": "18",
                                    "3": "1",
                                    "4": "12 - 75 cl bottles",
                                    "5": "263.5000",
                                    "6": "17",
                                    "7": "0",
                                    "8": "15",
                                    "9": "0"
                                },
                                {
                                    "0": "39",
                                    "1": "Chartreuse verte",
                                    "2": "18",
                                    "3": "1",
                                    "4": "750 cc per bottle",
                                    "5": "18.0000",
                                    "6": "69",
                                    "7": "0",
                                    "8": "5",
                                    "9": "0"
                                },
                                {
                                    "0": "40",
                                    "1": "Boston Crab Meat",
                                    "2": "19",
                                    "3": "8",
                                    "4": "24 - 4 oz tins",
                                    "5": "18.4000",
                                    "6": "123",
                                    "7": "0",
                                    "8": "30",
                                    "9": "0"
                                },
                                {
                                    "0": "41",
                                    "1": "Jack's New England Clam Chowder",
                                    "2": "19",
                                    "3": "8",
                                    "4": "12 - 12 oz cans",
                                    "5": "9.6500",
                                    "6": "85",
                                    "7": "0",
                                    "8": "10",
                                    "9": "0"
                                },
                                {
                                    "0": "42",
                                    "1": "Singaporean Hokkien Fried Mee",
                                    "2": "20",
                                    "3": "5",
                                    "4": "32 - 1 kg pkgs.",
                                    "5": "14.0000",
                                    "6": "26",
                                    "7": "0",
                                    "8": "0",
                                    "9": "1"
                                },
                                {
                                    "0": "43",
                                    "1": "Ipoh Coffee",
                                    "2": "20",
                                    "3": "1",
                                    "4": "16 - 500 g tins",
                                    "5": "46.0000",
                                    "6": "17",
                                    "7": "10",
                                    "8": "25",
                                    "9": "0"
                                },
                                {
                                    "0": "44",
                                    "1": "Gula Malacca",
                                    "2": "20",
                                    "3": "2",
                                    "4": "20 - 2 kg bags",
                                    "5": "19.4500",
                                    "6": "27",
                                    "7": "0",
                                    "8": "15",
                                    "9": "0"
                                },
                                {
                                    "0": "45",
                                    "1": "Rogede sild",
                                    "2": "21",
                                    "3": "8",
                                    "4": "1k pkg.",
                                    "5": "9.5000",
                                    "6": "5",
                                    "7": "70",
                                    "8": "15",
                                    "9": "0"
                                },
                                {
                                    "0": "46",
                                    "1": "Spegesild",
                                    "2": "21",
                                    "3": "8",
                                    "4": "4 - 450 g glasses",
                                    "5": "12.0000",
                                    "6": "95",
                                    "7": "0",
                                    "8": "0",
                                    "9": "0"
                                },
                                {
                                    "0": "47",
                                    "1": "Zaanse koeken",
                                    "2": "22",
                                    "3": "3",
                                    "4": "10 - 4 oz boxes",
                                    "5": "9.5000",
                                    "6": "36",
                                    "7": "0",
                                    "8": "0",
                                    "9": "0"
                                },
                                {
                                    "0": "48",
                                    "1": "Chocolade",
                                    "2": "22",
                                    "3": "3",
                                    "4": "10 pkgs.",
                                    "5": "12.7500",
                                    "6": "15",
                                    "7": "70",
                                    "8": "25",
                                    "9": "0"
                                },
                                {
                                    "0": "49",
                                    "1": "Maxilaku",
                                    "2": "23",
                                    "3": "3",
                                    "4": "24 - 50 g pkgs.",
                                    "5": "20.0000",
                                    "6": "10",
                                    "7": "60",
                                    "8": "15",
                                    "9": "0"
                                },
                                {
                                    "0": "50",
                                    "1": "Valkoinen suklaa",
                                    "2": "23",
                                    "3": "3",
                                    "4": "12 - 100 g bars",
                                    "5": "16.2500",
                                    "6": "65",
                                    "7": "0",
                                    "8": "30",
                                    "9": "0"
                                },
                                {
                                    "0": "51",
                                    "1": "Manjimup Dried Apples",
                                    "2": "24",
                                    "3": "7",
                                    "4": "50 - 300 g pkgs.",
                                    "5": "53.0000",
                                    "6": "20",
                                    "7": "0",
                                    "8": "10",
                                    "9": "0"
                                },
                                {
                                    "0": "52",
                                    "1": "Filo Mix",
                                    "2": "24",
                                    "3": "5",
                                    "4": "16 - 2 kg boxes",
                                    "5": "7.0000",
                                    "6": "38",
                                    "7": "0",
                                    "8": "25",
                                    "9": "0"
                                },
                                {
                                    "0": "53",
                                    "1": "Perth Pasties",
                                    "2": "24",
                                    "3": "6",
                                    "4": "48 pieces",
                                    "5": "32.8000",
                                    "6": "0",
                                    "7": "0",
                                    "8": "0",
                                    "9": "1"
                                },
                                {
                                    "0": "54",
                                    "1": "Tourtière",
                                    "2": "25",
                                    "3": "6",
                                    "4": "16 pies",
                                    "5": "7.4500",
                                    "6": "21",
                                    "7": "0",
                                    "8": "10",
                                    "9": "0"
                                },
                                {
                                    "0": "55",
                                    "1": "Pâté chinois",
                                    "2": "25",
                                    "3": "6",
                                    "4": "24 boxes x 2 pies",
                                    "5": "24.0000",
                                    "6": "115",
                                    "7": "0",
                                    "8": "20",
                                    "9": "0"
                                },
                                {
                                    "0": "56",
                                    "1": "Gnocchi di nonna Alice",
                                    "2": "26",
                                    "3": "5",
                                    "4": "24 - 250 g pkgs.",
                                    "5": "38.0000",
                                    "6": "21",
                                    "7": "10",
                                    "8": "30",
                                    "9": "0"
                                },
                                {
                                    "0": "57",
                                    "1": "Ravioli Angelo",
                                    "2": "26",
                                    "3": "5",
                                    "4": "24 - 250 g pkgs.",
                                    "5": "19.5000",
                                    "6": "36",
                                    "7": "0",
                                    "8": "20",
                                    "9": "0"
                                },
                                {
                                    "0": "58",
                                    "1": "Escargots de Bourgogne",
                                    "2": "27",
                                    "3": "8",
                                    "4": "24 pieces",
                                    "5": "13.2500",
                                    "6": "62",
                                    "7": "0",
                                    "8": "20",
                                    "9": "0"
                                },
                                {
                                    "0": "59",
                                    "1": "Raclette Courdavault",
                                    "2": "28",
                                    "3": "4",
                                    "4": "5 kg pkg.",
                                    "5": "55.0000",
                                    "6": "79",
                                    "7": "0",
                                    "8": "0",
                                    "9": "0"
                                },
                                {
                                    "0": "60",
                                    "1": "Camembert Pierrot",
                                    "2": "28",
                                    "3": "4",
                                    "4": "15 - 300 g rounds",
                                    "5": "34.0000",
                                    "6": "19",
                                    "7": "0",
                                    "8": "0",
                                    "9": "0"
                                },
                                {
                                    "0": "61",
                                    "1": "Sirop d'érable",
                                    "2": "29",
                                    "3": "2",
                                    "4": "24 - 500 ml bottles",
                                    "5": "28.5000",
                                    "6": "113",
                                    "7": "0",
                                    "8": "25",
                                    "9": "0"
                                },
                                {
                                    "0": "62",
                                    "1": "Tarte au sucre",
                                    "2": "29",
                                    "3": "3",
                                    "4": "48 pies",
                                    "5": "49.3000",
                                    "6": "17",
                                    "7": "0",
                                    "8": "0",
                                    "9": "0"
                                },
                                {
                                    "0": "63",
                                    "1": "Vegie-spread",
                                    "2": "7",
                                    "3": "2",
                                    "4": "15 - 625 g jars",
                                    "5": "43.9000",
                                    "6": "24",
                                    "7": "0",
                                    "8": "5",
                                    "9": "0"
                                },
                                {
                                    "0": "64",
                                    "1": "Wimmers gute Semmelknödel",
                                    "2": "12",
                                    "3": "5",
                                    "4": "20 bags x 4 pieces",
                                    "5": "33.2500",
                                    "6": "22",
                                    "7": "80",
                                    "8": "30",
                                    "9": "0"
                                },
                                {
                                    "0": "65",
                                    "1": "Louisiana Fiery Hot Pepper Sauce",
                                    "2": "2",
                                    "3": "2",
                                    "4": "32 - 8 oz bottles",
                                    "5": "21.0500",
                                    "6": "76",
                                    "7": "0",
                                    "8": "0",
                                    "9": "0"
                                },
                                {
                                    "0": "66",
                                    "1": "Louisiana Hot Spiced Okra",
                                    "2": "2",
                                    "3": "2",
                                    "4": "24 - 8 oz jars",
                                    "5": "17.0000",
                                    "6": "4",
                                    "7": "100",
                                    "8": "20",
                                    "9": "0"
                                },
                                {
                                    "0": "67",
                                    "1": "Laughing Lumberjack Lager",
                                    "2": "16",
                                    "3": "1",
                                    "4": "24 - 12 oz bottles",
                                    "5": "14.0000",
                                    "6": "52",
                                    "7": "0",
                                    "8": "10",
                                    "9": "0"
                                },
                                {
                                    "0": "68",
                                    "1": "Scottish Longbreads",
                                    "2": "8",
                                    "3": "3",
                                    "4": "10 boxes x 8 pieces",
                                    "5": "12.5000",
                                    "6": "6",
                                    "7": "10",
                                    "8": "15",
                                    "9": "0"
                                },
                                {
                                    "0": "69",
                                    "1": "Gudbrandsdalsost",
                                    "2": "15",
                                    "3": "4",
                                    "4": "10 kg pkg.",
                                    "5": "36.0000",
                                    "6": "26",
                                    "7": "0",
                                    "8": "15",
                                    "9": "0"
                                },
                                {
                                    "0": "70",
                                    "1": "Outback Lager",
                                    "2": "7",
                                    "3": "1",
                                    "4": "24 - 355 ml bottles",
                                    "5": "15.0000",
                                    "6": "15",
                                    "7": "10",
                                    "8": "30",
                                    "9": "0"
                                },
                                {
                                    "0": "71",
                                    "1": "Flotemysost",
                                    "2": "15",
                                    "3": "4",
                                    "4": "10 - 500 g pkgs.",
                                    "5": "21.5000",
                                    "6": "26",
                                    "7": "0",
                                    "8": "0",
                                    "9": "0"
                                },
                                {
                                    "0": "72",
                                    "1": "Mozzarella di Giovanni",
                                    "2": "14",
                                    "3": "4",
                                    "4": "24 - 200 g pkgs.",
                                    "5": "34.8000",
                                    "6": "14",
                                    "7": "0",
                                    "8": "0",
                                    "9": "0"
                                },
                                {
                                    "0": "73",
                                    "1": "Röd Kaviar",
                                    "2": "17",
                                    "3": "8",
                                    "4": "24 - 150 g jars",
                                    "5": "15.0000",
                                    "6": "101",
                                    "7": "0",
                                    "8": "5",
                                    "9": "0"
                                },
                                {
                                    "0": "74",
                                    "1": "Longlife Tofu",
                                    "2": "4",
                                    "3": "7",
                                    "4": "5 kg pkg.",
                                    "5": "10.0000",
                                    "6": "4",
                                    "7": "20",
                                    "8": "5",
                                    "9": "0"
                                },
                                {
                                    "0": "75",
                                    "1": "Rhönbräu Klosterbier",
                                    "2": "12",
                                    "3": "1",
                                    "4": "24 - 0.5 l bottles",
                                    "5": "7.7500",
                                    "6": "125",
                                    "7": "0",
                                    "8": "25",
                                    "9": "0"
                                },
                                {
                                    "0": "76",
                                    "1": "Lakkalikööri",
                                    "2": "23",
                                    "3": "1",
                                    "4": "500 ml",
                                    "5": "18.0000",
                                    "6": "57",
                                    "7": "0",
                                    "8": "20",
                                    "9": "0"
                                },
                                {
                                    "0": "77",
                                    "1": "Original Frankfurter grüne Soße",
                                    "2": "12",
                                    "3": "2",
                                    "4": "12 boxes",
                                    "5": "13.0000",
                                    "6": "32",
                                    "7": "0",
                                    "8": "15",
                                    "9": "0"
                                }
                            ]
                        },
                        "text/html": "<table><tr><th>ProductID</th><th>ProductName</th><th>SupplierID</th><th>CategoryID</th><th>QuantityPerUnit</th><th>UnitPrice</th><th>UnitsInStock</th><th>UnitsOnOrder</th><th>ReorderLevel</th><th>Discontinued</th></tr><tr><td>1</td><td>Chai</td><td>1</td><td>1</td><td>10 boxes x 20 bags</td><td>18.0000</td><td>39</td><td>0</td><td>10</td><td>0</td></tr><tr><td>2</td><td>Chang</td><td>1</td><td>1</td><td>24 - 12 oz bottles</td><td>19.0000</td><td>17</td><td>40</td><td>25</td><td>0</td></tr><tr><td>3</td><td>Aniseed Syrup</td><td>1</td><td>2</td><td>12 - 550 ml bottles</td><td>10.0000</td><td>13</td><td>70</td><td>25</td><td>0</td></tr><tr><td>4</td><td>Chef Anton's Cajun Seasoning</td><td>2</td><td>2</td><td>48 - 6 oz jars</td><td>22.0000</td><td>53</td><td>0</td><td>0</td><td>0</td></tr><tr><td>5</td><td>Chef Anton's Gumbo Mix</td><td>2</td><td>2</td><td>36 boxes</td><td>21.3500</td><td>0</td><td>0</td><td>0</td><td>1</td></tr><tr><td>6</td><td>Grandma's Boysenberry Spread</td><td>3</td><td>2</td><td>12 - 8 oz jars</td><td>25.0000</td><td>120</td><td>0</td><td>25</td><td>0</td></tr><tr><td>7</td><td>Uncle Bob's Organic Dried Pears</td><td>3</td><td>7</td><td>12 - 1 lb pkgs.</td><td>30.0000</td><td>15</td><td>0</td><td>10</td><td>0</td></tr><tr><td>8</td><td>Northwoods Cranberry Sauce</td><td>3</td><td>2</td><td>12 - 12 oz jars</td><td>40.0000</td><td>6</td><td>0</td><td>0</td><td>0</td></tr><tr><td>9</td><td>Mishi Kobe Niku</td><td>4</td><td>6</td><td>18 - 500 g pkgs.</td><td>97.0000</td><td>29</td><td>0</td><td>0</td><td>1</td></tr><tr><td>10</td><td>Ikura</td><td>4</td><td>8</td><td>12 - 200 ml jars</td><td>31.0000</td><td>31</td><td>0</td><td>0</td><td>0</td></tr><tr><td>11</td><td>Queso Cabrales</td><td>5</td><td>4</td><td>1 kg pkg.</td><td>21.0000</td><td>22</td><td>30</td><td>30</td><td>0</td></tr><tr><td>12</td><td>Queso Manchego La Pastora</td><td>5</td><td>4</td><td>10 - 500 g pkgs.</td><td>38.0000</td><td>86</td><td>0</td><td>0</td><td>0</td></tr><tr><td>13</td><td>Konbu</td><td>6</td><td>8</td><td>2 kg box</td><td>6.0000</td><td>24</td><td>0</td><td>5</td><td>0</td></tr><tr><td>14</td><td>Tofu</td><td>6</td><td>7</td><td>40 - 100 g pkgs.</td><td>23.2500</td><td>35</td><td>0</td><td>0</td><td>0</td></tr><tr><td>15</td><td>Genen Shouyu</td><td>6</td><td>2</td><td>24 - 250 ml bottles</td><td>15.5000</td><td>39</td><td>0</td><td>5</td><td>0</td></tr><tr><td>16</td><td>Pavlova</td><td>7</td><td>3</td><td>32 - 500 g boxes</td><td>17.4500</td><td>29</td><td>0</td><td>10</td><td>0</td></tr><tr><td>17</td><td>Alice Mutton</td><td>7</td><td>6</td><td>20 - 1 kg tins</td><td>39.0000</td><td>0</td><td>0</td><td>0</td><td>1</td></tr><tr><td>18</td><td>Carnarvon Tigers</td><td>7</td><td>8</td><td>16 kg pkg.</td><td>62.5000</td><td>42</td><td>0</td><td>0</td><td>0</td></tr><tr><td>19</td><td>Teatime Chocolate Biscuits</td><td>8</td><td>3</td><td>10 boxes x 12 pieces</td><td>9.2000</td><td>25</td><td>0</td><td>5</td><td>0</td></tr><tr><td>20</td><td>Sir Rodney's Marmalade</td><td>8</td><td>3</td><td>30 gift boxes</td><td>81.0000</td><td>40</td><td>0</td><td>0</td><td>0</td></tr><tr><td>21</td><td>Sir Rodney's Scones</td><td>8</td><td>3</td><td>24 pkgs. x 4 pieces</td><td>10.0000</td><td>3</td><td>40</td><td>5</td><td>0</td></tr><tr><td>22</td><td>Gustaf's Knäckebröd</td><td>9</td><td>5</td><td>24 - 500 g pkgs.</td><td>21.0000</td><td>104</td><td>0</td><td>25</td><td>0</td></tr><tr><td>23</td><td>Tunnbröd</td><td>9</td><td>5</td><td>12 - 250 g pkgs.</td><td>9.0000</td><td>61</td><td>0</td><td>25</td><td>0</td></tr><tr><td>24</td><td>Guaraná Fantástica</td><td>10</td><td>1</td><td>12 - 355 ml cans</td><td>4.5000</td><td>20</td><td>0</td><td>0</td><td>1</td></tr><tr><td>25</td><td>NuNuCa Nuß-Nougat-Creme</td><td>11</td><td>3</td><td>20 - 450 g glasses</td><td>14.0000</td><td>76</td><td>0</td><td>30</td><td>0</td></tr><tr><td>26</td><td>Gumbär Gummibärchen</td><td>11</td><td>3</td><td>100 - 250 g bags</td><td>31.2300</td><td>15</td><td>0</td><td>0</td><td>0</td></tr><tr><td>27</td><td>Schoggi Schokolade</td><td>11</td><td>3</td><td>100 - 100 g pieces</td><td>43.9000</td><td>49</td><td>0</td><td>30</td><td>0</td></tr><tr><td>28</td><td>Rössle Sauerkraut</td><td>12</td><td>7</td><td>25 - 825 g cans</td><td>45.6000</td><td>26</td><td>0</td><td>0</td><td>1</td></tr><tr><td>29</td><td>Thüringer Rostbratwurst</td><td>12</td><td>6</td><td>50 bags x 30 sausgs.</td><td>123.7900</td><td>0</td><td>0</td><td>0</td><td>1</td></tr><tr><td>30</td><td>Nord-Ost Matjeshering</td><td>13</td><td>8</td><td>10 - 200 g glasses</td><td>25.8900</td><td>10</td><td>0</td><td>15</td><td>0</td></tr><tr><td>31</td><td>Gorgonzola Telino</td><td>14</td><td>4</td><td>12 - 100 g pkgs</td><td>12.5000</td><td>0</td><td>70</td><td>20</td><td>0</td></tr><tr><td>32</td><td>Mascarpone Fabioli</td><td>14</td><td>4</td><td>24 - 200 g pkgs.</td><td>32.0000</td><td>9</td><td>40</td><td>25</td><td>0</td></tr><tr><td>33</td><td>Geitost</td><td>15</td><td>4</td><td>500 g</td><td>2.5000</td><td>112</td><td>0</td><td>20</td><td>0</td></tr><tr><td>34</td><td>Sasquatch Ale</td><td>16</td><td>1</td><td>24 - 12 oz bottles</td><td>14.0000</td><td>111</td><td>0</td><td>15</td><td>0</td></tr><tr><td>35</td><td>Steeleye Stout</td><td>16</td><td>1</td><td>24 - 12 oz bottles</td><td>18.0000</td><td>20</td><td>0</td><td>15</td><td>0</td></tr><tr><td>36</td><td>Inlagd Sill</td><td>17</td><td>8</td><td>24 - 250 g  jars</td><td>19.0000</td><td>112</td><td>0</td><td>20</td><td>0</td></tr><tr><td>37</td><td>Gravad lax</td><td>17</td><td>8</td><td>12 - 500 g pkgs.</td><td>26.0000</td><td>11</td><td>50</td><td>25</td><td>0</td></tr><tr><td>38</td><td>Côte de Blaye</td><td>18</td><td>1</td><td>12 - 75 cl bottles</td><td>263.5000</td><td>17</td><td>0</td><td>15</td><td>0</td></tr><tr><td>39</td><td>Chartreuse verte</td><td>18</td><td>1</td><td>750 cc per bottle</td><td>18.0000</td><td>69</td><td>0</td><td>5</td><td>0</td></tr><tr><td>40</td><td>Boston Crab Meat</td><td>19</td><td>8</td><td>24 - 4 oz tins</td><td>18.4000</td><td>123</td><td>0</td><td>30</td><td>0</td></tr><tr><td>41</td><td>Jack's New England Clam Chowder</td><td>19</td><td>8</td><td>12 - 12 oz cans</td><td>9.6500</td><td>85</td><td>0</td><td>10</td><td>0</td></tr><tr><td>42</td><td>Singaporean Hokkien Fried Mee</td><td>20</td><td>5</td><td>32 - 1 kg pkgs.</td><td>14.0000</td><td>26</td><td>0</td><td>0</td><td>1</td></tr><tr><td>43</td><td>Ipoh Coffee</td><td>20</td><td>1</td><td>16 - 500 g tins</td><td>46.0000</td><td>17</td><td>10</td><td>25</td><td>0</td></tr><tr><td>44</td><td>Gula Malacca</td><td>20</td><td>2</td><td>20 - 2 kg bags</td><td>19.4500</td><td>27</td><td>0</td><td>15</td><td>0</td></tr><tr><td>45</td><td>Rogede sild</td><td>21</td><td>8</td><td>1k pkg.</td><td>9.5000</td><td>5</td><td>70</td><td>15</td><td>0</td></tr><tr><td>46</td><td>Spegesild</td><td>21</td><td>8</td><td>4 - 450 g glasses</td><td>12.0000</td><td>95</td><td>0</td><td>0</td><td>0</td></tr><tr><td>47</td><td>Zaanse koeken</td><td>22</td><td>3</td><td>10 - 4 oz boxes</td><td>9.5000</td><td>36</td><td>0</td><td>0</td><td>0</td></tr><tr><td>48</td><td>Chocolade</td><td>22</td><td>3</td><td>10 pkgs.</td><td>12.7500</td><td>15</td><td>70</td><td>25</td><td>0</td></tr><tr><td>49</td><td>Maxilaku</td><td>23</td><td>3</td><td>24 - 50 g pkgs.</td><td>20.0000</td><td>10</td><td>60</td><td>15</td><td>0</td></tr><tr><td>50</td><td>Valkoinen suklaa</td><td>23</td><td>3</td><td>12 - 100 g bars</td><td>16.2500</td><td>65</td><td>0</td><td>30</td><td>0</td></tr><tr><td>51</td><td>Manjimup Dried Apples</td><td>24</td><td>7</td><td>50 - 300 g pkgs.</td><td>53.0000</td><td>20</td><td>0</td><td>10</td><td>0</td></tr><tr><td>52</td><td>Filo Mix</td><td>24</td><td>5</td><td>16 - 2 kg boxes</td><td>7.0000</td><td>38</td><td>0</td><td>25</td><td>0</td></tr><tr><td>53</td><td>Perth Pasties</td><td>24</td><td>6</td><td>48 pieces</td><td>32.8000</td><td>0</td><td>0</td><td>0</td><td>1</td></tr><tr><td>54</td><td>Tourtière</td><td>25</td><td>6</td><td>16 pies</td><td>7.4500</td><td>21</td><td>0</td><td>10</td><td>0</td></tr><tr><td>55</td><td>Pâté chinois</td><td>25</td><td>6</td><td>24 boxes x 2 pies</td><td>24.0000</td><td>115</td><td>0</td><td>20</td><td>0</td></tr><tr><td>56</td><td>Gnocchi di nonna Alice</td><td>26</td><td>5</td><td>24 - 250 g pkgs.</td><td>38.0000</td><td>21</td><td>10</td><td>30</td><td>0</td></tr><tr><td>57</td><td>Ravioli Angelo</td><td>26</td><td>5</td><td>24 - 250 g pkgs.</td><td>19.5000</td><td>36</td><td>0</td><td>20</td><td>0</td></tr><tr><td>58</td><td>Escargots de Bourgogne</td><td>27</td><td>8</td><td>24 pieces</td><td>13.2500</td><td>62</td><td>0</td><td>20</td><td>0</td></tr><tr><td>59</td><td>Raclette Courdavault</td><td>28</td><td>4</td><td>5 kg pkg.</td><td>55.0000</td><td>79</td><td>0</td><td>0</td><td>0</td></tr><tr><td>60</td><td>Camembert Pierrot</td><td>28</td><td>4</td><td>15 - 300 g rounds</td><td>34.0000</td><td>19</td><td>0</td><td>0</td><td>0</td></tr><tr><td>61</td><td>Sirop d'érable</td><td>29</td><td>2</td><td>24 - 500 ml bottles</td><td>28.5000</td><td>113</td><td>0</td><td>25</td><td>0</td></tr><tr><td>62</td><td>Tarte au sucre</td><td>29</td><td>3</td><td>48 pies</td><td>49.3000</td><td>17</td><td>0</td><td>0</td><td>0</td></tr><tr><td>63</td><td>Vegie-spread</td><td>7</td><td>2</td><td>15 - 625 g jars</td><td>43.9000</td><td>24</td><td>0</td><td>5</td><td>0</td></tr><tr><td>64</td><td>Wimmers gute Semmelknödel</td><td>12</td><td>5</td><td>20 bags x 4 pieces</td><td>33.2500</td><td>22</td><td>80</td><td>30</td><td>0</td></tr><tr><td>65</td><td>Louisiana Fiery Hot Pepper Sauce</td><td>2</td><td>2</td><td>32 - 8 oz bottles</td><td>21.0500</td><td>76</td><td>0</td><td>0</td><td>0</td></tr><tr><td>66</td><td>Louisiana Hot Spiced Okra</td><td>2</td><td>2</td><td>24 - 8 oz jars</td><td>17.0000</td><td>4</td><td>100</td><td>20</td><td>0</td></tr><tr><td>67</td><td>Laughing Lumberjack Lager</td><td>16</td><td>1</td><td>24 - 12 oz bottles</td><td>14.0000</td><td>52</td><td>0</td><td>10</td><td>0</td></tr><tr><td>68</td><td>Scottish Longbreads</td><td>8</td><td>3</td><td>10 boxes x 8 pieces</td><td>12.5000</td><td>6</td><td>10</td><td>15</td><td>0</td></tr><tr><td>69</td><td>Gudbrandsdalsost</td><td>15</td><td>4</td><td>10 kg pkg.</td><td>36.0000</td><td>26</td><td>0</td><td>15</td><td>0</td></tr><tr><td>70</td><td>Outback Lager</td><td>7</td><td>1</td><td>24 - 355 ml bottles</td><td>15.0000</td><td>15</td><td>10</td><td>30</td><td>0</td></tr><tr><td>71</td><td>Flotemysost</td><td>15</td><td>4</td><td>10 - 500 g pkgs.</td><td>21.5000</td><td>26</td><td>0</td><td>0</td><td>0</td></tr><tr><td>72</td><td>Mozzarella di Giovanni</td><td>14</td><td>4</td><td>24 - 200 g pkgs.</td><td>34.8000</td><td>14</td><td>0</td><td>0</td><td>0</td></tr><tr><td>73</td><td>Röd Kaviar</td><td>17</td><td>8</td><td>24 - 150 g jars</td><td>15.0000</td><td>101</td><td>0</td><td>5</td><td>0</td></tr><tr><td>74</td><td>Longlife Tofu</td><td>4</td><td>7</td><td>5 kg pkg.</td><td>10.0000</td><td>4</td><td>20</td><td>5</td><td>0</td></tr><tr><td>75</td><td>Rhönbräu Klosterbier</td><td>12</td><td>1</td><td>24 - 0.5 l bottles</td><td>7.7500</td><td>125</td><td>0</td><td>25</td><td>0</td></tr><tr><td>76</td><td>Lakkalikööri</td><td>23</td><td>1</td><td>500 ml</td><td>18.0000</td><td>57</td><td>0</td><td>20</td><td>0</td></tr><tr><td>77</td><td>Original Frankfurter grüne Soße</td><td>12</td><td>2</td><td>12 boxes</td><td>13.0000</td><td>32</td><td>0</td><td>15</td><td>0</td></tr></table>"
                    },
                    "metadata": {}
                }
            ],
            "execution_count": 11
        },
        {
            "cell_type": "markdown",
            "source": [
                "> 1. Wybierz nazwy i adresy klientów, mających siedziby w Londynie"
            ],
            "metadata": {
                "azdata_cell_guid": "7346ef86-871b-4619-8683-c495d6491f18"
            },
            "attachments": {}
        },
        {
            "cell_type": "code",
            "source": [
                "SELECT CompanyName,Address FROM Customers WHERE City='London'"
            ],
            "metadata": {
                "azdata_cell_guid": "9279a3f1-8fa2-4591-9a1a-a21954126a60"
            },
            "outputs": [
                {
                    "output_type": "display_data",
                    "data": {
                        "text/html": "(6 rows affected)"
                    },
                    "metadata": {}
                },
                {
                    "output_type": "display_data",
                    "data": {
                        "text/html": "Total execution time: 00:00:00.011"
                    },
                    "metadata": {}
                },
                {
                    "output_type": "execute_result",
                    "execution_count": 12,
                    "data": {
                        "application/vnd.dataresource+json": {
                            "schema": {
                                "fields": [
                                    {
                                        "name": "CompanyName"
                                    },
                                    {
                                        "name": "Address"
                                    }
                                ]
                            },
                            "data": [
                                {
                                    "0": "Around the Horn",
                                    "1": "120 Hanover Sq."
                                },
                                {
                                    "0": "B's Beverages",
                                    "1": "Fauntleroy Circus"
                                },
                                {
                                    "0": "Consolidated Holdings",
                                    "1": "Berkeley Gardens 12  Brewery"
                                },
                                {
                                    "0": "Eastern Connection",
                                    "1": "35 King George"
                                },
                                {
                                    "0": "North/South",
                                    "1": "South House 300 Queensbridge"
                                },
                                {
                                    "0": "Seven Seas Imports",
                                    "1": "90 Wadhurst Rd."
                                }
                            ]
                        },
                        "text/html": "<table><tr><th>CompanyName</th><th>Address</th></tr><tr><td>Around the Horn</td><td>120 Hanover Sq.</td></tr><tr><td>B's Beverages</td><td>Fauntleroy Circus</td></tr><tr><td>Consolidated Holdings</td><td>Berkeley Gardens 12  Brewery</td></tr><tr><td>Eastern Connection</td><td>35 King George</td></tr><tr><td>North/South</td><td>South House 300 Queensbridge</td></tr><tr><td>Seven Seas Imports</td><td>90 Wadhurst Rd.</td></tr></table>"
                    },
                    "metadata": {}
                }
            ],
            "execution_count": 12
        },
        {
            "cell_type": "markdown",
            "source": [
                "> 2\\. Wybierz nazwy i adresy klientów, mających siedziby w Londynie lub Madrycie"
            ],
            "metadata": {
                "azdata_cell_guid": "199c8059-1f3d-498a-ab91-58055b6155b3"
            },
            "attachments": {}
        },
        {
            "cell_type": "code",
            "source": [
                "SELECT \r\n",
                "    CompanyName, Address \r\n",
                "FROM \r\n",
                "    Customers \r\n",
                "WHERE \r\n",
                "        City = 'London' \r\n",
                "    OR \r\n",
                "        City = 'Madrid'"
            ],
            "metadata": {
                "azdata_cell_guid": "78113cd3-df8b-4930-892e-c6b666de59c4"
            },
            "outputs": [
                {
                    "output_type": "display_data",
                    "data": {
                        "text/html": "(9 rows affected)"
                    },
                    "metadata": {}
                },
                {
                    "output_type": "display_data",
                    "data": {
                        "text/html": "Total execution time: 00:00:00.011"
                    },
                    "metadata": {}
                },
                {
                    "output_type": "execute_result",
                    "execution_count": 13,
                    "data": {
                        "application/vnd.dataresource+json": {
                            "schema": {
                                "fields": [
                                    {
                                        "name": "CompanyName"
                                    },
                                    {
                                        "name": "Address"
                                    }
                                ]
                            },
                            "data": [
                                {
                                    "0": "Around the Horn",
                                    "1": "120 Hanover Sq."
                                },
                                {
                                    "0": "Bólido Comidas preparadas",
                                    "1": "C/ Araquil, 67"
                                },
                                {
                                    "0": "B's Beverages",
                                    "1": "Fauntleroy Circus"
                                },
                                {
                                    "0": "Consolidated Holdings",
                                    "1": "Berkeley Gardens 12  Brewery"
                                },
                                {
                                    "0": "Eastern Connection",
                                    "1": "35 King George"
                                },
                                {
                                    "0": "FISSA Fabrica Inter. Salchichas S.A.",
                                    "1": "C/ Moralzarzal, 86"
                                },
                                {
                                    "0": "North/South",
                                    "1": "South House 300 Queensbridge"
                                },
                                {
                                    "0": "Romero y tomillo",
                                    "1": "Gran Vía, 1"
                                },
                                {
                                    "0": "Seven Seas Imports",
                                    "1": "90 Wadhurst Rd."
                                }
                            ]
                        },
                        "text/html": "<table><tr><th>CompanyName</th><th>Address</th></tr><tr><td>Around the Horn</td><td>120 Hanover Sq.</td></tr><tr><td>Bólido Comidas preparadas</td><td>C/ Araquil, 67</td></tr><tr><td>B's Beverages</td><td>Fauntleroy Circus</td></tr><tr><td>Consolidated Holdings</td><td>Berkeley Gardens 12  Brewery</td></tr><tr><td>Eastern Connection</td><td>35 King George</td></tr><tr><td>FISSA Fabrica Inter. Salchichas S.A.</td><td>C/ Moralzarzal, 86</td></tr><tr><td>North/South</td><td>South House 300 Queensbridge</td></tr><tr><td>Romero y tomillo</td><td>Gran Vía, 1</td></tr><tr><td>Seven Seas Imports</td><td>90 Wadhurst Rd.</td></tr></table>"
                    },
                    "metadata": {}
                }
            ],
            "execution_count": 13
        },
        {
            "cell_type": "markdown",
            "source": [
                "> 3\\. Wybierz nazwy produktów, których cena jednostkowa jest większa niż 40"
            ],
            "metadata": {
                "azdata_cell_guid": "03617d38-dc4f-4337-aa2e-d61ee5ce36a5"
            },
            "attachments": {}
        },
        {
            "cell_type": "code",
            "source": [
                "SELECT ProductName FROM Products WHERE UnitPrice<40"
            ],
            "metadata": {
                "azdata_cell_guid": "5924b60c-2b15-4140-99e2-a242b39337b7"
            },
            "outputs": [
                {
                    "output_type": "display_data",
                    "data": {
                        "text/html": "(64 rows affected)"
                    },
                    "metadata": {}
                },
                {
                    "output_type": "display_data",
                    "data": {
                        "text/html": "Total execution time: 00:00:00.009"
                    },
                    "metadata": {}
                },
                {
                    "output_type": "execute_result",
                    "execution_count": 14,
                    "data": {
                        "application/vnd.dataresource+json": {
                            "schema": {
                                "fields": [
                                    {
                                        "name": "ProductName"
                                    }
                                ]
                            },
                            "data": [
                                {
                                    "0": "Chai"
                                },
                                {
                                    "0": "Chang"
                                },
                                {
                                    "0": "Aniseed Syrup"
                                },
                                {
                                    "0": "Chef Anton's Cajun Seasoning"
                                },
                                {
                                    "0": "Chef Anton's Gumbo Mix"
                                },
                                {
                                    "0": "Grandma's Boysenberry Spread"
                                },
                                {
                                    "0": "Uncle Bob's Organic Dried Pears"
                                },
                                {
                                    "0": "Ikura"
                                },
                                {
                                    "0": "Queso Cabrales"
                                },
                                {
                                    "0": "Queso Manchego La Pastora"
                                },
                                {
                                    "0": "Konbu"
                                },
                                {
                                    "0": "Tofu"
                                },
                                {
                                    "0": "Genen Shouyu"
                                },
                                {
                                    "0": "Pavlova"
                                },
                                {
                                    "0": "Alice Mutton"
                                },
                                {
                                    "0": "Teatime Chocolate Biscuits"
                                },
                                {
                                    "0": "Sir Rodney's Scones"
                                },
                                {
                                    "0": "Gustaf's Knäckebröd"
                                },
                                {
                                    "0": "Tunnbröd"
                                },
                                {
                                    "0": "Guaraná Fantástica"
                                },
                                {
                                    "0": "NuNuCa Nuß-Nougat-Creme"
                                },
                                {
                                    "0": "Gumbär Gummibärchen"
                                },
                                {
                                    "0": "Nord-Ost Matjeshering"
                                },
                                {
                                    "0": "Gorgonzola Telino"
                                },
                                {
                                    "0": "Mascarpone Fabioli"
                                },
                                {
                                    "0": "Geitost"
                                },
                                {
                                    "0": "Sasquatch Ale"
                                },
                                {
                                    "0": "Steeleye Stout"
                                },
                                {
                                    "0": "Inlagd Sill"
                                },
                                {
                                    "0": "Gravad lax"
                                },
                                {
                                    "0": "Chartreuse verte"
                                },
                                {
                                    "0": "Boston Crab Meat"
                                },
                                {
                                    "0": "Jack's New England Clam Chowder"
                                },
                                {
                                    "0": "Singaporean Hokkien Fried Mee"
                                },
                                {
                                    "0": "Gula Malacca"
                                },
                                {
                                    "0": "Rogede sild"
                                },
                                {
                                    "0": "Spegesild"
                                },
                                {
                                    "0": "Zaanse koeken"
                                },
                                {
                                    "0": "Chocolade"
                                },
                                {
                                    "0": "Maxilaku"
                                },
                                {
                                    "0": "Valkoinen suklaa"
                                },
                                {
                                    "0": "Filo Mix"
                                },
                                {
                                    "0": "Perth Pasties"
                                },
                                {
                                    "0": "Tourtière"
                                },
                                {
                                    "0": "Pâté chinois"
                                },
                                {
                                    "0": "Gnocchi di nonna Alice"
                                },
                                {
                                    "0": "Ravioli Angelo"
                                },
                                {
                                    "0": "Escargots de Bourgogne"
                                },
                                {
                                    "0": "Camembert Pierrot"
                                },
                                {
                                    "0": "Sirop d'érable"
                                },
                                {
                                    "0": "Wimmers gute Semmelknödel"
                                },
                                {
                                    "0": "Louisiana Fiery Hot Pepper Sauce"
                                },
                                {
                                    "0": "Louisiana Hot Spiced Okra"
                                },
                                {
                                    "0": "Laughing Lumberjack Lager"
                                },
                                {
                                    "0": "Scottish Longbreads"
                                },
                                {
                                    "0": "Gudbrandsdalsost"
                                },
                                {
                                    "0": "Outback Lager"
                                },
                                {
                                    "0": "Flotemysost"
                                },
                                {
                                    "0": "Mozzarella di Giovanni"
                                },
                                {
                                    "0": "Röd Kaviar"
                                },
                                {
                                    "0": "Longlife Tofu"
                                },
                                {
                                    "0": "Rhönbräu Klosterbier"
                                },
                                {
                                    "0": "Lakkalikööri"
                                },
                                {
                                    "0": "Original Frankfurter grüne Soße"
                                }
                            ]
                        },
                        "text/html": "<table><tr><th>ProductName</th></tr><tr><td>Chai</td></tr><tr><td>Chang</td></tr><tr><td>Aniseed Syrup</td></tr><tr><td>Chef Anton's Cajun Seasoning</td></tr><tr><td>Chef Anton's Gumbo Mix</td></tr><tr><td>Grandma's Boysenberry Spread</td></tr><tr><td>Uncle Bob's Organic Dried Pears</td></tr><tr><td>Ikura</td></tr><tr><td>Queso Cabrales</td></tr><tr><td>Queso Manchego La Pastora</td></tr><tr><td>Konbu</td></tr><tr><td>Tofu</td></tr><tr><td>Genen Shouyu</td></tr><tr><td>Pavlova</td></tr><tr><td>Alice Mutton</td></tr><tr><td>Teatime Chocolate Biscuits</td></tr><tr><td>Sir Rodney's Scones</td></tr><tr><td>Gustaf's Knäckebröd</td></tr><tr><td>Tunnbröd</td></tr><tr><td>Guaraná Fantástica</td></tr><tr><td>NuNuCa Nuß-Nougat-Creme</td></tr><tr><td>Gumbär Gummibärchen</td></tr><tr><td>Nord-Ost Matjeshering</td></tr><tr><td>Gorgonzola Telino</td></tr><tr><td>Mascarpone Fabioli</td></tr><tr><td>Geitost</td></tr><tr><td>Sasquatch Ale</td></tr><tr><td>Steeleye Stout</td></tr><tr><td>Inlagd Sill</td></tr><tr><td>Gravad lax</td></tr><tr><td>Chartreuse verte</td></tr><tr><td>Boston Crab Meat</td></tr><tr><td>Jack's New England Clam Chowder</td></tr><tr><td>Singaporean Hokkien Fried Mee</td></tr><tr><td>Gula Malacca</td></tr><tr><td>Rogede sild</td></tr><tr><td>Spegesild</td></tr><tr><td>Zaanse koeken</td></tr><tr><td>Chocolade</td></tr><tr><td>Maxilaku</td></tr><tr><td>Valkoinen suklaa</td></tr><tr><td>Filo Mix</td></tr><tr><td>Perth Pasties</td></tr><tr><td>Tourtière</td></tr><tr><td>Pâté chinois</td></tr><tr><td>Gnocchi di nonna Alice</td></tr><tr><td>Ravioli Angelo</td></tr><tr><td>Escargots de Bourgogne</td></tr><tr><td>Camembert Pierrot</td></tr><tr><td>Sirop d'érable</td></tr><tr><td>Wimmers gute Semmelknödel</td></tr><tr><td>Louisiana Fiery Hot Pepper Sauce</td></tr><tr><td>Louisiana Hot Spiced Okra</td></tr><tr><td>Laughing Lumberjack Lager</td></tr><tr><td>Scottish Longbreads</td></tr><tr><td>Gudbrandsdalsost</td></tr><tr><td>Outback Lager</td></tr><tr><td>Flotemysost</td></tr><tr><td>Mozzarella di Giovanni</td></tr><tr><td>Röd Kaviar</td></tr><tr><td>Longlife Tofu</td></tr><tr><td>Rhönbräu Klosterbier</td></tr><tr><td>Lakkalikööri</td></tr><tr><td>Original Frankfurter grüne Soße</td></tr></table>"
                    },
                    "metadata": {}
                }
            ],
            "execution_count": 14
        },
        {
            "cell_type": "markdown",
            "source": [
                "> 4\\. Wybierz nazwy produktów, których cena jednostkowa jest większa niż 40, posortuj w porządku rosnącym"
            ],
            "metadata": {
                "azdata_cell_guid": "10926bad-36aa-4a8c-9021-3a30f4636c81"
            },
            "attachments": {}
        },
        {
            "cell_type": "code",
            "source": [
                "SELECT ProductName FROM Products WHERE UnitPrice<40 ORDER BY UnitPrice ASC "
            ],
            "metadata": {
                "azdata_cell_guid": "37d33fca-a3e5-40e1-93c6-f9074b8d1132"
            },
            "outputs": [
                {
                    "output_type": "display_data",
                    "data": {
                        "text/html": "(64 rows affected)"
                    },
                    "metadata": {}
                },
                {
                    "output_type": "display_data",
                    "data": {
                        "text/html": "Total execution time: 00:00:00.011"
                    },
                    "metadata": {}
                },
                {
                    "output_type": "execute_result",
                    "execution_count": 15,
                    "data": {
                        "application/vnd.dataresource+json": {
                            "schema": {
                                "fields": [
                                    {
                                        "name": "ProductName"
                                    }
                                ]
                            },
                            "data": [
                                {
                                    "0": "Geitost"
                                },
                                {
                                    "0": "Guaraná Fantástica"
                                },
                                {
                                    "0": "Konbu"
                                },
                                {
                                    "0": "Filo Mix"
                                },
                                {
                                    "0": "Tourtière"
                                },
                                {
                                    "0": "Rhönbräu Klosterbier"
                                },
                                {
                                    "0": "Tunnbröd"
                                },
                                {
                                    "0": "Teatime Chocolate Biscuits"
                                },
                                {
                                    "0": "Rogede sild"
                                },
                                {
                                    "0": "Zaanse koeken"
                                },
                                {
                                    "0": "Jack's New England Clam Chowder"
                                },
                                {
                                    "0": "Sir Rodney's Scones"
                                },
                                {
                                    "0": "Aniseed Syrup"
                                },
                                {
                                    "0": "Longlife Tofu"
                                },
                                {
                                    "0": "Spegesild"
                                },
                                {
                                    "0": "Gorgonzola Telino"
                                },
                                {
                                    "0": "Scottish Longbreads"
                                },
                                {
                                    "0": "Chocolade"
                                },
                                {
                                    "0": "Original Frankfurter grüne Soße"
                                },
                                {
                                    "0": "Escargots de Bourgogne"
                                },
                                {
                                    "0": "Laughing Lumberjack Lager"
                                },
                                {
                                    "0": "Singaporean Hokkien Fried Mee"
                                },
                                {
                                    "0": "NuNuCa Nuß-Nougat-Creme"
                                },
                                {
                                    "0": "Sasquatch Ale"
                                },
                                {
                                    "0": "Röd Kaviar"
                                },
                                {
                                    "0": "Outback Lager"
                                },
                                {
                                    "0": "Genen Shouyu"
                                },
                                {
                                    "0": "Valkoinen suklaa"
                                },
                                {
                                    "0": "Louisiana Hot Spiced Okra"
                                },
                                {
                                    "0": "Pavlova"
                                },
                                {
                                    "0": "Chai"
                                },
                                {
                                    "0": "Steeleye Stout"
                                },
                                {
                                    "0": "Chartreuse verte"
                                },
                                {
                                    "0": "Lakkalikööri"
                                },
                                {
                                    "0": "Boston Crab Meat"
                                },
                                {
                                    "0": "Inlagd Sill"
                                },
                                {
                                    "0": "Chang"
                                },
                                {
                                    "0": "Gula Malacca"
                                },
                                {
                                    "0": "Ravioli Angelo"
                                },
                                {
                                    "0": "Maxilaku"
                                },
                                {
                                    "0": "Gustaf's Knäckebröd"
                                },
                                {
                                    "0": "Queso Cabrales"
                                },
                                {
                                    "0": "Louisiana Fiery Hot Pepper Sauce"
                                },
                                {
                                    "0": "Chef Anton's Gumbo Mix"
                                },
                                {
                                    "0": "Flotemysost"
                                },
                                {
                                    "0": "Chef Anton's Cajun Seasoning"
                                },
                                {
                                    "0": "Tofu"
                                },
                                {
                                    "0": "Pâté chinois"
                                },
                                {
                                    "0": "Grandma's Boysenberry Spread"
                                },
                                {
                                    "0": "Nord-Ost Matjeshering"
                                },
                                {
                                    "0": "Gravad lax"
                                },
                                {
                                    "0": "Sirop d'érable"
                                },
                                {
                                    "0": "Uncle Bob's Organic Dried Pears"
                                },
                                {
                                    "0": "Ikura"
                                },
                                {
                                    "0": "Gumbär Gummibärchen"
                                },
                                {
                                    "0": "Mascarpone Fabioli"
                                },
                                {
                                    "0": "Perth Pasties"
                                },
                                {
                                    "0": "Wimmers gute Semmelknödel"
                                },
                                {
                                    "0": "Camembert Pierrot"
                                },
                                {
                                    "0": "Mozzarella di Giovanni"
                                },
                                {
                                    "0": "Gudbrandsdalsost"
                                },
                                {
                                    "0": "Gnocchi di nonna Alice"
                                },
                                {
                                    "0": "Queso Manchego La Pastora"
                                },
                                {
                                    "0": "Alice Mutton"
                                }
                            ]
                        },
                        "text/html": "<table><tr><th>ProductName</th></tr><tr><td>Geitost</td></tr><tr><td>Guaraná Fantástica</td></tr><tr><td>Konbu</td></tr><tr><td>Filo Mix</td></tr><tr><td>Tourtière</td></tr><tr><td>Rhönbräu Klosterbier</td></tr><tr><td>Tunnbröd</td></tr><tr><td>Teatime Chocolate Biscuits</td></tr><tr><td>Rogede sild</td></tr><tr><td>Zaanse koeken</td></tr><tr><td>Jack's New England Clam Chowder</td></tr><tr><td>Sir Rodney's Scones</td></tr><tr><td>Aniseed Syrup</td></tr><tr><td>Longlife Tofu</td></tr><tr><td>Spegesild</td></tr><tr><td>Gorgonzola Telino</td></tr><tr><td>Scottish Longbreads</td></tr><tr><td>Chocolade</td></tr><tr><td>Original Frankfurter grüne Soße</td></tr><tr><td>Escargots de Bourgogne</td></tr><tr><td>Laughing Lumberjack Lager</td></tr><tr><td>Singaporean Hokkien Fried Mee</td></tr><tr><td>NuNuCa Nuß-Nougat-Creme</td></tr><tr><td>Sasquatch Ale</td></tr><tr><td>Röd Kaviar</td></tr><tr><td>Outback Lager</td></tr><tr><td>Genen Shouyu</td></tr><tr><td>Valkoinen suklaa</td></tr><tr><td>Louisiana Hot Spiced Okra</td></tr><tr><td>Pavlova</td></tr><tr><td>Chai</td></tr><tr><td>Steeleye Stout</td></tr><tr><td>Chartreuse verte</td></tr><tr><td>Lakkalikööri</td></tr><tr><td>Boston Crab Meat</td></tr><tr><td>Inlagd Sill</td></tr><tr><td>Chang</td></tr><tr><td>Gula Malacca</td></tr><tr><td>Ravioli Angelo</td></tr><tr><td>Maxilaku</td></tr><tr><td>Gustaf's Knäckebröd</td></tr><tr><td>Queso Cabrales</td></tr><tr><td>Louisiana Fiery Hot Pepper Sauce</td></tr><tr><td>Chef Anton's Gumbo Mix</td></tr><tr><td>Flotemysost</td></tr><tr><td>Chef Anton's Cajun Seasoning</td></tr><tr><td>Tofu</td></tr><tr><td>Pâté chinois</td></tr><tr><td>Grandma's Boysenberry Spread</td></tr><tr><td>Nord-Ost Matjeshering</td></tr><tr><td>Gravad lax</td></tr><tr><td>Sirop d'érable</td></tr><tr><td>Uncle Bob's Organic Dried Pears</td></tr><tr><td>Ikura</td></tr><tr><td>Gumbär Gummibärchen</td></tr><tr><td>Mascarpone Fabioli</td></tr><tr><td>Perth Pasties</td></tr><tr><td>Wimmers gute Semmelknödel</td></tr><tr><td>Camembert Pierrot</td></tr><tr><td>Mozzarella di Giovanni</td></tr><tr><td>Gudbrandsdalsost</td></tr><tr><td>Gnocchi di nonna Alice</td></tr><tr><td>Queso Manchego La Pastora</td></tr><tr><td>Alice Mutton</td></tr></table>"
                    },
                    "metadata": {}
                }
            ],
            "execution_count": 15
        },
        {
            "cell_type": "markdown",
            "source": [
                "> <span style=\"background-color: rgba(127, 127, 127, 0.1);\">5.&nbsp;</span> Podaj ile jest produktów, których cena jednostkowa jest większa niż 40"
            ],
            "metadata": {
                "azdata_cell_guid": "d1c91245-5c60-443d-8a7c-0d6a3b4f1be9"
            },
            "attachments": {}
        },
        {
            "cell_type": "code",
            "source": [
                "SELECT COUNT(ProductID) FROM Products WHERE UnitPrice>40 "
            ],
            "metadata": {
                "azdata_cell_guid": "594871b9-e02e-4eb7-a7b6-d60fd226f3ee"
            },
            "outputs": [
                {
                    "output_type": "display_data",
                    "data": {
                        "text/html": "(1 row affected)"
                    },
                    "metadata": {}
                },
                {
                    "output_type": "display_data",
                    "data": {
                        "text/html": "Total execution time: 00:00:00.003"
                    },
                    "metadata": {}
                },
                {
                    "output_type": "execute_result",
                    "execution_count": 16,
                    "data": {
                        "application/vnd.dataresource+json": {
                            "schema": {
                                "fields": [
                                    {
                                        "name": "(No column name)"
                                    }
                                ]
                            },
                            "data": [
                                {
                                    "0": "12"
                                }
                            ]
                        },
                        "text/html": "<table><tr><th>(No column name)</th></tr><tr><td>12</td></tr></table>"
                    },
                    "metadata": {}
                }
            ],
            "execution_count": 16
        },
        {
            "cell_type": "markdown",
            "source": [
                "> 6\\. Podaj ile jest produktów, których cena jednostkowa jest większa niż 40, których stan magazynowy jest powyżej 100 sztuk"
            ],
            "metadata": {
                "azdata_cell_guid": "8eba5ad1-e8fb-4e2b-8a90-085a320046de"
            },
            "attachments": {}
        },
        {
            "cell_type": "code",
            "source": [
                "SELECT COUNT(ProductID) FROM Products WHERE UnitPrice>40 AND UnitsInStock>100"
            ],
            "metadata": {
                "azdata_cell_guid": "0d53dc51-a96d-4c6c-9e00-5059032b5bb6"
            },
            "outputs": [
                {
                    "output_type": "display_data",
                    "data": {
                        "text/html": "(1 row affected)"
                    },
                    "metadata": {}
                },
                {
                    "output_type": "display_data",
                    "data": {
                        "text/html": "Total execution time: 00:00:00.003"
                    },
                    "metadata": {}
                },
                {
                    "output_type": "execute_result",
                    "execution_count": 17,
                    "data": {
                        "application/vnd.dataresource+json": {
                            "schema": {
                                "fields": [
                                    {
                                        "name": "(No column name)"
                                    }
                                ]
                            },
                            "data": [
                                {
                                    "0": "0"
                                }
                            ]
                        },
                        "text/html": "<table><tr><th>(No column name)</th></tr><tr><td>0</td></tr></table>"
                    },
                    "metadata": {}
                }
            ],
            "execution_count": 17
        },
        {
            "cell_type": "markdown",
            "source": [
                "> 7\\. Podaj ile jest produktów z kategorii 2-3, których cena jednostkowa jest większa niż 40, których stan magazynowy jest powyżej 100 sztuk"
            ],
            "metadata": {
                "azdata_cell_guid": "84bf30a2-1349-4e88-91df-2ecd0ff23c17"
            },
            "attachments": {}
        },
        {
            "cell_type": "code",
            "source": [
                "SELECT COUNT(ProductID) FROM Products WHERE (CategoryID BETWEEN 2 AND 3) AND UnitPrice>40 AND UnitsInStock>100"
            ],
            "metadata": {
                "azdata_cell_guid": "c5901f2b-8e0c-41b5-a5f9-aa70226ec242"
            },
            "outputs": [
                {
                    "output_type": "display_data",
                    "data": {
                        "text/html": "(1 row affected)"
                    },
                    "metadata": {}
                },
                {
                    "output_type": "display_data",
                    "data": {
                        "text/html": "Total execution time: 00:00:00.003"
                    },
                    "metadata": {}
                },
                {
                    "output_type": "execute_result",
                    "execution_count": 18,
                    "data": {
                        "application/vnd.dataresource+json": {
                            "schema": {
                                "fields": [
                                    {
                                        "name": "(No column name)"
                                    }
                                ]
                            },
                            "data": [
                                {
                                    "0": "0"
                                }
                            ]
                        },
                        "text/html": "<table><tr><th>(No column name)</th></tr><tr><td>0</td></tr></table>"
                    },
                    "metadata": {}
                }
            ],
            "execution_count": 18
        }
    ]
}