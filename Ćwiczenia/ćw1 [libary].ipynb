{
    "metadata": {
        "kernelspec": {
            "name": "SQL",
            "display_name": "SQL",
            "language": "sql"
        },
        "language_info": {
            "name": "sql",
            "version": ""
        },
        "extensions": {
            "azuredatastudio": {
                "version": 1,
                "views": []
            }
        }
    },
    "nbformat_minor": 2,
    "nbformat": 4,
    "cells": [
        {
            "cell_type": "markdown",
            "source": [
                "# Ćwiczenie 1 – wybieranie danych"
            ],
            "metadata": {
                "azdata_cell_guid": "ea0aa29c-05c0-467c-a6a2-eb1fceeb805c"
            },
            "attachments": {}
        },
        {
            "cell_type": "markdown",
            "source": [
                "1\\. Napisz polecenie select, za pomocą którego uzyskasz tytuł i numer książki"
            ],
            "metadata": {
                "azdata_cell_guid": "4a7f65d1-556e-463f-860d-c3c374bb9d8c"
            },
            "attachments": {}
        },
        {
            "cell_type": "code",
            "source": [
                "SELECT title_no, title FROM title"
            ],
            "metadata": {
                "azdata_cell_guid": "a78250d0-b620-4bc3-b52b-4a34028e3d70"
            },
            "outputs": [
                {
                    "output_type": "display_data",
                    "data": {
                        "text/html": "(50 rows affected)"
                    },
                    "metadata": {}
                },
                {
                    "output_type": "display_data",
                    "data": {
                        "text/html": "Total execution time: 00:00:00.006"
                    },
                    "metadata": {}
                },
                {
                    "output_type": "execute_result",
                    "metadata": {},
                    "execution_count": 45,
                    "data": {
                        "application/vnd.dataresource+json": {
                            "schema": {
                                "fields": [
                                    {
                                        "name": "title_no"
                                    },
                                    {
                                        "name": "title"
                                    }
                                ]
                            },
                            "data": [
                                {
                                    "0": "1",
                                    "1": "Last of the Mohicans"
                                },
                                {
                                    "0": "2",
                                    "1": "The Village Watch-Tower"
                                },
                                {
                                    "0": "3",
                                    "1": "Self Help; Conduct & Perseverance"
                                },
                                {
                                    "0": "4",
                                    "1": "Songs of a Savoyard"
                                },
                                {
                                    "0": "5",
                                    "1": "Fall of the House of Usher"
                                },
                                {
                                    "0": "6",
                                    "1": "The Cook's Decameron"
                                },
                                {
                                    "0": "7",
                                    "1": "Poems"
                                },
                                {
                                    "0": "8",
                                    "1": "The Cherry Orchard"
                                },
                                {
                                    "0": "9",
                                    "1": "Wayfarers"
                                },
                                {
                                    "0": "10",
                                    "1": "The Night-Born"
                                },
                                {
                                    "0": "11",
                                    "1": "Lemon"
                                },
                                {
                                    "0": "12",
                                    "1": "Walking"
                                },
                                {
                                    "0": "13",
                                    "1": "The Water-Babies"
                                },
                                {
                                    "0": "14",
                                    "1": "Improvement of Understanding"
                                },
                                {
                                    "0": "15",
                                    "1": "The Dictionary of the Khazars"
                                },
                                {
                                    "0": "16",
                                    "1": "The First Men In The Moon"
                                },
                                {
                                    "0": "17",
                                    "1": "Ballads of a Bohemian"
                                },
                                {
                                    "0": "18",
                                    "1": "War and Peace"
                                },
                                {
                                    "0": "19",
                                    "1": "The Phantom of the Opera"
                                },
                                {
                                    "0": "20",
                                    "1": "The Unbearable Lightness of Being"
                                },
                                {
                                    "0": "21",
                                    "1": "Le Petit Prince"
                                },
                                {
                                    "0": "22",
                                    "1": "The Master and Margarita"
                                },
                                {
                                    "0": "23",
                                    "1": "De La Terre a La Lune"
                                },
                                {
                                    "0": "24",
                                    "1": "Tao Teh King"
                                },
                                {
                                    "0": "25",
                                    "1": "The Black Tulip"
                                },
                                {
                                    "0": "26",
                                    "1": "The Adventures of Robin Hood"
                                },
                                {
                                    "0": "27",
                                    "1": "Lady Susan"
                                },
                                {
                                    "0": "28",
                                    "1": "The Voyage of the Beagle"
                                },
                                {
                                    "0": "29",
                                    "1": "Misalliance"
                                },
                                {
                                    "0": "30",
                                    "1": "A Tale of Two Cities"
                                },
                                {
                                    "0": "31",
                                    "1": "Oliver Twist"
                                },
                                {
                                    "0": "32",
                                    "1": "The Call of the Wild"
                                },
                                {
                                    "0": "33",
                                    "1": "The First 100,000 Prime Numbers"
                                },
                                {
                                    "0": "34",
                                    "1": "The Legend of Sleepy Hollow"
                                },
                                {
                                    "0": "35",
                                    "1": "The Return of Sherlock Holmes"
                                },
                                {
                                    "0": "36",
                                    "1": "The Scarlet Letter"
                                },
                                {
                                    "0": "37",
                                    "1": "Treasure Island"
                                },
                                {
                                    "0": "38",
                                    "1": "Les Miserables"
                                },
                                {
                                    "0": "39",
                                    "1": "Moby Dick"
                                },
                                {
                                    "0": "40",
                                    "1": "Moll Flanders"
                                },
                                {
                                    "0": "41",
                                    "1": "Sense and Sensibility"
                                },
                                {
                                    "0": "42",
                                    "1": "Vanity Fair"
                                },
                                {
                                    "0": "43",
                                    "1": "Emma"
                                },
                                {
                                    "0": "44",
                                    "1": "Adventures of Huckleberry Finn"
                                },
                                {
                                    "0": "45",
                                    "1": "Candide"
                                },
                                {
                                    "0": "46",
                                    "1": "The Complete Works of William Shakespeare"
                                },
                                {
                                    "0": "47",
                                    "1": "The Crossing"
                                },
                                {
                                    "0": "48",
                                    "1": "History of the Decline and Fall of the Roman Empire"
                                },
                                {
                                    "0": "49",
                                    "1": "Julius Caesar's Commentaries on the Gallic War"
                                },
                                {
                                    "0": "50",
                                    "1": "Frankenstein"
                                }
                            ]
                        },
                        "text/html": [
                            "<table>",
                            "<tr><th>title_no</th><th>title</th></tr>",
                            "<tr><td>1</td><td>Last of the Mohicans</td></tr>",
                            "<tr><td>2</td><td>The Village Watch-Tower</td></tr>",
                            "<tr><td>3</td><td>Self Help; Conduct &amp; Perseverance</td></tr>",
                            "<tr><td>4</td><td>Songs of a Savoyard</td></tr>",
                            "<tr><td>5</td><td>Fall of the House of Usher</td></tr>",
                            "<tr><td>6</td><td>The Cook's Decameron</td></tr>",
                            "<tr><td>7</td><td>Poems</td></tr>",
                            "<tr><td>8</td><td>The Cherry Orchard</td></tr>",
                            "<tr><td>9</td><td>Wayfarers</td></tr>",
                            "<tr><td>10</td><td>The Night-Born</td></tr>",
                            "<tr><td>11</td><td>Lemon</td></tr>",
                            "<tr><td>12</td><td>Walking</td></tr>",
                            "<tr><td>13</td><td>The Water-Babies</td></tr>",
                            "<tr><td>14</td><td>Improvement of Understanding</td></tr>",
                            "<tr><td>15</td><td>The Dictionary of the Khazars</td></tr>",
                            "<tr><td>16</td><td>The First Men In The Moon</td></tr>",
                            "<tr><td>17</td><td>Ballads of a Bohemian</td></tr>",
                            "<tr><td>18</td><td>War and Peace</td></tr>",
                            "<tr><td>19</td><td>The Phantom of the Opera</td></tr>",
                            "<tr><td>20</td><td>The Unbearable Lightness of Being</td></tr>",
                            "<tr><td>21</td><td>Le Petit Prince</td></tr>",
                            "<tr><td>22</td><td>The Master and Margarita</td></tr>",
                            "<tr><td>23</td><td>De La Terre a La Lune</td></tr>",
                            "<tr><td>24</td><td>Tao Teh King</td></tr>",
                            "<tr><td>25</td><td>The Black Tulip</td></tr>",
                            "<tr><td>26</td><td>The Adventures of Robin Hood</td></tr>",
                            "<tr><td>27</td><td>Lady Susan</td></tr>",
                            "<tr><td>28</td><td>The Voyage of the Beagle</td></tr>",
                            "<tr><td>29</td><td>Misalliance</td></tr>",
                            "<tr><td>30</td><td>A Tale of Two Cities</td></tr>",
                            "<tr><td>31</td><td>Oliver Twist</td></tr>",
                            "<tr><td>32</td><td>The Call of the Wild</td></tr>",
                            "<tr><td>33</td><td>The First 100,000 Prime Numbers</td></tr>",
                            "<tr><td>34</td><td>The Legend of Sleepy Hollow</td></tr>",
                            "<tr><td>35</td><td>The Return of Sherlock Holmes</td></tr>",
                            "<tr><td>36</td><td>The Scarlet Letter</td></tr>",
                            "<tr><td>37</td><td>Treasure Island</td></tr>",
                            "<tr><td>38</td><td>Les Miserables</td></tr>",
                            "<tr><td>39</td><td>Moby Dick</td></tr>",
                            "<tr><td>40</td><td>Moll Flanders</td></tr>",
                            "<tr><td>41</td><td>Sense and Sensibility</td></tr>",
                            "<tr><td>42</td><td>Vanity Fair</td></tr>",
                            "<tr><td>43</td><td>Emma</td></tr>",
                            "<tr><td>44</td><td>Adventures of Huckleberry Finn</td></tr>",
                            "<tr><td>45</td><td>Candide</td></tr>",
                            "<tr><td>46</td><td>The Complete Works of William Shakespeare</td></tr>",
                            "<tr><td>47</td><td>The Crossing</td></tr>",
                            "<tr><td>48</td><td>History of the Decline and Fall of the Roman Empire</td></tr>",
                            "<tr><td>49</td><td>Julius Caesar's Commentaries on the Gallic War</td></tr>",
                            "<tr><td>50</td><td>Frankenstein</td></tr>",
                            "</table>"
                        ]
                    }
                }
            ],
            "execution_count": 45
        },
        {
            "cell_type": "markdown",
            "source": [
                "2\\. Napisz polecenie, które wybiera tytuł o numerze 10"
            ],
            "metadata": {
                "azdata_cell_guid": "4d367906-5b4b-4eb0-818b-f69107a07b25"
            },
            "attachments": {}
        },
        {
            "cell_type": "code",
            "source": [
                "SELECT title FROM title WHERE title_no=10"
            ],
            "metadata": {
                "azdata_cell_guid": "fb626cbb-fa57-4631-b91e-c66f2cffb692"
            },
            "outputs": [
                {
                    "output_type": "display_data",
                    "data": {
                        "text/html": "(1 row affected)"
                    },
                    "metadata": {}
                },
                {
                    "output_type": "display_data",
                    "data": {
                        "text/html": "Total execution time: 00:00:00.002"
                    },
                    "metadata": {}
                },
                {
                    "output_type": "execute_result",
                    "metadata": {},
                    "execution_count": 46,
                    "data": {
                        "application/vnd.dataresource+json": {
                            "schema": {
                                "fields": [
                                    {
                                        "name": "title"
                                    }
                                ]
                            },
                            "data": [
                                {
                                    "0": "The Night-Born"
                                }
                            ]
                        },
                        "text/html": [
                            "<table>",
                            "<tr><th>title</th></tr>",
                            "<tr><td>The Night-Born</td></tr>",
                            "</table>"
                        ]
                    }
                }
            ],
            "execution_count": 46
        },
        {
            "cell_type": "markdown",
            "source": [
                "3\\. Napisz polecenie, które wybiera numer czytelnika i karę dla tych czytelników, którzy mają kary między $8 a $9"
            ],
            "metadata": {
                "azdata_cell_guid": "f6b11452-70f9-40a9-9313-6b017ca0ff6d"
            },
            "attachments": {}
        },
        {
            "cell_type": "code",
            "source": [
                "SELECT \r\n",
                "    member_no, fine_assessed \r\n",
                "FROM \r\n",
                "    loanhist \r\n",
                "WHERE \r\n",
                "    fine_assessed BETWEEN 8 and 9"
            ],
            "metadata": {
                "azdata_cell_guid": "9d281982-db38-43f7-9cc2-efc48bed4d34"
            },
            "outputs": [
                {
                    "output_type": "display_data",
                    "data": {
                        "text/html": "(286 rows affected)"
                    },
                    "metadata": {}
                },
                {
                    "output_type": "display_data",
                    "data": {
                        "text/html": "Total execution time: 00:00:00.013"
                    },
                    "metadata": {}
                },
                {
                    "output_type": "execute_result",
                    "metadata": {},
                    "execution_count": 47,
                    "data": {
                        "application/vnd.dataresource+json": {
                            "schema": {
                                "fields": [
                                    {
                                        "name": "member_no"
                                    },
                                    {
                                        "name": "fine_assessed"
                                    }
                                ]
                            },
                            "data": [
                                {
                                    "0": "479",
                                    "1": "9.0000"
                                },
                                {
                                    "0": "479",
                                    "1": "9.0000"
                                },
                                {
                                    "0": "479",
                                    "1": "9.0000"
                                },
                                {
                                    "0": "479",
                                    "1": "9.0000"
                                },
                                {
                                    "0": "479",
                                    "1": "9.0000"
                                },
                                {
                                    "0": "479",
                                    "1": "9.0000"
                                },
                                {
                                    "0": "479",
                                    "1": "9.0000"
                                },
                                {
                                    "0": "479",
                                    "1": "9.0000"
                                },
                                {
                                    "0": "479",
                                    "1": "9.0000"
                                },
                                {
                                    "0": "479",
                                    "1": "9.0000"
                                },
                                {
                                    "0": "479",
                                    "1": "9.0000"
                                },
                                {
                                    "0": "479",
                                    "1": "9.0000"
                                },
                                {
                                    "0": "479",
                                    "1": "9.0000"
                                },
                                {
                                    "0": "479",
                                    "1": "9.0000"
                                },
                                {
                                    "0": "479",
                                    "1": "9.0000"
                                },
                                {
                                    "0": "479",
                                    "1": "9.0000"
                                },
                                {
                                    "0": "479",
                                    "1": "9.0000"
                                },
                                {
                                    "0": "479",
                                    "1": "9.0000"
                                },
                                {
                                    "0": "479",
                                    "1": "9.0000"
                                },
                                {
                                    "0": "479",
                                    "1": "9.0000"
                                },
                                {
                                    "0": "479",
                                    "1": "9.0000"
                                },
                                {
                                    "0": "479",
                                    "1": "9.0000"
                                },
                                {
                                    "0": "479",
                                    "1": "9.0000"
                                },
                                {
                                    "0": "479",
                                    "1": "9.0000"
                                },
                                {
                                    "0": "479",
                                    "1": "9.0000"
                                },
                                {
                                    "0": "479",
                                    "1": "9.0000"
                                },
                                {
                                    "0": "2638",
                                    "1": "8.0000"
                                },
                                {
                                    "0": "2638",
                                    "1": "8.0000"
                                },
                                {
                                    "0": "2638",
                                    "1": "8.0000"
                                },
                                {
                                    "0": "2638",
                                    "1": "8.0000"
                                },
                                {
                                    "0": "2638",
                                    "1": "8.0000"
                                },
                                {
                                    "0": "2638",
                                    "1": "8.0000"
                                },
                                {
                                    "0": "2638",
                                    "1": "8.0000"
                                },
                                {
                                    "0": "2638",
                                    "1": "8.0000"
                                },
                                {
                                    "0": "2638",
                                    "1": "8.0000"
                                },
                                {
                                    "0": "2638",
                                    "1": "8.0000"
                                },
                                {
                                    "0": "2638",
                                    "1": "8.0000"
                                },
                                {
                                    "0": "2638",
                                    "1": "8.0000"
                                },
                                {
                                    "0": "2638",
                                    "1": "8.0000"
                                },
                                {
                                    "0": "2638",
                                    "1": "8.0000"
                                },
                                {
                                    "0": "2638",
                                    "1": "8.0000"
                                },
                                {
                                    "0": "2638",
                                    "1": "8.0000"
                                },
                                {
                                    "0": "2638",
                                    "1": "8.0000"
                                },
                                {
                                    "0": "2638",
                                    "1": "8.0000"
                                },
                                {
                                    "0": "2638",
                                    "1": "8.0000"
                                },
                                {
                                    "0": "2638",
                                    "1": "8.0000"
                                },
                                {
                                    "0": "2638",
                                    "1": "8.0000"
                                },
                                {
                                    "0": "2638",
                                    "1": "8.0000"
                                },
                                {
                                    "0": "2638",
                                    "1": "8.0000"
                                },
                                {
                                    "0": "2638",
                                    "1": "8.0000"
                                },
                                {
                                    "0": "2638",
                                    "1": "8.0000"
                                },
                                {
                                    "0": "2638",
                                    "1": "8.0000"
                                },
                                {
                                    "0": "2229",
                                    "1": "9.0000"
                                },
                                {
                                    "0": "2229",
                                    "1": "9.0000"
                                },
                                {
                                    "0": "2229",
                                    "1": "9.0000"
                                },
                                {
                                    "0": "2229",
                                    "1": "9.0000"
                                },
                                {
                                    "0": "2229",
                                    "1": "9.0000"
                                },
                                {
                                    "0": "2229",
                                    "1": "9.0000"
                                },
                                {
                                    "0": "2229",
                                    "1": "9.0000"
                                },
                                {
                                    "0": "2229",
                                    "1": "9.0000"
                                },
                                {
                                    "0": "2229",
                                    "1": "9.0000"
                                },
                                {
                                    "0": "2229",
                                    "1": "9.0000"
                                },
                                {
                                    "0": "2229",
                                    "1": "9.0000"
                                },
                                {
                                    "0": "2229",
                                    "1": "9.0000"
                                },
                                {
                                    "0": "2229",
                                    "1": "9.0000"
                                },
                                {
                                    "0": "2229",
                                    "1": "9.0000"
                                },
                                {
                                    "0": "2229",
                                    "1": "9.0000"
                                },
                                {
                                    "0": "2229",
                                    "1": "9.0000"
                                },
                                {
                                    "0": "2229",
                                    "1": "9.0000"
                                },
                                {
                                    "0": "2229",
                                    "1": "9.0000"
                                },
                                {
                                    "0": "2229",
                                    "1": "9.0000"
                                },
                                {
                                    "0": "2229",
                                    "1": "9.0000"
                                },
                                {
                                    "0": "2229",
                                    "1": "9.0000"
                                },
                                {
                                    "0": "2229",
                                    "1": "9.0000"
                                },
                                {
                                    "0": "2229",
                                    "1": "9.0000"
                                },
                                {
                                    "0": "2229",
                                    "1": "9.0000"
                                },
                                {
                                    "0": "2229",
                                    "1": "9.0000"
                                },
                                {
                                    "0": "2229",
                                    "1": "9.0000"
                                },
                                {
                                    "0": "848",
                                    "1": "8.0000"
                                },
                                {
                                    "0": "848",
                                    "1": "8.0000"
                                },
                                {
                                    "0": "848",
                                    "1": "8.0000"
                                },
                                {
                                    "0": "848",
                                    "1": "8.0000"
                                },
                                {
                                    "0": "848",
                                    "1": "8.0000"
                                },
                                {
                                    "0": "848",
                                    "1": "8.0000"
                                },
                                {
                                    "0": "848",
                                    "1": "8.0000"
                                },
                                {
                                    "0": "848",
                                    "1": "8.0000"
                                },
                                {
                                    "0": "848",
                                    "1": "8.0000"
                                },
                                {
                                    "0": "848",
                                    "1": "8.0000"
                                },
                                {
                                    "0": "848",
                                    "1": "8.0000"
                                },
                                {
                                    "0": "848",
                                    "1": "8.0000"
                                },
                                {
                                    "0": "848",
                                    "1": "8.0000"
                                },
                                {
                                    "0": "848",
                                    "1": "8.0000"
                                },
                                {
                                    "0": "848",
                                    "1": "8.0000"
                                },
                                {
                                    "0": "848",
                                    "1": "8.0000"
                                },
                                {
                                    "0": "848",
                                    "1": "8.0000"
                                },
                                {
                                    "0": "848",
                                    "1": "8.0000"
                                },
                                {
                                    "0": "848",
                                    "1": "8.0000"
                                },
                                {
                                    "0": "848",
                                    "1": "8.0000"
                                },
                                {
                                    "0": "848",
                                    "1": "8.0000"
                                },
                                {
                                    "0": "848",
                                    "1": "8.0000"
                                },
                                {
                                    "0": "848",
                                    "1": "8.0000"
                                },
                                {
                                    "0": "848",
                                    "1": "8.0000"
                                },
                                {
                                    "0": "848",
                                    "1": "8.0000"
                                },
                                {
                                    "0": "848",
                                    "1": "8.0000"
                                },
                                {
                                    "0": "5528",
                                    "1": "8.0000"
                                },
                                {
                                    "0": "5528",
                                    "1": "8.0000"
                                },
                                {
                                    "0": "5528",
                                    "1": "8.0000"
                                },
                                {
                                    "0": "5528",
                                    "1": "8.0000"
                                },
                                {
                                    "0": "5528",
                                    "1": "8.0000"
                                },
                                {
                                    "0": "5528",
                                    "1": "8.0000"
                                },
                                {
                                    "0": "5528",
                                    "1": "8.0000"
                                },
                                {
                                    "0": "5528",
                                    "1": "8.0000"
                                },
                                {
                                    "0": "5528",
                                    "1": "8.0000"
                                },
                                {
                                    "0": "5528",
                                    "1": "8.0000"
                                },
                                {
                                    "0": "5528",
                                    "1": "8.0000"
                                },
                                {
                                    "0": "5528",
                                    "1": "8.0000"
                                },
                                {
                                    "0": "5528",
                                    "1": "8.0000"
                                },
                                {
                                    "0": "5528",
                                    "1": "8.0000"
                                },
                                {
                                    "0": "5528",
                                    "1": "8.0000"
                                },
                                {
                                    "0": "5528",
                                    "1": "8.0000"
                                },
                                {
                                    "0": "5528",
                                    "1": "8.0000"
                                },
                                {
                                    "0": "5528",
                                    "1": "8.0000"
                                },
                                {
                                    "0": "5528",
                                    "1": "8.0000"
                                },
                                {
                                    "0": "5528",
                                    "1": "8.0000"
                                },
                                {
                                    "0": "5528",
                                    "1": "8.0000"
                                },
                                {
                                    "0": "5528",
                                    "1": "8.0000"
                                },
                                {
                                    "0": "5528",
                                    "1": "8.0000"
                                },
                                {
                                    "0": "5528",
                                    "1": "8.0000"
                                },
                                {
                                    "0": "5528",
                                    "1": "8.0000"
                                },
                                {
                                    "0": "5528",
                                    "1": "8.0000"
                                },
                                {
                                    "0": "2329",
                                    "1": "9.0000"
                                },
                                {
                                    "0": "2329",
                                    "1": "9.0000"
                                },
                                {
                                    "0": "2329",
                                    "1": "9.0000"
                                },
                                {
                                    "0": "2329",
                                    "1": "9.0000"
                                },
                                {
                                    "0": "2329",
                                    "1": "9.0000"
                                },
                                {
                                    "0": "2329",
                                    "1": "9.0000"
                                },
                                {
                                    "0": "2329",
                                    "1": "9.0000"
                                },
                                {
                                    "0": "2329",
                                    "1": "9.0000"
                                },
                                {
                                    "0": "2329",
                                    "1": "9.0000"
                                },
                                {
                                    "0": "2329",
                                    "1": "9.0000"
                                },
                                {
                                    "0": "2329",
                                    "1": "9.0000"
                                },
                                {
                                    "0": "2329",
                                    "1": "9.0000"
                                },
                                {
                                    "0": "2329",
                                    "1": "9.0000"
                                },
                                {
                                    "0": "2329",
                                    "1": "9.0000"
                                },
                                {
                                    "0": "2329",
                                    "1": "9.0000"
                                },
                                {
                                    "0": "2329",
                                    "1": "9.0000"
                                },
                                {
                                    "0": "2329",
                                    "1": "9.0000"
                                },
                                {
                                    "0": "2329",
                                    "1": "9.0000"
                                },
                                {
                                    "0": "2329",
                                    "1": "9.0000"
                                },
                                {
                                    "0": "2329",
                                    "1": "9.0000"
                                },
                                {
                                    "0": "2329",
                                    "1": "9.0000"
                                },
                                {
                                    "0": "2329",
                                    "1": "9.0000"
                                },
                                {
                                    "0": "2329",
                                    "1": "9.0000"
                                },
                                {
                                    "0": "2329",
                                    "1": "9.0000"
                                },
                                {
                                    "0": "2329",
                                    "1": "9.0000"
                                },
                                {
                                    "0": "2329",
                                    "1": "9.0000"
                                },
                                {
                                    "0": "8178",
                                    "1": "8.0000"
                                },
                                {
                                    "0": "8178",
                                    "1": "8.0000"
                                },
                                {
                                    "0": "8178",
                                    "1": "8.0000"
                                },
                                {
                                    "0": "8178",
                                    "1": "8.0000"
                                },
                                {
                                    "0": "8178",
                                    "1": "8.0000"
                                },
                                {
                                    "0": "8178",
                                    "1": "8.0000"
                                },
                                {
                                    "0": "8178",
                                    "1": "8.0000"
                                },
                                {
                                    "0": "8178",
                                    "1": "8.0000"
                                },
                                {
                                    "0": "8178",
                                    "1": "8.0000"
                                },
                                {
                                    "0": "8178",
                                    "1": "8.0000"
                                },
                                {
                                    "0": "8178",
                                    "1": "8.0000"
                                },
                                {
                                    "0": "8178",
                                    "1": "8.0000"
                                },
                                {
                                    "0": "8178",
                                    "1": "8.0000"
                                },
                                {
                                    "0": "8178",
                                    "1": "8.0000"
                                },
                                {
                                    "0": "8178",
                                    "1": "8.0000"
                                },
                                {
                                    "0": "8178",
                                    "1": "8.0000"
                                },
                                {
                                    "0": "8178",
                                    "1": "8.0000"
                                },
                                {
                                    "0": "8178",
                                    "1": "8.0000"
                                },
                                {
                                    "0": "8178",
                                    "1": "8.0000"
                                },
                                {
                                    "0": "8178",
                                    "1": "8.0000"
                                },
                                {
                                    "0": "8178",
                                    "1": "8.0000"
                                },
                                {
                                    "0": "8178",
                                    "1": "8.0000"
                                },
                                {
                                    "0": "8178",
                                    "1": "8.0000"
                                },
                                {
                                    "0": "8178",
                                    "1": "8.0000"
                                },
                                {
                                    "0": "8178",
                                    "1": "8.0000"
                                },
                                {
                                    "0": "8178",
                                    "1": "8.0000"
                                },
                                {
                                    "0": "6689",
                                    "1": "9.0000"
                                },
                                {
                                    "0": "6689",
                                    "1": "9.0000"
                                },
                                {
                                    "0": "6689",
                                    "1": "9.0000"
                                },
                                {
                                    "0": "6689",
                                    "1": "9.0000"
                                },
                                {
                                    "0": "6689",
                                    "1": "9.0000"
                                },
                                {
                                    "0": "6689",
                                    "1": "9.0000"
                                },
                                {
                                    "0": "6689",
                                    "1": "9.0000"
                                },
                                {
                                    "0": "6689",
                                    "1": "9.0000"
                                },
                                {
                                    "0": "6689",
                                    "1": "9.0000"
                                },
                                {
                                    "0": "6689",
                                    "1": "9.0000"
                                },
                                {
                                    "0": "6689",
                                    "1": "9.0000"
                                },
                                {
                                    "0": "6689",
                                    "1": "9.0000"
                                },
                                {
                                    "0": "6689",
                                    "1": "9.0000"
                                },
                                {
                                    "0": "6689",
                                    "1": "9.0000"
                                },
                                {
                                    "0": "6689",
                                    "1": "9.0000"
                                },
                                {
                                    "0": "6689",
                                    "1": "9.0000"
                                },
                                {
                                    "0": "6689",
                                    "1": "9.0000"
                                },
                                {
                                    "0": "6689",
                                    "1": "9.0000"
                                },
                                {
                                    "0": "6689",
                                    "1": "9.0000"
                                },
                                {
                                    "0": "6689",
                                    "1": "9.0000"
                                },
                                {
                                    "0": "6689",
                                    "1": "9.0000"
                                },
                                {
                                    "0": "6689",
                                    "1": "9.0000"
                                },
                                {
                                    "0": "6689",
                                    "1": "9.0000"
                                },
                                {
                                    "0": "6689",
                                    "1": "9.0000"
                                },
                                {
                                    "0": "6689",
                                    "1": "9.0000"
                                },
                                {
                                    "0": "6689",
                                    "1": "9.0000"
                                },
                                {
                                    "0": "6769",
                                    "1": "9.0000"
                                },
                                {
                                    "0": "6769",
                                    "1": "9.0000"
                                },
                                {
                                    "0": "6769",
                                    "1": "9.0000"
                                },
                                {
                                    "0": "6769",
                                    "1": "9.0000"
                                },
                                {
                                    "0": "6769",
                                    "1": "9.0000"
                                },
                                {
                                    "0": "6769",
                                    "1": "9.0000"
                                },
                                {
                                    "0": "6769",
                                    "1": "9.0000"
                                },
                                {
                                    "0": "6769",
                                    "1": "9.0000"
                                },
                                {
                                    "0": "6769",
                                    "1": "9.0000"
                                },
                                {
                                    "0": "6769",
                                    "1": "9.0000"
                                },
                                {
                                    "0": "6769",
                                    "1": "9.0000"
                                },
                                {
                                    "0": "6769",
                                    "1": "9.0000"
                                },
                                {
                                    "0": "6769",
                                    "1": "9.0000"
                                },
                                {
                                    "0": "6769",
                                    "1": "9.0000"
                                },
                                {
                                    "0": "6769",
                                    "1": "9.0000"
                                },
                                {
                                    "0": "6769",
                                    "1": "9.0000"
                                },
                                {
                                    "0": "6769",
                                    "1": "9.0000"
                                },
                                {
                                    "0": "6769",
                                    "1": "9.0000"
                                },
                                {
                                    "0": "6769",
                                    "1": "9.0000"
                                },
                                {
                                    "0": "6769",
                                    "1": "9.0000"
                                },
                                {
                                    "0": "6769",
                                    "1": "9.0000"
                                },
                                {
                                    "0": "6769",
                                    "1": "9.0000"
                                },
                                {
                                    "0": "6769",
                                    "1": "9.0000"
                                },
                                {
                                    "0": "6769",
                                    "1": "9.0000"
                                },
                                {
                                    "0": "6769",
                                    "1": "9.0000"
                                },
                                {
                                    "0": "6769",
                                    "1": "9.0000"
                                },
                                {
                                    "0": "8818",
                                    "1": "8.0000"
                                },
                                {
                                    "0": "8818",
                                    "1": "8.0000"
                                },
                                {
                                    "0": "8818",
                                    "1": "8.0000"
                                },
                                {
                                    "0": "8818",
                                    "1": "8.0000"
                                },
                                {
                                    "0": "8818",
                                    "1": "8.0000"
                                },
                                {
                                    "0": "8818",
                                    "1": "8.0000"
                                },
                                {
                                    "0": "8818",
                                    "1": "8.0000"
                                },
                                {
                                    "0": "8818",
                                    "1": "8.0000"
                                },
                                {
                                    "0": "8818",
                                    "1": "8.0000"
                                },
                                {
                                    "0": "8818",
                                    "1": "8.0000"
                                },
                                {
                                    "0": "8818",
                                    "1": "8.0000"
                                },
                                {
                                    "0": "8818",
                                    "1": "8.0000"
                                },
                                {
                                    "0": "8818",
                                    "1": "8.0000"
                                },
                                {
                                    "0": "8818",
                                    "1": "8.0000"
                                },
                                {
                                    "0": "8818",
                                    "1": "8.0000"
                                },
                                {
                                    "0": "8818",
                                    "1": "8.0000"
                                },
                                {
                                    "0": "8818",
                                    "1": "8.0000"
                                },
                                {
                                    "0": "8818",
                                    "1": "8.0000"
                                },
                                {
                                    "0": "8818",
                                    "1": "8.0000"
                                },
                                {
                                    "0": "8818",
                                    "1": "8.0000"
                                },
                                {
                                    "0": "8818",
                                    "1": "8.0000"
                                },
                                {
                                    "0": "8818",
                                    "1": "8.0000"
                                },
                                {
                                    "0": "8818",
                                    "1": "8.0000"
                                },
                                {
                                    "0": "8818",
                                    "1": "8.0000"
                                },
                                {
                                    "0": "8818",
                                    "1": "8.0000"
                                },
                                {
                                    "0": "8818",
                                    "1": "8.0000"
                                },
                                {
                                    "0": "3809",
                                    "1": "9.0000"
                                },
                                {
                                    "0": "3809",
                                    "1": "9.0000"
                                },
                                {
                                    "0": "3809",
                                    "1": "9.0000"
                                },
                                {
                                    "0": "3809",
                                    "1": "9.0000"
                                },
                                {
                                    "0": "3809",
                                    "1": "9.0000"
                                },
                                {
                                    "0": "3809",
                                    "1": "9.0000"
                                },
                                {
                                    "0": "3809",
                                    "1": "9.0000"
                                },
                                {
                                    "0": "3809",
                                    "1": "9.0000"
                                },
                                {
                                    "0": "3809",
                                    "1": "9.0000"
                                },
                                {
                                    "0": "3809",
                                    "1": "9.0000"
                                },
                                {
                                    "0": "3809",
                                    "1": "9.0000"
                                },
                                {
                                    "0": "3809",
                                    "1": "9.0000"
                                },
                                {
                                    "0": "3809",
                                    "1": "9.0000"
                                },
                                {
                                    "0": "3809",
                                    "1": "9.0000"
                                },
                                {
                                    "0": "3809",
                                    "1": "9.0000"
                                },
                                {
                                    "0": "3809",
                                    "1": "9.0000"
                                },
                                {
                                    "0": "3809",
                                    "1": "9.0000"
                                },
                                {
                                    "0": "3809",
                                    "1": "9.0000"
                                },
                                {
                                    "0": "3809",
                                    "1": "9.0000"
                                },
                                {
                                    "0": "3809",
                                    "1": "9.0000"
                                },
                                {
                                    "0": "3809",
                                    "1": "9.0000"
                                },
                                {
                                    "0": "3809",
                                    "1": "9.0000"
                                },
                                {
                                    "0": "3809",
                                    "1": "9.0000"
                                },
                                {
                                    "0": "3809",
                                    "1": "9.0000"
                                },
                                {
                                    "0": "3809",
                                    "1": "9.0000"
                                },
                                {
                                    "0": "3809",
                                    "1": "9.0000"
                                }
                            ]
                        },
                        "text/html": [
                            "<table>",
                            "<tr><th>member_no</th><th>fine_assessed</th></tr>",
                            "<tr><td>479</td><td>9.0000</td></tr>",
                            "<tr><td>479</td><td>9.0000</td></tr>",
                            "<tr><td>479</td><td>9.0000</td></tr>",
                            "<tr><td>479</td><td>9.0000</td></tr>",
                            "<tr><td>479</td><td>9.0000</td></tr>",
                            "<tr><td>479</td><td>9.0000</td></tr>",
                            "<tr><td>479</td><td>9.0000</td></tr>",
                            "<tr><td>479</td><td>9.0000</td></tr>",
                            "<tr><td>479</td><td>9.0000</td></tr>",
                            "<tr><td>479</td><td>9.0000</td></tr>",
                            "<tr><td>479</td><td>9.0000</td></tr>",
                            "<tr><td>479</td><td>9.0000</td></tr>",
                            "<tr><td>479</td><td>9.0000</td></tr>",
                            "<tr><td>479</td><td>9.0000</td></tr>",
                            "<tr><td>479</td><td>9.0000</td></tr>",
                            "<tr><td>479</td><td>9.0000</td></tr>",
                            "<tr><td>479</td><td>9.0000</td></tr>",
                            "<tr><td>479</td><td>9.0000</td></tr>",
                            "<tr><td>479</td><td>9.0000</td></tr>",
                            "<tr><td>479</td><td>9.0000</td></tr>",
                            "<tr><td>479</td><td>9.0000</td></tr>",
                            "<tr><td>479</td><td>9.0000</td></tr>",
                            "<tr><td>479</td><td>9.0000</td></tr>",
                            "<tr><td>479</td><td>9.0000</td></tr>",
                            "<tr><td>479</td><td>9.0000</td></tr>",
                            "<tr><td>479</td><td>9.0000</td></tr>",
                            "<tr><td>2638</td><td>8.0000</td></tr>",
                            "<tr><td>2638</td><td>8.0000</td></tr>",
                            "<tr><td>2638</td><td>8.0000</td></tr>",
                            "<tr><td>2638</td><td>8.0000</td></tr>",
                            "<tr><td>2638</td><td>8.0000</td></tr>",
                            "<tr><td>2638</td><td>8.0000</td></tr>",
                            "<tr><td>2638</td><td>8.0000</td></tr>",
                            "<tr><td>2638</td><td>8.0000</td></tr>",
                            "<tr><td>2638</td><td>8.0000</td></tr>",
                            "<tr><td>2638</td><td>8.0000</td></tr>",
                            "<tr><td>2638</td><td>8.0000</td></tr>",
                            "<tr><td>2638</td><td>8.0000</td></tr>",
                            "<tr><td>2638</td><td>8.0000</td></tr>",
                            "<tr><td>2638</td><td>8.0000</td></tr>",
                            "<tr><td>2638</td><td>8.0000</td></tr>",
                            "<tr><td>2638</td><td>8.0000</td></tr>",
                            "<tr><td>2638</td><td>8.0000</td></tr>",
                            "<tr><td>2638</td><td>8.0000</td></tr>",
                            "<tr><td>2638</td><td>8.0000</td></tr>",
                            "<tr><td>2638</td><td>8.0000</td></tr>",
                            "<tr><td>2638</td><td>8.0000</td></tr>",
                            "<tr><td>2638</td><td>8.0000</td></tr>",
                            "<tr><td>2638</td><td>8.0000</td></tr>",
                            "<tr><td>2638</td><td>8.0000</td></tr>",
                            "<tr><td>2638</td><td>8.0000</td></tr>",
                            "<tr><td>2638</td><td>8.0000</td></tr>",
                            "<tr><td>2229</td><td>9.0000</td></tr>",
                            "<tr><td>2229</td><td>9.0000</td></tr>",
                            "<tr><td>2229</td><td>9.0000</td></tr>",
                            "<tr><td>2229</td><td>9.0000</td></tr>",
                            "<tr><td>2229</td><td>9.0000</td></tr>",
                            "<tr><td>2229</td><td>9.0000</td></tr>",
                            "<tr><td>2229</td><td>9.0000</td></tr>",
                            "<tr><td>2229</td><td>9.0000</td></tr>",
                            "<tr><td>2229</td><td>9.0000</td></tr>",
                            "<tr><td>2229</td><td>9.0000</td></tr>",
                            "<tr><td>2229</td><td>9.0000</td></tr>",
                            "<tr><td>2229</td><td>9.0000</td></tr>",
                            "<tr><td>2229</td><td>9.0000</td></tr>",
                            "<tr><td>2229</td><td>9.0000</td></tr>",
                            "<tr><td>2229</td><td>9.0000</td></tr>",
                            "<tr><td>2229</td><td>9.0000</td></tr>",
                            "<tr><td>2229</td><td>9.0000</td></tr>",
                            "<tr><td>2229</td><td>9.0000</td></tr>",
                            "<tr><td>2229</td><td>9.0000</td></tr>",
                            "<tr><td>2229</td><td>9.0000</td></tr>",
                            "<tr><td>2229</td><td>9.0000</td></tr>",
                            "<tr><td>2229</td><td>9.0000</td></tr>",
                            "<tr><td>2229</td><td>9.0000</td></tr>",
                            "<tr><td>2229</td><td>9.0000</td></tr>",
                            "<tr><td>2229</td><td>9.0000</td></tr>",
                            "<tr><td>2229</td><td>9.0000</td></tr>",
                            "<tr><td>848</td><td>8.0000</td></tr>",
                            "<tr><td>848</td><td>8.0000</td></tr>",
                            "<tr><td>848</td><td>8.0000</td></tr>",
                            "<tr><td>848</td><td>8.0000</td></tr>",
                            "<tr><td>848</td><td>8.0000</td></tr>",
                            "<tr><td>848</td><td>8.0000</td></tr>",
                            "<tr><td>848</td><td>8.0000</td></tr>",
                            "<tr><td>848</td><td>8.0000</td></tr>",
                            "<tr><td>848</td><td>8.0000</td></tr>",
                            "<tr><td>848</td><td>8.0000</td></tr>",
                            "<tr><td>848</td><td>8.0000</td></tr>",
                            "<tr><td>848</td><td>8.0000</td></tr>",
                            "<tr><td>848</td><td>8.0000</td></tr>",
                            "<tr><td>848</td><td>8.0000</td></tr>",
                            "<tr><td>848</td><td>8.0000</td></tr>",
                            "<tr><td>848</td><td>8.0000</td></tr>",
                            "<tr><td>848</td><td>8.0000</td></tr>",
                            "<tr><td>848</td><td>8.0000</td></tr>",
                            "<tr><td>848</td><td>8.0000</td></tr>",
                            "<tr><td>848</td><td>8.0000</td></tr>",
                            "<tr><td>848</td><td>8.0000</td></tr>",
                            "<tr><td>848</td><td>8.0000</td></tr>",
                            "<tr><td>848</td><td>8.0000</td></tr>",
                            "<tr><td>848</td><td>8.0000</td></tr>",
                            "<tr><td>848</td><td>8.0000</td></tr>",
                            "<tr><td>848</td><td>8.0000</td></tr>",
                            "<tr><td>5528</td><td>8.0000</td></tr>",
                            "<tr><td>5528</td><td>8.0000</td></tr>",
                            "<tr><td>5528</td><td>8.0000</td></tr>",
                            "<tr><td>5528</td><td>8.0000</td></tr>",
                            "<tr><td>5528</td><td>8.0000</td></tr>",
                            "<tr><td>5528</td><td>8.0000</td></tr>",
                            "<tr><td>5528</td><td>8.0000</td></tr>",
                            "<tr><td>5528</td><td>8.0000</td></tr>",
                            "<tr><td>5528</td><td>8.0000</td></tr>",
                            "<tr><td>5528</td><td>8.0000</td></tr>",
                            "<tr><td>5528</td><td>8.0000</td></tr>",
                            "<tr><td>5528</td><td>8.0000</td></tr>",
                            "<tr><td>5528</td><td>8.0000</td></tr>",
                            "<tr><td>5528</td><td>8.0000</td></tr>",
                            "<tr><td>5528</td><td>8.0000</td></tr>",
                            "<tr><td>5528</td><td>8.0000</td></tr>",
                            "<tr><td>5528</td><td>8.0000</td></tr>",
                            "<tr><td>5528</td><td>8.0000</td></tr>",
                            "<tr><td>5528</td><td>8.0000</td></tr>",
                            "<tr><td>5528</td><td>8.0000</td></tr>",
                            "<tr><td>5528</td><td>8.0000</td></tr>",
                            "<tr><td>5528</td><td>8.0000</td></tr>",
                            "<tr><td>5528</td><td>8.0000</td></tr>",
                            "<tr><td>5528</td><td>8.0000</td></tr>",
                            "<tr><td>5528</td><td>8.0000</td></tr>",
                            "<tr><td>5528</td><td>8.0000</td></tr>",
                            "<tr><td>2329</td><td>9.0000</td></tr>",
                            "<tr><td>2329</td><td>9.0000</td></tr>",
                            "<tr><td>2329</td><td>9.0000</td></tr>",
                            "<tr><td>2329</td><td>9.0000</td></tr>",
                            "<tr><td>2329</td><td>9.0000</td></tr>",
                            "<tr><td>2329</td><td>9.0000</td></tr>",
                            "<tr><td>2329</td><td>9.0000</td></tr>",
                            "<tr><td>2329</td><td>9.0000</td></tr>",
                            "<tr><td>2329</td><td>9.0000</td></tr>",
                            "<tr><td>2329</td><td>9.0000</td></tr>",
                            "<tr><td>2329</td><td>9.0000</td></tr>",
                            "<tr><td>2329</td><td>9.0000</td></tr>",
                            "<tr><td>2329</td><td>9.0000</td></tr>",
                            "<tr><td>2329</td><td>9.0000</td></tr>",
                            "<tr><td>2329</td><td>9.0000</td></tr>",
                            "<tr><td>2329</td><td>9.0000</td></tr>",
                            "<tr><td>2329</td><td>9.0000</td></tr>",
                            "<tr><td>2329</td><td>9.0000</td></tr>",
                            "<tr><td>2329</td><td>9.0000</td></tr>",
                            "<tr><td>2329</td><td>9.0000</td></tr>",
                            "<tr><td>2329</td><td>9.0000</td></tr>",
                            "<tr><td>2329</td><td>9.0000</td></tr>",
                            "<tr><td>2329</td><td>9.0000</td></tr>",
                            "<tr><td>2329</td><td>9.0000</td></tr>",
                            "<tr><td>2329</td><td>9.0000</td></tr>",
                            "<tr><td>2329</td><td>9.0000</td></tr>",
                            "<tr><td>8178</td><td>8.0000</td></tr>",
                            "<tr><td>8178</td><td>8.0000</td></tr>",
                            "<tr><td>8178</td><td>8.0000</td></tr>",
                            "<tr><td>8178</td><td>8.0000</td></tr>",
                            "<tr><td>8178</td><td>8.0000</td></tr>",
                            "<tr><td>8178</td><td>8.0000</td></tr>",
                            "<tr><td>8178</td><td>8.0000</td></tr>",
                            "<tr><td>8178</td><td>8.0000</td></tr>",
                            "<tr><td>8178</td><td>8.0000</td></tr>",
                            "<tr><td>8178</td><td>8.0000</td></tr>",
                            "<tr><td>8178</td><td>8.0000</td></tr>",
                            "<tr><td>8178</td><td>8.0000</td></tr>",
                            "<tr><td>8178</td><td>8.0000</td></tr>",
                            "<tr><td>8178</td><td>8.0000</td></tr>",
                            "<tr><td>8178</td><td>8.0000</td></tr>",
                            "<tr><td>8178</td><td>8.0000</td></tr>",
                            "<tr><td>8178</td><td>8.0000</td></tr>",
                            "<tr><td>8178</td><td>8.0000</td></tr>",
                            "<tr><td>8178</td><td>8.0000</td></tr>",
                            "<tr><td>8178</td><td>8.0000</td></tr>",
                            "<tr><td>8178</td><td>8.0000</td></tr>",
                            "<tr><td>8178</td><td>8.0000</td></tr>",
                            "<tr><td>8178</td><td>8.0000</td></tr>",
                            "<tr><td>8178</td><td>8.0000</td></tr>",
                            "<tr><td>8178</td><td>8.0000</td></tr>",
                            "<tr><td>8178</td><td>8.0000</td></tr>",
                            "<tr><td>6689</td><td>9.0000</td></tr>",
                            "<tr><td>6689</td><td>9.0000</td></tr>",
                            "<tr><td>6689</td><td>9.0000</td></tr>",
                            "<tr><td>6689</td><td>9.0000</td></tr>",
                            "<tr><td>6689</td><td>9.0000</td></tr>",
                            "<tr><td>6689</td><td>9.0000</td></tr>",
                            "<tr><td>6689</td><td>9.0000</td></tr>",
                            "<tr><td>6689</td><td>9.0000</td></tr>",
                            "<tr><td>6689</td><td>9.0000</td></tr>",
                            "<tr><td>6689</td><td>9.0000</td></tr>",
                            "<tr><td>6689</td><td>9.0000</td></tr>",
                            "<tr><td>6689</td><td>9.0000</td></tr>",
                            "<tr><td>6689</td><td>9.0000</td></tr>",
                            "<tr><td>6689</td><td>9.0000</td></tr>",
                            "<tr><td>6689</td><td>9.0000</td></tr>",
                            "<tr><td>6689</td><td>9.0000</td></tr>",
                            "<tr><td>6689</td><td>9.0000</td></tr>",
                            "<tr><td>6689</td><td>9.0000</td></tr>",
                            "<tr><td>6689</td><td>9.0000</td></tr>",
                            "<tr><td>6689</td><td>9.0000</td></tr>",
                            "<tr><td>6689</td><td>9.0000</td></tr>",
                            "<tr><td>6689</td><td>9.0000</td></tr>",
                            "<tr><td>6689</td><td>9.0000</td></tr>",
                            "<tr><td>6689</td><td>9.0000</td></tr>",
                            "<tr><td>6689</td><td>9.0000</td></tr>",
                            "<tr><td>6689</td><td>9.0000</td></tr>",
                            "<tr><td>6769</td><td>9.0000</td></tr>",
                            "<tr><td>6769</td><td>9.0000</td></tr>",
                            "<tr><td>6769</td><td>9.0000</td></tr>",
                            "<tr><td>6769</td><td>9.0000</td></tr>",
                            "<tr><td>6769</td><td>9.0000</td></tr>",
                            "<tr><td>6769</td><td>9.0000</td></tr>",
                            "<tr><td>6769</td><td>9.0000</td></tr>",
                            "<tr><td>6769</td><td>9.0000</td></tr>",
                            "<tr><td>6769</td><td>9.0000</td></tr>",
                            "<tr><td>6769</td><td>9.0000</td></tr>",
                            "<tr><td>6769</td><td>9.0000</td></tr>",
                            "<tr><td>6769</td><td>9.0000</td></tr>",
                            "<tr><td>6769</td><td>9.0000</td></tr>",
                            "<tr><td>6769</td><td>9.0000</td></tr>",
                            "<tr><td>6769</td><td>9.0000</td></tr>",
                            "<tr><td>6769</td><td>9.0000</td></tr>",
                            "<tr><td>6769</td><td>9.0000</td></tr>",
                            "<tr><td>6769</td><td>9.0000</td></tr>",
                            "<tr><td>6769</td><td>9.0000</td></tr>",
                            "<tr><td>6769</td><td>9.0000</td></tr>",
                            "<tr><td>6769</td><td>9.0000</td></tr>",
                            "<tr><td>6769</td><td>9.0000</td></tr>",
                            "<tr><td>6769</td><td>9.0000</td></tr>",
                            "<tr><td>6769</td><td>9.0000</td></tr>",
                            "<tr><td>6769</td><td>9.0000</td></tr>",
                            "<tr><td>6769</td><td>9.0000</td></tr>",
                            "<tr><td>8818</td><td>8.0000</td></tr>",
                            "<tr><td>8818</td><td>8.0000</td></tr>",
                            "<tr><td>8818</td><td>8.0000</td></tr>",
                            "<tr><td>8818</td><td>8.0000</td></tr>",
                            "<tr><td>8818</td><td>8.0000</td></tr>",
                            "<tr><td>8818</td><td>8.0000</td></tr>",
                            "<tr><td>8818</td><td>8.0000</td></tr>",
                            "<tr><td>8818</td><td>8.0000</td></tr>",
                            "<tr><td>8818</td><td>8.0000</td></tr>",
                            "<tr><td>8818</td><td>8.0000</td></tr>",
                            "<tr><td>8818</td><td>8.0000</td></tr>",
                            "<tr><td>8818</td><td>8.0000</td></tr>",
                            "<tr><td>8818</td><td>8.0000</td></tr>",
                            "<tr><td>8818</td><td>8.0000</td></tr>",
                            "<tr><td>8818</td><td>8.0000</td></tr>",
                            "<tr><td>8818</td><td>8.0000</td></tr>",
                            "<tr><td>8818</td><td>8.0000</td></tr>",
                            "<tr><td>8818</td><td>8.0000</td></tr>",
                            "<tr><td>8818</td><td>8.0000</td></tr>",
                            "<tr><td>8818</td><td>8.0000</td></tr>",
                            "<tr><td>8818</td><td>8.0000</td></tr>",
                            "<tr><td>8818</td><td>8.0000</td></tr>",
                            "<tr><td>8818</td><td>8.0000</td></tr>",
                            "<tr><td>8818</td><td>8.0000</td></tr>",
                            "<tr><td>8818</td><td>8.0000</td></tr>",
                            "<tr><td>8818</td><td>8.0000</td></tr>",
                            "<tr><td>3809</td><td>9.0000</td></tr>",
                            "<tr><td>3809</td><td>9.0000</td></tr>",
                            "<tr><td>3809</td><td>9.0000</td></tr>",
                            "<tr><td>3809</td><td>9.0000</td></tr>",
                            "<tr><td>3809</td><td>9.0000</td></tr>",
                            "<tr><td>3809</td><td>9.0000</td></tr>",
                            "<tr><td>3809</td><td>9.0000</td></tr>",
                            "<tr><td>3809</td><td>9.0000</td></tr>",
                            "<tr><td>3809</td><td>9.0000</td></tr>",
                            "<tr><td>3809</td><td>9.0000</td></tr>",
                            "<tr><td>3809</td><td>9.0000</td></tr>",
                            "<tr><td>3809</td><td>9.0000</td></tr>",
                            "<tr><td>3809</td><td>9.0000</td></tr>",
                            "<tr><td>3809</td><td>9.0000</td></tr>",
                            "<tr><td>3809</td><td>9.0000</td></tr>",
                            "<tr><td>3809</td><td>9.0000</td></tr>",
                            "<tr><td>3809</td><td>9.0000</td></tr>",
                            "<tr><td>3809</td><td>9.0000</td></tr>",
                            "<tr><td>3809</td><td>9.0000</td></tr>",
                            "<tr><td>3809</td><td>9.0000</td></tr>",
                            "<tr><td>3809</td><td>9.0000</td></tr>",
                            "<tr><td>3809</td><td>9.0000</td></tr>",
                            "<tr><td>3809</td><td>9.0000</td></tr>",
                            "<tr><td>3809</td><td>9.0000</td></tr>",
                            "<tr><td>3809</td><td>9.0000</td></tr>",
                            "<tr><td>3809</td><td>9.0000</td></tr>",
                            "</table>"
                        ]
                    }
                }
            ],
            "execution_count": 47
        },
        {
            "cell_type": "markdown",
            "source": [
                "4\\. Napisz polecenie select, za pomocą którego uzyskasz numer książki i autora dla wszystkich książek, których autorem jest Charles Dickens lub Jane Austen"
            ],
            "metadata": {
                "azdata_cell_guid": "0c818e61-e1d3-438b-8ec2-9d3d53057b99"
            },
            "attachments": {}
        },
        {
            "cell_type": "code",
            "source": [
                "SELECT \r\n",
                "    title_no, author \r\n",
                "FROM \r\n",
                "    title \r\n",
                "WHERE \r\n",
                "    author='Charles Dickens' \r\n",
                "  OR \r\n",
                "    author='Jane Austen'"
            ],
            "metadata": {
                "azdata_cell_guid": "1ac90aea-71f9-4b7e-abf2-c3da0cf21fb1"
            },
            "outputs": [
                {
                    "output_type": "display_data",
                    "data": {
                        "text/html": "(5 rows affected)"
                    },
                    "metadata": {}
                },
                {
                    "output_type": "display_data",
                    "data": {
                        "text/html": "Total execution time: 00:00:00.003"
                    },
                    "metadata": {}
                },
                {
                    "output_type": "execute_result",
                    "metadata": {},
                    "execution_count": 48,
                    "data": {
                        "application/vnd.dataresource+json": {
                            "schema": {
                                "fields": [
                                    {
                                        "name": "title_no"
                                    },
                                    {
                                        "name": "author"
                                    }
                                ]
                            },
                            "data": [
                                {
                                    "0": "27",
                                    "1": "Jane Austen"
                                },
                                {
                                    "0": "30",
                                    "1": "Charles Dickens"
                                },
                                {
                                    "0": "31",
                                    "1": "Charles Dickens"
                                },
                                {
                                    "0": "41",
                                    "1": "Jane Austen"
                                },
                                {
                                    "0": "43",
                                    "1": "Jane Austen"
                                }
                            ]
                        },
                        "text/html": [
                            "<table>",
                            "<tr><th>title_no</th><th>author</th></tr>",
                            "<tr><td>27</td><td>Jane Austen</td></tr>",
                            "<tr><td>30</td><td>Charles Dickens</td></tr>",
                            "<tr><td>31</td><td>Charles Dickens</td></tr>",
                            "<tr><td>41</td><td>Jane Austen</td></tr>",
                            "<tr><td>43</td><td>Jane Austen</td></tr>",
                            "</table>"
                        ]
                    }
                }
            ],
            "execution_count": 48
        },
        {
            "cell_type": "markdown",
            "source": [
                "5\\. Napisz polecenie, które wybiera numer tytułu i tytuł dla wszystkich rekordów zawierających string „adventures” gdzieś w tytule."
            ],
            "metadata": {
                "azdata_cell_guid": "91e585a9-468d-4fdb-9585-b3acef7d46a5"
            },
            "attachments": {}
        },
        {
            "cell_type": "code",
            "source": [
                "SELECT\r\n",
                "    title_no, title\r\n",
                "FROM \r\n",
                "    title\r\n",
                "WHERE \r\n",
                "    title LIKE '%adventures%'"
            ],
            "metadata": {
                "azdata_cell_guid": "2d762690-c02c-46aa-9681-89e636c50917"
            },
            "outputs": [
                {
                    "output_type": "display_data",
                    "data": {
                        "text/html": "(2 rows affected)"
                    },
                    "metadata": {}
                },
                {
                    "output_type": "display_data",
                    "data": {
                        "text/html": "Total execution time: 00:00:00.006"
                    },
                    "metadata": {}
                },
                {
                    "output_type": "execute_result",
                    "metadata": {},
                    "execution_count": 49,
                    "data": {
                        "application/vnd.dataresource+json": {
                            "schema": {
                                "fields": [
                                    {
                                        "name": "title_no"
                                    },
                                    {
                                        "name": "title"
                                    }
                                ]
                            },
                            "data": [
                                {
                                    "0": "26",
                                    "1": "The Adventures of Robin Hood"
                                },
                                {
                                    "0": "44",
                                    "1": "Adventures of Huckleberry Finn"
                                }
                            ]
                        },
                        "text/html": [
                            "<table>",
                            "<tr><th>title_no</th><th>title</th></tr>",
                            "<tr><td>26</td><td>The Adventures of Robin Hood</td></tr>",
                            "<tr><td>44</td><td>Adventures of Huckleberry Finn</td></tr>",
                            "</table>"
                        ]
                    }
                }
            ],
            "execution_count": 49
        },
        {
            "cell_type": "markdown",
            "source": [
                "6\\. Napisz polecenie, które wybiera numer czytelnika, karę oraz zapłaconą karę dla wszystkich, którzy jeszcze nie zapłacili."
            ],
            "metadata": {
                "azdata_cell_guid": "d9b5b3cd-ba0c-4d7d-a785-036a19279675"
            },
            "attachments": {}
        },
        {
            "cell_type": "code",
            "source": [
                "SELECT\r\n",
                "    member_no, fine_assessed, fine_paid\r\n",
                "FROM\r\n",
                "    loanhist\r\n",
                "WHERE \r\n",
                "    fine_assessed > fine_paid"
            ],
            "metadata": {
                "azdata_cell_guid": "16b057a5-1c8e-4816-b529-61ef5a85abdc"
            },
            "outputs": [
                {
                    "output_type": "display_data",
                    "data": {
                        "text/html": "(78 rows affected)"
                    },
                    "metadata": {}
                },
                {
                    "output_type": "display_data",
                    "data": {
                        "text/html": "Total execution time: 00:00:00.010"
                    },
                    "metadata": {}
                },
                {
                    "output_type": "execute_result",
                    "metadata": {},
                    "execution_count": 50,
                    "data": {
                        "application/vnd.dataresource+json": {
                            "schema": {
                                "fields": [
                                    {
                                        "name": "member_no"
                                    },
                                    {
                                        "name": "fine_assessed"
                                    },
                                    {
                                        "name": "fine_paid"
                                    }
                                ]
                            },
                            "data": [
                                {
                                    "0": "4796",
                                    "1": "6.0000",
                                    "2": "0.6666"
                                },
                                {
                                    "0": "4796",
                                    "1": "6.0000",
                                    "2": "0.6666"
                                },
                                {
                                    "0": "4796",
                                    "1": "6.0000",
                                    "2": "0.6666"
                                },
                                {
                                    "0": "4796",
                                    "1": "6.0000",
                                    "2": "0.6666"
                                },
                                {
                                    "0": "4796",
                                    "1": "6.0000",
                                    "2": "0.6666"
                                },
                                {
                                    "0": "4796",
                                    "1": "6.0000",
                                    "2": "0.6666"
                                },
                                {
                                    "0": "4796",
                                    "1": "6.0000",
                                    "2": "0.6666"
                                },
                                {
                                    "0": "4796",
                                    "1": "6.0000",
                                    "2": "0.6666"
                                },
                                {
                                    "0": "4796",
                                    "1": "6.0000",
                                    "2": "0.6666"
                                },
                                {
                                    "0": "4796",
                                    "1": "6.0000",
                                    "2": "0.6666"
                                },
                                {
                                    "0": "4796",
                                    "1": "6.0000",
                                    "2": "0.6666"
                                },
                                {
                                    "0": "4796",
                                    "1": "6.0000",
                                    "2": "0.6666"
                                },
                                {
                                    "0": "4796",
                                    "1": "6.0000",
                                    "2": "0.6666"
                                },
                                {
                                    "0": "4796",
                                    "1": "6.0000",
                                    "2": "0.6666"
                                },
                                {
                                    "0": "4796",
                                    "1": "6.0000",
                                    "2": "0.6666"
                                },
                                {
                                    "0": "4796",
                                    "1": "6.0000",
                                    "2": "0.6666"
                                },
                                {
                                    "0": "4796",
                                    "1": "6.0000",
                                    "2": "0.6666"
                                },
                                {
                                    "0": "4796",
                                    "1": "6.0000",
                                    "2": "0.6666"
                                },
                                {
                                    "0": "4796",
                                    "1": "6.0000",
                                    "2": "0.6666"
                                },
                                {
                                    "0": "4796",
                                    "1": "6.0000",
                                    "2": "0.6666"
                                },
                                {
                                    "0": "4796",
                                    "1": "6.0000",
                                    "2": "0.6666"
                                },
                                {
                                    "0": "4796",
                                    "1": "6.0000",
                                    "2": "0.6666"
                                },
                                {
                                    "0": "4796",
                                    "1": "6.0000",
                                    "2": "0.6666"
                                },
                                {
                                    "0": "4796",
                                    "1": "6.0000",
                                    "2": "0.6666"
                                },
                                {
                                    "0": "4796",
                                    "1": "6.0000",
                                    "2": "0.6666"
                                },
                                {
                                    "0": "4796",
                                    "1": "6.0000",
                                    "2": "0.6666"
                                },
                                {
                                    "0": "1034",
                                    "1": "4.0000",
                                    "2": "0.4444"
                                },
                                {
                                    "0": "1034",
                                    "1": "4.0000",
                                    "2": "0.4444"
                                },
                                {
                                    "0": "1034",
                                    "1": "4.0000",
                                    "2": "0.4444"
                                },
                                {
                                    "0": "1034",
                                    "1": "4.0000",
                                    "2": "0.4444"
                                },
                                {
                                    "0": "1034",
                                    "1": "4.0000",
                                    "2": "0.4444"
                                },
                                {
                                    "0": "1034",
                                    "1": "4.0000",
                                    "2": "0.4444"
                                },
                                {
                                    "0": "1034",
                                    "1": "4.0000",
                                    "2": "0.4444"
                                },
                                {
                                    "0": "1034",
                                    "1": "4.0000",
                                    "2": "0.4444"
                                },
                                {
                                    "0": "1034",
                                    "1": "4.0000",
                                    "2": "0.4444"
                                },
                                {
                                    "0": "1034",
                                    "1": "4.0000",
                                    "2": "0.4444"
                                },
                                {
                                    "0": "1034",
                                    "1": "4.0000",
                                    "2": "0.4444"
                                },
                                {
                                    "0": "1034",
                                    "1": "4.0000",
                                    "2": "0.4444"
                                },
                                {
                                    "0": "1034",
                                    "1": "4.0000",
                                    "2": "0.4444"
                                },
                                {
                                    "0": "1034",
                                    "1": "4.0000",
                                    "2": "0.4444"
                                },
                                {
                                    "0": "1034",
                                    "1": "4.0000",
                                    "2": "0.4444"
                                },
                                {
                                    "0": "1034",
                                    "1": "4.0000",
                                    "2": "0.4444"
                                },
                                {
                                    "0": "1034",
                                    "1": "4.0000",
                                    "2": "0.4444"
                                },
                                {
                                    "0": "1034",
                                    "1": "4.0000",
                                    "2": "0.4444"
                                },
                                {
                                    "0": "1034",
                                    "1": "4.0000",
                                    "2": "0.4444"
                                },
                                {
                                    "0": "1034",
                                    "1": "4.0000",
                                    "2": "0.4444"
                                },
                                {
                                    "0": "1034",
                                    "1": "4.0000",
                                    "2": "0.4444"
                                },
                                {
                                    "0": "1034",
                                    "1": "4.0000",
                                    "2": "0.4444"
                                },
                                {
                                    "0": "1034",
                                    "1": "4.0000",
                                    "2": "0.4444"
                                },
                                {
                                    "0": "1034",
                                    "1": "4.0000",
                                    "2": "0.4444"
                                },
                                {
                                    "0": "1034",
                                    "1": "4.0000",
                                    "2": "0.4444"
                                },
                                {
                                    "0": "1034",
                                    "1": "4.0000",
                                    "2": "0.4444"
                                },
                                {
                                    "0": "6754",
                                    "1": "4.0000",
                                    "2": "0.8000"
                                },
                                {
                                    "0": "6754",
                                    "1": "4.0000",
                                    "2": "0.8000"
                                },
                                {
                                    "0": "6754",
                                    "1": "4.0000",
                                    "2": "0.8000"
                                },
                                {
                                    "0": "6754",
                                    "1": "4.0000",
                                    "2": "0.8000"
                                },
                                {
                                    "0": "6754",
                                    "1": "4.0000",
                                    "2": "0.8000"
                                },
                                {
                                    "0": "6754",
                                    "1": "4.0000",
                                    "2": "0.8000"
                                },
                                {
                                    "0": "6754",
                                    "1": "4.0000",
                                    "2": "0.8000"
                                },
                                {
                                    "0": "6754",
                                    "1": "4.0000",
                                    "2": "0.8000"
                                },
                                {
                                    "0": "6754",
                                    "1": "4.0000",
                                    "2": "0.8000"
                                },
                                {
                                    "0": "6754",
                                    "1": "4.0000",
                                    "2": "0.8000"
                                },
                                {
                                    "0": "6754",
                                    "1": "4.0000",
                                    "2": "0.8000"
                                },
                                {
                                    "0": "6754",
                                    "1": "4.0000",
                                    "2": "0.8000"
                                },
                                {
                                    "0": "6754",
                                    "1": "4.0000",
                                    "2": "0.8000"
                                },
                                {
                                    "0": "6754",
                                    "1": "4.0000",
                                    "2": "0.8000"
                                },
                                {
                                    "0": "6754",
                                    "1": "4.0000",
                                    "2": "0.8000"
                                },
                                {
                                    "0": "6754",
                                    "1": "4.0000",
                                    "2": "0.8000"
                                },
                                {
                                    "0": "6754",
                                    "1": "4.0000",
                                    "2": "0.8000"
                                },
                                {
                                    "0": "6754",
                                    "1": "4.0000",
                                    "2": "0.8000"
                                },
                                {
                                    "0": "6754",
                                    "1": "4.0000",
                                    "2": "0.8000"
                                },
                                {
                                    "0": "6754",
                                    "1": "4.0000",
                                    "2": "0.8000"
                                },
                                {
                                    "0": "6754",
                                    "1": "4.0000",
                                    "2": "0.8000"
                                },
                                {
                                    "0": "6754",
                                    "1": "4.0000",
                                    "2": "0.8000"
                                },
                                {
                                    "0": "6754",
                                    "1": "4.0000",
                                    "2": "0.8000"
                                },
                                {
                                    "0": "6754",
                                    "1": "4.0000",
                                    "2": "0.8000"
                                },
                                {
                                    "0": "6754",
                                    "1": "4.0000",
                                    "2": "0.8000"
                                },
                                {
                                    "0": "6754",
                                    "1": "4.0000",
                                    "2": "0.8000"
                                }
                            ]
                        },
                        "text/html": [
                            "<table>",
                            "<tr><th>member_no</th><th>fine_assessed</th><th>fine_paid</th></tr>",
                            "<tr><td>4796</td><td>6.0000</td><td>0.6666</td></tr>",
                            "<tr><td>4796</td><td>6.0000</td><td>0.6666</td></tr>",
                            "<tr><td>4796</td><td>6.0000</td><td>0.6666</td></tr>",
                            "<tr><td>4796</td><td>6.0000</td><td>0.6666</td></tr>",
                            "<tr><td>4796</td><td>6.0000</td><td>0.6666</td></tr>",
                            "<tr><td>4796</td><td>6.0000</td><td>0.6666</td></tr>",
                            "<tr><td>4796</td><td>6.0000</td><td>0.6666</td></tr>",
                            "<tr><td>4796</td><td>6.0000</td><td>0.6666</td></tr>",
                            "<tr><td>4796</td><td>6.0000</td><td>0.6666</td></tr>",
                            "<tr><td>4796</td><td>6.0000</td><td>0.6666</td></tr>",
                            "<tr><td>4796</td><td>6.0000</td><td>0.6666</td></tr>",
                            "<tr><td>4796</td><td>6.0000</td><td>0.6666</td></tr>",
                            "<tr><td>4796</td><td>6.0000</td><td>0.6666</td></tr>",
                            "<tr><td>4796</td><td>6.0000</td><td>0.6666</td></tr>",
                            "<tr><td>4796</td><td>6.0000</td><td>0.6666</td></tr>",
                            "<tr><td>4796</td><td>6.0000</td><td>0.6666</td></tr>",
                            "<tr><td>4796</td><td>6.0000</td><td>0.6666</td></tr>",
                            "<tr><td>4796</td><td>6.0000</td><td>0.6666</td></tr>",
                            "<tr><td>4796</td><td>6.0000</td><td>0.6666</td></tr>",
                            "<tr><td>4796</td><td>6.0000</td><td>0.6666</td></tr>",
                            "<tr><td>4796</td><td>6.0000</td><td>0.6666</td></tr>",
                            "<tr><td>4796</td><td>6.0000</td><td>0.6666</td></tr>",
                            "<tr><td>4796</td><td>6.0000</td><td>0.6666</td></tr>",
                            "<tr><td>4796</td><td>6.0000</td><td>0.6666</td></tr>",
                            "<tr><td>4796</td><td>6.0000</td><td>0.6666</td></tr>",
                            "<tr><td>4796</td><td>6.0000</td><td>0.6666</td></tr>",
                            "<tr><td>1034</td><td>4.0000</td><td>0.4444</td></tr>",
                            "<tr><td>1034</td><td>4.0000</td><td>0.4444</td></tr>",
                            "<tr><td>1034</td><td>4.0000</td><td>0.4444</td></tr>",
                            "<tr><td>1034</td><td>4.0000</td><td>0.4444</td></tr>",
                            "<tr><td>1034</td><td>4.0000</td><td>0.4444</td></tr>",
                            "<tr><td>1034</td><td>4.0000</td><td>0.4444</td></tr>",
                            "<tr><td>1034</td><td>4.0000</td><td>0.4444</td></tr>",
                            "<tr><td>1034</td><td>4.0000</td><td>0.4444</td></tr>",
                            "<tr><td>1034</td><td>4.0000</td><td>0.4444</td></tr>",
                            "<tr><td>1034</td><td>4.0000</td><td>0.4444</td></tr>",
                            "<tr><td>1034</td><td>4.0000</td><td>0.4444</td></tr>",
                            "<tr><td>1034</td><td>4.0000</td><td>0.4444</td></tr>",
                            "<tr><td>1034</td><td>4.0000</td><td>0.4444</td></tr>",
                            "<tr><td>1034</td><td>4.0000</td><td>0.4444</td></tr>",
                            "<tr><td>1034</td><td>4.0000</td><td>0.4444</td></tr>",
                            "<tr><td>1034</td><td>4.0000</td><td>0.4444</td></tr>",
                            "<tr><td>1034</td><td>4.0000</td><td>0.4444</td></tr>",
                            "<tr><td>1034</td><td>4.0000</td><td>0.4444</td></tr>",
                            "<tr><td>1034</td><td>4.0000</td><td>0.4444</td></tr>",
                            "<tr><td>1034</td><td>4.0000</td><td>0.4444</td></tr>",
                            "<tr><td>1034</td><td>4.0000</td><td>0.4444</td></tr>",
                            "<tr><td>1034</td><td>4.0000</td><td>0.4444</td></tr>",
                            "<tr><td>1034</td><td>4.0000</td><td>0.4444</td></tr>",
                            "<tr><td>1034</td><td>4.0000</td><td>0.4444</td></tr>",
                            "<tr><td>1034</td><td>4.0000</td><td>0.4444</td></tr>",
                            "<tr><td>1034</td><td>4.0000</td><td>0.4444</td></tr>",
                            "<tr><td>6754</td><td>4.0000</td><td>0.8000</td></tr>",
                            "<tr><td>6754</td><td>4.0000</td><td>0.8000</td></tr>",
                            "<tr><td>6754</td><td>4.0000</td><td>0.8000</td></tr>",
                            "<tr><td>6754</td><td>4.0000</td><td>0.8000</td></tr>",
                            "<tr><td>6754</td><td>4.0000</td><td>0.8000</td></tr>",
                            "<tr><td>6754</td><td>4.0000</td><td>0.8000</td></tr>",
                            "<tr><td>6754</td><td>4.0000</td><td>0.8000</td></tr>",
                            "<tr><td>6754</td><td>4.0000</td><td>0.8000</td></tr>",
                            "<tr><td>6754</td><td>4.0000</td><td>0.8000</td></tr>",
                            "<tr><td>6754</td><td>4.0000</td><td>0.8000</td></tr>",
                            "<tr><td>6754</td><td>4.0000</td><td>0.8000</td></tr>",
                            "<tr><td>6754</td><td>4.0000</td><td>0.8000</td></tr>",
                            "<tr><td>6754</td><td>4.0000</td><td>0.8000</td></tr>",
                            "<tr><td>6754</td><td>4.0000</td><td>0.8000</td></tr>",
                            "<tr><td>6754</td><td>4.0000</td><td>0.8000</td></tr>",
                            "<tr><td>6754</td><td>4.0000</td><td>0.8000</td></tr>",
                            "<tr><td>6754</td><td>4.0000</td><td>0.8000</td></tr>",
                            "<tr><td>6754</td><td>4.0000</td><td>0.8000</td></tr>",
                            "<tr><td>6754</td><td>4.0000</td><td>0.8000</td></tr>",
                            "<tr><td>6754</td><td>4.0000</td><td>0.8000</td></tr>",
                            "<tr><td>6754</td><td>4.0000</td><td>0.8000</td></tr>",
                            "<tr><td>6754</td><td>4.0000</td><td>0.8000</td></tr>",
                            "<tr><td>6754</td><td>4.0000</td><td>0.8000</td></tr>",
                            "<tr><td>6754</td><td>4.0000</td><td>0.8000</td></tr>",
                            "<tr><td>6754</td><td>4.0000</td><td>0.8000</td></tr>",
                            "<tr><td>6754</td><td>4.0000</td><td>0.8000</td></tr>",
                            "</table>"
                        ]
                    }
                }
            ],
            "execution_count": 50
        },
        {
            "cell_type": "markdown",
            "source": [
                "7\\. Napisz polecenie, które wybiera wszystkie unikalne pary miast i stanów z tablicy adult."
            ],
            "metadata": {
                "azdata_cell_guid": "9f9c4a4f-df62-4cf2-8032-88d86e3e3c0e"
            },
            "attachments": {}
        },
        {
            "cell_type": "code",
            "source": [
                "SELECT\r\n",
                "    DISTINCT city, state\r\n",
                "FROM\r\n",
                "    adult"
            ],
            "metadata": {
                "azdata_cell_guid": "9fef7dbe-0446-42a0-967a-19a79fee901a",
                "tags": []
            },
            "outputs": [
                {
                    "output_type": "display_data",
                    "data": {
                        "text/html": "(23 rows affected)"
                    },
                    "metadata": {}
                },
                {
                    "output_type": "display_data",
                    "data": {
                        "text/html": "Total execution time: 00:00:00.007"
                    },
                    "metadata": {}
                },
                {
                    "output_type": "execute_result",
                    "metadata": {},
                    "execution_count": 51,
                    "data": {
                        "application/vnd.dataresource+json": {
                            "schema": {
                                "fields": [
                                    {
                                        "name": "city"
                                    },
                                    {
                                        "name": "state"
                                    }
                                ]
                            },
                            "data": [
                                {
                                    "0": "Atlanta",
                                    "1": "GA"
                                },
                                {
                                    "0": "Olympia",
                                    "1": "WA"
                                },
                                {
                                    "0": "Baton Rouge",
                                    "1": "LA"
                                },
                                {
                                    "0": "Phoenix",
                                    "1": "AZ"
                                },
                                {
                                    "0": "Tallahassee",
                                    "1": "FL"
                                },
                                {
                                    "0": "Springfield",
                                    "1": "IL"
                                },
                                {
                                    "0": "Trenton",
                                    "1": "NJ"
                                },
                                {
                                    "0": "Annapolis",
                                    "1": "MD"
                                },
                                {
                                    "0": "Austin",
                                    "1": "TX"
                                },
                                {
                                    "0": "Sacramento",
                                    "1": "CA"
                                },
                                {
                                    "0": "Boston",
                                    "1": "MA"
                                },
                                {
                                    "0": "Washington",
                                    "1": "DC"
                                },
                                {
                                    "0": "Albany",
                                    "1": "NY"
                                },
                                {
                                    "0": "Salem",
                                    "1": "OR"
                                },
                                {
                                    "0": "Charleston",
                                    "1": "WV"
                                },
                                {
                                    "0": "Denver",
                                    "1": "CO"
                                },
                                {
                                    "0": "Richmond",
                                    "1": "VA"
                                },
                                {
                                    "0": "Salt Lake City",
                                    "1": "UT"
                                },
                                {
                                    "0": "Juneau",
                                    "1": "AK"
                                },
                                {
                                    "0": "Harrisburg",
                                    "1": "PA"
                                },
                                {
                                    "0": "Honolulu",
                                    "1": "HI"
                                },
                                {
                                    "0": "Carson City",
                                    "1": "NV"
                                },
                                {
                                    "0": "Montgomery",
                                    "1": "AL"
                                }
                            ]
                        },
                        "text/html": [
                            "<table>",
                            "<tr><th>city</th><th>state</th></tr>",
                            "<tr><td>Atlanta</td><td>GA</td></tr>",
                            "<tr><td>Olympia</td><td>WA</td></tr>",
                            "<tr><td>Baton Rouge</td><td>LA</td></tr>",
                            "<tr><td>Phoenix</td><td>AZ</td></tr>",
                            "<tr><td>Tallahassee</td><td>FL</td></tr>",
                            "<tr><td>Springfield</td><td>IL</td></tr>",
                            "<tr><td>Trenton</td><td>NJ</td></tr>",
                            "<tr><td>Annapolis</td><td>MD</td></tr>",
                            "<tr><td>Austin</td><td>TX</td></tr>",
                            "<tr><td>Sacramento</td><td>CA</td></tr>",
                            "<tr><td>Boston</td><td>MA</td></tr>",
                            "<tr><td>Washington</td><td>DC</td></tr>",
                            "<tr><td>Albany</td><td>NY</td></tr>",
                            "<tr><td>Salem</td><td>OR</td></tr>",
                            "<tr><td>Charleston</td><td>WV</td></tr>",
                            "<tr><td>Denver</td><td>CO</td></tr>",
                            "<tr><td>Richmond</td><td>VA</td></tr>",
                            "<tr><td>Salt Lake City</td><td>UT</td></tr>",
                            "<tr><td>Juneau</td><td>AK</td></tr>",
                            "<tr><td>Harrisburg</td><td>PA</td></tr>",
                            "<tr><td>Honolulu</td><td>HI</td></tr>",
                            "<tr><td>Carson City</td><td>NV</td></tr>",
                            "<tr><td>Montgomery</td><td>AL</td></tr>",
                            "</table>"
                        ]
                    }
                }
            ],
            "execution_count": 51
        },
        {
            "cell_type": "markdown",
            "source": [
                "# Ćwiczenie 2 – manipulowanie wynikowym zbiorem"
            ],
            "metadata": {
                "azdata_cell_guid": "f6c5c9c8-df53-4af1-beb6-6b1b20d0a22a"
            },
            "attachments": {}
        },
        {
            "cell_type": "markdown",
            "source": [
                "1\\. Napisz polecenie, które wybiera wszystkie tytuły z tablicy title i wyświetla je w porządku alfabetycznym."
            ],
            "metadata": {
                "azdata_cell_guid": "9168da1e-262e-47eb-8baf-4865c700b387"
            },
            "attachments": {}
        },
        {
            "cell_type": "code",
            "source": [
                "SELECT\r\n",
                "    title\r\n",
                "FROM \r\n",
                "    title\r\n",
                "ORDER BY title ASC"
            ],
            "metadata": {
                "azdata_cell_guid": "79757862-851b-4437-b2c4-2170c9d8052e"
            },
            "outputs": [
                {
                    "output_type": "display_data",
                    "data": {
                        "text/html": "(50 rows affected)"
                    },
                    "metadata": {}
                },
                {
                    "output_type": "display_data",
                    "data": {
                        "text/html": "Total execution time: 00:00:00.005"
                    },
                    "metadata": {}
                },
                {
                    "output_type": "execute_result",
                    "metadata": {},
                    "execution_count": 52,
                    "data": {
                        "application/vnd.dataresource+json": {
                            "schema": {
                                "fields": [
                                    {
                                        "name": "title"
                                    }
                                ]
                            },
                            "data": [
                                {
                                    "0": "A Tale of Two Cities"
                                },
                                {
                                    "0": "Adventures of Huckleberry Finn"
                                },
                                {
                                    "0": "Ballads of a Bohemian"
                                },
                                {
                                    "0": "Candide"
                                },
                                {
                                    "0": "De La Terre a La Lune"
                                },
                                {
                                    "0": "Emma"
                                },
                                {
                                    "0": "Fall of the House of Usher"
                                },
                                {
                                    "0": "Frankenstein"
                                },
                                {
                                    "0": "History of the Decline and Fall of the Roman Empire"
                                },
                                {
                                    "0": "Improvement of Understanding"
                                },
                                {
                                    "0": "Julius Caesar's Commentaries on the Gallic War"
                                },
                                {
                                    "0": "Lady Susan"
                                },
                                {
                                    "0": "Last of the Mohicans"
                                },
                                {
                                    "0": "Le Petit Prince"
                                },
                                {
                                    "0": "Lemon"
                                },
                                {
                                    "0": "Les Miserables"
                                },
                                {
                                    "0": "Misalliance"
                                },
                                {
                                    "0": "Moby Dick"
                                },
                                {
                                    "0": "Moll Flanders"
                                },
                                {
                                    "0": "Oliver Twist"
                                },
                                {
                                    "0": "Poems"
                                },
                                {
                                    "0": "Self Help; Conduct & Perseverance"
                                },
                                {
                                    "0": "Sense and Sensibility"
                                },
                                {
                                    "0": "Songs of a Savoyard"
                                },
                                {
                                    "0": "Tao Teh King"
                                },
                                {
                                    "0": "The Adventures of Robin Hood"
                                },
                                {
                                    "0": "The Black Tulip"
                                },
                                {
                                    "0": "The Call of the Wild"
                                },
                                {
                                    "0": "The Cherry Orchard"
                                },
                                {
                                    "0": "The Complete Works of William Shakespeare"
                                },
                                {
                                    "0": "The Cook's Decameron"
                                },
                                {
                                    "0": "The Crossing"
                                },
                                {
                                    "0": "The Dictionary of the Khazars"
                                },
                                {
                                    "0": "The First 100,000 Prime Numbers"
                                },
                                {
                                    "0": "The First Men In The Moon"
                                },
                                {
                                    "0": "The Legend of Sleepy Hollow"
                                },
                                {
                                    "0": "The Master and Margarita"
                                },
                                {
                                    "0": "The Night-Born"
                                },
                                {
                                    "0": "The Phantom of the Opera"
                                },
                                {
                                    "0": "The Return of Sherlock Holmes"
                                },
                                {
                                    "0": "The Scarlet Letter"
                                },
                                {
                                    "0": "The Unbearable Lightness of Being"
                                },
                                {
                                    "0": "The Village Watch-Tower"
                                },
                                {
                                    "0": "The Voyage of the Beagle"
                                },
                                {
                                    "0": "The Water-Babies"
                                },
                                {
                                    "0": "Treasure Island"
                                },
                                {
                                    "0": "Vanity Fair"
                                },
                                {
                                    "0": "Walking"
                                },
                                {
                                    "0": "War and Peace"
                                },
                                {
                                    "0": "Wayfarers"
                                }
                            ]
                        },
                        "text/html": [
                            "<table>",
                            "<tr><th>title</th></tr>",
                            "<tr><td>A Tale of Two Cities</td></tr>",
                            "<tr><td>Adventures of Huckleberry Finn</td></tr>",
                            "<tr><td>Ballads of a Bohemian</td></tr>",
                            "<tr><td>Candide</td></tr>",
                            "<tr><td>De La Terre a La Lune</td></tr>",
                            "<tr><td>Emma</td></tr>",
                            "<tr><td>Fall of the House of Usher</td></tr>",
                            "<tr><td>Frankenstein</td></tr>",
                            "<tr><td>History of the Decline and Fall of the Roman Empire</td></tr>",
                            "<tr><td>Improvement of Understanding</td></tr>",
                            "<tr><td>Julius Caesar's Commentaries on the Gallic War</td></tr>",
                            "<tr><td>Lady Susan</td></tr>",
                            "<tr><td>Last of the Mohicans</td></tr>",
                            "<tr><td>Le Petit Prince</td></tr>",
                            "<tr><td>Lemon</td></tr>",
                            "<tr><td>Les Miserables</td></tr>",
                            "<tr><td>Misalliance</td></tr>",
                            "<tr><td>Moby Dick</td></tr>",
                            "<tr><td>Moll Flanders</td></tr>",
                            "<tr><td>Oliver Twist</td></tr>",
                            "<tr><td>Poems</td></tr>",
                            "<tr><td>Self Help; Conduct &amp; Perseverance</td></tr>",
                            "<tr><td>Sense and Sensibility</td></tr>",
                            "<tr><td>Songs of a Savoyard</td></tr>",
                            "<tr><td>Tao Teh King</td></tr>",
                            "<tr><td>The Adventures of Robin Hood</td></tr>",
                            "<tr><td>The Black Tulip</td></tr>",
                            "<tr><td>The Call of the Wild</td></tr>",
                            "<tr><td>The Cherry Orchard</td></tr>",
                            "<tr><td>The Complete Works of William Shakespeare</td></tr>",
                            "<tr><td>The Cook's Decameron</td></tr>",
                            "<tr><td>The Crossing</td></tr>",
                            "<tr><td>The Dictionary of the Khazars</td></tr>",
                            "<tr><td>The First 100,000 Prime Numbers</td></tr>",
                            "<tr><td>The First Men In The Moon</td></tr>",
                            "<tr><td>The Legend of Sleepy Hollow</td></tr>",
                            "<tr><td>The Master and Margarita</td></tr>",
                            "<tr><td>The Night-Born</td></tr>",
                            "<tr><td>The Phantom of the Opera</td></tr>",
                            "<tr><td>The Return of Sherlock Holmes</td></tr>",
                            "<tr><td>The Scarlet Letter</td></tr>",
                            "<tr><td>The Unbearable Lightness of Being</td></tr>",
                            "<tr><td>The Village Watch-Tower</td></tr>",
                            "<tr><td>The Voyage of the Beagle</td></tr>",
                            "<tr><td>The Water-Babies</td></tr>",
                            "<tr><td>Treasure Island</td></tr>",
                            "<tr><td>Vanity Fair</td></tr>",
                            "<tr><td>Walking</td></tr>",
                            "<tr><td>War and Peace</td></tr>",
                            "<tr><td>Wayfarers</td></tr>",
                            "</table>"
                        ]
                    }
                }
            ],
            "execution_count": 52
        },
        {
            "cell_type": "markdown",
            "source": [
                "2\\. Napisz polecenie, które: \n",
                "\n",
                "- wybiera numer członka biblioteki, isbn książki i wartość naliczonej kary dla wszystkich wypożyczeń, dla których naliczono karę \n",
                "- stwórz kolumnę wyliczeniową zawierającą podwojoną wartość kolumny fine\\_assessed\n",
                "- stwórz alias ‘double fine’ dla tej kolumny"
            ],
            "metadata": {
                "azdata_cell_guid": "297ce503-8049-4807-9efd-7495df94f25a"
            },
            "attachments": {}
        },
        {
            "cell_type": "code",
            "source": [
                "SELECT\r\n",
                "    member_no, \r\n",
                "    fine_assessed, \r\n",
                "    (fine_assessed * 2) AS 'double fine'\r\n",
                "FROM\r\n",
                "    loanhist\r\n",
                "WHERE \r\n",
                "    fine_assessed > 0"
            ],
            "metadata": {
                "azdata_cell_guid": "69e56b19-6017-4995-b4c3-374fcaae06b8",
                "tags": []
            },
            "outputs": [
                {
                    "output_type": "display_data",
                    "data": {
                        "text/html": "(1144 rows affected)"
                    },
                    "metadata": {}
                },
                {
                    "output_type": "display_data",
                    "data": {
                        "text/html": "Total execution time: 00:00:00.018"
                    },
                    "metadata": {}
                },
                {
                    "output_type": "execute_result",
                    "metadata": {},
                    "execution_count": 53,
                    "data": {
                        "application/vnd.dataresource+json": {
                            "schema": {
                                "fields": [
                                    {
                                        "name": "member_no"
                                    },
                                    {
                                        "name": "fine_assessed"
                                    },
                                    {
                                        "name": "double fine"
                                    }
                                ]
                            },
                            "data": [
                                {
                                    "0": "1772",
                                    "1": "2.0000",
                                    "2": "4.0000"
                                },
                                {
                                    "0": "1772",
                                    "1": "2.0000",
                                    "2": "4.0000"
                                },
                                {
                                    "0": "1772",
                                    "1": "2.0000",
                                    "2": "4.0000"
                                },
                                {
                                    "0": "1772",
                                    "1": "2.0000",
                                    "2": "4.0000"
                                },
                                {
                                    "0": "1772",
                                    "1": "2.0000",
                                    "2": "4.0000"
                                },
                                {
                                    "0": "1772",
                                    "1": "2.0000",
                                    "2": "4.0000"
                                },
                                {
                                    "0": "1772",
                                    "1": "2.0000",
                                    "2": "4.0000"
                                },
                                {
                                    "0": "1772",
                                    "1": "2.0000",
                                    "2": "4.0000"
                                },
                                {
                                    "0": "1772",
                                    "1": "2.0000",
                                    "2": "4.0000"
                                },
                                {
                                    "0": "1772",
                                    "1": "2.0000",
                                    "2": "4.0000"
                                },
                                {
                                    "0": "1772",
                                    "1": "2.0000",
                                    "2": "4.0000"
                                },
                                {
                                    "0": "1772",
                                    "1": "2.0000",
                                    "2": "4.0000"
                                },
                                {
                                    "0": "1772",
                                    "1": "2.0000",
                                    "2": "4.0000"
                                },
                                {
                                    "0": "1772",
                                    "1": "2.0000",
                                    "2": "4.0000"
                                },
                                {
                                    "0": "1772",
                                    "1": "2.0000",
                                    "2": "4.0000"
                                },
                                {
                                    "0": "1772",
                                    "1": "2.0000",
                                    "2": "4.0000"
                                },
                                {
                                    "0": "1772",
                                    "1": "2.0000",
                                    "2": "4.0000"
                                },
                                {
                                    "0": "1772",
                                    "1": "2.0000",
                                    "2": "4.0000"
                                },
                                {
                                    "0": "1772",
                                    "1": "2.0000",
                                    "2": "4.0000"
                                },
                                {
                                    "0": "1772",
                                    "1": "2.0000",
                                    "2": "4.0000"
                                },
                                {
                                    "0": "1772",
                                    "1": "2.0000",
                                    "2": "4.0000"
                                },
                                {
                                    "0": "1772",
                                    "1": "2.0000",
                                    "2": "4.0000"
                                },
                                {
                                    "0": "1772",
                                    "1": "2.0000",
                                    "2": "4.0000"
                                },
                                {
                                    "0": "1772",
                                    "1": "2.0000",
                                    "2": "4.0000"
                                },
                                {
                                    "0": "1772",
                                    "1": "2.0000",
                                    "2": "4.0000"
                                },
                                {
                                    "0": "1772",
                                    "1": "2.0000",
                                    "2": "4.0000"
                                },
                                {
                                    "0": "479",
                                    "1": "9.0000",
                                    "2": "18.0000"
                                },
                                {
                                    "0": "479",
                                    "1": "9.0000",
                                    "2": "18.0000"
                                },
                                {
                                    "0": "479",
                                    "1": "9.0000",
                                    "2": "18.0000"
                                },
                                {
                                    "0": "479",
                                    "1": "9.0000",
                                    "2": "18.0000"
                                },
                                {
                                    "0": "479",
                                    "1": "9.0000",
                                    "2": "18.0000"
                                },
                                {
                                    "0": "479",
                                    "1": "9.0000",
                                    "2": "18.0000"
                                },
                                {
                                    "0": "479",
                                    "1": "9.0000",
                                    "2": "18.0000"
                                },
                                {
                                    "0": "479",
                                    "1": "9.0000",
                                    "2": "18.0000"
                                },
                                {
                                    "0": "479",
                                    "1": "9.0000",
                                    "2": "18.0000"
                                },
                                {
                                    "0": "479",
                                    "1": "9.0000",
                                    "2": "18.0000"
                                },
                                {
                                    "0": "479",
                                    "1": "9.0000",
                                    "2": "18.0000"
                                },
                                {
                                    "0": "479",
                                    "1": "9.0000",
                                    "2": "18.0000"
                                },
                                {
                                    "0": "479",
                                    "1": "9.0000",
                                    "2": "18.0000"
                                },
                                {
                                    "0": "479",
                                    "1": "9.0000",
                                    "2": "18.0000"
                                },
                                {
                                    "0": "479",
                                    "1": "9.0000",
                                    "2": "18.0000"
                                },
                                {
                                    "0": "479",
                                    "1": "9.0000",
                                    "2": "18.0000"
                                },
                                {
                                    "0": "479",
                                    "1": "9.0000",
                                    "2": "18.0000"
                                },
                                {
                                    "0": "479",
                                    "1": "9.0000",
                                    "2": "18.0000"
                                },
                                {
                                    "0": "479",
                                    "1": "9.0000",
                                    "2": "18.0000"
                                },
                                {
                                    "0": "479",
                                    "1": "9.0000",
                                    "2": "18.0000"
                                },
                                {
                                    "0": "479",
                                    "1": "9.0000",
                                    "2": "18.0000"
                                },
                                {
                                    "0": "479",
                                    "1": "9.0000",
                                    "2": "18.0000"
                                },
                                {
                                    "0": "479",
                                    "1": "9.0000",
                                    "2": "18.0000"
                                },
                                {
                                    "0": "479",
                                    "1": "9.0000",
                                    "2": "18.0000"
                                },
                                {
                                    "0": "479",
                                    "1": "9.0000",
                                    "2": "18.0000"
                                },
                                {
                                    "0": "479",
                                    "1": "9.0000",
                                    "2": "18.0000"
                                },
                                {
                                    "0": "9182",
                                    "1": "2.0000",
                                    "2": "4.0000"
                                },
                                {
                                    "0": "9182",
                                    "1": "2.0000",
                                    "2": "4.0000"
                                },
                                {
                                    "0": "9182",
                                    "1": "2.0000",
                                    "2": "4.0000"
                                },
                                {
                                    "0": "9182",
                                    "1": "2.0000",
                                    "2": "4.0000"
                                },
                                {
                                    "0": "9182",
                                    "1": "2.0000",
                                    "2": "4.0000"
                                },
                                {
                                    "0": "9182",
                                    "1": "2.0000",
                                    "2": "4.0000"
                                },
                                {
                                    "0": "9182",
                                    "1": "2.0000",
                                    "2": "4.0000"
                                },
                                {
                                    "0": "9182",
                                    "1": "2.0000",
                                    "2": "4.0000"
                                },
                                {
                                    "0": "9182",
                                    "1": "2.0000",
                                    "2": "4.0000"
                                },
                                {
                                    "0": "9182",
                                    "1": "2.0000",
                                    "2": "4.0000"
                                },
                                {
                                    "0": "9182",
                                    "1": "2.0000",
                                    "2": "4.0000"
                                },
                                {
                                    "0": "9182",
                                    "1": "2.0000",
                                    "2": "4.0000"
                                },
                                {
                                    "0": "9182",
                                    "1": "2.0000",
                                    "2": "4.0000"
                                },
                                {
                                    "0": "9182",
                                    "1": "2.0000",
                                    "2": "4.0000"
                                },
                                {
                                    "0": "9182",
                                    "1": "2.0000",
                                    "2": "4.0000"
                                },
                                {
                                    "0": "9182",
                                    "1": "2.0000",
                                    "2": "4.0000"
                                },
                                {
                                    "0": "9182",
                                    "1": "2.0000",
                                    "2": "4.0000"
                                },
                                {
                                    "0": "9182",
                                    "1": "2.0000",
                                    "2": "4.0000"
                                },
                                {
                                    "0": "9182",
                                    "1": "2.0000",
                                    "2": "4.0000"
                                },
                                {
                                    "0": "9182",
                                    "1": "2.0000",
                                    "2": "4.0000"
                                },
                                {
                                    "0": "9182",
                                    "1": "2.0000",
                                    "2": "4.0000"
                                },
                                {
                                    "0": "9182",
                                    "1": "2.0000",
                                    "2": "4.0000"
                                },
                                {
                                    "0": "9182",
                                    "1": "2.0000",
                                    "2": "4.0000"
                                },
                                {
                                    "0": "9182",
                                    "1": "2.0000",
                                    "2": "4.0000"
                                },
                                {
                                    "0": "9182",
                                    "1": "2.0000",
                                    "2": "4.0000"
                                },
                                {
                                    "0": "9182",
                                    "1": "2.0000",
                                    "2": "4.0000"
                                },
                                {
                                    "0": "6575",
                                    "1": "5.0000",
                                    "2": "10.0000"
                                },
                                {
                                    "0": "6575",
                                    "1": "5.0000",
                                    "2": "10.0000"
                                },
                                {
                                    "0": "6575",
                                    "1": "5.0000",
                                    "2": "10.0000"
                                },
                                {
                                    "0": "6575",
                                    "1": "5.0000",
                                    "2": "10.0000"
                                },
                                {
                                    "0": "6575",
                                    "1": "5.0000",
                                    "2": "10.0000"
                                },
                                {
                                    "0": "6575",
                                    "1": "5.0000",
                                    "2": "10.0000"
                                },
                                {
                                    "0": "6575",
                                    "1": "5.0000",
                                    "2": "10.0000"
                                },
                                {
                                    "0": "6575",
                                    "1": "5.0000",
                                    "2": "10.0000"
                                },
                                {
                                    "0": "6575",
                                    "1": "5.0000",
                                    "2": "10.0000"
                                },
                                {
                                    "0": "6575",
                                    "1": "5.0000",
                                    "2": "10.0000"
                                },
                                {
                                    "0": "6575",
                                    "1": "5.0000",
                                    "2": "10.0000"
                                },
                                {
                                    "0": "6575",
                                    "1": "5.0000",
                                    "2": "10.0000"
                                },
                                {
                                    "0": "6575",
                                    "1": "5.0000",
                                    "2": "10.0000"
                                },
                                {
                                    "0": "6575",
                                    "1": "5.0000",
                                    "2": "10.0000"
                                },
                                {
                                    "0": "6575",
                                    "1": "5.0000",
                                    "2": "10.0000"
                                },
                                {
                                    "0": "6575",
                                    "1": "5.0000",
                                    "2": "10.0000"
                                },
                                {
                                    "0": "6575",
                                    "1": "5.0000",
                                    "2": "10.0000"
                                },
                                {
                                    "0": "6575",
                                    "1": "5.0000",
                                    "2": "10.0000"
                                },
                                {
                                    "0": "6575",
                                    "1": "5.0000",
                                    "2": "10.0000"
                                },
                                {
                                    "0": "6575",
                                    "1": "5.0000",
                                    "2": "10.0000"
                                },
                                {
                                    "0": "6575",
                                    "1": "5.0000",
                                    "2": "10.0000"
                                },
                                {
                                    "0": "6575",
                                    "1": "5.0000",
                                    "2": "10.0000"
                                },
                                {
                                    "0": "6575",
                                    "1": "5.0000",
                                    "2": "10.0000"
                                },
                                {
                                    "0": "6575",
                                    "1": "5.0000",
                                    "2": "10.0000"
                                },
                                {
                                    "0": "6575",
                                    "1": "5.0000",
                                    "2": "10.0000"
                                },
                                {
                                    "0": "6575",
                                    "1": "5.0000",
                                    "2": "10.0000"
                                },
                                {
                                    "0": "5265",
                                    "1": "5.0000",
                                    "2": "10.0000"
                                },
                                {
                                    "0": "5265",
                                    "1": "5.0000",
                                    "2": "10.0000"
                                },
                                {
                                    "0": "5265",
                                    "1": "5.0000",
                                    "2": "10.0000"
                                },
                                {
                                    "0": "5265",
                                    "1": "5.0000",
                                    "2": "10.0000"
                                },
                                {
                                    "0": "5265",
                                    "1": "5.0000",
                                    "2": "10.0000"
                                },
                                {
                                    "0": "5265",
                                    "1": "5.0000",
                                    "2": "10.0000"
                                },
                                {
                                    "0": "5265",
                                    "1": "5.0000",
                                    "2": "10.0000"
                                },
                                {
                                    "0": "5265",
                                    "1": "5.0000",
                                    "2": "10.0000"
                                },
                                {
                                    "0": "5265",
                                    "1": "5.0000",
                                    "2": "10.0000"
                                },
                                {
                                    "0": "5265",
                                    "1": "5.0000",
                                    "2": "10.0000"
                                },
                                {
                                    "0": "5265",
                                    "1": "5.0000",
                                    "2": "10.0000"
                                },
                                {
                                    "0": "5265",
                                    "1": "5.0000",
                                    "2": "10.0000"
                                },
                                {
                                    "0": "5265",
                                    "1": "5.0000",
                                    "2": "10.0000"
                                },
                                {
                                    "0": "5265",
                                    "1": "5.0000",
                                    "2": "10.0000"
                                },
                                {
                                    "0": "5265",
                                    "1": "5.0000",
                                    "2": "10.0000"
                                },
                                {
                                    "0": "5265",
                                    "1": "5.0000",
                                    "2": "10.0000"
                                },
                                {
                                    "0": "5265",
                                    "1": "5.0000",
                                    "2": "10.0000"
                                },
                                {
                                    "0": "5265",
                                    "1": "5.0000",
                                    "2": "10.0000"
                                },
                                {
                                    "0": "5265",
                                    "1": "5.0000",
                                    "2": "10.0000"
                                },
                                {
                                    "0": "5265",
                                    "1": "5.0000",
                                    "2": "10.0000"
                                },
                                {
                                    "0": "5265",
                                    "1": "5.0000",
                                    "2": "10.0000"
                                },
                                {
                                    "0": "5265",
                                    "1": "5.0000",
                                    "2": "10.0000"
                                },
                                {
                                    "0": "5265",
                                    "1": "5.0000",
                                    "2": "10.0000"
                                },
                                {
                                    "0": "5265",
                                    "1": "5.0000",
                                    "2": "10.0000"
                                },
                                {
                                    "0": "5265",
                                    "1": "5.0000",
                                    "2": "10.0000"
                                },
                                {
                                    "0": "5265",
                                    "1": "5.0000",
                                    "2": "10.0000"
                                },
                                {
                                    "0": "3953",
                                    "1": "3.0000",
                                    "2": "6.0000"
                                },
                                {
                                    "0": "3953",
                                    "1": "3.0000",
                                    "2": "6.0000"
                                },
                                {
                                    "0": "3953",
                                    "1": "3.0000",
                                    "2": "6.0000"
                                },
                                {
                                    "0": "3953",
                                    "1": "3.0000",
                                    "2": "6.0000"
                                },
                                {
                                    "0": "3953",
                                    "1": "3.0000",
                                    "2": "6.0000"
                                },
                                {
                                    "0": "3953",
                                    "1": "3.0000",
                                    "2": "6.0000"
                                },
                                {
                                    "0": "3953",
                                    "1": "3.0000",
                                    "2": "6.0000"
                                },
                                {
                                    "0": "3953",
                                    "1": "3.0000",
                                    "2": "6.0000"
                                },
                                {
                                    "0": "3953",
                                    "1": "3.0000",
                                    "2": "6.0000"
                                },
                                {
                                    "0": "3953",
                                    "1": "3.0000",
                                    "2": "6.0000"
                                },
                                {
                                    "0": "3953",
                                    "1": "3.0000",
                                    "2": "6.0000"
                                },
                                {
                                    "0": "3953",
                                    "1": "3.0000",
                                    "2": "6.0000"
                                },
                                {
                                    "0": "3953",
                                    "1": "3.0000",
                                    "2": "6.0000"
                                },
                                {
                                    "0": "3953",
                                    "1": "3.0000",
                                    "2": "6.0000"
                                },
                                {
                                    "0": "3953",
                                    "1": "3.0000",
                                    "2": "6.0000"
                                },
                                {
                                    "0": "3953",
                                    "1": "3.0000",
                                    "2": "6.0000"
                                },
                                {
                                    "0": "3953",
                                    "1": "3.0000",
                                    "2": "6.0000"
                                },
                                {
                                    "0": "3953",
                                    "1": "3.0000",
                                    "2": "6.0000"
                                },
                                {
                                    "0": "3953",
                                    "1": "3.0000",
                                    "2": "6.0000"
                                },
                                {
                                    "0": "3953",
                                    "1": "3.0000",
                                    "2": "6.0000"
                                },
                                {
                                    "0": "3953",
                                    "1": "3.0000",
                                    "2": "6.0000"
                                },
                                {
                                    "0": "3953",
                                    "1": "3.0000",
                                    "2": "6.0000"
                                },
                                {
                                    "0": "3953",
                                    "1": "3.0000",
                                    "2": "6.0000"
                                },
                                {
                                    "0": "3953",
                                    "1": "3.0000",
                                    "2": "6.0000"
                                },
                                {
                                    "0": "3953",
                                    "1": "3.0000",
                                    "2": "6.0000"
                                },
                                {
                                    "0": "3953",
                                    "1": "3.0000",
                                    "2": "6.0000"
                                },
                                {
                                    "0": "2638",
                                    "1": "8.0000",
                                    "2": "16.0000"
                                },
                                {
                                    "0": "2638",
                                    "1": "8.0000",
                                    "2": "16.0000"
                                },
                                {
                                    "0": "2638",
                                    "1": "8.0000",
                                    "2": "16.0000"
                                },
                                {
                                    "0": "2638",
                                    "1": "8.0000",
                                    "2": "16.0000"
                                },
                                {
                                    "0": "2638",
                                    "1": "8.0000",
                                    "2": "16.0000"
                                },
                                {
                                    "0": "2638",
                                    "1": "8.0000",
                                    "2": "16.0000"
                                },
                                {
                                    "0": "2638",
                                    "1": "8.0000",
                                    "2": "16.0000"
                                },
                                {
                                    "0": "2638",
                                    "1": "8.0000",
                                    "2": "16.0000"
                                },
                                {
                                    "0": "2638",
                                    "1": "8.0000",
                                    "2": "16.0000"
                                },
                                {
                                    "0": "2638",
                                    "1": "8.0000",
                                    "2": "16.0000"
                                },
                                {
                                    "0": "2638",
                                    "1": "8.0000",
                                    "2": "16.0000"
                                },
                                {
                                    "0": "2638",
                                    "1": "8.0000",
                                    "2": "16.0000"
                                },
                                {
                                    "0": "2638",
                                    "1": "8.0000",
                                    "2": "16.0000"
                                },
                                {
                                    "0": "2638",
                                    "1": "8.0000",
                                    "2": "16.0000"
                                },
                                {
                                    "0": "2638",
                                    "1": "8.0000",
                                    "2": "16.0000"
                                },
                                {
                                    "0": "2638",
                                    "1": "8.0000",
                                    "2": "16.0000"
                                },
                                {
                                    "0": "2638",
                                    "1": "8.0000",
                                    "2": "16.0000"
                                },
                                {
                                    "0": "2638",
                                    "1": "8.0000",
                                    "2": "16.0000"
                                },
                                {
                                    "0": "2638",
                                    "1": "8.0000",
                                    "2": "16.0000"
                                },
                                {
                                    "0": "2638",
                                    "1": "8.0000",
                                    "2": "16.0000"
                                },
                                {
                                    "0": "2638",
                                    "1": "8.0000",
                                    "2": "16.0000"
                                },
                                {
                                    "0": "2638",
                                    "1": "8.0000",
                                    "2": "16.0000"
                                },
                                {
                                    "0": "2638",
                                    "1": "8.0000",
                                    "2": "16.0000"
                                },
                                {
                                    "0": "2638",
                                    "1": "8.0000",
                                    "2": "16.0000"
                                },
                                {
                                    "0": "2638",
                                    "1": "8.0000",
                                    "2": "16.0000"
                                },
                                {
                                    "0": "2638",
                                    "1": "8.0000",
                                    "2": "16.0000"
                                },
                                {
                                    "0": "1321",
                                    "1": "1.0000",
                                    "2": "2.0000"
                                },
                                {
                                    "0": "1321",
                                    "1": "1.0000",
                                    "2": "2.0000"
                                },
                                {
                                    "0": "1321",
                                    "1": "1.0000",
                                    "2": "2.0000"
                                },
                                {
                                    "0": "1321",
                                    "1": "1.0000",
                                    "2": "2.0000"
                                },
                                {
                                    "0": "1321",
                                    "1": "1.0000",
                                    "2": "2.0000"
                                },
                                {
                                    "0": "1321",
                                    "1": "1.0000",
                                    "2": "2.0000"
                                },
                                {
                                    "0": "1321",
                                    "1": "1.0000",
                                    "2": "2.0000"
                                },
                                {
                                    "0": "1321",
                                    "1": "1.0000",
                                    "2": "2.0000"
                                },
                                {
                                    "0": "1321",
                                    "1": "1.0000",
                                    "2": "2.0000"
                                },
                                {
                                    "0": "1321",
                                    "1": "1.0000",
                                    "2": "2.0000"
                                },
                                {
                                    "0": "1321",
                                    "1": "1.0000",
                                    "2": "2.0000"
                                },
                                {
                                    "0": "1321",
                                    "1": "1.0000",
                                    "2": "2.0000"
                                },
                                {
                                    "0": "1321",
                                    "1": "1.0000",
                                    "2": "2.0000"
                                },
                                {
                                    "0": "1321",
                                    "1": "1.0000",
                                    "2": "2.0000"
                                },
                                {
                                    "0": "1321",
                                    "1": "1.0000",
                                    "2": "2.0000"
                                },
                                {
                                    "0": "1321",
                                    "1": "1.0000",
                                    "2": "2.0000"
                                },
                                {
                                    "0": "1321",
                                    "1": "1.0000",
                                    "2": "2.0000"
                                },
                                {
                                    "0": "1321",
                                    "1": "1.0000",
                                    "2": "2.0000"
                                },
                                {
                                    "0": "1321",
                                    "1": "1.0000",
                                    "2": "2.0000"
                                },
                                {
                                    "0": "1321",
                                    "1": "1.0000",
                                    "2": "2.0000"
                                },
                                {
                                    "0": "1321",
                                    "1": "1.0000",
                                    "2": "2.0000"
                                },
                                {
                                    "0": "1321",
                                    "1": "1.0000",
                                    "2": "2.0000"
                                },
                                {
                                    "0": "1321",
                                    "1": "1.0000",
                                    "2": "2.0000"
                                },
                                {
                                    "0": "1321",
                                    "1": "1.0000",
                                    "2": "2.0000"
                                },
                                {
                                    "0": "1321",
                                    "1": "1.0000",
                                    "2": "2.0000"
                                },
                                {
                                    "0": "1321",
                                    "1": "1.0000",
                                    "2": "2.0000"
                                },
                                {
                                    "0": "8105",
                                    "1": "5.0000",
                                    "2": "10.0000"
                                },
                                {
                                    "0": "8105",
                                    "1": "5.0000",
                                    "2": "10.0000"
                                },
                                {
                                    "0": "8105",
                                    "1": "5.0000",
                                    "2": "10.0000"
                                },
                                {
                                    "0": "8105",
                                    "1": "5.0000",
                                    "2": "10.0000"
                                },
                                {
                                    "0": "8105",
                                    "1": "5.0000",
                                    "2": "10.0000"
                                },
                                {
                                    "0": "8105",
                                    "1": "5.0000",
                                    "2": "10.0000"
                                },
                                {
                                    "0": "8105",
                                    "1": "5.0000",
                                    "2": "10.0000"
                                },
                                {
                                    "0": "8105",
                                    "1": "5.0000",
                                    "2": "10.0000"
                                },
                                {
                                    "0": "8105",
                                    "1": "5.0000",
                                    "2": "10.0000"
                                },
                                {
                                    "0": "8105",
                                    "1": "5.0000",
                                    "2": "10.0000"
                                },
                                {
                                    "0": "8105",
                                    "1": "5.0000",
                                    "2": "10.0000"
                                },
                                {
                                    "0": "8105",
                                    "1": "5.0000",
                                    "2": "10.0000"
                                },
                                {
                                    "0": "8105",
                                    "1": "5.0000",
                                    "2": "10.0000"
                                },
                                {
                                    "0": "8105",
                                    "1": "5.0000",
                                    "2": "10.0000"
                                },
                                {
                                    "0": "8105",
                                    "1": "5.0000",
                                    "2": "10.0000"
                                },
                                {
                                    "0": "8105",
                                    "1": "5.0000",
                                    "2": "10.0000"
                                },
                                {
                                    "0": "8105",
                                    "1": "5.0000",
                                    "2": "10.0000"
                                },
                                {
                                    "0": "8105",
                                    "1": "5.0000",
                                    "2": "10.0000"
                                },
                                {
                                    "0": "8105",
                                    "1": "5.0000",
                                    "2": "10.0000"
                                },
                                {
                                    "0": "8105",
                                    "1": "5.0000",
                                    "2": "10.0000"
                                },
                                {
                                    "0": "8105",
                                    "1": "5.0000",
                                    "2": "10.0000"
                                },
                                {
                                    "0": "8105",
                                    "1": "5.0000",
                                    "2": "10.0000"
                                },
                                {
                                    "0": "8105",
                                    "1": "5.0000",
                                    "2": "10.0000"
                                },
                                {
                                    "0": "8105",
                                    "1": "5.0000",
                                    "2": "10.0000"
                                },
                                {
                                    "0": "8105",
                                    "1": "5.0000",
                                    "2": "10.0000"
                                },
                                {
                                    "0": "8105",
                                    "1": "5.0000",
                                    "2": "10.0000"
                                },
                                {
                                    "0": "5152",
                                    "1": "2.0000",
                                    "2": "4.0000"
                                },
                                {
                                    "0": "5152",
                                    "1": "2.0000",
                                    "2": "4.0000"
                                },
                                {
                                    "0": "5152",
                                    "1": "2.0000",
                                    "2": "4.0000"
                                },
                                {
                                    "0": "5152",
                                    "1": "2.0000",
                                    "2": "4.0000"
                                },
                                {
                                    "0": "5152",
                                    "1": "2.0000",
                                    "2": "4.0000"
                                },
                                {
                                    "0": "5152",
                                    "1": "2.0000",
                                    "2": "4.0000"
                                },
                                {
                                    "0": "5152",
                                    "1": "2.0000",
                                    "2": "4.0000"
                                },
                                {
                                    "0": "5152",
                                    "1": "2.0000",
                                    "2": "4.0000"
                                },
                                {
                                    "0": "5152",
                                    "1": "2.0000",
                                    "2": "4.0000"
                                },
                                {
                                    "0": "5152",
                                    "1": "2.0000",
                                    "2": "4.0000"
                                },
                                {
                                    "0": "5152",
                                    "1": "2.0000",
                                    "2": "4.0000"
                                },
                                {
                                    "0": "5152",
                                    "1": "2.0000",
                                    "2": "4.0000"
                                },
                                {
                                    "0": "5152",
                                    "1": "2.0000",
                                    "2": "4.0000"
                                },
                                {
                                    "0": "5152",
                                    "1": "2.0000",
                                    "2": "4.0000"
                                },
                                {
                                    "0": "5152",
                                    "1": "2.0000",
                                    "2": "4.0000"
                                },
                                {
                                    "0": "5152",
                                    "1": "2.0000",
                                    "2": "4.0000"
                                },
                                {
                                    "0": "5152",
                                    "1": "2.0000",
                                    "2": "4.0000"
                                },
                                {
                                    "0": "5152",
                                    "1": "2.0000",
                                    "2": "4.0000"
                                },
                                {
                                    "0": "5152",
                                    "1": "2.0000",
                                    "2": "4.0000"
                                },
                                {
                                    "0": "5152",
                                    "1": "2.0000",
                                    "2": "4.0000"
                                },
                                {
                                    "0": "5152",
                                    "1": "2.0000",
                                    "2": "4.0000"
                                },
                                {
                                    "0": "5152",
                                    "1": "2.0000",
                                    "2": "4.0000"
                                },
                                {
                                    "0": "5152",
                                    "1": "2.0000",
                                    "2": "4.0000"
                                },
                                {
                                    "0": "5152",
                                    "1": "2.0000",
                                    "2": "4.0000"
                                },
                                {
                                    "0": "5152",
                                    "1": "2.0000",
                                    "2": "4.0000"
                                },
                                {
                                    "0": "5152",
                                    "1": "2.0000",
                                    "2": "4.0000"
                                },
                                {
                                    "0": "2229",
                                    "1": "9.0000",
                                    "2": "18.0000"
                                },
                                {
                                    "0": "2229",
                                    "1": "9.0000",
                                    "2": "18.0000"
                                },
                                {
                                    "0": "2229",
                                    "1": "9.0000",
                                    "2": "18.0000"
                                },
                                {
                                    "0": "2229",
                                    "1": "9.0000",
                                    "2": "18.0000"
                                },
                                {
                                    "0": "2229",
                                    "1": "9.0000",
                                    "2": "18.0000"
                                },
                                {
                                    "0": "2229",
                                    "1": "9.0000",
                                    "2": "18.0000"
                                },
                                {
                                    "0": "2229",
                                    "1": "9.0000",
                                    "2": "18.0000"
                                },
                                {
                                    "0": "2229",
                                    "1": "9.0000",
                                    "2": "18.0000"
                                },
                                {
                                    "0": "2229",
                                    "1": "9.0000",
                                    "2": "18.0000"
                                },
                                {
                                    "0": "2229",
                                    "1": "9.0000",
                                    "2": "18.0000"
                                },
                                {
                                    "0": "2229",
                                    "1": "9.0000",
                                    "2": "18.0000"
                                },
                                {
                                    "0": "2229",
                                    "1": "9.0000",
                                    "2": "18.0000"
                                },
                                {
                                    "0": "2229",
                                    "1": "9.0000",
                                    "2": "18.0000"
                                },
                                {
                                    "0": "2229",
                                    "1": "9.0000",
                                    "2": "18.0000"
                                },
                                {
                                    "0": "2229",
                                    "1": "9.0000",
                                    "2": "18.0000"
                                },
                                {
                                    "0": "2229",
                                    "1": "9.0000",
                                    "2": "18.0000"
                                },
                                {
                                    "0": "2229",
                                    "1": "9.0000",
                                    "2": "18.0000"
                                },
                                {
                                    "0": "2229",
                                    "1": "9.0000",
                                    "2": "18.0000"
                                },
                                {
                                    "0": "2229",
                                    "1": "9.0000",
                                    "2": "18.0000"
                                },
                                {
                                    "0": "2229",
                                    "1": "9.0000",
                                    "2": "18.0000"
                                },
                                {
                                    "0": "2229",
                                    "1": "9.0000",
                                    "2": "18.0000"
                                },
                                {
                                    "0": "2229",
                                    "1": "9.0000",
                                    "2": "18.0000"
                                },
                                {
                                    "0": "2229",
                                    "1": "9.0000",
                                    "2": "18.0000"
                                },
                                {
                                    "0": "2229",
                                    "1": "9.0000",
                                    "2": "18.0000"
                                },
                                {
                                    "0": "2229",
                                    "1": "9.0000",
                                    "2": "18.0000"
                                },
                                {
                                    "0": "2229",
                                    "1": "9.0000",
                                    "2": "18.0000"
                                },
                                {
                                    "0": "9336",
                                    "1": "6.0000",
                                    "2": "12.0000"
                                },
                                {
                                    "0": "9336",
                                    "1": "6.0000",
                                    "2": "12.0000"
                                },
                                {
                                    "0": "9336",
                                    "1": "6.0000",
                                    "2": "12.0000"
                                },
                                {
                                    "0": "9336",
                                    "1": "6.0000",
                                    "2": "12.0000"
                                },
                                {
                                    "0": "9336",
                                    "1": "6.0000",
                                    "2": "12.0000"
                                },
                                {
                                    "0": "9336",
                                    "1": "6.0000",
                                    "2": "12.0000"
                                },
                                {
                                    "0": "9336",
                                    "1": "6.0000",
                                    "2": "12.0000"
                                },
                                {
                                    "0": "9336",
                                    "1": "6.0000",
                                    "2": "12.0000"
                                },
                                {
                                    "0": "9336",
                                    "1": "6.0000",
                                    "2": "12.0000"
                                },
                                {
                                    "0": "9336",
                                    "1": "6.0000",
                                    "2": "12.0000"
                                },
                                {
                                    "0": "9336",
                                    "1": "6.0000",
                                    "2": "12.0000"
                                },
                                {
                                    "0": "9336",
                                    "1": "6.0000",
                                    "2": "12.0000"
                                },
                                {
                                    "0": "9336",
                                    "1": "6.0000",
                                    "2": "12.0000"
                                },
                                {
                                    "0": "9336",
                                    "1": "6.0000",
                                    "2": "12.0000"
                                },
                                {
                                    "0": "9336",
                                    "1": "6.0000",
                                    "2": "12.0000"
                                },
                                {
                                    "0": "9336",
                                    "1": "6.0000",
                                    "2": "12.0000"
                                },
                                {
                                    "0": "9336",
                                    "1": "6.0000",
                                    "2": "12.0000"
                                },
                                {
                                    "0": "9336",
                                    "1": "6.0000",
                                    "2": "12.0000"
                                },
                                {
                                    "0": "9336",
                                    "1": "6.0000",
                                    "2": "12.0000"
                                },
                                {
                                    "0": "9336",
                                    "1": "6.0000",
                                    "2": "12.0000"
                                },
                                {
                                    "0": "9336",
                                    "1": "6.0000",
                                    "2": "12.0000"
                                },
                                {
                                    "0": "9336",
                                    "1": "6.0000",
                                    "2": "12.0000"
                                },
                                {
                                    "0": "9336",
                                    "1": "6.0000",
                                    "2": "12.0000"
                                },
                                {
                                    "0": "9336",
                                    "1": "6.0000",
                                    "2": "12.0000"
                                },
                                {
                                    "0": "9336",
                                    "1": "6.0000",
                                    "2": "12.0000"
                                },
                                {
                                    "0": "9336",
                                    "1": "6.0000",
                                    "2": "12.0000"
                                },
                                {
                                    "0": "6475",
                                    "1": "5.0000",
                                    "2": "10.0000"
                                },
                                {
                                    "0": "6475",
                                    "1": "5.0000",
                                    "2": "10.0000"
                                },
                                {
                                    "0": "6475",
                                    "1": "5.0000",
                                    "2": "10.0000"
                                },
                                {
                                    "0": "6475",
                                    "1": "5.0000",
                                    "2": "10.0000"
                                },
                                {
                                    "0": "6475",
                                    "1": "5.0000",
                                    "2": "10.0000"
                                },
                                {
                                    "0": "6475",
                                    "1": "5.0000",
                                    "2": "10.0000"
                                },
                                {
                                    "0": "6475",
                                    "1": "5.0000",
                                    "2": "10.0000"
                                },
                                {
                                    "0": "6475",
                                    "1": "5.0000",
                                    "2": "10.0000"
                                },
                                {
                                    "0": "6475",
                                    "1": "5.0000",
                                    "2": "10.0000"
                                },
                                {
                                    "0": "6475",
                                    "1": "5.0000",
                                    "2": "10.0000"
                                },
                                {
                                    "0": "6475",
                                    "1": "5.0000",
                                    "2": "10.0000"
                                },
                                {
                                    "0": "6475",
                                    "1": "5.0000",
                                    "2": "10.0000"
                                },
                                {
                                    "0": "6475",
                                    "1": "5.0000",
                                    "2": "10.0000"
                                },
                                {
                                    "0": "6475",
                                    "1": "5.0000",
                                    "2": "10.0000"
                                },
                                {
                                    "0": "6475",
                                    "1": "5.0000",
                                    "2": "10.0000"
                                },
                                {
                                    "0": "6475",
                                    "1": "5.0000",
                                    "2": "10.0000"
                                },
                                {
                                    "0": "6475",
                                    "1": "5.0000",
                                    "2": "10.0000"
                                },
                                {
                                    "0": "6475",
                                    "1": "5.0000",
                                    "2": "10.0000"
                                },
                                {
                                    "0": "6475",
                                    "1": "5.0000",
                                    "2": "10.0000"
                                },
                                {
                                    "0": "6475",
                                    "1": "5.0000",
                                    "2": "10.0000"
                                },
                                {
                                    "0": "6475",
                                    "1": "5.0000",
                                    "2": "10.0000"
                                },
                                {
                                    "0": "6475",
                                    "1": "5.0000",
                                    "2": "10.0000"
                                },
                                {
                                    "0": "6475",
                                    "1": "5.0000",
                                    "2": "10.0000"
                                },
                                {
                                    "0": "6475",
                                    "1": "5.0000",
                                    "2": "10.0000"
                                },
                                {
                                    "0": "6475",
                                    "1": "5.0000",
                                    "2": "10.0000"
                                },
                                {
                                    "0": "6475",
                                    "1": "5.0000",
                                    "2": "10.0000"
                                },
                                {
                                    "0": "3645",
                                    "1": "5.0000",
                                    "2": "10.0000"
                                },
                                {
                                    "0": "3645",
                                    "1": "5.0000",
                                    "2": "10.0000"
                                },
                                {
                                    "0": "3645",
                                    "1": "5.0000",
                                    "2": "10.0000"
                                },
                                {
                                    "0": "3645",
                                    "1": "5.0000",
                                    "2": "10.0000"
                                },
                                {
                                    "0": "3645",
                                    "1": "5.0000",
                                    "2": "10.0000"
                                },
                                {
                                    "0": "3645",
                                    "1": "5.0000",
                                    "2": "10.0000"
                                },
                                {
                                    "0": "3645",
                                    "1": "5.0000",
                                    "2": "10.0000"
                                },
                                {
                                    "0": "3645",
                                    "1": "5.0000",
                                    "2": "10.0000"
                                },
                                {
                                    "0": "3645",
                                    "1": "5.0000",
                                    "2": "10.0000"
                                },
                                {
                                    "0": "3645",
                                    "1": "5.0000",
                                    "2": "10.0000"
                                },
                                {
                                    "0": "3645",
                                    "1": "5.0000",
                                    "2": "10.0000"
                                },
                                {
                                    "0": "3645",
                                    "1": "5.0000",
                                    "2": "10.0000"
                                },
                                {
                                    "0": "3645",
                                    "1": "5.0000",
                                    "2": "10.0000"
                                },
                                {
                                    "0": "3645",
                                    "1": "5.0000",
                                    "2": "10.0000"
                                },
                                {
                                    "0": "3645",
                                    "1": "5.0000",
                                    "2": "10.0000"
                                },
                                {
                                    "0": "3645",
                                    "1": "5.0000",
                                    "2": "10.0000"
                                },
                                {
                                    "0": "3645",
                                    "1": "5.0000",
                                    "2": "10.0000"
                                },
                                {
                                    "0": "3645",
                                    "1": "5.0000",
                                    "2": "10.0000"
                                },
                                {
                                    "0": "3645",
                                    "1": "5.0000",
                                    "2": "10.0000"
                                },
                                {
                                    "0": "3645",
                                    "1": "5.0000",
                                    "2": "10.0000"
                                },
                                {
                                    "0": "3645",
                                    "1": "5.0000",
                                    "2": "10.0000"
                                },
                                {
                                    "0": "3645",
                                    "1": "5.0000",
                                    "2": "10.0000"
                                },
                                {
                                    "0": "3645",
                                    "1": "5.0000",
                                    "2": "10.0000"
                                },
                                {
                                    "0": "3645",
                                    "1": "5.0000",
                                    "2": "10.0000"
                                },
                                {
                                    "0": "3645",
                                    "1": "5.0000",
                                    "2": "10.0000"
                                },
                                {
                                    "0": "3645",
                                    "1": "5.0000",
                                    "2": "10.0000"
                                },
                                {
                                    "0": "848",
                                    "1": "8.0000",
                                    "2": "16.0000"
                                },
                                {
                                    "0": "848",
                                    "1": "8.0000",
                                    "2": "16.0000"
                                },
                                {
                                    "0": "848",
                                    "1": "8.0000",
                                    "2": "16.0000"
                                },
                                {
                                    "0": "848",
                                    "1": "8.0000",
                                    "2": "16.0000"
                                },
                                {
                                    "0": "848",
                                    "1": "8.0000",
                                    "2": "16.0000"
                                },
                                {
                                    "0": "848",
                                    "1": "8.0000",
                                    "2": "16.0000"
                                },
                                {
                                    "0": "848",
                                    "1": "8.0000",
                                    "2": "16.0000"
                                },
                                {
                                    "0": "848",
                                    "1": "8.0000",
                                    "2": "16.0000"
                                },
                                {
                                    "0": "848",
                                    "1": "8.0000",
                                    "2": "16.0000"
                                },
                                {
                                    "0": "848",
                                    "1": "8.0000",
                                    "2": "16.0000"
                                },
                                {
                                    "0": "848",
                                    "1": "8.0000",
                                    "2": "16.0000"
                                },
                                {
                                    "0": "848",
                                    "1": "8.0000",
                                    "2": "16.0000"
                                },
                                {
                                    "0": "848",
                                    "1": "8.0000",
                                    "2": "16.0000"
                                },
                                {
                                    "0": "848",
                                    "1": "8.0000",
                                    "2": "16.0000"
                                },
                                {
                                    "0": "848",
                                    "1": "8.0000",
                                    "2": "16.0000"
                                },
                                {
                                    "0": "848",
                                    "1": "8.0000",
                                    "2": "16.0000"
                                },
                                {
                                    "0": "848",
                                    "1": "8.0000",
                                    "2": "16.0000"
                                },
                                {
                                    "0": "848",
                                    "1": "8.0000",
                                    "2": "16.0000"
                                },
                                {
                                    "0": "848",
                                    "1": "8.0000",
                                    "2": "16.0000"
                                },
                                {
                                    "0": "848",
                                    "1": "8.0000",
                                    "2": "16.0000"
                                },
                                {
                                    "0": "848",
                                    "1": "8.0000",
                                    "2": "16.0000"
                                },
                                {
                                    "0": "848",
                                    "1": "8.0000",
                                    "2": "16.0000"
                                },
                                {
                                    "0": "848",
                                    "1": "8.0000",
                                    "2": "16.0000"
                                },
                                {
                                    "0": "848",
                                    "1": "8.0000",
                                    "2": "16.0000"
                                },
                                {
                                    "0": "848",
                                    "1": "8.0000",
                                    "2": "16.0000"
                                },
                                {
                                    "0": "848",
                                    "1": "8.0000",
                                    "2": "16.0000"
                                },
                                {
                                    "0": "8084",
                                    "1": "4.0000",
                                    "2": "8.0000"
                                },
                                {
                                    "0": "8084",
                                    "1": "4.0000",
                                    "2": "8.0000"
                                },
                                {
                                    "0": "8084",
                                    "1": "4.0000",
                                    "2": "8.0000"
                                },
                                {
                                    "0": "8084",
                                    "1": "4.0000",
                                    "2": "8.0000"
                                },
                                {
                                    "0": "8084",
                                    "1": "4.0000",
                                    "2": "8.0000"
                                },
                                {
                                    "0": "8084",
                                    "1": "4.0000",
                                    "2": "8.0000"
                                },
                                {
                                    "0": "8084",
                                    "1": "4.0000",
                                    "2": "8.0000"
                                },
                                {
                                    "0": "8084",
                                    "1": "4.0000",
                                    "2": "8.0000"
                                },
                                {
                                    "0": "8084",
                                    "1": "4.0000",
                                    "2": "8.0000"
                                },
                                {
                                    "0": "8084",
                                    "1": "4.0000",
                                    "2": "8.0000"
                                },
                                {
                                    "0": "8084",
                                    "1": "4.0000",
                                    "2": "8.0000"
                                },
                                {
                                    "0": "8084",
                                    "1": "4.0000",
                                    "2": "8.0000"
                                },
                                {
                                    "0": "8084",
                                    "1": "4.0000",
                                    "2": "8.0000"
                                },
                                {
                                    "0": "8084",
                                    "1": "4.0000",
                                    "2": "8.0000"
                                },
                                {
                                    "0": "8084",
                                    "1": "4.0000",
                                    "2": "8.0000"
                                },
                                {
                                    "0": "8084",
                                    "1": "4.0000",
                                    "2": "8.0000"
                                },
                                {
                                    "0": "8084",
                                    "1": "4.0000",
                                    "2": "8.0000"
                                },
                                {
                                    "0": "8084",
                                    "1": "4.0000",
                                    "2": "8.0000"
                                },
                                {
                                    "0": "8084",
                                    "1": "4.0000",
                                    "2": "8.0000"
                                },
                                {
                                    "0": "8084",
                                    "1": "4.0000",
                                    "2": "8.0000"
                                },
                                {
                                    "0": "8084",
                                    "1": "4.0000",
                                    "2": "8.0000"
                                },
                                {
                                    "0": "8084",
                                    "1": "4.0000",
                                    "2": "8.0000"
                                },
                                {
                                    "0": "8084",
                                    "1": "4.0000",
                                    "2": "8.0000"
                                },
                                {
                                    "0": "8084",
                                    "1": "4.0000",
                                    "2": "8.0000"
                                },
                                {
                                    "0": "8084",
                                    "1": "4.0000",
                                    "2": "8.0000"
                                },
                                {
                                    "0": "8084",
                                    "1": "4.0000",
                                    "2": "8.0000"
                                },
                                {
                                    "0": "5354",
                                    "1": "4.0000",
                                    "2": "8.0000"
                                },
                                {
                                    "0": "5354",
                                    "1": "4.0000",
                                    "2": "8.0000"
                                },
                                {
                                    "0": "5354",
                                    "1": "4.0000",
                                    "2": "8.0000"
                                },
                                {
                                    "0": "5354",
                                    "1": "4.0000",
                                    "2": "8.0000"
                                },
                                {
                                    "0": "5354",
                                    "1": "4.0000",
                                    "2": "8.0000"
                                },
                                {
                                    "0": "5354",
                                    "1": "4.0000",
                                    "2": "8.0000"
                                },
                                {
                                    "0": "5354",
                                    "1": "4.0000",
                                    "2": "8.0000"
                                },
                                {
                                    "0": "5354",
                                    "1": "4.0000",
                                    "2": "8.0000"
                                },
                                {
                                    "0": "5354",
                                    "1": "4.0000",
                                    "2": "8.0000"
                                },
                                {
                                    "0": "5354",
                                    "1": "4.0000",
                                    "2": "8.0000"
                                },
                                {
                                    "0": "5354",
                                    "1": "4.0000",
                                    "2": "8.0000"
                                },
                                {
                                    "0": "5354",
                                    "1": "4.0000",
                                    "2": "8.0000"
                                },
                                {
                                    "0": "5354",
                                    "1": "4.0000",
                                    "2": "8.0000"
                                },
                                {
                                    "0": "5354",
                                    "1": "4.0000",
                                    "2": "8.0000"
                                },
                                {
                                    "0": "5354",
                                    "1": "4.0000",
                                    "2": "8.0000"
                                },
                                {
                                    "0": "5354",
                                    "1": "4.0000",
                                    "2": "8.0000"
                                },
                                {
                                    "0": "5354",
                                    "1": "4.0000",
                                    "2": "8.0000"
                                },
                                {
                                    "0": "5354",
                                    "1": "4.0000",
                                    "2": "8.0000"
                                },
                                {
                                    "0": "5354",
                                    "1": "4.0000",
                                    "2": "8.0000"
                                },
                                {
                                    "0": "5354",
                                    "1": "4.0000",
                                    "2": "8.0000"
                                },
                                {
                                    "0": "5354",
                                    "1": "4.0000",
                                    "2": "8.0000"
                                },
                                {
                                    "0": "5354",
                                    "1": "4.0000",
                                    "2": "8.0000"
                                },
                                {
                                    "0": "5354",
                                    "1": "4.0000",
                                    "2": "8.0000"
                                },
                                {
                                    "0": "5354",
                                    "1": "4.0000",
                                    "2": "8.0000"
                                },
                                {
                                    "0": "5354",
                                    "1": "4.0000",
                                    "2": "8.0000"
                                },
                                {
                                    "0": "5354",
                                    "1": "4.0000",
                                    "2": "8.0000"
                                },
                                {
                                    "0": "4426",
                                    "1": "6.0000",
                                    "2": "12.0000"
                                },
                                {
                                    "0": "4426",
                                    "1": "6.0000",
                                    "2": "12.0000"
                                },
                                {
                                    "0": "4426",
                                    "1": "6.0000",
                                    "2": "12.0000"
                                },
                                {
                                    "0": "4426",
                                    "1": "6.0000",
                                    "2": "12.0000"
                                },
                                {
                                    "0": "4426",
                                    "1": "6.0000",
                                    "2": "12.0000"
                                },
                                {
                                    "0": "4426",
                                    "1": "6.0000",
                                    "2": "12.0000"
                                },
                                {
                                    "0": "4426",
                                    "1": "6.0000",
                                    "2": "12.0000"
                                },
                                {
                                    "0": "4426",
                                    "1": "6.0000",
                                    "2": "12.0000"
                                },
                                {
                                    "0": "4426",
                                    "1": "6.0000",
                                    "2": "12.0000"
                                },
                                {
                                    "0": "4426",
                                    "1": "6.0000",
                                    "2": "12.0000"
                                },
                                {
                                    "0": "4426",
                                    "1": "6.0000",
                                    "2": "12.0000"
                                },
                                {
                                    "0": "4426",
                                    "1": "6.0000",
                                    "2": "12.0000"
                                },
                                {
                                    "0": "4426",
                                    "1": "6.0000",
                                    "2": "12.0000"
                                },
                                {
                                    "0": "4426",
                                    "1": "6.0000",
                                    "2": "12.0000"
                                },
                                {
                                    "0": "4426",
                                    "1": "6.0000",
                                    "2": "12.0000"
                                },
                                {
                                    "0": "4426",
                                    "1": "6.0000",
                                    "2": "12.0000"
                                },
                                {
                                    "0": "4426",
                                    "1": "6.0000",
                                    "2": "12.0000"
                                },
                                {
                                    "0": "4426",
                                    "1": "6.0000",
                                    "2": "12.0000"
                                },
                                {
                                    "0": "4426",
                                    "1": "6.0000",
                                    "2": "12.0000"
                                },
                                {
                                    "0": "4426",
                                    "1": "6.0000",
                                    "2": "12.0000"
                                },
                                {
                                    "0": "4426",
                                    "1": "6.0000",
                                    "2": "12.0000"
                                },
                                {
                                    "0": "4426",
                                    "1": "6.0000",
                                    "2": "12.0000"
                                },
                                {
                                    "0": "4426",
                                    "1": "6.0000",
                                    "2": "12.0000"
                                },
                                {
                                    "0": "4426",
                                    "1": "6.0000",
                                    "2": "12.0000"
                                },
                                {
                                    "0": "4426",
                                    "1": "6.0000",
                                    "2": "12.0000"
                                },
                                {
                                    "0": "4426",
                                    "1": "6.0000",
                                    "2": "12.0000"
                                },
                                {
                                    "0": "9566",
                                    "1": "6.0000",
                                    "2": "12.0000"
                                },
                                {
                                    "0": "9566",
                                    "1": "6.0000",
                                    "2": "12.0000"
                                },
                                {
                                    "0": "9566",
                                    "1": "6.0000",
                                    "2": "12.0000"
                                },
                                {
                                    "0": "9566",
                                    "1": "6.0000",
                                    "2": "12.0000"
                                },
                                {
                                    "0": "9566",
                                    "1": "6.0000",
                                    "2": "12.0000"
                                },
                                {
                                    "0": "9566",
                                    "1": "6.0000",
                                    "2": "12.0000"
                                },
                                {
                                    "0": "9566",
                                    "1": "6.0000",
                                    "2": "12.0000"
                                },
                                {
                                    "0": "9566",
                                    "1": "6.0000",
                                    "2": "12.0000"
                                },
                                {
                                    "0": "9566",
                                    "1": "6.0000",
                                    "2": "12.0000"
                                },
                                {
                                    "0": "9566",
                                    "1": "6.0000",
                                    "2": "12.0000"
                                },
                                {
                                    "0": "9566",
                                    "1": "6.0000",
                                    "2": "12.0000"
                                },
                                {
                                    "0": "9566",
                                    "1": "6.0000",
                                    "2": "12.0000"
                                },
                                {
                                    "0": "9566",
                                    "1": "6.0000",
                                    "2": "12.0000"
                                },
                                {
                                    "0": "9566",
                                    "1": "6.0000",
                                    "2": "12.0000"
                                },
                                {
                                    "0": "9566",
                                    "1": "6.0000",
                                    "2": "12.0000"
                                },
                                {
                                    "0": "9566",
                                    "1": "6.0000",
                                    "2": "12.0000"
                                },
                                {
                                    "0": "9566",
                                    "1": "6.0000",
                                    "2": "12.0000"
                                },
                                {
                                    "0": "9566",
                                    "1": "6.0000",
                                    "2": "12.0000"
                                },
                                {
                                    "0": "9566",
                                    "1": "6.0000",
                                    "2": "12.0000"
                                },
                                {
                                    "0": "9566",
                                    "1": "6.0000",
                                    "2": "12.0000"
                                },
                                {
                                    "0": "9566",
                                    "1": "6.0000",
                                    "2": "12.0000"
                                },
                                {
                                    "0": "9566",
                                    "1": "6.0000",
                                    "2": "12.0000"
                                },
                                {
                                    "0": "9566",
                                    "1": "6.0000",
                                    "2": "12.0000"
                                },
                                {
                                    "0": "9566",
                                    "1": "6.0000",
                                    "2": "12.0000"
                                },
                                {
                                    "0": "9566",
                                    "1": "6.0000",
                                    "2": "12.0000"
                                },
                                {
                                    "0": "9566",
                                    "1": "6.0000",
                                    "2": "12.0000"
                                },
                                {
                                    "0": "4796",
                                    "1": "6.0000",
                                    "2": "12.0000"
                                },
                                {
                                    "0": "4796",
                                    "1": "6.0000",
                                    "2": "12.0000"
                                },
                                {
                                    "0": "4796",
                                    "1": "6.0000",
                                    "2": "12.0000"
                                },
                                {
                                    "0": "4796",
                                    "1": "6.0000",
                                    "2": "12.0000"
                                },
                                {
                                    "0": "4796",
                                    "1": "6.0000",
                                    "2": "12.0000"
                                },
                                {
                                    "0": "4796",
                                    "1": "6.0000",
                                    "2": "12.0000"
                                },
                                {
                                    "0": "4796",
                                    "1": "6.0000",
                                    "2": "12.0000"
                                },
                                {
                                    "0": "4796",
                                    "1": "6.0000",
                                    "2": "12.0000"
                                },
                                {
                                    "0": "4796",
                                    "1": "6.0000",
                                    "2": "12.0000"
                                },
                                {
                                    "0": "4796",
                                    "1": "6.0000",
                                    "2": "12.0000"
                                },
                                {
                                    "0": "4796",
                                    "1": "6.0000",
                                    "2": "12.0000"
                                },
                                {
                                    "0": "4796",
                                    "1": "6.0000",
                                    "2": "12.0000"
                                },
                                {
                                    "0": "4796",
                                    "1": "6.0000",
                                    "2": "12.0000"
                                },
                                {
                                    "0": "4796",
                                    "1": "6.0000",
                                    "2": "12.0000"
                                },
                                {
                                    "0": "4796",
                                    "1": "6.0000",
                                    "2": "12.0000"
                                },
                                {
                                    "0": "4796",
                                    "1": "6.0000",
                                    "2": "12.0000"
                                },
                                {
                                    "0": "4796",
                                    "1": "6.0000",
                                    "2": "12.0000"
                                },
                                {
                                    "0": "4796",
                                    "1": "6.0000",
                                    "2": "12.0000"
                                },
                                {
                                    "0": "4796",
                                    "1": "6.0000",
                                    "2": "12.0000"
                                },
                                {
                                    "0": "4796",
                                    "1": "6.0000",
                                    "2": "12.0000"
                                },
                                {
                                    "0": "4796",
                                    "1": "6.0000",
                                    "2": "12.0000"
                                },
                                {
                                    "0": "4796",
                                    "1": "6.0000",
                                    "2": "12.0000"
                                },
                                {
                                    "0": "4796",
                                    "1": "6.0000",
                                    "2": "12.0000"
                                },
                                {
                                    "0": "4796",
                                    "1": "6.0000",
                                    "2": "12.0000"
                                },
                                {
                                    "0": "4796",
                                    "1": "6.0000",
                                    "2": "12.0000"
                                },
                                {
                                    "0": "4796",
                                    "1": "6.0000",
                                    "2": "12.0000"
                                },
                                {
                                    "0": "116",
                                    "1": "6.0000",
                                    "2": "12.0000"
                                },
                                {
                                    "0": "116",
                                    "1": "6.0000",
                                    "2": "12.0000"
                                },
                                {
                                    "0": "116",
                                    "1": "6.0000",
                                    "2": "12.0000"
                                },
                                {
                                    "0": "116",
                                    "1": "6.0000",
                                    "2": "12.0000"
                                },
                                {
                                    "0": "116",
                                    "1": "6.0000",
                                    "2": "12.0000"
                                },
                                {
                                    "0": "116",
                                    "1": "6.0000",
                                    "2": "12.0000"
                                },
                                {
                                    "0": "116",
                                    "1": "6.0000",
                                    "2": "12.0000"
                                },
                                {
                                    "0": "116",
                                    "1": "6.0000",
                                    "2": "12.0000"
                                },
                                {
                                    "0": "116",
                                    "1": "6.0000",
                                    "2": "12.0000"
                                },
                                {
                                    "0": "116",
                                    "1": "6.0000",
                                    "2": "12.0000"
                                },
                                {
                                    "0": "116",
                                    "1": "6.0000",
                                    "2": "12.0000"
                                },
                                {
                                    "0": "116",
                                    "1": "6.0000",
                                    "2": "12.0000"
                                },
                                {
                                    "0": "116",
                                    "1": "6.0000",
                                    "2": "12.0000"
                                },
                                {
                                    "0": "116",
                                    "1": "6.0000",
                                    "2": "12.0000"
                                },
                                {
                                    "0": "116",
                                    "1": "6.0000",
                                    "2": "12.0000"
                                },
                                {
                                    "0": "116",
                                    "1": "6.0000",
                                    "2": "12.0000"
                                },
                                {
                                    "0": "116",
                                    "1": "6.0000",
                                    "2": "12.0000"
                                },
                                {
                                    "0": "116",
                                    "1": "6.0000",
                                    "2": "12.0000"
                                },
                                {
                                    "0": "116",
                                    "1": "6.0000",
                                    "2": "12.0000"
                                },
                                {
                                    "0": "116",
                                    "1": "6.0000",
                                    "2": "12.0000"
                                },
                                {
                                    "0": "116",
                                    "1": "6.0000",
                                    "2": "12.0000"
                                },
                                {
                                    "0": "116",
                                    "1": "6.0000",
                                    "2": "12.0000"
                                },
                                {
                                    "0": "116",
                                    "1": "6.0000",
                                    "2": "12.0000"
                                },
                                {
                                    "0": "116",
                                    "1": "6.0000",
                                    "2": "12.0000"
                                },
                                {
                                    "0": "116",
                                    "1": "6.0000",
                                    "2": "12.0000"
                                },
                                {
                                    "0": "116",
                                    "1": "6.0000",
                                    "2": "12.0000"
                                },
                                {
                                    "0": "5528",
                                    "1": "8.0000",
                                    "2": "16.0000"
                                },
                                {
                                    "0": "5528",
                                    "1": "8.0000",
                                    "2": "16.0000"
                                },
                                {
                                    "0": "5528",
                                    "1": "8.0000",
                                    "2": "16.0000"
                                },
                                {
                                    "0": "5528",
                                    "1": "8.0000",
                                    "2": "16.0000"
                                },
                                {
                                    "0": "5528",
                                    "1": "8.0000",
                                    "2": "16.0000"
                                },
                                {
                                    "0": "5528",
                                    "1": "8.0000",
                                    "2": "16.0000"
                                },
                                {
                                    "0": "5528",
                                    "1": "8.0000",
                                    "2": "16.0000"
                                },
                                {
                                    "0": "5528",
                                    "1": "8.0000",
                                    "2": "16.0000"
                                },
                                {
                                    "0": "5528",
                                    "1": "8.0000",
                                    "2": "16.0000"
                                },
                                {
                                    "0": "5528",
                                    "1": "8.0000",
                                    "2": "16.0000"
                                },
                                {
                                    "0": "5528",
                                    "1": "8.0000",
                                    "2": "16.0000"
                                },
                                {
                                    "0": "5528",
                                    "1": "8.0000",
                                    "2": "16.0000"
                                },
                                {
                                    "0": "5528",
                                    "1": "8.0000",
                                    "2": "16.0000"
                                },
                                {
                                    "0": "5528",
                                    "1": "8.0000",
                                    "2": "16.0000"
                                },
                                {
                                    "0": "5528",
                                    "1": "8.0000",
                                    "2": "16.0000"
                                },
                                {
                                    "0": "5528",
                                    "1": "8.0000",
                                    "2": "16.0000"
                                },
                                {
                                    "0": "5528",
                                    "1": "8.0000",
                                    "2": "16.0000"
                                },
                                {
                                    "0": "5528",
                                    "1": "8.0000",
                                    "2": "16.0000"
                                },
                                {
                                    "0": "5528",
                                    "1": "8.0000",
                                    "2": "16.0000"
                                },
                                {
                                    "0": "5528",
                                    "1": "8.0000",
                                    "2": "16.0000"
                                },
                                {
                                    "0": "5528",
                                    "1": "8.0000",
                                    "2": "16.0000"
                                },
                                {
                                    "0": "5528",
                                    "1": "8.0000",
                                    "2": "16.0000"
                                },
                                {
                                    "0": "5528",
                                    "1": "8.0000",
                                    "2": "16.0000"
                                },
                                {
                                    "0": "5528",
                                    "1": "8.0000",
                                    "2": "16.0000"
                                },
                                {
                                    "0": "5528",
                                    "1": "8.0000",
                                    "2": "16.0000"
                                },
                                {
                                    "0": "5528",
                                    "1": "8.0000",
                                    "2": "16.0000"
                                },
                                {
                                    "0": "1034",
                                    "1": "4.0000",
                                    "2": "8.0000"
                                },
                                {
                                    "0": "1034",
                                    "1": "4.0000",
                                    "2": "8.0000"
                                },
                                {
                                    "0": "1034",
                                    "1": "4.0000",
                                    "2": "8.0000"
                                },
                                {
                                    "0": "1034",
                                    "1": "4.0000",
                                    "2": "8.0000"
                                },
                                {
                                    "0": "1034",
                                    "1": "4.0000",
                                    "2": "8.0000"
                                },
                                {
                                    "0": "1034",
                                    "1": "4.0000",
                                    "2": "8.0000"
                                },
                                {
                                    "0": "1034",
                                    "1": "4.0000",
                                    "2": "8.0000"
                                },
                                {
                                    "0": "1034",
                                    "1": "4.0000",
                                    "2": "8.0000"
                                },
                                {
                                    "0": "1034",
                                    "1": "4.0000",
                                    "2": "8.0000"
                                },
                                {
                                    "0": "1034",
                                    "1": "4.0000",
                                    "2": "8.0000"
                                },
                                {
                                    "0": "1034",
                                    "1": "4.0000",
                                    "2": "8.0000"
                                },
                                {
                                    "0": "1034",
                                    "1": "4.0000",
                                    "2": "8.0000"
                                },
                                {
                                    "0": "1034",
                                    "1": "4.0000",
                                    "2": "8.0000"
                                },
                                {
                                    "0": "1034",
                                    "1": "4.0000",
                                    "2": "8.0000"
                                },
                                {
                                    "0": "1034",
                                    "1": "4.0000",
                                    "2": "8.0000"
                                },
                                {
                                    "0": "1034",
                                    "1": "4.0000",
                                    "2": "8.0000"
                                },
                                {
                                    "0": "1034",
                                    "1": "4.0000",
                                    "2": "8.0000"
                                },
                                {
                                    "0": "1034",
                                    "1": "4.0000",
                                    "2": "8.0000"
                                },
                                {
                                    "0": "1034",
                                    "1": "4.0000",
                                    "2": "8.0000"
                                },
                                {
                                    "0": "1034",
                                    "1": "4.0000",
                                    "2": "8.0000"
                                },
                                {
                                    "0": "1034",
                                    "1": "4.0000",
                                    "2": "8.0000"
                                },
                                {
                                    "0": "1034",
                                    "1": "4.0000",
                                    "2": "8.0000"
                                },
                                {
                                    "0": "1034",
                                    "1": "4.0000",
                                    "2": "8.0000"
                                },
                                {
                                    "0": "1034",
                                    "1": "4.0000",
                                    "2": "8.0000"
                                },
                                {
                                    "0": "1034",
                                    "1": "4.0000",
                                    "2": "8.0000"
                                },
                                {
                                    "0": "1034",
                                    "1": "4.0000",
                                    "2": "8.0000"
                                },
                                {
                                    "0": "6634",
                                    "1": "4.0000",
                                    "2": "8.0000"
                                },
                                {
                                    "0": "6634",
                                    "1": "4.0000",
                                    "2": "8.0000"
                                },
                                {
                                    "0": "6634",
                                    "1": "4.0000",
                                    "2": "8.0000"
                                },
                                {
                                    "0": "6634",
                                    "1": "4.0000",
                                    "2": "8.0000"
                                },
                                {
                                    "0": "6634",
                                    "1": "4.0000",
                                    "2": "8.0000"
                                },
                                {
                                    "0": "6634",
                                    "1": "4.0000",
                                    "2": "8.0000"
                                },
                                {
                                    "0": "6634",
                                    "1": "4.0000",
                                    "2": "8.0000"
                                },
                                {
                                    "0": "6634",
                                    "1": "4.0000",
                                    "2": "8.0000"
                                },
                                {
                                    "0": "6634",
                                    "1": "4.0000",
                                    "2": "8.0000"
                                },
                                {
                                    "0": "6634",
                                    "1": "4.0000",
                                    "2": "8.0000"
                                },
                                {
                                    "0": "6634",
                                    "1": "4.0000",
                                    "2": "8.0000"
                                },
                                {
                                    "0": "6634",
                                    "1": "4.0000",
                                    "2": "8.0000"
                                },
                                {
                                    "0": "6634",
                                    "1": "4.0000",
                                    "2": "8.0000"
                                },
                                {
                                    "0": "6634",
                                    "1": "4.0000",
                                    "2": "8.0000"
                                },
                                {
                                    "0": "6634",
                                    "1": "4.0000",
                                    "2": "8.0000"
                                },
                                {
                                    "0": "6634",
                                    "1": "4.0000",
                                    "2": "8.0000"
                                },
                                {
                                    "0": "6634",
                                    "1": "4.0000",
                                    "2": "8.0000"
                                },
                                {
                                    "0": "6634",
                                    "1": "4.0000",
                                    "2": "8.0000"
                                },
                                {
                                    "0": "6634",
                                    "1": "4.0000",
                                    "2": "8.0000"
                                },
                                {
                                    "0": "6634",
                                    "1": "4.0000",
                                    "2": "8.0000"
                                },
                                {
                                    "0": "6634",
                                    "1": "4.0000",
                                    "2": "8.0000"
                                },
                                {
                                    "0": "6634",
                                    "1": "4.0000",
                                    "2": "8.0000"
                                },
                                {
                                    "0": "6634",
                                    "1": "4.0000",
                                    "2": "8.0000"
                                },
                                {
                                    "0": "6634",
                                    "1": "4.0000",
                                    "2": "8.0000"
                                },
                                {
                                    "0": "6634",
                                    "1": "4.0000",
                                    "2": "8.0000"
                                },
                                {
                                    "0": "6634",
                                    "1": "4.0000",
                                    "2": "8.0000"
                                },
                                {
                                    "0": "2329",
                                    "1": "9.0000",
                                    "2": "18.0000"
                                },
                                {
                                    "0": "2329",
                                    "1": "9.0000",
                                    "2": "18.0000"
                                },
                                {
                                    "0": "2329",
                                    "1": "9.0000",
                                    "2": "18.0000"
                                },
                                {
                                    "0": "2329",
                                    "1": "9.0000",
                                    "2": "18.0000"
                                },
                                {
                                    "0": "2329",
                                    "1": "9.0000",
                                    "2": "18.0000"
                                },
                                {
                                    "0": "2329",
                                    "1": "9.0000",
                                    "2": "18.0000"
                                },
                                {
                                    "0": "2329",
                                    "1": "9.0000",
                                    "2": "18.0000"
                                },
                                {
                                    "0": "2329",
                                    "1": "9.0000",
                                    "2": "18.0000"
                                },
                                {
                                    "0": "2329",
                                    "1": "9.0000",
                                    "2": "18.0000"
                                },
                                {
                                    "0": "2329",
                                    "1": "9.0000",
                                    "2": "18.0000"
                                },
                                {
                                    "0": "2329",
                                    "1": "9.0000",
                                    "2": "18.0000"
                                },
                                {
                                    "0": "2329",
                                    "1": "9.0000",
                                    "2": "18.0000"
                                },
                                {
                                    "0": "2329",
                                    "1": "9.0000",
                                    "2": "18.0000"
                                },
                                {
                                    "0": "2329",
                                    "1": "9.0000",
                                    "2": "18.0000"
                                },
                                {
                                    "0": "2329",
                                    "1": "9.0000",
                                    "2": "18.0000"
                                },
                                {
                                    "0": "2329",
                                    "1": "9.0000",
                                    "2": "18.0000"
                                },
                                {
                                    "0": "2329",
                                    "1": "9.0000",
                                    "2": "18.0000"
                                },
                                {
                                    "0": "2329",
                                    "1": "9.0000",
                                    "2": "18.0000"
                                },
                                {
                                    "0": "2329",
                                    "1": "9.0000",
                                    "2": "18.0000"
                                },
                                {
                                    "0": "2329",
                                    "1": "9.0000",
                                    "2": "18.0000"
                                },
                                {
                                    "0": "2329",
                                    "1": "9.0000",
                                    "2": "18.0000"
                                },
                                {
                                    "0": "2329",
                                    "1": "9.0000",
                                    "2": "18.0000"
                                },
                                {
                                    "0": "2329",
                                    "1": "9.0000",
                                    "2": "18.0000"
                                },
                                {
                                    "0": "2329",
                                    "1": "9.0000",
                                    "2": "18.0000"
                                },
                                {
                                    "0": "2329",
                                    "1": "9.0000",
                                    "2": "18.0000"
                                },
                                {
                                    "0": "2329",
                                    "1": "9.0000",
                                    "2": "18.0000"
                                },
                                {
                                    "0": "8122",
                                    "1": "2.0000",
                                    "2": "4.0000"
                                },
                                {
                                    "0": "8122",
                                    "1": "2.0000",
                                    "2": "4.0000"
                                },
                                {
                                    "0": "8122",
                                    "1": "2.0000",
                                    "2": "4.0000"
                                },
                                {
                                    "0": "8122",
                                    "1": "2.0000",
                                    "2": "4.0000"
                                },
                                {
                                    "0": "8122",
                                    "1": "2.0000",
                                    "2": "4.0000"
                                },
                                {
                                    "0": "8122",
                                    "1": "2.0000",
                                    "2": "4.0000"
                                },
                                {
                                    "0": "8122",
                                    "1": "2.0000",
                                    "2": "4.0000"
                                },
                                {
                                    "0": "8122",
                                    "1": "2.0000",
                                    "2": "4.0000"
                                },
                                {
                                    "0": "8122",
                                    "1": "2.0000",
                                    "2": "4.0000"
                                },
                                {
                                    "0": "8122",
                                    "1": "2.0000",
                                    "2": "4.0000"
                                },
                                {
                                    "0": "8122",
                                    "1": "2.0000",
                                    "2": "4.0000"
                                },
                                {
                                    "0": "8122",
                                    "1": "2.0000",
                                    "2": "4.0000"
                                },
                                {
                                    "0": "8122",
                                    "1": "2.0000",
                                    "2": "4.0000"
                                },
                                {
                                    "0": "8122",
                                    "1": "2.0000",
                                    "2": "4.0000"
                                },
                                {
                                    "0": "8122",
                                    "1": "2.0000",
                                    "2": "4.0000"
                                },
                                {
                                    "0": "8122",
                                    "1": "2.0000",
                                    "2": "4.0000"
                                },
                                {
                                    "0": "8122",
                                    "1": "2.0000",
                                    "2": "4.0000"
                                },
                                {
                                    "0": "8122",
                                    "1": "2.0000",
                                    "2": "4.0000"
                                },
                                {
                                    "0": "8122",
                                    "1": "2.0000",
                                    "2": "4.0000"
                                },
                                {
                                    "0": "8122",
                                    "1": "2.0000",
                                    "2": "4.0000"
                                },
                                {
                                    "0": "8122",
                                    "1": "2.0000",
                                    "2": "4.0000"
                                },
                                {
                                    "0": "8122",
                                    "1": "2.0000",
                                    "2": "4.0000"
                                },
                                {
                                    "0": "8122",
                                    "1": "2.0000",
                                    "2": "4.0000"
                                },
                                {
                                    "0": "8122",
                                    "1": "2.0000",
                                    "2": "4.0000"
                                },
                                {
                                    "0": "8122",
                                    "1": "2.0000",
                                    "2": "4.0000"
                                },
                                {
                                    "0": "8122",
                                    "1": "2.0000",
                                    "2": "4.0000"
                                },
                                {
                                    "0": "4012",
                                    "1": "2.0000",
                                    "2": "4.0000"
                                },
                                {
                                    "0": "4012",
                                    "1": "2.0000",
                                    "2": "4.0000"
                                },
                                {
                                    "0": "4012",
                                    "1": "2.0000",
                                    "2": "4.0000"
                                },
                                {
                                    "0": "4012",
                                    "1": "2.0000",
                                    "2": "4.0000"
                                },
                                {
                                    "0": "4012",
                                    "1": "2.0000",
                                    "2": "4.0000"
                                },
                                {
                                    "0": "4012",
                                    "1": "2.0000",
                                    "2": "4.0000"
                                },
                                {
                                    "0": "4012",
                                    "1": "2.0000",
                                    "2": "4.0000"
                                },
                                {
                                    "0": "4012",
                                    "1": "2.0000",
                                    "2": "4.0000"
                                },
                                {
                                    "0": "4012",
                                    "1": "2.0000",
                                    "2": "4.0000"
                                },
                                {
                                    "0": "4012",
                                    "1": "2.0000",
                                    "2": "4.0000"
                                },
                                {
                                    "0": "4012",
                                    "1": "2.0000",
                                    "2": "4.0000"
                                },
                                {
                                    "0": "4012",
                                    "1": "2.0000",
                                    "2": "4.0000"
                                },
                                {
                                    "0": "4012",
                                    "1": "2.0000",
                                    "2": "4.0000"
                                },
                                {
                                    "0": "4012",
                                    "1": "2.0000",
                                    "2": "4.0000"
                                },
                                {
                                    "0": "4012",
                                    "1": "2.0000",
                                    "2": "4.0000"
                                },
                                {
                                    "0": "4012",
                                    "1": "2.0000",
                                    "2": "4.0000"
                                },
                                {
                                    "0": "4012",
                                    "1": "2.0000",
                                    "2": "4.0000"
                                },
                                {
                                    "0": "4012",
                                    "1": "2.0000",
                                    "2": "4.0000"
                                },
                                {
                                    "0": "4012",
                                    "1": "2.0000",
                                    "2": "4.0000"
                                },
                                {
                                    "0": "4012",
                                    "1": "2.0000",
                                    "2": "4.0000"
                                },
                                {
                                    "0": "4012",
                                    "1": "2.0000",
                                    "2": "4.0000"
                                },
                                {
                                    "0": "4012",
                                    "1": "2.0000",
                                    "2": "4.0000"
                                },
                                {
                                    "0": "4012",
                                    "1": "2.0000",
                                    "2": "4.0000"
                                },
                                {
                                    "0": "4012",
                                    "1": "2.0000",
                                    "2": "4.0000"
                                },
                                {
                                    "0": "4012",
                                    "1": "2.0000",
                                    "2": "4.0000"
                                },
                                {
                                    "0": "4012",
                                    "1": "2.0000",
                                    "2": "4.0000"
                                },
                                {
                                    "0": "2022",
                                    "1": "2.0000",
                                    "2": "4.0000"
                                },
                                {
                                    "0": "2022",
                                    "1": "2.0000",
                                    "2": "4.0000"
                                },
                                {
                                    "0": "2022",
                                    "1": "2.0000",
                                    "2": "4.0000"
                                },
                                {
                                    "0": "2022",
                                    "1": "2.0000",
                                    "2": "4.0000"
                                },
                                {
                                    "0": "2022",
                                    "1": "2.0000",
                                    "2": "4.0000"
                                },
                                {
                                    "0": "2022",
                                    "1": "2.0000",
                                    "2": "4.0000"
                                },
                                {
                                    "0": "2022",
                                    "1": "2.0000",
                                    "2": "4.0000"
                                },
                                {
                                    "0": "2022",
                                    "1": "2.0000",
                                    "2": "4.0000"
                                },
                                {
                                    "0": "2022",
                                    "1": "2.0000",
                                    "2": "4.0000"
                                },
                                {
                                    "0": "2022",
                                    "1": "2.0000",
                                    "2": "4.0000"
                                },
                                {
                                    "0": "2022",
                                    "1": "2.0000",
                                    "2": "4.0000"
                                },
                                {
                                    "0": "2022",
                                    "1": "2.0000",
                                    "2": "4.0000"
                                },
                                {
                                    "0": "2022",
                                    "1": "2.0000",
                                    "2": "4.0000"
                                },
                                {
                                    "0": "2022",
                                    "1": "2.0000",
                                    "2": "4.0000"
                                },
                                {
                                    "0": "2022",
                                    "1": "2.0000",
                                    "2": "4.0000"
                                },
                                {
                                    "0": "2022",
                                    "1": "2.0000",
                                    "2": "4.0000"
                                },
                                {
                                    "0": "2022",
                                    "1": "2.0000",
                                    "2": "4.0000"
                                },
                                {
                                    "0": "2022",
                                    "1": "2.0000",
                                    "2": "4.0000"
                                },
                                {
                                    "0": "2022",
                                    "1": "2.0000",
                                    "2": "4.0000"
                                },
                                {
                                    "0": "2022",
                                    "1": "2.0000",
                                    "2": "4.0000"
                                },
                                {
                                    "0": "2022",
                                    "1": "2.0000",
                                    "2": "4.0000"
                                },
                                {
                                    "0": "2022",
                                    "1": "2.0000",
                                    "2": "4.0000"
                                },
                                {
                                    "0": "2022",
                                    "1": "2.0000",
                                    "2": "4.0000"
                                },
                                {
                                    "0": "2022",
                                    "1": "2.0000",
                                    "2": "4.0000"
                                },
                                {
                                    "0": "2022",
                                    "1": "2.0000",
                                    "2": "4.0000"
                                },
                                {
                                    "0": "2022",
                                    "1": "2.0000",
                                    "2": "4.0000"
                                },
                                {
                                    "0": "5012",
                                    "1": "2.0000",
                                    "2": "4.0000"
                                },
                                {
                                    "0": "5012",
                                    "1": "2.0000",
                                    "2": "4.0000"
                                },
                                {
                                    "0": "5012",
                                    "1": "2.0000",
                                    "2": "4.0000"
                                },
                                {
                                    "0": "5012",
                                    "1": "2.0000",
                                    "2": "4.0000"
                                },
                                {
                                    "0": "5012",
                                    "1": "2.0000",
                                    "2": "4.0000"
                                },
                                {
                                    "0": "5012",
                                    "1": "2.0000",
                                    "2": "4.0000"
                                },
                                {
                                    "0": "5012",
                                    "1": "2.0000",
                                    "2": "4.0000"
                                },
                                {
                                    "0": "5012",
                                    "1": "2.0000",
                                    "2": "4.0000"
                                },
                                {
                                    "0": "5012",
                                    "1": "2.0000",
                                    "2": "4.0000"
                                },
                                {
                                    "0": "5012",
                                    "1": "2.0000",
                                    "2": "4.0000"
                                },
                                {
                                    "0": "5012",
                                    "1": "2.0000",
                                    "2": "4.0000"
                                },
                                {
                                    "0": "5012",
                                    "1": "2.0000",
                                    "2": "4.0000"
                                },
                                {
                                    "0": "5012",
                                    "1": "2.0000",
                                    "2": "4.0000"
                                },
                                {
                                    "0": "5012",
                                    "1": "2.0000",
                                    "2": "4.0000"
                                },
                                {
                                    "0": "5012",
                                    "1": "2.0000",
                                    "2": "4.0000"
                                },
                                {
                                    "0": "5012",
                                    "1": "2.0000",
                                    "2": "4.0000"
                                },
                                {
                                    "0": "5012",
                                    "1": "2.0000",
                                    "2": "4.0000"
                                },
                                {
                                    "0": "5012",
                                    "1": "2.0000",
                                    "2": "4.0000"
                                },
                                {
                                    "0": "5012",
                                    "1": "2.0000",
                                    "2": "4.0000"
                                },
                                {
                                    "0": "5012",
                                    "1": "2.0000",
                                    "2": "4.0000"
                                },
                                {
                                    "0": "5012",
                                    "1": "2.0000",
                                    "2": "4.0000"
                                },
                                {
                                    "0": "5012",
                                    "1": "2.0000",
                                    "2": "4.0000"
                                },
                                {
                                    "0": "5012",
                                    "1": "2.0000",
                                    "2": "4.0000"
                                },
                                {
                                    "0": "5012",
                                    "1": "2.0000",
                                    "2": "4.0000"
                                },
                                {
                                    "0": "5012",
                                    "1": "2.0000",
                                    "2": "4.0000"
                                },
                                {
                                    "0": "5012",
                                    "1": "2.0000",
                                    "2": "4.0000"
                                },
                                {
                                    "0": "8178",
                                    "1": "8.0000",
                                    "2": "16.0000"
                                },
                                {
                                    "0": "8178",
                                    "1": "8.0000",
                                    "2": "16.0000"
                                },
                                {
                                    "0": "8178",
                                    "1": "8.0000",
                                    "2": "16.0000"
                                },
                                {
                                    "0": "8178",
                                    "1": "8.0000",
                                    "2": "16.0000"
                                },
                                {
                                    "0": "8178",
                                    "1": "8.0000",
                                    "2": "16.0000"
                                },
                                {
                                    "0": "8178",
                                    "1": "8.0000",
                                    "2": "16.0000"
                                },
                                {
                                    "0": "8178",
                                    "1": "8.0000",
                                    "2": "16.0000"
                                },
                                {
                                    "0": "8178",
                                    "1": "8.0000",
                                    "2": "16.0000"
                                },
                                {
                                    "0": "8178",
                                    "1": "8.0000",
                                    "2": "16.0000"
                                },
                                {
                                    "0": "8178",
                                    "1": "8.0000",
                                    "2": "16.0000"
                                },
                                {
                                    "0": "8178",
                                    "1": "8.0000",
                                    "2": "16.0000"
                                },
                                {
                                    "0": "8178",
                                    "1": "8.0000",
                                    "2": "16.0000"
                                },
                                {
                                    "0": "8178",
                                    "1": "8.0000",
                                    "2": "16.0000"
                                },
                                {
                                    "0": "8178",
                                    "1": "8.0000",
                                    "2": "16.0000"
                                },
                                {
                                    "0": "8178",
                                    "1": "8.0000",
                                    "2": "16.0000"
                                },
                                {
                                    "0": "8178",
                                    "1": "8.0000",
                                    "2": "16.0000"
                                },
                                {
                                    "0": "8178",
                                    "1": "8.0000",
                                    "2": "16.0000"
                                },
                                {
                                    "0": "8178",
                                    "1": "8.0000",
                                    "2": "16.0000"
                                },
                                {
                                    "0": "8178",
                                    "1": "8.0000",
                                    "2": "16.0000"
                                },
                                {
                                    "0": "8178",
                                    "1": "8.0000",
                                    "2": "16.0000"
                                },
                                {
                                    "0": "8178",
                                    "1": "8.0000",
                                    "2": "16.0000"
                                },
                                {
                                    "0": "8178",
                                    "1": "8.0000",
                                    "2": "16.0000"
                                },
                                {
                                    "0": "8178",
                                    "1": "8.0000",
                                    "2": "16.0000"
                                },
                                {
                                    "0": "8178",
                                    "1": "8.0000",
                                    "2": "16.0000"
                                },
                                {
                                    "0": "8178",
                                    "1": "8.0000",
                                    "2": "16.0000"
                                },
                                {
                                    "0": "8178",
                                    "1": "8.0000",
                                    "2": "16.0000"
                                },
                                {
                                    "0": "5041",
                                    "1": "1.0000",
                                    "2": "2.0000"
                                },
                                {
                                    "0": "5041",
                                    "1": "1.0000",
                                    "2": "2.0000"
                                },
                                {
                                    "0": "5041",
                                    "1": "1.0000",
                                    "2": "2.0000"
                                },
                                {
                                    "0": "5041",
                                    "1": "1.0000",
                                    "2": "2.0000"
                                },
                                {
                                    "0": "5041",
                                    "1": "1.0000",
                                    "2": "2.0000"
                                },
                                {
                                    "0": "5041",
                                    "1": "1.0000",
                                    "2": "2.0000"
                                },
                                {
                                    "0": "5041",
                                    "1": "1.0000",
                                    "2": "2.0000"
                                },
                                {
                                    "0": "5041",
                                    "1": "1.0000",
                                    "2": "2.0000"
                                },
                                {
                                    "0": "5041",
                                    "1": "1.0000",
                                    "2": "2.0000"
                                },
                                {
                                    "0": "5041",
                                    "1": "1.0000",
                                    "2": "2.0000"
                                },
                                {
                                    "0": "5041",
                                    "1": "1.0000",
                                    "2": "2.0000"
                                },
                                {
                                    "0": "5041",
                                    "1": "1.0000",
                                    "2": "2.0000"
                                },
                                {
                                    "0": "5041",
                                    "1": "1.0000",
                                    "2": "2.0000"
                                },
                                {
                                    "0": "5041",
                                    "1": "1.0000",
                                    "2": "2.0000"
                                },
                                {
                                    "0": "5041",
                                    "1": "1.0000",
                                    "2": "2.0000"
                                },
                                {
                                    "0": "5041",
                                    "1": "1.0000",
                                    "2": "2.0000"
                                },
                                {
                                    "0": "5041",
                                    "1": "1.0000",
                                    "2": "2.0000"
                                },
                                {
                                    "0": "5041",
                                    "1": "1.0000",
                                    "2": "2.0000"
                                },
                                {
                                    "0": "5041",
                                    "1": "1.0000",
                                    "2": "2.0000"
                                },
                                {
                                    "0": "5041",
                                    "1": "1.0000",
                                    "2": "2.0000"
                                },
                                {
                                    "0": "5041",
                                    "1": "1.0000",
                                    "2": "2.0000"
                                },
                                {
                                    "0": "5041",
                                    "1": "1.0000",
                                    "2": "2.0000"
                                },
                                {
                                    "0": "5041",
                                    "1": "1.0000",
                                    "2": "2.0000"
                                },
                                {
                                    "0": "5041",
                                    "1": "1.0000",
                                    "2": "2.0000"
                                },
                                {
                                    "0": "5041",
                                    "1": "1.0000",
                                    "2": "2.0000"
                                },
                                {
                                    "0": "5041",
                                    "1": "1.0000",
                                    "2": "2.0000"
                                },
                                {
                                    "0": "8742",
                                    "1": "2.0000",
                                    "2": "4.0000"
                                },
                                {
                                    "0": "8742",
                                    "1": "2.0000",
                                    "2": "4.0000"
                                },
                                {
                                    "0": "8742",
                                    "1": "2.0000",
                                    "2": "4.0000"
                                },
                                {
                                    "0": "8742",
                                    "1": "2.0000",
                                    "2": "4.0000"
                                },
                                {
                                    "0": "8742",
                                    "1": "2.0000",
                                    "2": "4.0000"
                                },
                                {
                                    "0": "8742",
                                    "1": "2.0000",
                                    "2": "4.0000"
                                },
                                {
                                    "0": "8742",
                                    "1": "2.0000",
                                    "2": "4.0000"
                                },
                                {
                                    "0": "8742",
                                    "1": "2.0000",
                                    "2": "4.0000"
                                },
                                {
                                    "0": "8742",
                                    "1": "2.0000",
                                    "2": "4.0000"
                                },
                                {
                                    "0": "8742",
                                    "1": "2.0000",
                                    "2": "4.0000"
                                },
                                {
                                    "0": "8742",
                                    "1": "2.0000",
                                    "2": "4.0000"
                                },
                                {
                                    "0": "8742",
                                    "1": "2.0000",
                                    "2": "4.0000"
                                },
                                {
                                    "0": "8742",
                                    "1": "2.0000",
                                    "2": "4.0000"
                                },
                                {
                                    "0": "8742",
                                    "1": "2.0000",
                                    "2": "4.0000"
                                },
                                {
                                    "0": "8742",
                                    "1": "2.0000",
                                    "2": "4.0000"
                                },
                                {
                                    "0": "8742",
                                    "1": "2.0000",
                                    "2": "4.0000"
                                },
                                {
                                    "0": "8742",
                                    "1": "2.0000",
                                    "2": "4.0000"
                                },
                                {
                                    "0": "8742",
                                    "1": "2.0000",
                                    "2": "4.0000"
                                },
                                {
                                    "0": "8742",
                                    "1": "2.0000",
                                    "2": "4.0000"
                                },
                                {
                                    "0": "8742",
                                    "1": "2.0000",
                                    "2": "4.0000"
                                },
                                {
                                    "0": "8742",
                                    "1": "2.0000",
                                    "2": "4.0000"
                                },
                                {
                                    "0": "8742",
                                    "1": "2.0000",
                                    "2": "4.0000"
                                },
                                {
                                    "0": "8742",
                                    "1": "2.0000",
                                    "2": "4.0000"
                                },
                                {
                                    "0": "8742",
                                    "1": "2.0000",
                                    "2": "4.0000"
                                },
                                {
                                    "0": "8742",
                                    "1": "2.0000",
                                    "2": "4.0000"
                                },
                                {
                                    "0": "8742",
                                    "1": "2.0000",
                                    "2": "4.0000"
                                },
                                {
                                    "0": "2624",
                                    "1": "4.0000",
                                    "2": "8.0000"
                                },
                                {
                                    "0": "2624",
                                    "1": "4.0000",
                                    "2": "8.0000"
                                },
                                {
                                    "0": "2624",
                                    "1": "4.0000",
                                    "2": "8.0000"
                                },
                                {
                                    "0": "2624",
                                    "1": "4.0000",
                                    "2": "8.0000"
                                },
                                {
                                    "0": "2624",
                                    "1": "4.0000",
                                    "2": "8.0000"
                                },
                                {
                                    "0": "2624",
                                    "1": "4.0000",
                                    "2": "8.0000"
                                },
                                {
                                    "0": "2624",
                                    "1": "4.0000",
                                    "2": "8.0000"
                                },
                                {
                                    "0": "2624",
                                    "1": "4.0000",
                                    "2": "8.0000"
                                },
                                {
                                    "0": "2624",
                                    "1": "4.0000",
                                    "2": "8.0000"
                                },
                                {
                                    "0": "2624",
                                    "1": "4.0000",
                                    "2": "8.0000"
                                },
                                {
                                    "0": "2624",
                                    "1": "4.0000",
                                    "2": "8.0000"
                                },
                                {
                                    "0": "2624",
                                    "1": "4.0000",
                                    "2": "8.0000"
                                },
                                {
                                    "0": "2624",
                                    "1": "4.0000",
                                    "2": "8.0000"
                                },
                                {
                                    "0": "2624",
                                    "1": "4.0000",
                                    "2": "8.0000"
                                },
                                {
                                    "0": "2624",
                                    "1": "4.0000",
                                    "2": "8.0000"
                                },
                                {
                                    "0": "2624",
                                    "1": "4.0000",
                                    "2": "8.0000"
                                },
                                {
                                    "0": "2624",
                                    "1": "4.0000",
                                    "2": "8.0000"
                                },
                                {
                                    "0": "2624",
                                    "1": "4.0000",
                                    "2": "8.0000"
                                },
                                {
                                    "0": "2624",
                                    "1": "4.0000",
                                    "2": "8.0000"
                                },
                                {
                                    "0": "2624",
                                    "1": "4.0000",
                                    "2": "8.0000"
                                },
                                {
                                    "0": "2624",
                                    "1": "4.0000",
                                    "2": "8.0000"
                                },
                                {
                                    "0": "2624",
                                    "1": "4.0000",
                                    "2": "8.0000"
                                },
                                {
                                    "0": "2624",
                                    "1": "4.0000",
                                    "2": "8.0000"
                                },
                                {
                                    "0": "2624",
                                    "1": "4.0000",
                                    "2": "8.0000"
                                },
                                {
                                    "0": "2624",
                                    "1": "4.0000",
                                    "2": "8.0000"
                                },
                                {
                                    "0": "2624",
                                    "1": "4.0000",
                                    "2": "8.0000"
                                },
                                {
                                    "0": "6689",
                                    "1": "9.0000",
                                    "2": "18.0000"
                                },
                                {
                                    "0": "6689",
                                    "1": "9.0000",
                                    "2": "18.0000"
                                },
                                {
                                    "0": "6689",
                                    "1": "9.0000",
                                    "2": "18.0000"
                                },
                                {
                                    "0": "6689",
                                    "1": "9.0000",
                                    "2": "18.0000"
                                },
                                {
                                    "0": "6689",
                                    "1": "9.0000",
                                    "2": "18.0000"
                                },
                                {
                                    "0": "6689",
                                    "1": "9.0000",
                                    "2": "18.0000"
                                },
                                {
                                    "0": "6689",
                                    "1": "9.0000",
                                    "2": "18.0000"
                                },
                                {
                                    "0": "6689",
                                    "1": "9.0000",
                                    "2": "18.0000"
                                },
                                {
                                    "0": "6689",
                                    "1": "9.0000",
                                    "2": "18.0000"
                                },
                                {
                                    "0": "6689",
                                    "1": "9.0000",
                                    "2": "18.0000"
                                },
                                {
                                    "0": "6689",
                                    "1": "9.0000",
                                    "2": "18.0000"
                                },
                                {
                                    "0": "6689",
                                    "1": "9.0000",
                                    "2": "18.0000"
                                },
                                {
                                    "0": "6689",
                                    "1": "9.0000",
                                    "2": "18.0000"
                                },
                                {
                                    "0": "6689",
                                    "1": "9.0000",
                                    "2": "18.0000"
                                },
                                {
                                    "0": "6689",
                                    "1": "9.0000",
                                    "2": "18.0000"
                                },
                                {
                                    "0": "6689",
                                    "1": "9.0000",
                                    "2": "18.0000"
                                },
                                {
                                    "0": "6689",
                                    "1": "9.0000",
                                    "2": "18.0000"
                                },
                                {
                                    "0": "6689",
                                    "1": "9.0000",
                                    "2": "18.0000"
                                },
                                {
                                    "0": "6689",
                                    "1": "9.0000",
                                    "2": "18.0000"
                                },
                                {
                                    "0": "6689",
                                    "1": "9.0000",
                                    "2": "18.0000"
                                },
                                {
                                    "0": "6689",
                                    "1": "9.0000",
                                    "2": "18.0000"
                                },
                                {
                                    "0": "6689",
                                    "1": "9.0000",
                                    "2": "18.0000"
                                },
                                {
                                    "0": "6689",
                                    "1": "9.0000",
                                    "2": "18.0000"
                                },
                                {
                                    "0": "6689",
                                    "1": "9.0000",
                                    "2": "18.0000"
                                },
                                {
                                    "0": "6689",
                                    "1": "9.0000",
                                    "2": "18.0000"
                                },
                                {
                                    "0": "6689",
                                    "1": "9.0000",
                                    "2": "18.0000"
                                },
                                {
                                    "0": "5377",
                                    "1": "7.0000",
                                    "2": "14.0000"
                                },
                                {
                                    "0": "5377",
                                    "1": "7.0000",
                                    "2": "14.0000"
                                },
                                {
                                    "0": "5377",
                                    "1": "7.0000",
                                    "2": "14.0000"
                                },
                                {
                                    "0": "5377",
                                    "1": "7.0000",
                                    "2": "14.0000"
                                },
                                {
                                    "0": "5377",
                                    "1": "7.0000",
                                    "2": "14.0000"
                                },
                                {
                                    "0": "5377",
                                    "1": "7.0000",
                                    "2": "14.0000"
                                },
                                {
                                    "0": "5377",
                                    "1": "7.0000",
                                    "2": "14.0000"
                                },
                                {
                                    "0": "5377",
                                    "1": "7.0000",
                                    "2": "14.0000"
                                },
                                {
                                    "0": "5377",
                                    "1": "7.0000",
                                    "2": "14.0000"
                                },
                                {
                                    "0": "5377",
                                    "1": "7.0000",
                                    "2": "14.0000"
                                },
                                {
                                    "0": "5377",
                                    "1": "7.0000",
                                    "2": "14.0000"
                                },
                                {
                                    "0": "5377",
                                    "1": "7.0000",
                                    "2": "14.0000"
                                },
                                {
                                    "0": "5377",
                                    "1": "7.0000",
                                    "2": "14.0000"
                                },
                                {
                                    "0": "5377",
                                    "1": "7.0000",
                                    "2": "14.0000"
                                },
                                {
                                    "0": "5377",
                                    "1": "7.0000",
                                    "2": "14.0000"
                                },
                                {
                                    "0": "5377",
                                    "1": "7.0000",
                                    "2": "14.0000"
                                },
                                {
                                    "0": "5377",
                                    "1": "7.0000",
                                    "2": "14.0000"
                                },
                                {
                                    "0": "5377",
                                    "1": "7.0000",
                                    "2": "14.0000"
                                },
                                {
                                    "0": "5377",
                                    "1": "7.0000",
                                    "2": "14.0000"
                                },
                                {
                                    "0": "5377",
                                    "1": "7.0000",
                                    "2": "14.0000"
                                },
                                {
                                    "0": "5377",
                                    "1": "7.0000",
                                    "2": "14.0000"
                                },
                                {
                                    "0": "5377",
                                    "1": "7.0000",
                                    "2": "14.0000"
                                },
                                {
                                    "0": "5377",
                                    "1": "7.0000",
                                    "2": "14.0000"
                                },
                                {
                                    "0": "5377",
                                    "1": "7.0000",
                                    "2": "14.0000"
                                },
                                {
                                    "0": "5377",
                                    "1": "7.0000",
                                    "2": "14.0000"
                                },
                                {
                                    "0": "5377",
                                    "1": "7.0000",
                                    "2": "14.0000"
                                },
                                {
                                    "0": "893",
                                    "1": "3.0000",
                                    "2": "6.0000"
                                },
                                {
                                    "0": "893",
                                    "1": "3.0000",
                                    "2": "6.0000"
                                },
                                {
                                    "0": "893",
                                    "1": "3.0000",
                                    "2": "6.0000"
                                },
                                {
                                    "0": "893",
                                    "1": "3.0000",
                                    "2": "6.0000"
                                },
                                {
                                    "0": "893",
                                    "1": "3.0000",
                                    "2": "6.0000"
                                },
                                {
                                    "0": "893",
                                    "1": "3.0000",
                                    "2": "6.0000"
                                },
                                {
                                    "0": "893",
                                    "1": "3.0000",
                                    "2": "6.0000"
                                },
                                {
                                    "0": "893",
                                    "1": "3.0000",
                                    "2": "6.0000"
                                },
                                {
                                    "0": "893",
                                    "1": "3.0000",
                                    "2": "6.0000"
                                },
                                {
                                    "0": "893",
                                    "1": "3.0000",
                                    "2": "6.0000"
                                },
                                {
                                    "0": "893",
                                    "1": "3.0000",
                                    "2": "6.0000"
                                },
                                {
                                    "0": "893",
                                    "1": "3.0000",
                                    "2": "6.0000"
                                },
                                {
                                    "0": "893",
                                    "1": "3.0000",
                                    "2": "6.0000"
                                },
                                {
                                    "0": "893",
                                    "1": "3.0000",
                                    "2": "6.0000"
                                },
                                {
                                    "0": "893",
                                    "1": "3.0000",
                                    "2": "6.0000"
                                },
                                {
                                    "0": "893",
                                    "1": "3.0000",
                                    "2": "6.0000"
                                },
                                {
                                    "0": "893",
                                    "1": "3.0000",
                                    "2": "6.0000"
                                },
                                {
                                    "0": "893",
                                    "1": "3.0000",
                                    "2": "6.0000"
                                },
                                {
                                    "0": "893",
                                    "1": "3.0000",
                                    "2": "6.0000"
                                },
                                {
                                    "0": "893",
                                    "1": "3.0000",
                                    "2": "6.0000"
                                },
                                {
                                    "0": "893",
                                    "1": "3.0000",
                                    "2": "6.0000"
                                },
                                {
                                    "0": "893",
                                    "1": "3.0000",
                                    "2": "6.0000"
                                },
                                {
                                    "0": "893",
                                    "1": "3.0000",
                                    "2": "6.0000"
                                },
                                {
                                    "0": "893",
                                    "1": "3.0000",
                                    "2": "6.0000"
                                },
                                {
                                    "0": "893",
                                    "1": "3.0000",
                                    "2": "6.0000"
                                },
                                {
                                    "0": "893",
                                    "1": "3.0000",
                                    "2": "6.0000"
                                },
                                {
                                    "0": "1492",
                                    "1": "2.0000",
                                    "2": "4.0000"
                                },
                                {
                                    "0": "1492",
                                    "1": "2.0000",
                                    "2": "4.0000"
                                },
                                {
                                    "0": "1492",
                                    "1": "2.0000",
                                    "2": "4.0000"
                                },
                                {
                                    "0": "1492",
                                    "1": "2.0000",
                                    "2": "4.0000"
                                },
                                {
                                    "0": "1492",
                                    "1": "2.0000",
                                    "2": "4.0000"
                                },
                                {
                                    "0": "1492",
                                    "1": "2.0000",
                                    "2": "4.0000"
                                },
                                {
                                    "0": "1492",
                                    "1": "2.0000",
                                    "2": "4.0000"
                                },
                                {
                                    "0": "1492",
                                    "1": "2.0000",
                                    "2": "4.0000"
                                },
                                {
                                    "0": "1492",
                                    "1": "2.0000",
                                    "2": "4.0000"
                                },
                                {
                                    "0": "1492",
                                    "1": "2.0000",
                                    "2": "4.0000"
                                },
                                {
                                    "0": "1492",
                                    "1": "2.0000",
                                    "2": "4.0000"
                                },
                                {
                                    "0": "1492",
                                    "1": "2.0000",
                                    "2": "4.0000"
                                },
                                {
                                    "0": "1492",
                                    "1": "2.0000",
                                    "2": "4.0000"
                                },
                                {
                                    "0": "1492",
                                    "1": "2.0000",
                                    "2": "4.0000"
                                },
                                {
                                    "0": "1492",
                                    "1": "2.0000",
                                    "2": "4.0000"
                                },
                                {
                                    "0": "1492",
                                    "1": "2.0000",
                                    "2": "4.0000"
                                },
                                {
                                    "0": "1492",
                                    "1": "2.0000",
                                    "2": "4.0000"
                                },
                                {
                                    "0": "1492",
                                    "1": "2.0000",
                                    "2": "4.0000"
                                },
                                {
                                    "0": "1492",
                                    "1": "2.0000",
                                    "2": "4.0000"
                                },
                                {
                                    "0": "1492",
                                    "1": "2.0000",
                                    "2": "4.0000"
                                },
                                {
                                    "0": "1492",
                                    "1": "2.0000",
                                    "2": "4.0000"
                                },
                                {
                                    "0": "1492",
                                    "1": "2.0000",
                                    "2": "4.0000"
                                },
                                {
                                    "0": "1492",
                                    "1": "2.0000",
                                    "2": "4.0000"
                                },
                                {
                                    "0": "1492",
                                    "1": "2.0000",
                                    "2": "4.0000"
                                },
                                {
                                    "0": "1492",
                                    "1": "2.0000",
                                    "2": "4.0000"
                                },
                                {
                                    "0": "1492",
                                    "1": "2.0000",
                                    "2": "4.0000"
                                },
                                {
                                    "0": "2377",
                                    "1": "7.0000",
                                    "2": "14.0000"
                                },
                                {
                                    "0": "2377",
                                    "1": "7.0000",
                                    "2": "14.0000"
                                },
                                {
                                    "0": "2377",
                                    "1": "7.0000",
                                    "2": "14.0000"
                                },
                                {
                                    "0": "2377",
                                    "1": "7.0000",
                                    "2": "14.0000"
                                },
                                {
                                    "0": "2377",
                                    "1": "7.0000",
                                    "2": "14.0000"
                                },
                                {
                                    "0": "2377",
                                    "1": "7.0000",
                                    "2": "14.0000"
                                },
                                {
                                    "0": "2377",
                                    "1": "7.0000",
                                    "2": "14.0000"
                                },
                                {
                                    "0": "2377",
                                    "1": "7.0000",
                                    "2": "14.0000"
                                },
                                {
                                    "0": "2377",
                                    "1": "7.0000",
                                    "2": "14.0000"
                                },
                                {
                                    "0": "2377",
                                    "1": "7.0000",
                                    "2": "14.0000"
                                },
                                {
                                    "0": "2377",
                                    "1": "7.0000",
                                    "2": "14.0000"
                                },
                                {
                                    "0": "2377",
                                    "1": "7.0000",
                                    "2": "14.0000"
                                },
                                {
                                    "0": "2377",
                                    "1": "7.0000",
                                    "2": "14.0000"
                                },
                                {
                                    "0": "2377",
                                    "1": "7.0000",
                                    "2": "14.0000"
                                },
                                {
                                    "0": "2377",
                                    "1": "7.0000",
                                    "2": "14.0000"
                                },
                                {
                                    "0": "2377",
                                    "1": "7.0000",
                                    "2": "14.0000"
                                },
                                {
                                    "0": "2377",
                                    "1": "7.0000",
                                    "2": "14.0000"
                                },
                                {
                                    "0": "2377",
                                    "1": "7.0000",
                                    "2": "14.0000"
                                },
                                {
                                    "0": "2377",
                                    "1": "7.0000",
                                    "2": "14.0000"
                                },
                                {
                                    "0": "2377",
                                    "1": "7.0000",
                                    "2": "14.0000"
                                },
                                {
                                    "0": "2377",
                                    "1": "7.0000",
                                    "2": "14.0000"
                                },
                                {
                                    "0": "2377",
                                    "1": "7.0000",
                                    "2": "14.0000"
                                },
                                {
                                    "0": "2377",
                                    "1": "7.0000",
                                    "2": "14.0000"
                                },
                                {
                                    "0": "2377",
                                    "1": "7.0000",
                                    "2": "14.0000"
                                },
                                {
                                    "0": "2377",
                                    "1": "7.0000",
                                    "2": "14.0000"
                                },
                                {
                                    "0": "2377",
                                    "1": "7.0000",
                                    "2": "14.0000"
                                },
                                {
                                    "0": "5013",
                                    "1": "3.0000",
                                    "2": "6.0000"
                                },
                                {
                                    "0": "5013",
                                    "1": "3.0000",
                                    "2": "6.0000"
                                },
                                {
                                    "0": "5013",
                                    "1": "3.0000",
                                    "2": "6.0000"
                                },
                                {
                                    "0": "5013",
                                    "1": "3.0000",
                                    "2": "6.0000"
                                },
                                {
                                    "0": "5013",
                                    "1": "3.0000",
                                    "2": "6.0000"
                                },
                                {
                                    "0": "5013",
                                    "1": "3.0000",
                                    "2": "6.0000"
                                },
                                {
                                    "0": "5013",
                                    "1": "3.0000",
                                    "2": "6.0000"
                                },
                                {
                                    "0": "5013",
                                    "1": "3.0000",
                                    "2": "6.0000"
                                },
                                {
                                    "0": "5013",
                                    "1": "3.0000",
                                    "2": "6.0000"
                                },
                                {
                                    "0": "5013",
                                    "1": "3.0000",
                                    "2": "6.0000"
                                },
                                {
                                    "0": "5013",
                                    "1": "3.0000",
                                    "2": "6.0000"
                                },
                                {
                                    "0": "5013",
                                    "1": "3.0000",
                                    "2": "6.0000"
                                },
                                {
                                    "0": "5013",
                                    "1": "3.0000",
                                    "2": "6.0000"
                                },
                                {
                                    "0": "5013",
                                    "1": "3.0000",
                                    "2": "6.0000"
                                },
                                {
                                    "0": "5013",
                                    "1": "3.0000",
                                    "2": "6.0000"
                                },
                                {
                                    "0": "5013",
                                    "1": "3.0000",
                                    "2": "6.0000"
                                },
                                {
                                    "0": "5013",
                                    "1": "3.0000",
                                    "2": "6.0000"
                                },
                                {
                                    "0": "5013",
                                    "1": "3.0000",
                                    "2": "6.0000"
                                },
                                {
                                    "0": "5013",
                                    "1": "3.0000",
                                    "2": "6.0000"
                                },
                                {
                                    "0": "5013",
                                    "1": "3.0000",
                                    "2": "6.0000"
                                },
                                {
                                    "0": "5013",
                                    "1": "3.0000",
                                    "2": "6.0000"
                                },
                                {
                                    "0": "5013",
                                    "1": "3.0000",
                                    "2": "6.0000"
                                },
                                {
                                    "0": "5013",
                                    "1": "3.0000",
                                    "2": "6.0000"
                                },
                                {
                                    "0": "5013",
                                    "1": "3.0000",
                                    "2": "6.0000"
                                },
                                {
                                    "0": "5013",
                                    "1": "3.0000",
                                    "2": "6.0000"
                                },
                                {
                                    "0": "5013",
                                    "1": "3.0000",
                                    "2": "6.0000"
                                },
                                {
                                    "0": "6769",
                                    "1": "9.0000",
                                    "2": "18.0000"
                                },
                                {
                                    "0": "6769",
                                    "1": "9.0000",
                                    "2": "18.0000"
                                },
                                {
                                    "0": "6769",
                                    "1": "9.0000",
                                    "2": "18.0000"
                                },
                                {
                                    "0": "6769",
                                    "1": "9.0000",
                                    "2": "18.0000"
                                },
                                {
                                    "0": "6769",
                                    "1": "9.0000",
                                    "2": "18.0000"
                                },
                                {
                                    "0": "6769",
                                    "1": "9.0000",
                                    "2": "18.0000"
                                },
                                {
                                    "0": "6769",
                                    "1": "9.0000",
                                    "2": "18.0000"
                                },
                                {
                                    "0": "6769",
                                    "1": "9.0000",
                                    "2": "18.0000"
                                },
                                {
                                    "0": "6769",
                                    "1": "9.0000",
                                    "2": "18.0000"
                                },
                                {
                                    "0": "6769",
                                    "1": "9.0000",
                                    "2": "18.0000"
                                },
                                {
                                    "0": "6769",
                                    "1": "9.0000",
                                    "2": "18.0000"
                                },
                                {
                                    "0": "6769",
                                    "1": "9.0000",
                                    "2": "18.0000"
                                },
                                {
                                    "0": "6769",
                                    "1": "9.0000",
                                    "2": "18.0000"
                                },
                                {
                                    "0": "6769",
                                    "1": "9.0000",
                                    "2": "18.0000"
                                },
                                {
                                    "0": "6769",
                                    "1": "9.0000",
                                    "2": "18.0000"
                                },
                                {
                                    "0": "6769",
                                    "1": "9.0000",
                                    "2": "18.0000"
                                },
                                {
                                    "0": "6769",
                                    "1": "9.0000",
                                    "2": "18.0000"
                                },
                                {
                                    "0": "6769",
                                    "1": "9.0000",
                                    "2": "18.0000"
                                },
                                {
                                    "0": "6769",
                                    "1": "9.0000",
                                    "2": "18.0000"
                                },
                                {
                                    "0": "6769",
                                    "1": "9.0000",
                                    "2": "18.0000"
                                },
                                {
                                    "0": "6769",
                                    "1": "9.0000",
                                    "2": "18.0000"
                                },
                                {
                                    "0": "6769",
                                    "1": "9.0000",
                                    "2": "18.0000"
                                },
                                {
                                    "0": "6769",
                                    "1": "9.0000",
                                    "2": "18.0000"
                                },
                                {
                                    "0": "6769",
                                    "1": "9.0000",
                                    "2": "18.0000"
                                },
                                {
                                    "0": "6769",
                                    "1": "9.0000",
                                    "2": "18.0000"
                                },
                                {
                                    "0": "6769",
                                    "1": "9.0000",
                                    "2": "18.0000"
                                },
                                {
                                    "0": "8818",
                                    "1": "8.0000",
                                    "2": "16.0000"
                                },
                                {
                                    "0": "8818",
                                    "1": "8.0000",
                                    "2": "16.0000"
                                },
                                {
                                    "0": "8818",
                                    "1": "8.0000",
                                    "2": "16.0000"
                                },
                                {
                                    "0": "8818",
                                    "1": "8.0000",
                                    "2": "16.0000"
                                },
                                {
                                    "0": "8818",
                                    "1": "8.0000",
                                    "2": "16.0000"
                                },
                                {
                                    "0": "8818",
                                    "1": "8.0000",
                                    "2": "16.0000"
                                },
                                {
                                    "0": "8818",
                                    "1": "8.0000",
                                    "2": "16.0000"
                                },
                                {
                                    "0": "8818",
                                    "1": "8.0000",
                                    "2": "16.0000"
                                },
                                {
                                    "0": "8818",
                                    "1": "8.0000",
                                    "2": "16.0000"
                                },
                                {
                                    "0": "8818",
                                    "1": "8.0000",
                                    "2": "16.0000"
                                },
                                {
                                    "0": "8818",
                                    "1": "8.0000",
                                    "2": "16.0000"
                                },
                                {
                                    "0": "8818",
                                    "1": "8.0000",
                                    "2": "16.0000"
                                },
                                {
                                    "0": "8818",
                                    "1": "8.0000",
                                    "2": "16.0000"
                                },
                                {
                                    "0": "8818",
                                    "1": "8.0000",
                                    "2": "16.0000"
                                },
                                {
                                    "0": "8818",
                                    "1": "8.0000",
                                    "2": "16.0000"
                                },
                                {
                                    "0": "8818",
                                    "1": "8.0000",
                                    "2": "16.0000"
                                },
                                {
                                    "0": "8818",
                                    "1": "8.0000",
                                    "2": "16.0000"
                                },
                                {
                                    "0": "8818",
                                    "1": "8.0000",
                                    "2": "16.0000"
                                },
                                {
                                    "0": "8818",
                                    "1": "8.0000",
                                    "2": "16.0000"
                                },
                                {
                                    "0": "8818",
                                    "1": "8.0000",
                                    "2": "16.0000"
                                },
                                {
                                    "0": "8818",
                                    "1": "8.0000",
                                    "2": "16.0000"
                                },
                                {
                                    "0": "8818",
                                    "1": "8.0000",
                                    "2": "16.0000"
                                },
                                {
                                    "0": "8818",
                                    "1": "8.0000",
                                    "2": "16.0000"
                                },
                                {
                                    "0": "8818",
                                    "1": "8.0000",
                                    "2": "16.0000"
                                },
                                {
                                    "0": "8818",
                                    "1": "8.0000",
                                    "2": "16.0000"
                                },
                                {
                                    "0": "8818",
                                    "1": "8.0000",
                                    "2": "16.0000"
                                },
                                {
                                    "0": "1165",
                                    "1": "5.0000",
                                    "2": "10.0000"
                                },
                                {
                                    "0": "1165",
                                    "1": "5.0000",
                                    "2": "10.0000"
                                },
                                {
                                    "0": "1165",
                                    "1": "5.0000",
                                    "2": "10.0000"
                                },
                                {
                                    "0": "1165",
                                    "1": "5.0000",
                                    "2": "10.0000"
                                },
                                {
                                    "0": "1165",
                                    "1": "5.0000",
                                    "2": "10.0000"
                                },
                                {
                                    "0": "1165",
                                    "1": "5.0000",
                                    "2": "10.0000"
                                },
                                {
                                    "0": "1165",
                                    "1": "5.0000",
                                    "2": "10.0000"
                                },
                                {
                                    "0": "1165",
                                    "1": "5.0000",
                                    "2": "10.0000"
                                },
                                {
                                    "0": "1165",
                                    "1": "5.0000",
                                    "2": "10.0000"
                                },
                                {
                                    "0": "1165",
                                    "1": "5.0000",
                                    "2": "10.0000"
                                },
                                {
                                    "0": "1165",
                                    "1": "5.0000",
                                    "2": "10.0000"
                                },
                                {
                                    "0": "1165",
                                    "1": "5.0000",
                                    "2": "10.0000"
                                },
                                {
                                    "0": "1165",
                                    "1": "5.0000",
                                    "2": "10.0000"
                                },
                                {
                                    "0": "1165",
                                    "1": "5.0000",
                                    "2": "10.0000"
                                },
                                {
                                    "0": "1165",
                                    "1": "5.0000",
                                    "2": "10.0000"
                                },
                                {
                                    "0": "1165",
                                    "1": "5.0000",
                                    "2": "10.0000"
                                },
                                {
                                    "0": "1165",
                                    "1": "5.0000",
                                    "2": "10.0000"
                                },
                                {
                                    "0": "1165",
                                    "1": "5.0000",
                                    "2": "10.0000"
                                },
                                {
                                    "0": "1165",
                                    "1": "5.0000",
                                    "2": "10.0000"
                                },
                                {
                                    "0": "1165",
                                    "1": "5.0000",
                                    "2": "10.0000"
                                },
                                {
                                    "0": "1165",
                                    "1": "5.0000",
                                    "2": "10.0000"
                                },
                                {
                                    "0": "1165",
                                    "1": "5.0000",
                                    "2": "10.0000"
                                },
                                {
                                    "0": "1165",
                                    "1": "5.0000",
                                    "2": "10.0000"
                                },
                                {
                                    "0": "1165",
                                    "1": "5.0000",
                                    "2": "10.0000"
                                },
                                {
                                    "0": "1165",
                                    "1": "5.0000",
                                    "2": "10.0000"
                                },
                                {
                                    "0": "1165",
                                    "1": "5.0000",
                                    "2": "10.0000"
                                },
                                {
                                    "0": "3809",
                                    "1": "9.0000",
                                    "2": "18.0000"
                                },
                                {
                                    "0": "3809",
                                    "1": "9.0000",
                                    "2": "18.0000"
                                },
                                {
                                    "0": "3809",
                                    "1": "9.0000",
                                    "2": "18.0000"
                                },
                                {
                                    "0": "3809",
                                    "1": "9.0000",
                                    "2": "18.0000"
                                },
                                {
                                    "0": "3809",
                                    "1": "9.0000",
                                    "2": "18.0000"
                                },
                                {
                                    "0": "3809",
                                    "1": "9.0000",
                                    "2": "18.0000"
                                },
                                {
                                    "0": "3809",
                                    "1": "9.0000",
                                    "2": "18.0000"
                                },
                                {
                                    "0": "3809",
                                    "1": "9.0000",
                                    "2": "18.0000"
                                },
                                {
                                    "0": "3809",
                                    "1": "9.0000",
                                    "2": "18.0000"
                                },
                                {
                                    "0": "3809",
                                    "1": "9.0000",
                                    "2": "18.0000"
                                },
                                {
                                    "0": "3809",
                                    "1": "9.0000",
                                    "2": "18.0000"
                                },
                                {
                                    "0": "3809",
                                    "1": "9.0000",
                                    "2": "18.0000"
                                },
                                {
                                    "0": "3809",
                                    "1": "9.0000",
                                    "2": "18.0000"
                                },
                                {
                                    "0": "3809",
                                    "1": "9.0000",
                                    "2": "18.0000"
                                },
                                {
                                    "0": "3809",
                                    "1": "9.0000",
                                    "2": "18.0000"
                                },
                                {
                                    "0": "3809",
                                    "1": "9.0000",
                                    "2": "18.0000"
                                },
                                {
                                    "0": "3809",
                                    "1": "9.0000",
                                    "2": "18.0000"
                                },
                                {
                                    "0": "3809",
                                    "1": "9.0000",
                                    "2": "18.0000"
                                },
                                {
                                    "0": "3809",
                                    "1": "9.0000",
                                    "2": "18.0000"
                                },
                                {
                                    "0": "3809",
                                    "1": "9.0000",
                                    "2": "18.0000"
                                },
                                {
                                    "0": "3809",
                                    "1": "9.0000",
                                    "2": "18.0000"
                                },
                                {
                                    "0": "3809",
                                    "1": "9.0000",
                                    "2": "18.0000"
                                },
                                {
                                    "0": "3809",
                                    "1": "9.0000",
                                    "2": "18.0000"
                                },
                                {
                                    "0": "3809",
                                    "1": "9.0000",
                                    "2": "18.0000"
                                },
                                {
                                    "0": "3809",
                                    "1": "9.0000",
                                    "2": "18.0000"
                                },
                                {
                                    "0": "3809",
                                    "1": "9.0000",
                                    "2": "18.0000"
                                },
                                {
                                    "0": "6754",
                                    "1": "4.0000",
                                    "2": "8.0000"
                                },
                                {
                                    "0": "6754",
                                    "1": "4.0000",
                                    "2": "8.0000"
                                },
                                {
                                    "0": "6754",
                                    "1": "4.0000",
                                    "2": "8.0000"
                                },
                                {
                                    "0": "6754",
                                    "1": "4.0000",
                                    "2": "8.0000"
                                },
                                {
                                    "0": "6754",
                                    "1": "4.0000",
                                    "2": "8.0000"
                                },
                                {
                                    "0": "6754",
                                    "1": "4.0000",
                                    "2": "8.0000"
                                },
                                {
                                    "0": "6754",
                                    "1": "4.0000",
                                    "2": "8.0000"
                                },
                                {
                                    "0": "6754",
                                    "1": "4.0000",
                                    "2": "8.0000"
                                },
                                {
                                    "0": "6754",
                                    "1": "4.0000",
                                    "2": "8.0000"
                                },
                                {
                                    "0": "6754",
                                    "1": "4.0000",
                                    "2": "8.0000"
                                },
                                {
                                    "0": "6754",
                                    "1": "4.0000",
                                    "2": "8.0000"
                                },
                                {
                                    "0": "6754",
                                    "1": "4.0000",
                                    "2": "8.0000"
                                },
                                {
                                    "0": "6754",
                                    "1": "4.0000",
                                    "2": "8.0000"
                                },
                                {
                                    "0": "6754",
                                    "1": "4.0000",
                                    "2": "8.0000"
                                },
                                {
                                    "0": "6754",
                                    "1": "4.0000",
                                    "2": "8.0000"
                                },
                                {
                                    "0": "6754",
                                    "1": "4.0000",
                                    "2": "8.0000"
                                },
                                {
                                    "0": "6754",
                                    "1": "4.0000",
                                    "2": "8.0000"
                                },
                                {
                                    "0": "6754",
                                    "1": "4.0000",
                                    "2": "8.0000"
                                },
                                {
                                    "0": "6754",
                                    "1": "4.0000",
                                    "2": "8.0000"
                                },
                                {
                                    "0": "6754",
                                    "1": "4.0000",
                                    "2": "8.0000"
                                },
                                {
                                    "0": "6754",
                                    "1": "4.0000",
                                    "2": "8.0000"
                                },
                                {
                                    "0": "6754",
                                    "1": "4.0000",
                                    "2": "8.0000"
                                },
                                {
                                    "0": "6754",
                                    "1": "4.0000",
                                    "2": "8.0000"
                                },
                                {
                                    "0": "6754",
                                    "1": "4.0000",
                                    "2": "8.0000"
                                },
                                {
                                    "0": "6754",
                                    "1": "4.0000",
                                    "2": "8.0000"
                                },
                                {
                                    "0": "6754",
                                    "1": "4.0000",
                                    "2": "8.0000"
                                }
                            ]
                        },
                        "text/html": [
                            "<table>",
                            "<tr><th>member_no</th><th>fine_assessed</th><th>double fine</th></tr>",
                            "<tr><td>1772</td><td>2.0000</td><td>4.0000</td></tr>",
                            "<tr><td>1772</td><td>2.0000</td><td>4.0000</td></tr>",
                            "<tr><td>1772</td><td>2.0000</td><td>4.0000</td></tr>",
                            "<tr><td>1772</td><td>2.0000</td><td>4.0000</td></tr>",
                            "<tr><td>1772</td><td>2.0000</td><td>4.0000</td></tr>",
                            "<tr><td>1772</td><td>2.0000</td><td>4.0000</td></tr>",
                            "<tr><td>1772</td><td>2.0000</td><td>4.0000</td></tr>",
                            "<tr><td>1772</td><td>2.0000</td><td>4.0000</td></tr>",
                            "<tr><td>1772</td><td>2.0000</td><td>4.0000</td></tr>",
                            "<tr><td>1772</td><td>2.0000</td><td>4.0000</td></tr>",
                            "<tr><td>1772</td><td>2.0000</td><td>4.0000</td></tr>",
                            "<tr><td>1772</td><td>2.0000</td><td>4.0000</td></tr>",
                            "<tr><td>1772</td><td>2.0000</td><td>4.0000</td></tr>",
                            "<tr><td>1772</td><td>2.0000</td><td>4.0000</td></tr>",
                            "<tr><td>1772</td><td>2.0000</td><td>4.0000</td></tr>",
                            "<tr><td>1772</td><td>2.0000</td><td>4.0000</td></tr>",
                            "<tr><td>1772</td><td>2.0000</td><td>4.0000</td></tr>",
                            "<tr><td>1772</td><td>2.0000</td><td>4.0000</td></tr>",
                            "<tr><td>1772</td><td>2.0000</td><td>4.0000</td></tr>",
                            "<tr><td>1772</td><td>2.0000</td><td>4.0000</td></tr>",
                            "<tr><td>1772</td><td>2.0000</td><td>4.0000</td></tr>",
                            "<tr><td>1772</td><td>2.0000</td><td>4.0000</td></tr>",
                            "<tr><td>1772</td><td>2.0000</td><td>4.0000</td></tr>",
                            "<tr><td>1772</td><td>2.0000</td><td>4.0000</td></tr>",
                            "<tr><td>1772</td><td>2.0000</td><td>4.0000</td></tr>",
                            "<tr><td>1772</td><td>2.0000</td><td>4.0000</td></tr>",
                            "<tr><td>479</td><td>9.0000</td><td>18.0000</td></tr>",
                            "<tr><td>479</td><td>9.0000</td><td>18.0000</td></tr>",
                            "<tr><td>479</td><td>9.0000</td><td>18.0000</td></tr>",
                            "<tr><td>479</td><td>9.0000</td><td>18.0000</td></tr>",
                            "<tr><td>479</td><td>9.0000</td><td>18.0000</td></tr>",
                            "<tr><td>479</td><td>9.0000</td><td>18.0000</td></tr>",
                            "<tr><td>479</td><td>9.0000</td><td>18.0000</td></tr>",
                            "<tr><td>479</td><td>9.0000</td><td>18.0000</td></tr>",
                            "<tr><td>479</td><td>9.0000</td><td>18.0000</td></tr>",
                            "<tr><td>479</td><td>9.0000</td><td>18.0000</td></tr>",
                            "<tr><td>479</td><td>9.0000</td><td>18.0000</td></tr>",
                            "<tr><td>479</td><td>9.0000</td><td>18.0000</td></tr>",
                            "<tr><td>479</td><td>9.0000</td><td>18.0000</td></tr>",
                            "<tr><td>479</td><td>9.0000</td><td>18.0000</td></tr>",
                            "<tr><td>479</td><td>9.0000</td><td>18.0000</td></tr>",
                            "<tr><td>479</td><td>9.0000</td><td>18.0000</td></tr>",
                            "<tr><td>479</td><td>9.0000</td><td>18.0000</td></tr>",
                            "<tr><td>479</td><td>9.0000</td><td>18.0000</td></tr>",
                            "<tr><td>479</td><td>9.0000</td><td>18.0000</td></tr>",
                            "<tr><td>479</td><td>9.0000</td><td>18.0000</td></tr>",
                            "<tr><td>479</td><td>9.0000</td><td>18.0000</td></tr>",
                            "<tr><td>479</td><td>9.0000</td><td>18.0000</td></tr>",
                            "<tr><td>479</td><td>9.0000</td><td>18.0000</td></tr>",
                            "<tr><td>479</td><td>9.0000</td><td>18.0000</td></tr>",
                            "<tr><td>479</td><td>9.0000</td><td>18.0000</td></tr>",
                            "<tr><td>479</td><td>9.0000</td><td>18.0000</td></tr>",
                            "<tr><td>9182</td><td>2.0000</td><td>4.0000</td></tr>",
                            "<tr><td>9182</td><td>2.0000</td><td>4.0000</td></tr>",
                            "<tr><td>9182</td><td>2.0000</td><td>4.0000</td></tr>",
                            "<tr><td>9182</td><td>2.0000</td><td>4.0000</td></tr>",
                            "<tr><td>9182</td><td>2.0000</td><td>4.0000</td></tr>",
                            "<tr><td>9182</td><td>2.0000</td><td>4.0000</td></tr>",
                            "<tr><td>9182</td><td>2.0000</td><td>4.0000</td></tr>",
                            "<tr><td>9182</td><td>2.0000</td><td>4.0000</td></tr>",
                            "<tr><td>9182</td><td>2.0000</td><td>4.0000</td></tr>",
                            "<tr><td>9182</td><td>2.0000</td><td>4.0000</td></tr>",
                            "<tr><td>9182</td><td>2.0000</td><td>4.0000</td></tr>",
                            "<tr><td>9182</td><td>2.0000</td><td>4.0000</td></tr>",
                            "<tr><td>9182</td><td>2.0000</td><td>4.0000</td></tr>",
                            "<tr><td>9182</td><td>2.0000</td><td>4.0000</td></tr>",
                            "<tr><td>9182</td><td>2.0000</td><td>4.0000</td></tr>",
                            "<tr><td>9182</td><td>2.0000</td><td>4.0000</td></tr>",
                            "<tr><td>9182</td><td>2.0000</td><td>4.0000</td></tr>",
                            "<tr><td>9182</td><td>2.0000</td><td>4.0000</td></tr>",
                            "<tr><td>9182</td><td>2.0000</td><td>4.0000</td></tr>",
                            "<tr><td>9182</td><td>2.0000</td><td>4.0000</td></tr>",
                            "<tr><td>9182</td><td>2.0000</td><td>4.0000</td></tr>",
                            "<tr><td>9182</td><td>2.0000</td><td>4.0000</td></tr>",
                            "<tr><td>9182</td><td>2.0000</td><td>4.0000</td></tr>",
                            "<tr><td>9182</td><td>2.0000</td><td>4.0000</td></tr>",
                            "<tr><td>9182</td><td>2.0000</td><td>4.0000</td></tr>",
                            "<tr><td>9182</td><td>2.0000</td><td>4.0000</td></tr>",
                            "<tr><td>6575</td><td>5.0000</td><td>10.0000</td></tr>",
                            "<tr><td>6575</td><td>5.0000</td><td>10.0000</td></tr>",
                            "<tr><td>6575</td><td>5.0000</td><td>10.0000</td></tr>",
                            "<tr><td>6575</td><td>5.0000</td><td>10.0000</td></tr>",
                            "<tr><td>6575</td><td>5.0000</td><td>10.0000</td></tr>",
                            "<tr><td>6575</td><td>5.0000</td><td>10.0000</td></tr>",
                            "<tr><td>6575</td><td>5.0000</td><td>10.0000</td></tr>",
                            "<tr><td>6575</td><td>5.0000</td><td>10.0000</td></tr>",
                            "<tr><td>6575</td><td>5.0000</td><td>10.0000</td></tr>",
                            "<tr><td>6575</td><td>5.0000</td><td>10.0000</td></tr>",
                            "<tr><td>6575</td><td>5.0000</td><td>10.0000</td></tr>",
                            "<tr><td>6575</td><td>5.0000</td><td>10.0000</td></tr>",
                            "<tr><td>6575</td><td>5.0000</td><td>10.0000</td></tr>",
                            "<tr><td>6575</td><td>5.0000</td><td>10.0000</td></tr>",
                            "<tr><td>6575</td><td>5.0000</td><td>10.0000</td></tr>",
                            "<tr><td>6575</td><td>5.0000</td><td>10.0000</td></tr>",
                            "<tr><td>6575</td><td>5.0000</td><td>10.0000</td></tr>",
                            "<tr><td>6575</td><td>5.0000</td><td>10.0000</td></tr>",
                            "<tr><td>6575</td><td>5.0000</td><td>10.0000</td></tr>",
                            "<tr><td>6575</td><td>5.0000</td><td>10.0000</td></tr>",
                            "<tr><td>6575</td><td>5.0000</td><td>10.0000</td></tr>",
                            "<tr><td>6575</td><td>5.0000</td><td>10.0000</td></tr>",
                            "<tr><td>6575</td><td>5.0000</td><td>10.0000</td></tr>",
                            "<tr><td>6575</td><td>5.0000</td><td>10.0000</td></tr>",
                            "<tr><td>6575</td><td>5.0000</td><td>10.0000</td></tr>",
                            "<tr><td>6575</td><td>5.0000</td><td>10.0000</td></tr>",
                            "<tr><td>5265</td><td>5.0000</td><td>10.0000</td></tr>",
                            "<tr><td>5265</td><td>5.0000</td><td>10.0000</td></tr>",
                            "<tr><td>5265</td><td>5.0000</td><td>10.0000</td></tr>",
                            "<tr><td>5265</td><td>5.0000</td><td>10.0000</td></tr>",
                            "<tr><td>5265</td><td>5.0000</td><td>10.0000</td></tr>",
                            "<tr><td>5265</td><td>5.0000</td><td>10.0000</td></tr>",
                            "<tr><td>5265</td><td>5.0000</td><td>10.0000</td></tr>",
                            "<tr><td>5265</td><td>5.0000</td><td>10.0000</td></tr>",
                            "<tr><td>5265</td><td>5.0000</td><td>10.0000</td></tr>",
                            "<tr><td>5265</td><td>5.0000</td><td>10.0000</td></tr>",
                            "<tr><td>5265</td><td>5.0000</td><td>10.0000</td></tr>",
                            "<tr><td>5265</td><td>5.0000</td><td>10.0000</td></tr>",
                            "<tr><td>5265</td><td>5.0000</td><td>10.0000</td></tr>",
                            "<tr><td>5265</td><td>5.0000</td><td>10.0000</td></tr>",
                            "<tr><td>5265</td><td>5.0000</td><td>10.0000</td></tr>",
                            "<tr><td>5265</td><td>5.0000</td><td>10.0000</td></tr>",
                            "<tr><td>5265</td><td>5.0000</td><td>10.0000</td></tr>",
                            "<tr><td>5265</td><td>5.0000</td><td>10.0000</td></tr>",
                            "<tr><td>5265</td><td>5.0000</td><td>10.0000</td></tr>",
                            "<tr><td>5265</td><td>5.0000</td><td>10.0000</td></tr>",
                            "<tr><td>5265</td><td>5.0000</td><td>10.0000</td></tr>",
                            "<tr><td>5265</td><td>5.0000</td><td>10.0000</td></tr>",
                            "<tr><td>5265</td><td>5.0000</td><td>10.0000</td></tr>",
                            "<tr><td>5265</td><td>5.0000</td><td>10.0000</td></tr>",
                            "<tr><td>5265</td><td>5.0000</td><td>10.0000</td></tr>",
                            "<tr><td>5265</td><td>5.0000</td><td>10.0000</td></tr>",
                            "<tr><td>3953</td><td>3.0000</td><td>6.0000</td></tr>",
                            "<tr><td>3953</td><td>3.0000</td><td>6.0000</td></tr>",
                            "<tr><td>3953</td><td>3.0000</td><td>6.0000</td></tr>",
                            "<tr><td>3953</td><td>3.0000</td><td>6.0000</td></tr>",
                            "<tr><td>3953</td><td>3.0000</td><td>6.0000</td></tr>",
                            "<tr><td>3953</td><td>3.0000</td><td>6.0000</td></tr>",
                            "<tr><td>3953</td><td>3.0000</td><td>6.0000</td></tr>",
                            "<tr><td>3953</td><td>3.0000</td><td>6.0000</td></tr>",
                            "<tr><td>3953</td><td>3.0000</td><td>6.0000</td></tr>",
                            "<tr><td>3953</td><td>3.0000</td><td>6.0000</td></tr>",
                            "<tr><td>3953</td><td>3.0000</td><td>6.0000</td></tr>",
                            "<tr><td>3953</td><td>3.0000</td><td>6.0000</td></tr>",
                            "<tr><td>3953</td><td>3.0000</td><td>6.0000</td></tr>",
                            "<tr><td>3953</td><td>3.0000</td><td>6.0000</td></tr>",
                            "<tr><td>3953</td><td>3.0000</td><td>6.0000</td></tr>",
                            "<tr><td>3953</td><td>3.0000</td><td>6.0000</td></tr>",
                            "<tr><td>3953</td><td>3.0000</td><td>6.0000</td></tr>",
                            "<tr><td>3953</td><td>3.0000</td><td>6.0000</td></tr>",
                            "<tr><td>3953</td><td>3.0000</td><td>6.0000</td></tr>",
                            "<tr><td>3953</td><td>3.0000</td><td>6.0000</td></tr>",
                            "<tr><td>3953</td><td>3.0000</td><td>6.0000</td></tr>",
                            "<tr><td>3953</td><td>3.0000</td><td>6.0000</td></tr>",
                            "<tr><td>3953</td><td>3.0000</td><td>6.0000</td></tr>",
                            "<tr><td>3953</td><td>3.0000</td><td>6.0000</td></tr>",
                            "<tr><td>3953</td><td>3.0000</td><td>6.0000</td></tr>",
                            "<tr><td>3953</td><td>3.0000</td><td>6.0000</td></tr>",
                            "<tr><td>2638</td><td>8.0000</td><td>16.0000</td></tr>",
                            "<tr><td>2638</td><td>8.0000</td><td>16.0000</td></tr>",
                            "<tr><td>2638</td><td>8.0000</td><td>16.0000</td></tr>",
                            "<tr><td>2638</td><td>8.0000</td><td>16.0000</td></tr>",
                            "<tr><td>2638</td><td>8.0000</td><td>16.0000</td></tr>",
                            "<tr><td>2638</td><td>8.0000</td><td>16.0000</td></tr>",
                            "<tr><td>2638</td><td>8.0000</td><td>16.0000</td></tr>",
                            "<tr><td>2638</td><td>8.0000</td><td>16.0000</td></tr>",
                            "<tr><td>2638</td><td>8.0000</td><td>16.0000</td></tr>",
                            "<tr><td>2638</td><td>8.0000</td><td>16.0000</td></tr>",
                            "<tr><td>2638</td><td>8.0000</td><td>16.0000</td></tr>",
                            "<tr><td>2638</td><td>8.0000</td><td>16.0000</td></tr>",
                            "<tr><td>2638</td><td>8.0000</td><td>16.0000</td></tr>",
                            "<tr><td>2638</td><td>8.0000</td><td>16.0000</td></tr>",
                            "<tr><td>2638</td><td>8.0000</td><td>16.0000</td></tr>",
                            "<tr><td>2638</td><td>8.0000</td><td>16.0000</td></tr>",
                            "<tr><td>2638</td><td>8.0000</td><td>16.0000</td></tr>",
                            "<tr><td>2638</td><td>8.0000</td><td>16.0000</td></tr>",
                            "<tr><td>2638</td><td>8.0000</td><td>16.0000</td></tr>",
                            "<tr><td>2638</td><td>8.0000</td><td>16.0000</td></tr>",
                            "<tr><td>2638</td><td>8.0000</td><td>16.0000</td></tr>",
                            "<tr><td>2638</td><td>8.0000</td><td>16.0000</td></tr>",
                            "<tr><td>2638</td><td>8.0000</td><td>16.0000</td></tr>",
                            "<tr><td>2638</td><td>8.0000</td><td>16.0000</td></tr>",
                            "<tr><td>2638</td><td>8.0000</td><td>16.0000</td></tr>",
                            "<tr><td>2638</td><td>8.0000</td><td>16.0000</td></tr>",
                            "<tr><td>1321</td><td>1.0000</td><td>2.0000</td></tr>",
                            "<tr><td>1321</td><td>1.0000</td><td>2.0000</td></tr>",
                            "<tr><td>1321</td><td>1.0000</td><td>2.0000</td></tr>",
                            "<tr><td>1321</td><td>1.0000</td><td>2.0000</td></tr>",
                            "<tr><td>1321</td><td>1.0000</td><td>2.0000</td></tr>",
                            "<tr><td>1321</td><td>1.0000</td><td>2.0000</td></tr>",
                            "<tr><td>1321</td><td>1.0000</td><td>2.0000</td></tr>",
                            "<tr><td>1321</td><td>1.0000</td><td>2.0000</td></tr>",
                            "<tr><td>1321</td><td>1.0000</td><td>2.0000</td></tr>",
                            "<tr><td>1321</td><td>1.0000</td><td>2.0000</td></tr>",
                            "<tr><td>1321</td><td>1.0000</td><td>2.0000</td></tr>",
                            "<tr><td>1321</td><td>1.0000</td><td>2.0000</td></tr>",
                            "<tr><td>1321</td><td>1.0000</td><td>2.0000</td></tr>",
                            "<tr><td>1321</td><td>1.0000</td><td>2.0000</td></tr>",
                            "<tr><td>1321</td><td>1.0000</td><td>2.0000</td></tr>",
                            "<tr><td>1321</td><td>1.0000</td><td>2.0000</td></tr>",
                            "<tr><td>1321</td><td>1.0000</td><td>2.0000</td></tr>",
                            "<tr><td>1321</td><td>1.0000</td><td>2.0000</td></tr>",
                            "<tr><td>1321</td><td>1.0000</td><td>2.0000</td></tr>",
                            "<tr><td>1321</td><td>1.0000</td><td>2.0000</td></tr>",
                            "<tr><td>1321</td><td>1.0000</td><td>2.0000</td></tr>",
                            "<tr><td>1321</td><td>1.0000</td><td>2.0000</td></tr>",
                            "<tr><td>1321</td><td>1.0000</td><td>2.0000</td></tr>",
                            "<tr><td>1321</td><td>1.0000</td><td>2.0000</td></tr>",
                            "<tr><td>1321</td><td>1.0000</td><td>2.0000</td></tr>",
                            "<tr><td>1321</td><td>1.0000</td><td>2.0000</td></tr>",
                            "<tr><td>8105</td><td>5.0000</td><td>10.0000</td></tr>",
                            "<tr><td>8105</td><td>5.0000</td><td>10.0000</td></tr>",
                            "<tr><td>8105</td><td>5.0000</td><td>10.0000</td></tr>",
                            "<tr><td>8105</td><td>5.0000</td><td>10.0000</td></tr>",
                            "<tr><td>8105</td><td>5.0000</td><td>10.0000</td></tr>",
                            "<tr><td>8105</td><td>5.0000</td><td>10.0000</td></tr>",
                            "<tr><td>8105</td><td>5.0000</td><td>10.0000</td></tr>",
                            "<tr><td>8105</td><td>5.0000</td><td>10.0000</td></tr>",
                            "<tr><td>8105</td><td>5.0000</td><td>10.0000</td></tr>",
                            "<tr><td>8105</td><td>5.0000</td><td>10.0000</td></tr>",
                            "<tr><td>8105</td><td>5.0000</td><td>10.0000</td></tr>",
                            "<tr><td>8105</td><td>5.0000</td><td>10.0000</td></tr>",
                            "<tr><td>8105</td><td>5.0000</td><td>10.0000</td></tr>",
                            "<tr><td>8105</td><td>5.0000</td><td>10.0000</td></tr>",
                            "<tr><td>8105</td><td>5.0000</td><td>10.0000</td></tr>",
                            "<tr><td>8105</td><td>5.0000</td><td>10.0000</td></tr>",
                            "<tr><td>8105</td><td>5.0000</td><td>10.0000</td></tr>",
                            "<tr><td>8105</td><td>5.0000</td><td>10.0000</td></tr>",
                            "<tr><td>8105</td><td>5.0000</td><td>10.0000</td></tr>",
                            "<tr><td>8105</td><td>5.0000</td><td>10.0000</td></tr>",
                            "<tr><td>8105</td><td>5.0000</td><td>10.0000</td></tr>",
                            "<tr><td>8105</td><td>5.0000</td><td>10.0000</td></tr>",
                            "<tr><td>8105</td><td>5.0000</td><td>10.0000</td></tr>",
                            "<tr><td>8105</td><td>5.0000</td><td>10.0000</td></tr>",
                            "<tr><td>8105</td><td>5.0000</td><td>10.0000</td></tr>",
                            "<tr><td>8105</td><td>5.0000</td><td>10.0000</td></tr>",
                            "<tr><td>5152</td><td>2.0000</td><td>4.0000</td></tr>",
                            "<tr><td>5152</td><td>2.0000</td><td>4.0000</td></tr>",
                            "<tr><td>5152</td><td>2.0000</td><td>4.0000</td></tr>",
                            "<tr><td>5152</td><td>2.0000</td><td>4.0000</td></tr>",
                            "<tr><td>5152</td><td>2.0000</td><td>4.0000</td></tr>",
                            "<tr><td>5152</td><td>2.0000</td><td>4.0000</td></tr>",
                            "<tr><td>5152</td><td>2.0000</td><td>4.0000</td></tr>",
                            "<tr><td>5152</td><td>2.0000</td><td>4.0000</td></tr>",
                            "<tr><td>5152</td><td>2.0000</td><td>4.0000</td></tr>",
                            "<tr><td>5152</td><td>2.0000</td><td>4.0000</td></tr>",
                            "<tr><td>5152</td><td>2.0000</td><td>4.0000</td></tr>",
                            "<tr><td>5152</td><td>2.0000</td><td>4.0000</td></tr>",
                            "<tr><td>5152</td><td>2.0000</td><td>4.0000</td></tr>",
                            "<tr><td>5152</td><td>2.0000</td><td>4.0000</td></tr>",
                            "<tr><td>5152</td><td>2.0000</td><td>4.0000</td></tr>",
                            "<tr><td>5152</td><td>2.0000</td><td>4.0000</td></tr>",
                            "<tr><td>5152</td><td>2.0000</td><td>4.0000</td></tr>",
                            "<tr><td>5152</td><td>2.0000</td><td>4.0000</td></tr>",
                            "<tr><td>5152</td><td>2.0000</td><td>4.0000</td></tr>",
                            "<tr><td>5152</td><td>2.0000</td><td>4.0000</td></tr>",
                            "<tr><td>5152</td><td>2.0000</td><td>4.0000</td></tr>",
                            "<tr><td>5152</td><td>2.0000</td><td>4.0000</td></tr>",
                            "<tr><td>5152</td><td>2.0000</td><td>4.0000</td></tr>",
                            "<tr><td>5152</td><td>2.0000</td><td>4.0000</td></tr>",
                            "<tr><td>5152</td><td>2.0000</td><td>4.0000</td></tr>",
                            "<tr><td>5152</td><td>2.0000</td><td>4.0000</td></tr>",
                            "<tr><td>2229</td><td>9.0000</td><td>18.0000</td></tr>",
                            "<tr><td>2229</td><td>9.0000</td><td>18.0000</td></tr>",
                            "<tr><td>2229</td><td>9.0000</td><td>18.0000</td></tr>",
                            "<tr><td>2229</td><td>9.0000</td><td>18.0000</td></tr>",
                            "<tr><td>2229</td><td>9.0000</td><td>18.0000</td></tr>",
                            "<tr><td>2229</td><td>9.0000</td><td>18.0000</td></tr>",
                            "<tr><td>2229</td><td>9.0000</td><td>18.0000</td></tr>",
                            "<tr><td>2229</td><td>9.0000</td><td>18.0000</td></tr>",
                            "<tr><td>2229</td><td>9.0000</td><td>18.0000</td></tr>",
                            "<tr><td>2229</td><td>9.0000</td><td>18.0000</td></tr>",
                            "<tr><td>2229</td><td>9.0000</td><td>18.0000</td></tr>",
                            "<tr><td>2229</td><td>9.0000</td><td>18.0000</td></tr>",
                            "<tr><td>2229</td><td>9.0000</td><td>18.0000</td></tr>",
                            "<tr><td>2229</td><td>9.0000</td><td>18.0000</td></tr>",
                            "<tr><td>2229</td><td>9.0000</td><td>18.0000</td></tr>",
                            "<tr><td>2229</td><td>9.0000</td><td>18.0000</td></tr>",
                            "<tr><td>2229</td><td>9.0000</td><td>18.0000</td></tr>",
                            "<tr><td>2229</td><td>9.0000</td><td>18.0000</td></tr>",
                            "<tr><td>2229</td><td>9.0000</td><td>18.0000</td></tr>",
                            "<tr><td>2229</td><td>9.0000</td><td>18.0000</td></tr>",
                            "<tr><td>2229</td><td>9.0000</td><td>18.0000</td></tr>",
                            "<tr><td>2229</td><td>9.0000</td><td>18.0000</td></tr>",
                            "<tr><td>2229</td><td>9.0000</td><td>18.0000</td></tr>",
                            "<tr><td>2229</td><td>9.0000</td><td>18.0000</td></tr>",
                            "<tr><td>2229</td><td>9.0000</td><td>18.0000</td></tr>",
                            "<tr><td>2229</td><td>9.0000</td><td>18.0000</td></tr>",
                            "<tr><td>9336</td><td>6.0000</td><td>12.0000</td></tr>",
                            "<tr><td>9336</td><td>6.0000</td><td>12.0000</td></tr>",
                            "<tr><td>9336</td><td>6.0000</td><td>12.0000</td></tr>",
                            "<tr><td>9336</td><td>6.0000</td><td>12.0000</td></tr>",
                            "<tr><td>9336</td><td>6.0000</td><td>12.0000</td></tr>",
                            "<tr><td>9336</td><td>6.0000</td><td>12.0000</td></tr>",
                            "<tr><td>9336</td><td>6.0000</td><td>12.0000</td></tr>",
                            "<tr><td>9336</td><td>6.0000</td><td>12.0000</td></tr>",
                            "<tr><td>9336</td><td>6.0000</td><td>12.0000</td></tr>",
                            "<tr><td>9336</td><td>6.0000</td><td>12.0000</td></tr>",
                            "<tr><td>9336</td><td>6.0000</td><td>12.0000</td></tr>",
                            "<tr><td>9336</td><td>6.0000</td><td>12.0000</td></tr>",
                            "<tr><td>9336</td><td>6.0000</td><td>12.0000</td></tr>",
                            "<tr><td>9336</td><td>6.0000</td><td>12.0000</td></tr>",
                            "<tr><td>9336</td><td>6.0000</td><td>12.0000</td></tr>",
                            "<tr><td>9336</td><td>6.0000</td><td>12.0000</td></tr>",
                            "<tr><td>9336</td><td>6.0000</td><td>12.0000</td></tr>",
                            "<tr><td>9336</td><td>6.0000</td><td>12.0000</td></tr>",
                            "<tr><td>9336</td><td>6.0000</td><td>12.0000</td></tr>",
                            "<tr><td>9336</td><td>6.0000</td><td>12.0000</td></tr>",
                            "<tr><td>9336</td><td>6.0000</td><td>12.0000</td></tr>",
                            "<tr><td>9336</td><td>6.0000</td><td>12.0000</td></tr>",
                            "<tr><td>9336</td><td>6.0000</td><td>12.0000</td></tr>",
                            "<tr><td>9336</td><td>6.0000</td><td>12.0000</td></tr>",
                            "<tr><td>9336</td><td>6.0000</td><td>12.0000</td></tr>",
                            "<tr><td>9336</td><td>6.0000</td><td>12.0000</td></tr>",
                            "<tr><td>6475</td><td>5.0000</td><td>10.0000</td></tr>",
                            "<tr><td>6475</td><td>5.0000</td><td>10.0000</td></tr>",
                            "<tr><td>6475</td><td>5.0000</td><td>10.0000</td></tr>",
                            "<tr><td>6475</td><td>5.0000</td><td>10.0000</td></tr>",
                            "<tr><td>6475</td><td>5.0000</td><td>10.0000</td></tr>",
                            "<tr><td>6475</td><td>5.0000</td><td>10.0000</td></tr>",
                            "<tr><td>6475</td><td>5.0000</td><td>10.0000</td></tr>",
                            "<tr><td>6475</td><td>5.0000</td><td>10.0000</td></tr>",
                            "<tr><td>6475</td><td>5.0000</td><td>10.0000</td></tr>",
                            "<tr><td>6475</td><td>5.0000</td><td>10.0000</td></tr>",
                            "<tr><td>6475</td><td>5.0000</td><td>10.0000</td></tr>",
                            "<tr><td>6475</td><td>5.0000</td><td>10.0000</td></tr>",
                            "<tr><td>6475</td><td>5.0000</td><td>10.0000</td></tr>",
                            "<tr><td>6475</td><td>5.0000</td><td>10.0000</td></tr>",
                            "<tr><td>6475</td><td>5.0000</td><td>10.0000</td></tr>",
                            "<tr><td>6475</td><td>5.0000</td><td>10.0000</td></tr>",
                            "<tr><td>6475</td><td>5.0000</td><td>10.0000</td></tr>",
                            "<tr><td>6475</td><td>5.0000</td><td>10.0000</td></tr>",
                            "<tr><td>6475</td><td>5.0000</td><td>10.0000</td></tr>",
                            "<tr><td>6475</td><td>5.0000</td><td>10.0000</td></tr>",
                            "<tr><td>6475</td><td>5.0000</td><td>10.0000</td></tr>",
                            "<tr><td>6475</td><td>5.0000</td><td>10.0000</td></tr>",
                            "<tr><td>6475</td><td>5.0000</td><td>10.0000</td></tr>",
                            "<tr><td>6475</td><td>5.0000</td><td>10.0000</td></tr>",
                            "<tr><td>6475</td><td>5.0000</td><td>10.0000</td></tr>",
                            "<tr><td>6475</td><td>5.0000</td><td>10.0000</td></tr>",
                            "<tr><td>3645</td><td>5.0000</td><td>10.0000</td></tr>",
                            "<tr><td>3645</td><td>5.0000</td><td>10.0000</td></tr>",
                            "<tr><td>3645</td><td>5.0000</td><td>10.0000</td></tr>",
                            "<tr><td>3645</td><td>5.0000</td><td>10.0000</td></tr>",
                            "<tr><td>3645</td><td>5.0000</td><td>10.0000</td></tr>",
                            "<tr><td>3645</td><td>5.0000</td><td>10.0000</td></tr>",
                            "<tr><td>3645</td><td>5.0000</td><td>10.0000</td></tr>",
                            "<tr><td>3645</td><td>5.0000</td><td>10.0000</td></tr>",
                            "<tr><td>3645</td><td>5.0000</td><td>10.0000</td></tr>",
                            "<tr><td>3645</td><td>5.0000</td><td>10.0000</td></tr>",
                            "<tr><td>3645</td><td>5.0000</td><td>10.0000</td></tr>",
                            "<tr><td>3645</td><td>5.0000</td><td>10.0000</td></tr>",
                            "<tr><td>3645</td><td>5.0000</td><td>10.0000</td></tr>",
                            "<tr><td>3645</td><td>5.0000</td><td>10.0000</td></tr>",
                            "<tr><td>3645</td><td>5.0000</td><td>10.0000</td></tr>",
                            "<tr><td>3645</td><td>5.0000</td><td>10.0000</td></tr>",
                            "<tr><td>3645</td><td>5.0000</td><td>10.0000</td></tr>",
                            "<tr><td>3645</td><td>5.0000</td><td>10.0000</td></tr>",
                            "<tr><td>3645</td><td>5.0000</td><td>10.0000</td></tr>",
                            "<tr><td>3645</td><td>5.0000</td><td>10.0000</td></tr>",
                            "<tr><td>3645</td><td>5.0000</td><td>10.0000</td></tr>",
                            "<tr><td>3645</td><td>5.0000</td><td>10.0000</td></tr>",
                            "<tr><td>3645</td><td>5.0000</td><td>10.0000</td></tr>",
                            "<tr><td>3645</td><td>5.0000</td><td>10.0000</td></tr>",
                            "<tr><td>3645</td><td>5.0000</td><td>10.0000</td></tr>",
                            "<tr><td>3645</td><td>5.0000</td><td>10.0000</td></tr>",
                            "<tr><td>848</td><td>8.0000</td><td>16.0000</td></tr>",
                            "<tr><td>848</td><td>8.0000</td><td>16.0000</td></tr>",
                            "<tr><td>848</td><td>8.0000</td><td>16.0000</td></tr>",
                            "<tr><td>848</td><td>8.0000</td><td>16.0000</td></tr>",
                            "<tr><td>848</td><td>8.0000</td><td>16.0000</td></tr>",
                            "<tr><td>848</td><td>8.0000</td><td>16.0000</td></tr>",
                            "<tr><td>848</td><td>8.0000</td><td>16.0000</td></tr>",
                            "<tr><td>848</td><td>8.0000</td><td>16.0000</td></tr>",
                            "<tr><td>848</td><td>8.0000</td><td>16.0000</td></tr>",
                            "<tr><td>848</td><td>8.0000</td><td>16.0000</td></tr>",
                            "<tr><td>848</td><td>8.0000</td><td>16.0000</td></tr>",
                            "<tr><td>848</td><td>8.0000</td><td>16.0000</td></tr>",
                            "<tr><td>848</td><td>8.0000</td><td>16.0000</td></tr>",
                            "<tr><td>848</td><td>8.0000</td><td>16.0000</td></tr>",
                            "<tr><td>848</td><td>8.0000</td><td>16.0000</td></tr>",
                            "<tr><td>848</td><td>8.0000</td><td>16.0000</td></tr>",
                            "<tr><td>848</td><td>8.0000</td><td>16.0000</td></tr>",
                            "<tr><td>848</td><td>8.0000</td><td>16.0000</td></tr>",
                            "<tr><td>848</td><td>8.0000</td><td>16.0000</td></tr>",
                            "<tr><td>848</td><td>8.0000</td><td>16.0000</td></tr>",
                            "<tr><td>848</td><td>8.0000</td><td>16.0000</td></tr>",
                            "<tr><td>848</td><td>8.0000</td><td>16.0000</td></tr>",
                            "<tr><td>848</td><td>8.0000</td><td>16.0000</td></tr>",
                            "<tr><td>848</td><td>8.0000</td><td>16.0000</td></tr>",
                            "<tr><td>848</td><td>8.0000</td><td>16.0000</td></tr>",
                            "<tr><td>848</td><td>8.0000</td><td>16.0000</td></tr>",
                            "<tr><td>8084</td><td>4.0000</td><td>8.0000</td></tr>",
                            "<tr><td>8084</td><td>4.0000</td><td>8.0000</td></tr>",
                            "<tr><td>8084</td><td>4.0000</td><td>8.0000</td></tr>",
                            "<tr><td>8084</td><td>4.0000</td><td>8.0000</td></tr>",
                            "<tr><td>8084</td><td>4.0000</td><td>8.0000</td></tr>",
                            "<tr><td>8084</td><td>4.0000</td><td>8.0000</td></tr>",
                            "<tr><td>8084</td><td>4.0000</td><td>8.0000</td></tr>",
                            "<tr><td>8084</td><td>4.0000</td><td>8.0000</td></tr>",
                            "<tr><td>8084</td><td>4.0000</td><td>8.0000</td></tr>",
                            "<tr><td>8084</td><td>4.0000</td><td>8.0000</td></tr>",
                            "<tr><td>8084</td><td>4.0000</td><td>8.0000</td></tr>",
                            "<tr><td>8084</td><td>4.0000</td><td>8.0000</td></tr>",
                            "<tr><td>8084</td><td>4.0000</td><td>8.0000</td></tr>",
                            "<tr><td>8084</td><td>4.0000</td><td>8.0000</td></tr>",
                            "<tr><td>8084</td><td>4.0000</td><td>8.0000</td></tr>",
                            "<tr><td>8084</td><td>4.0000</td><td>8.0000</td></tr>",
                            "<tr><td>8084</td><td>4.0000</td><td>8.0000</td></tr>",
                            "<tr><td>8084</td><td>4.0000</td><td>8.0000</td></tr>",
                            "<tr><td>8084</td><td>4.0000</td><td>8.0000</td></tr>",
                            "<tr><td>8084</td><td>4.0000</td><td>8.0000</td></tr>",
                            "<tr><td>8084</td><td>4.0000</td><td>8.0000</td></tr>",
                            "<tr><td>8084</td><td>4.0000</td><td>8.0000</td></tr>",
                            "<tr><td>8084</td><td>4.0000</td><td>8.0000</td></tr>",
                            "<tr><td>8084</td><td>4.0000</td><td>8.0000</td></tr>",
                            "<tr><td>8084</td><td>4.0000</td><td>8.0000</td></tr>",
                            "<tr><td>8084</td><td>4.0000</td><td>8.0000</td></tr>",
                            "<tr><td>5354</td><td>4.0000</td><td>8.0000</td></tr>",
                            "<tr><td>5354</td><td>4.0000</td><td>8.0000</td></tr>",
                            "<tr><td>5354</td><td>4.0000</td><td>8.0000</td></tr>",
                            "<tr><td>5354</td><td>4.0000</td><td>8.0000</td></tr>",
                            "<tr><td>5354</td><td>4.0000</td><td>8.0000</td></tr>",
                            "<tr><td>5354</td><td>4.0000</td><td>8.0000</td></tr>",
                            "<tr><td>5354</td><td>4.0000</td><td>8.0000</td></tr>",
                            "<tr><td>5354</td><td>4.0000</td><td>8.0000</td></tr>",
                            "<tr><td>5354</td><td>4.0000</td><td>8.0000</td></tr>",
                            "<tr><td>5354</td><td>4.0000</td><td>8.0000</td></tr>",
                            "<tr><td>5354</td><td>4.0000</td><td>8.0000</td></tr>",
                            "<tr><td>5354</td><td>4.0000</td><td>8.0000</td></tr>",
                            "<tr><td>5354</td><td>4.0000</td><td>8.0000</td></tr>",
                            "<tr><td>5354</td><td>4.0000</td><td>8.0000</td></tr>",
                            "<tr><td>5354</td><td>4.0000</td><td>8.0000</td></tr>",
                            "<tr><td>5354</td><td>4.0000</td><td>8.0000</td></tr>",
                            "<tr><td>5354</td><td>4.0000</td><td>8.0000</td></tr>",
                            "<tr><td>5354</td><td>4.0000</td><td>8.0000</td></tr>",
                            "<tr><td>5354</td><td>4.0000</td><td>8.0000</td></tr>",
                            "<tr><td>5354</td><td>4.0000</td><td>8.0000</td></tr>",
                            "<tr><td>5354</td><td>4.0000</td><td>8.0000</td></tr>",
                            "<tr><td>5354</td><td>4.0000</td><td>8.0000</td></tr>",
                            "<tr><td>5354</td><td>4.0000</td><td>8.0000</td></tr>",
                            "<tr><td>5354</td><td>4.0000</td><td>8.0000</td></tr>",
                            "<tr><td>5354</td><td>4.0000</td><td>8.0000</td></tr>",
                            "<tr><td>5354</td><td>4.0000</td><td>8.0000</td></tr>",
                            "<tr><td>4426</td><td>6.0000</td><td>12.0000</td></tr>",
                            "<tr><td>4426</td><td>6.0000</td><td>12.0000</td></tr>",
                            "<tr><td>4426</td><td>6.0000</td><td>12.0000</td></tr>",
                            "<tr><td>4426</td><td>6.0000</td><td>12.0000</td></tr>",
                            "<tr><td>4426</td><td>6.0000</td><td>12.0000</td></tr>",
                            "<tr><td>4426</td><td>6.0000</td><td>12.0000</td></tr>",
                            "<tr><td>4426</td><td>6.0000</td><td>12.0000</td></tr>",
                            "<tr><td>4426</td><td>6.0000</td><td>12.0000</td></tr>",
                            "<tr><td>4426</td><td>6.0000</td><td>12.0000</td></tr>",
                            "<tr><td>4426</td><td>6.0000</td><td>12.0000</td></tr>",
                            "<tr><td>4426</td><td>6.0000</td><td>12.0000</td></tr>",
                            "<tr><td>4426</td><td>6.0000</td><td>12.0000</td></tr>",
                            "<tr><td>4426</td><td>6.0000</td><td>12.0000</td></tr>",
                            "<tr><td>4426</td><td>6.0000</td><td>12.0000</td></tr>",
                            "<tr><td>4426</td><td>6.0000</td><td>12.0000</td></tr>",
                            "<tr><td>4426</td><td>6.0000</td><td>12.0000</td></tr>",
                            "<tr><td>4426</td><td>6.0000</td><td>12.0000</td></tr>",
                            "<tr><td>4426</td><td>6.0000</td><td>12.0000</td></tr>",
                            "<tr><td>4426</td><td>6.0000</td><td>12.0000</td></tr>",
                            "<tr><td>4426</td><td>6.0000</td><td>12.0000</td></tr>",
                            "<tr><td>4426</td><td>6.0000</td><td>12.0000</td></tr>",
                            "<tr><td>4426</td><td>6.0000</td><td>12.0000</td></tr>",
                            "<tr><td>4426</td><td>6.0000</td><td>12.0000</td></tr>",
                            "<tr><td>4426</td><td>6.0000</td><td>12.0000</td></tr>",
                            "<tr><td>4426</td><td>6.0000</td><td>12.0000</td></tr>",
                            "<tr><td>4426</td><td>6.0000</td><td>12.0000</td></tr>",
                            "<tr><td>9566</td><td>6.0000</td><td>12.0000</td></tr>",
                            "<tr><td>9566</td><td>6.0000</td><td>12.0000</td></tr>",
                            "<tr><td>9566</td><td>6.0000</td><td>12.0000</td></tr>",
                            "<tr><td>9566</td><td>6.0000</td><td>12.0000</td></tr>",
                            "<tr><td>9566</td><td>6.0000</td><td>12.0000</td></tr>",
                            "<tr><td>9566</td><td>6.0000</td><td>12.0000</td></tr>",
                            "<tr><td>9566</td><td>6.0000</td><td>12.0000</td></tr>",
                            "<tr><td>9566</td><td>6.0000</td><td>12.0000</td></tr>",
                            "<tr><td>9566</td><td>6.0000</td><td>12.0000</td></tr>",
                            "<tr><td>9566</td><td>6.0000</td><td>12.0000</td></tr>",
                            "<tr><td>9566</td><td>6.0000</td><td>12.0000</td></tr>",
                            "<tr><td>9566</td><td>6.0000</td><td>12.0000</td></tr>",
                            "<tr><td>9566</td><td>6.0000</td><td>12.0000</td></tr>",
                            "<tr><td>9566</td><td>6.0000</td><td>12.0000</td></tr>",
                            "<tr><td>9566</td><td>6.0000</td><td>12.0000</td></tr>",
                            "<tr><td>9566</td><td>6.0000</td><td>12.0000</td></tr>",
                            "<tr><td>9566</td><td>6.0000</td><td>12.0000</td></tr>",
                            "<tr><td>9566</td><td>6.0000</td><td>12.0000</td></tr>",
                            "<tr><td>9566</td><td>6.0000</td><td>12.0000</td></tr>",
                            "<tr><td>9566</td><td>6.0000</td><td>12.0000</td></tr>",
                            "<tr><td>9566</td><td>6.0000</td><td>12.0000</td></tr>",
                            "<tr><td>9566</td><td>6.0000</td><td>12.0000</td></tr>",
                            "<tr><td>9566</td><td>6.0000</td><td>12.0000</td></tr>",
                            "<tr><td>9566</td><td>6.0000</td><td>12.0000</td></tr>",
                            "<tr><td>9566</td><td>6.0000</td><td>12.0000</td></tr>",
                            "<tr><td>9566</td><td>6.0000</td><td>12.0000</td></tr>",
                            "<tr><td>4796</td><td>6.0000</td><td>12.0000</td></tr>",
                            "<tr><td>4796</td><td>6.0000</td><td>12.0000</td></tr>",
                            "<tr><td>4796</td><td>6.0000</td><td>12.0000</td></tr>",
                            "<tr><td>4796</td><td>6.0000</td><td>12.0000</td></tr>",
                            "<tr><td>4796</td><td>6.0000</td><td>12.0000</td></tr>",
                            "<tr><td>4796</td><td>6.0000</td><td>12.0000</td></tr>",
                            "<tr><td>4796</td><td>6.0000</td><td>12.0000</td></tr>",
                            "<tr><td>4796</td><td>6.0000</td><td>12.0000</td></tr>",
                            "<tr><td>4796</td><td>6.0000</td><td>12.0000</td></tr>",
                            "<tr><td>4796</td><td>6.0000</td><td>12.0000</td></tr>",
                            "<tr><td>4796</td><td>6.0000</td><td>12.0000</td></tr>",
                            "<tr><td>4796</td><td>6.0000</td><td>12.0000</td></tr>",
                            "<tr><td>4796</td><td>6.0000</td><td>12.0000</td></tr>",
                            "<tr><td>4796</td><td>6.0000</td><td>12.0000</td></tr>",
                            "<tr><td>4796</td><td>6.0000</td><td>12.0000</td></tr>",
                            "<tr><td>4796</td><td>6.0000</td><td>12.0000</td></tr>",
                            "<tr><td>4796</td><td>6.0000</td><td>12.0000</td></tr>",
                            "<tr><td>4796</td><td>6.0000</td><td>12.0000</td></tr>",
                            "<tr><td>4796</td><td>6.0000</td><td>12.0000</td></tr>",
                            "<tr><td>4796</td><td>6.0000</td><td>12.0000</td></tr>",
                            "<tr><td>4796</td><td>6.0000</td><td>12.0000</td></tr>",
                            "<tr><td>4796</td><td>6.0000</td><td>12.0000</td></tr>",
                            "<tr><td>4796</td><td>6.0000</td><td>12.0000</td></tr>",
                            "<tr><td>4796</td><td>6.0000</td><td>12.0000</td></tr>",
                            "<tr><td>4796</td><td>6.0000</td><td>12.0000</td></tr>",
                            "<tr><td>4796</td><td>6.0000</td><td>12.0000</td></tr>",
                            "<tr><td>116</td><td>6.0000</td><td>12.0000</td></tr>",
                            "<tr><td>116</td><td>6.0000</td><td>12.0000</td></tr>",
                            "<tr><td>116</td><td>6.0000</td><td>12.0000</td></tr>",
                            "<tr><td>116</td><td>6.0000</td><td>12.0000</td></tr>",
                            "<tr><td>116</td><td>6.0000</td><td>12.0000</td></tr>",
                            "<tr><td>116</td><td>6.0000</td><td>12.0000</td></tr>",
                            "<tr><td>116</td><td>6.0000</td><td>12.0000</td></tr>",
                            "<tr><td>116</td><td>6.0000</td><td>12.0000</td></tr>",
                            "<tr><td>116</td><td>6.0000</td><td>12.0000</td></tr>",
                            "<tr><td>116</td><td>6.0000</td><td>12.0000</td></tr>",
                            "<tr><td>116</td><td>6.0000</td><td>12.0000</td></tr>",
                            "<tr><td>116</td><td>6.0000</td><td>12.0000</td></tr>",
                            "<tr><td>116</td><td>6.0000</td><td>12.0000</td></tr>",
                            "<tr><td>116</td><td>6.0000</td><td>12.0000</td></tr>",
                            "<tr><td>116</td><td>6.0000</td><td>12.0000</td></tr>",
                            "<tr><td>116</td><td>6.0000</td><td>12.0000</td></tr>",
                            "<tr><td>116</td><td>6.0000</td><td>12.0000</td></tr>",
                            "<tr><td>116</td><td>6.0000</td><td>12.0000</td></tr>",
                            "<tr><td>116</td><td>6.0000</td><td>12.0000</td></tr>",
                            "<tr><td>116</td><td>6.0000</td><td>12.0000</td></tr>",
                            "<tr><td>116</td><td>6.0000</td><td>12.0000</td></tr>",
                            "<tr><td>116</td><td>6.0000</td><td>12.0000</td></tr>",
                            "<tr><td>116</td><td>6.0000</td><td>12.0000</td></tr>",
                            "<tr><td>116</td><td>6.0000</td><td>12.0000</td></tr>",
                            "<tr><td>116</td><td>6.0000</td><td>12.0000</td></tr>",
                            "<tr><td>116</td><td>6.0000</td><td>12.0000</td></tr>",
                            "<tr><td>5528</td><td>8.0000</td><td>16.0000</td></tr>",
                            "<tr><td>5528</td><td>8.0000</td><td>16.0000</td></tr>",
                            "<tr><td>5528</td><td>8.0000</td><td>16.0000</td></tr>",
                            "<tr><td>5528</td><td>8.0000</td><td>16.0000</td></tr>",
                            "<tr><td>5528</td><td>8.0000</td><td>16.0000</td></tr>",
                            "<tr><td>5528</td><td>8.0000</td><td>16.0000</td></tr>",
                            "<tr><td>5528</td><td>8.0000</td><td>16.0000</td></tr>",
                            "<tr><td>5528</td><td>8.0000</td><td>16.0000</td></tr>",
                            "<tr><td>5528</td><td>8.0000</td><td>16.0000</td></tr>",
                            "<tr><td>5528</td><td>8.0000</td><td>16.0000</td></tr>",
                            "<tr><td>5528</td><td>8.0000</td><td>16.0000</td></tr>",
                            "<tr><td>5528</td><td>8.0000</td><td>16.0000</td></tr>",
                            "<tr><td>5528</td><td>8.0000</td><td>16.0000</td></tr>",
                            "<tr><td>5528</td><td>8.0000</td><td>16.0000</td></tr>",
                            "<tr><td>5528</td><td>8.0000</td><td>16.0000</td></tr>",
                            "<tr><td>5528</td><td>8.0000</td><td>16.0000</td></tr>",
                            "<tr><td>5528</td><td>8.0000</td><td>16.0000</td></tr>",
                            "<tr><td>5528</td><td>8.0000</td><td>16.0000</td></tr>",
                            "<tr><td>5528</td><td>8.0000</td><td>16.0000</td></tr>",
                            "<tr><td>5528</td><td>8.0000</td><td>16.0000</td></tr>",
                            "<tr><td>5528</td><td>8.0000</td><td>16.0000</td></tr>",
                            "<tr><td>5528</td><td>8.0000</td><td>16.0000</td></tr>",
                            "<tr><td>5528</td><td>8.0000</td><td>16.0000</td></tr>",
                            "<tr><td>5528</td><td>8.0000</td><td>16.0000</td></tr>",
                            "<tr><td>5528</td><td>8.0000</td><td>16.0000</td></tr>",
                            "<tr><td>5528</td><td>8.0000</td><td>16.0000</td></tr>",
                            "<tr><td>1034</td><td>4.0000</td><td>8.0000</td></tr>",
                            "<tr><td>1034</td><td>4.0000</td><td>8.0000</td></tr>",
                            "<tr><td>1034</td><td>4.0000</td><td>8.0000</td></tr>",
                            "<tr><td>1034</td><td>4.0000</td><td>8.0000</td></tr>",
                            "<tr><td>1034</td><td>4.0000</td><td>8.0000</td></tr>",
                            "<tr><td>1034</td><td>4.0000</td><td>8.0000</td></tr>",
                            "<tr><td>1034</td><td>4.0000</td><td>8.0000</td></tr>",
                            "<tr><td>1034</td><td>4.0000</td><td>8.0000</td></tr>",
                            "<tr><td>1034</td><td>4.0000</td><td>8.0000</td></tr>",
                            "<tr><td>1034</td><td>4.0000</td><td>8.0000</td></tr>",
                            "<tr><td>1034</td><td>4.0000</td><td>8.0000</td></tr>",
                            "<tr><td>1034</td><td>4.0000</td><td>8.0000</td></tr>",
                            "<tr><td>1034</td><td>4.0000</td><td>8.0000</td></tr>",
                            "<tr><td>1034</td><td>4.0000</td><td>8.0000</td></tr>",
                            "<tr><td>1034</td><td>4.0000</td><td>8.0000</td></tr>",
                            "<tr><td>1034</td><td>4.0000</td><td>8.0000</td></tr>",
                            "<tr><td>1034</td><td>4.0000</td><td>8.0000</td></tr>",
                            "<tr><td>1034</td><td>4.0000</td><td>8.0000</td></tr>",
                            "<tr><td>1034</td><td>4.0000</td><td>8.0000</td></tr>",
                            "<tr><td>1034</td><td>4.0000</td><td>8.0000</td></tr>",
                            "<tr><td>1034</td><td>4.0000</td><td>8.0000</td></tr>",
                            "<tr><td>1034</td><td>4.0000</td><td>8.0000</td></tr>",
                            "<tr><td>1034</td><td>4.0000</td><td>8.0000</td></tr>",
                            "<tr><td>1034</td><td>4.0000</td><td>8.0000</td></tr>",
                            "<tr><td>1034</td><td>4.0000</td><td>8.0000</td></tr>",
                            "<tr><td>1034</td><td>4.0000</td><td>8.0000</td></tr>",
                            "<tr><td>6634</td><td>4.0000</td><td>8.0000</td></tr>",
                            "<tr><td>6634</td><td>4.0000</td><td>8.0000</td></tr>",
                            "<tr><td>6634</td><td>4.0000</td><td>8.0000</td></tr>",
                            "<tr><td>6634</td><td>4.0000</td><td>8.0000</td></tr>",
                            "<tr><td>6634</td><td>4.0000</td><td>8.0000</td></tr>",
                            "<tr><td>6634</td><td>4.0000</td><td>8.0000</td></tr>",
                            "<tr><td>6634</td><td>4.0000</td><td>8.0000</td></tr>",
                            "<tr><td>6634</td><td>4.0000</td><td>8.0000</td></tr>",
                            "<tr><td>6634</td><td>4.0000</td><td>8.0000</td></tr>",
                            "<tr><td>6634</td><td>4.0000</td><td>8.0000</td></tr>",
                            "<tr><td>6634</td><td>4.0000</td><td>8.0000</td></tr>",
                            "<tr><td>6634</td><td>4.0000</td><td>8.0000</td></tr>",
                            "<tr><td>6634</td><td>4.0000</td><td>8.0000</td></tr>",
                            "<tr><td>6634</td><td>4.0000</td><td>8.0000</td></tr>",
                            "<tr><td>6634</td><td>4.0000</td><td>8.0000</td></tr>",
                            "<tr><td>6634</td><td>4.0000</td><td>8.0000</td></tr>",
                            "<tr><td>6634</td><td>4.0000</td><td>8.0000</td></tr>",
                            "<tr><td>6634</td><td>4.0000</td><td>8.0000</td></tr>",
                            "<tr><td>6634</td><td>4.0000</td><td>8.0000</td></tr>",
                            "<tr><td>6634</td><td>4.0000</td><td>8.0000</td></tr>",
                            "<tr><td>6634</td><td>4.0000</td><td>8.0000</td></tr>",
                            "<tr><td>6634</td><td>4.0000</td><td>8.0000</td></tr>",
                            "<tr><td>6634</td><td>4.0000</td><td>8.0000</td></tr>",
                            "<tr><td>6634</td><td>4.0000</td><td>8.0000</td></tr>",
                            "<tr><td>6634</td><td>4.0000</td><td>8.0000</td></tr>",
                            "<tr><td>6634</td><td>4.0000</td><td>8.0000</td></tr>",
                            "<tr><td>2329</td><td>9.0000</td><td>18.0000</td></tr>",
                            "<tr><td>2329</td><td>9.0000</td><td>18.0000</td></tr>",
                            "<tr><td>2329</td><td>9.0000</td><td>18.0000</td></tr>",
                            "<tr><td>2329</td><td>9.0000</td><td>18.0000</td></tr>",
                            "<tr><td>2329</td><td>9.0000</td><td>18.0000</td></tr>",
                            "<tr><td>2329</td><td>9.0000</td><td>18.0000</td></tr>",
                            "<tr><td>2329</td><td>9.0000</td><td>18.0000</td></tr>",
                            "<tr><td>2329</td><td>9.0000</td><td>18.0000</td></tr>",
                            "<tr><td>2329</td><td>9.0000</td><td>18.0000</td></tr>",
                            "<tr><td>2329</td><td>9.0000</td><td>18.0000</td></tr>",
                            "<tr><td>2329</td><td>9.0000</td><td>18.0000</td></tr>",
                            "<tr><td>2329</td><td>9.0000</td><td>18.0000</td></tr>",
                            "<tr><td>2329</td><td>9.0000</td><td>18.0000</td></tr>",
                            "<tr><td>2329</td><td>9.0000</td><td>18.0000</td></tr>",
                            "<tr><td>2329</td><td>9.0000</td><td>18.0000</td></tr>",
                            "<tr><td>2329</td><td>9.0000</td><td>18.0000</td></tr>",
                            "<tr><td>2329</td><td>9.0000</td><td>18.0000</td></tr>",
                            "<tr><td>2329</td><td>9.0000</td><td>18.0000</td></tr>",
                            "<tr><td>2329</td><td>9.0000</td><td>18.0000</td></tr>",
                            "<tr><td>2329</td><td>9.0000</td><td>18.0000</td></tr>",
                            "<tr><td>2329</td><td>9.0000</td><td>18.0000</td></tr>",
                            "<tr><td>2329</td><td>9.0000</td><td>18.0000</td></tr>",
                            "<tr><td>2329</td><td>9.0000</td><td>18.0000</td></tr>",
                            "<tr><td>2329</td><td>9.0000</td><td>18.0000</td></tr>",
                            "<tr><td>2329</td><td>9.0000</td><td>18.0000</td></tr>",
                            "<tr><td>2329</td><td>9.0000</td><td>18.0000</td></tr>",
                            "<tr><td>8122</td><td>2.0000</td><td>4.0000</td></tr>",
                            "<tr><td>8122</td><td>2.0000</td><td>4.0000</td></tr>",
                            "<tr><td>8122</td><td>2.0000</td><td>4.0000</td></tr>",
                            "<tr><td>8122</td><td>2.0000</td><td>4.0000</td></tr>",
                            "<tr><td>8122</td><td>2.0000</td><td>4.0000</td></tr>",
                            "<tr><td>8122</td><td>2.0000</td><td>4.0000</td></tr>",
                            "<tr><td>8122</td><td>2.0000</td><td>4.0000</td></tr>",
                            "<tr><td>8122</td><td>2.0000</td><td>4.0000</td></tr>",
                            "<tr><td>8122</td><td>2.0000</td><td>4.0000</td></tr>",
                            "<tr><td>8122</td><td>2.0000</td><td>4.0000</td></tr>",
                            "<tr><td>8122</td><td>2.0000</td><td>4.0000</td></tr>",
                            "<tr><td>8122</td><td>2.0000</td><td>4.0000</td></tr>",
                            "<tr><td>8122</td><td>2.0000</td><td>4.0000</td></tr>",
                            "<tr><td>8122</td><td>2.0000</td><td>4.0000</td></tr>",
                            "<tr><td>8122</td><td>2.0000</td><td>4.0000</td></tr>",
                            "<tr><td>8122</td><td>2.0000</td><td>4.0000</td></tr>",
                            "<tr><td>8122</td><td>2.0000</td><td>4.0000</td></tr>",
                            "<tr><td>8122</td><td>2.0000</td><td>4.0000</td></tr>",
                            "<tr><td>8122</td><td>2.0000</td><td>4.0000</td></tr>",
                            "<tr><td>8122</td><td>2.0000</td><td>4.0000</td></tr>",
                            "<tr><td>8122</td><td>2.0000</td><td>4.0000</td></tr>",
                            "<tr><td>8122</td><td>2.0000</td><td>4.0000</td></tr>",
                            "<tr><td>8122</td><td>2.0000</td><td>4.0000</td></tr>",
                            "<tr><td>8122</td><td>2.0000</td><td>4.0000</td></tr>",
                            "<tr><td>8122</td><td>2.0000</td><td>4.0000</td></tr>",
                            "<tr><td>8122</td><td>2.0000</td><td>4.0000</td></tr>",
                            "<tr><td>4012</td><td>2.0000</td><td>4.0000</td></tr>",
                            "<tr><td>4012</td><td>2.0000</td><td>4.0000</td></tr>",
                            "<tr><td>4012</td><td>2.0000</td><td>4.0000</td></tr>",
                            "<tr><td>4012</td><td>2.0000</td><td>4.0000</td></tr>",
                            "<tr><td>4012</td><td>2.0000</td><td>4.0000</td></tr>",
                            "<tr><td>4012</td><td>2.0000</td><td>4.0000</td></tr>",
                            "<tr><td>4012</td><td>2.0000</td><td>4.0000</td></tr>",
                            "<tr><td>4012</td><td>2.0000</td><td>4.0000</td></tr>",
                            "<tr><td>4012</td><td>2.0000</td><td>4.0000</td></tr>",
                            "<tr><td>4012</td><td>2.0000</td><td>4.0000</td></tr>",
                            "<tr><td>4012</td><td>2.0000</td><td>4.0000</td></tr>",
                            "<tr><td>4012</td><td>2.0000</td><td>4.0000</td></tr>",
                            "<tr><td>4012</td><td>2.0000</td><td>4.0000</td></tr>",
                            "<tr><td>4012</td><td>2.0000</td><td>4.0000</td></tr>",
                            "<tr><td>4012</td><td>2.0000</td><td>4.0000</td></tr>",
                            "<tr><td>4012</td><td>2.0000</td><td>4.0000</td></tr>",
                            "<tr><td>4012</td><td>2.0000</td><td>4.0000</td></tr>",
                            "<tr><td>4012</td><td>2.0000</td><td>4.0000</td></tr>",
                            "<tr><td>4012</td><td>2.0000</td><td>4.0000</td></tr>",
                            "<tr><td>4012</td><td>2.0000</td><td>4.0000</td></tr>",
                            "<tr><td>4012</td><td>2.0000</td><td>4.0000</td></tr>",
                            "<tr><td>4012</td><td>2.0000</td><td>4.0000</td></tr>",
                            "<tr><td>4012</td><td>2.0000</td><td>4.0000</td></tr>",
                            "<tr><td>4012</td><td>2.0000</td><td>4.0000</td></tr>",
                            "<tr><td>4012</td><td>2.0000</td><td>4.0000</td></tr>",
                            "<tr><td>4012</td><td>2.0000</td><td>4.0000</td></tr>",
                            "<tr><td>2022</td><td>2.0000</td><td>4.0000</td></tr>",
                            "<tr><td>2022</td><td>2.0000</td><td>4.0000</td></tr>",
                            "<tr><td>2022</td><td>2.0000</td><td>4.0000</td></tr>",
                            "<tr><td>2022</td><td>2.0000</td><td>4.0000</td></tr>",
                            "<tr><td>2022</td><td>2.0000</td><td>4.0000</td></tr>",
                            "<tr><td>2022</td><td>2.0000</td><td>4.0000</td></tr>",
                            "<tr><td>2022</td><td>2.0000</td><td>4.0000</td></tr>",
                            "<tr><td>2022</td><td>2.0000</td><td>4.0000</td></tr>",
                            "<tr><td>2022</td><td>2.0000</td><td>4.0000</td></tr>",
                            "<tr><td>2022</td><td>2.0000</td><td>4.0000</td></tr>",
                            "<tr><td>2022</td><td>2.0000</td><td>4.0000</td></tr>",
                            "<tr><td>2022</td><td>2.0000</td><td>4.0000</td></tr>",
                            "<tr><td>2022</td><td>2.0000</td><td>4.0000</td></tr>",
                            "<tr><td>2022</td><td>2.0000</td><td>4.0000</td></tr>",
                            "<tr><td>2022</td><td>2.0000</td><td>4.0000</td></tr>",
                            "<tr><td>2022</td><td>2.0000</td><td>4.0000</td></tr>",
                            "<tr><td>2022</td><td>2.0000</td><td>4.0000</td></tr>",
                            "<tr><td>2022</td><td>2.0000</td><td>4.0000</td></tr>",
                            "<tr><td>2022</td><td>2.0000</td><td>4.0000</td></tr>",
                            "<tr><td>2022</td><td>2.0000</td><td>4.0000</td></tr>",
                            "<tr><td>2022</td><td>2.0000</td><td>4.0000</td></tr>",
                            "<tr><td>2022</td><td>2.0000</td><td>4.0000</td></tr>",
                            "<tr><td>2022</td><td>2.0000</td><td>4.0000</td></tr>",
                            "<tr><td>2022</td><td>2.0000</td><td>4.0000</td></tr>",
                            "<tr><td>2022</td><td>2.0000</td><td>4.0000</td></tr>",
                            "<tr><td>2022</td><td>2.0000</td><td>4.0000</td></tr>",
                            "<tr><td>5012</td><td>2.0000</td><td>4.0000</td></tr>",
                            "<tr><td>5012</td><td>2.0000</td><td>4.0000</td></tr>",
                            "<tr><td>5012</td><td>2.0000</td><td>4.0000</td></tr>",
                            "<tr><td>5012</td><td>2.0000</td><td>4.0000</td></tr>",
                            "<tr><td>5012</td><td>2.0000</td><td>4.0000</td></tr>",
                            "<tr><td>5012</td><td>2.0000</td><td>4.0000</td></tr>",
                            "<tr><td>5012</td><td>2.0000</td><td>4.0000</td></tr>",
                            "<tr><td>5012</td><td>2.0000</td><td>4.0000</td></tr>",
                            "<tr><td>5012</td><td>2.0000</td><td>4.0000</td></tr>",
                            "<tr><td>5012</td><td>2.0000</td><td>4.0000</td></tr>",
                            "<tr><td>5012</td><td>2.0000</td><td>4.0000</td></tr>",
                            "<tr><td>5012</td><td>2.0000</td><td>4.0000</td></tr>",
                            "<tr><td>5012</td><td>2.0000</td><td>4.0000</td></tr>",
                            "<tr><td>5012</td><td>2.0000</td><td>4.0000</td></tr>",
                            "<tr><td>5012</td><td>2.0000</td><td>4.0000</td></tr>",
                            "<tr><td>5012</td><td>2.0000</td><td>4.0000</td></tr>",
                            "<tr><td>5012</td><td>2.0000</td><td>4.0000</td></tr>",
                            "<tr><td>5012</td><td>2.0000</td><td>4.0000</td></tr>",
                            "<tr><td>5012</td><td>2.0000</td><td>4.0000</td></tr>",
                            "<tr><td>5012</td><td>2.0000</td><td>4.0000</td></tr>",
                            "<tr><td>5012</td><td>2.0000</td><td>4.0000</td></tr>",
                            "<tr><td>5012</td><td>2.0000</td><td>4.0000</td></tr>",
                            "<tr><td>5012</td><td>2.0000</td><td>4.0000</td></tr>",
                            "<tr><td>5012</td><td>2.0000</td><td>4.0000</td></tr>",
                            "<tr><td>5012</td><td>2.0000</td><td>4.0000</td></tr>",
                            "<tr><td>5012</td><td>2.0000</td><td>4.0000</td></tr>",
                            "<tr><td>8178</td><td>8.0000</td><td>16.0000</td></tr>",
                            "<tr><td>8178</td><td>8.0000</td><td>16.0000</td></tr>",
                            "<tr><td>8178</td><td>8.0000</td><td>16.0000</td></tr>",
                            "<tr><td>8178</td><td>8.0000</td><td>16.0000</td></tr>",
                            "<tr><td>8178</td><td>8.0000</td><td>16.0000</td></tr>",
                            "<tr><td>8178</td><td>8.0000</td><td>16.0000</td></tr>",
                            "<tr><td>8178</td><td>8.0000</td><td>16.0000</td></tr>",
                            "<tr><td>8178</td><td>8.0000</td><td>16.0000</td></tr>",
                            "<tr><td>8178</td><td>8.0000</td><td>16.0000</td></tr>",
                            "<tr><td>8178</td><td>8.0000</td><td>16.0000</td></tr>",
                            "<tr><td>8178</td><td>8.0000</td><td>16.0000</td></tr>",
                            "<tr><td>8178</td><td>8.0000</td><td>16.0000</td></tr>",
                            "<tr><td>8178</td><td>8.0000</td><td>16.0000</td></tr>",
                            "<tr><td>8178</td><td>8.0000</td><td>16.0000</td></tr>",
                            "<tr><td>8178</td><td>8.0000</td><td>16.0000</td></tr>",
                            "<tr><td>8178</td><td>8.0000</td><td>16.0000</td></tr>",
                            "<tr><td>8178</td><td>8.0000</td><td>16.0000</td></tr>",
                            "<tr><td>8178</td><td>8.0000</td><td>16.0000</td></tr>",
                            "<tr><td>8178</td><td>8.0000</td><td>16.0000</td></tr>",
                            "<tr><td>8178</td><td>8.0000</td><td>16.0000</td></tr>",
                            "<tr><td>8178</td><td>8.0000</td><td>16.0000</td></tr>",
                            "<tr><td>8178</td><td>8.0000</td><td>16.0000</td></tr>",
                            "<tr><td>8178</td><td>8.0000</td><td>16.0000</td></tr>",
                            "<tr><td>8178</td><td>8.0000</td><td>16.0000</td></tr>",
                            "<tr><td>8178</td><td>8.0000</td><td>16.0000</td></tr>",
                            "<tr><td>8178</td><td>8.0000</td><td>16.0000</td></tr>",
                            "<tr><td>5041</td><td>1.0000</td><td>2.0000</td></tr>",
                            "<tr><td>5041</td><td>1.0000</td><td>2.0000</td></tr>",
                            "<tr><td>5041</td><td>1.0000</td><td>2.0000</td></tr>",
                            "<tr><td>5041</td><td>1.0000</td><td>2.0000</td></tr>",
                            "<tr><td>5041</td><td>1.0000</td><td>2.0000</td></tr>",
                            "<tr><td>5041</td><td>1.0000</td><td>2.0000</td></tr>",
                            "<tr><td>5041</td><td>1.0000</td><td>2.0000</td></tr>",
                            "<tr><td>5041</td><td>1.0000</td><td>2.0000</td></tr>",
                            "<tr><td>5041</td><td>1.0000</td><td>2.0000</td></tr>",
                            "<tr><td>5041</td><td>1.0000</td><td>2.0000</td></tr>",
                            "<tr><td>5041</td><td>1.0000</td><td>2.0000</td></tr>",
                            "<tr><td>5041</td><td>1.0000</td><td>2.0000</td></tr>",
                            "<tr><td>5041</td><td>1.0000</td><td>2.0000</td></tr>",
                            "<tr><td>5041</td><td>1.0000</td><td>2.0000</td></tr>",
                            "<tr><td>5041</td><td>1.0000</td><td>2.0000</td></tr>",
                            "<tr><td>5041</td><td>1.0000</td><td>2.0000</td></tr>",
                            "<tr><td>5041</td><td>1.0000</td><td>2.0000</td></tr>",
                            "<tr><td>5041</td><td>1.0000</td><td>2.0000</td></tr>",
                            "<tr><td>5041</td><td>1.0000</td><td>2.0000</td></tr>",
                            "<tr><td>5041</td><td>1.0000</td><td>2.0000</td></tr>",
                            "<tr><td>5041</td><td>1.0000</td><td>2.0000</td></tr>",
                            "<tr><td>5041</td><td>1.0000</td><td>2.0000</td></tr>",
                            "<tr><td>5041</td><td>1.0000</td><td>2.0000</td></tr>",
                            "<tr><td>5041</td><td>1.0000</td><td>2.0000</td></tr>",
                            "<tr><td>5041</td><td>1.0000</td><td>2.0000</td></tr>",
                            "<tr><td>5041</td><td>1.0000</td><td>2.0000</td></tr>",
                            "<tr><td>8742</td><td>2.0000</td><td>4.0000</td></tr>",
                            "<tr><td>8742</td><td>2.0000</td><td>4.0000</td></tr>",
                            "<tr><td>8742</td><td>2.0000</td><td>4.0000</td></tr>",
                            "<tr><td>8742</td><td>2.0000</td><td>4.0000</td></tr>",
                            "<tr><td>8742</td><td>2.0000</td><td>4.0000</td></tr>",
                            "<tr><td>8742</td><td>2.0000</td><td>4.0000</td></tr>",
                            "<tr><td>8742</td><td>2.0000</td><td>4.0000</td></tr>",
                            "<tr><td>8742</td><td>2.0000</td><td>4.0000</td></tr>",
                            "<tr><td>8742</td><td>2.0000</td><td>4.0000</td></tr>",
                            "<tr><td>8742</td><td>2.0000</td><td>4.0000</td></tr>",
                            "<tr><td>8742</td><td>2.0000</td><td>4.0000</td></tr>",
                            "<tr><td>8742</td><td>2.0000</td><td>4.0000</td></tr>",
                            "<tr><td>8742</td><td>2.0000</td><td>4.0000</td></tr>",
                            "<tr><td>8742</td><td>2.0000</td><td>4.0000</td></tr>",
                            "<tr><td>8742</td><td>2.0000</td><td>4.0000</td></tr>",
                            "<tr><td>8742</td><td>2.0000</td><td>4.0000</td></tr>",
                            "<tr><td>8742</td><td>2.0000</td><td>4.0000</td></tr>",
                            "<tr><td>8742</td><td>2.0000</td><td>4.0000</td></tr>",
                            "<tr><td>8742</td><td>2.0000</td><td>4.0000</td></tr>",
                            "<tr><td>8742</td><td>2.0000</td><td>4.0000</td></tr>",
                            "<tr><td>8742</td><td>2.0000</td><td>4.0000</td></tr>",
                            "<tr><td>8742</td><td>2.0000</td><td>4.0000</td></tr>",
                            "<tr><td>8742</td><td>2.0000</td><td>4.0000</td></tr>",
                            "<tr><td>8742</td><td>2.0000</td><td>4.0000</td></tr>",
                            "<tr><td>8742</td><td>2.0000</td><td>4.0000</td></tr>",
                            "<tr><td>8742</td><td>2.0000</td><td>4.0000</td></tr>",
                            "<tr><td>2624</td><td>4.0000</td><td>8.0000</td></tr>",
                            "<tr><td>2624</td><td>4.0000</td><td>8.0000</td></tr>",
                            "<tr><td>2624</td><td>4.0000</td><td>8.0000</td></tr>",
                            "<tr><td>2624</td><td>4.0000</td><td>8.0000</td></tr>",
                            "<tr><td>2624</td><td>4.0000</td><td>8.0000</td></tr>",
                            "<tr><td>2624</td><td>4.0000</td><td>8.0000</td></tr>",
                            "<tr><td>2624</td><td>4.0000</td><td>8.0000</td></tr>",
                            "<tr><td>2624</td><td>4.0000</td><td>8.0000</td></tr>",
                            "<tr><td>2624</td><td>4.0000</td><td>8.0000</td></tr>",
                            "<tr><td>2624</td><td>4.0000</td><td>8.0000</td></tr>",
                            "<tr><td>2624</td><td>4.0000</td><td>8.0000</td></tr>",
                            "<tr><td>2624</td><td>4.0000</td><td>8.0000</td></tr>",
                            "<tr><td>2624</td><td>4.0000</td><td>8.0000</td></tr>",
                            "<tr><td>2624</td><td>4.0000</td><td>8.0000</td></tr>",
                            "<tr><td>2624</td><td>4.0000</td><td>8.0000</td></tr>",
                            "<tr><td>2624</td><td>4.0000</td><td>8.0000</td></tr>",
                            "<tr><td>2624</td><td>4.0000</td><td>8.0000</td></tr>",
                            "<tr><td>2624</td><td>4.0000</td><td>8.0000</td></tr>",
                            "<tr><td>2624</td><td>4.0000</td><td>8.0000</td></tr>",
                            "<tr><td>2624</td><td>4.0000</td><td>8.0000</td></tr>",
                            "<tr><td>2624</td><td>4.0000</td><td>8.0000</td></tr>",
                            "<tr><td>2624</td><td>4.0000</td><td>8.0000</td></tr>",
                            "<tr><td>2624</td><td>4.0000</td><td>8.0000</td></tr>",
                            "<tr><td>2624</td><td>4.0000</td><td>8.0000</td></tr>",
                            "<tr><td>2624</td><td>4.0000</td><td>8.0000</td></tr>",
                            "<tr><td>2624</td><td>4.0000</td><td>8.0000</td></tr>",
                            "<tr><td>6689</td><td>9.0000</td><td>18.0000</td></tr>",
                            "<tr><td>6689</td><td>9.0000</td><td>18.0000</td></tr>",
                            "<tr><td>6689</td><td>9.0000</td><td>18.0000</td></tr>",
                            "<tr><td>6689</td><td>9.0000</td><td>18.0000</td></tr>",
                            "<tr><td>6689</td><td>9.0000</td><td>18.0000</td></tr>",
                            "<tr><td>6689</td><td>9.0000</td><td>18.0000</td></tr>",
                            "<tr><td>6689</td><td>9.0000</td><td>18.0000</td></tr>",
                            "<tr><td>6689</td><td>9.0000</td><td>18.0000</td></tr>",
                            "<tr><td>6689</td><td>9.0000</td><td>18.0000</td></tr>",
                            "<tr><td>6689</td><td>9.0000</td><td>18.0000</td></tr>",
                            "<tr><td>6689</td><td>9.0000</td><td>18.0000</td></tr>",
                            "<tr><td>6689</td><td>9.0000</td><td>18.0000</td></tr>",
                            "<tr><td>6689</td><td>9.0000</td><td>18.0000</td></tr>",
                            "<tr><td>6689</td><td>9.0000</td><td>18.0000</td></tr>",
                            "<tr><td>6689</td><td>9.0000</td><td>18.0000</td></tr>",
                            "<tr><td>6689</td><td>9.0000</td><td>18.0000</td></tr>",
                            "<tr><td>6689</td><td>9.0000</td><td>18.0000</td></tr>",
                            "<tr><td>6689</td><td>9.0000</td><td>18.0000</td></tr>",
                            "<tr><td>6689</td><td>9.0000</td><td>18.0000</td></tr>",
                            "<tr><td>6689</td><td>9.0000</td><td>18.0000</td></tr>",
                            "<tr><td>6689</td><td>9.0000</td><td>18.0000</td></tr>",
                            "<tr><td>6689</td><td>9.0000</td><td>18.0000</td></tr>",
                            "<tr><td>6689</td><td>9.0000</td><td>18.0000</td></tr>",
                            "<tr><td>6689</td><td>9.0000</td><td>18.0000</td></tr>",
                            "<tr><td>6689</td><td>9.0000</td><td>18.0000</td></tr>",
                            "<tr><td>6689</td><td>9.0000</td><td>18.0000</td></tr>",
                            "<tr><td>5377</td><td>7.0000</td><td>14.0000</td></tr>",
                            "<tr><td>5377</td><td>7.0000</td><td>14.0000</td></tr>",
                            "<tr><td>5377</td><td>7.0000</td><td>14.0000</td></tr>",
                            "<tr><td>5377</td><td>7.0000</td><td>14.0000</td></tr>",
                            "<tr><td>5377</td><td>7.0000</td><td>14.0000</td></tr>",
                            "<tr><td>5377</td><td>7.0000</td><td>14.0000</td></tr>",
                            "<tr><td>5377</td><td>7.0000</td><td>14.0000</td></tr>",
                            "<tr><td>5377</td><td>7.0000</td><td>14.0000</td></tr>",
                            "<tr><td>5377</td><td>7.0000</td><td>14.0000</td></tr>",
                            "<tr><td>5377</td><td>7.0000</td><td>14.0000</td></tr>",
                            "<tr><td>5377</td><td>7.0000</td><td>14.0000</td></tr>",
                            "<tr><td>5377</td><td>7.0000</td><td>14.0000</td></tr>",
                            "<tr><td>5377</td><td>7.0000</td><td>14.0000</td></tr>",
                            "<tr><td>5377</td><td>7.0000</td><td>14.0000</td></tr>",
                            "<tr><td>5377</td><td>7.0000</td><td>14.0000</td></tr>",
                            "<tr><td>5377</td><td>7.0000</td><td>14.0000</td></tr>",
                            "<tr><td>5377</td><td>7.0000</td><td>14.0000</td></tr>",
                            "<tr><td>5377</td><td>7.0000</td><td>14.0000</td></tr>",
                            "<tr><td>5377</td><td>7.0000</td><td>14.0000</td></tr>",
                            "<tr><td>5377</td><td>7.0000</td><td>14.0000</td></tr>",
                            "<tr><td>5377</td><td>7.0000</td><td>14.0000</td></tr>",
                            "<tr><td>5377</td><td>7.0000</td><td>14.0000</td></tr>",
                            "<tr><td>5377</td><td>7.0000</td><td>14.0000</td></tr>",
                            "<tr><td>5377</td><td>7.0000</td><td>14.0000</td></tr>",
                            "<tr><td>5377</td><td>7.0000</td><td>14.0000</td></tr>",
                            "<tr><td>5377</td><td>7.0000</td><td>14.0000</td></tr>",
                            "<tr><td>893</td><td>3.0000</td><td>6.0000</td></tr>",
                            "<tr><td>893</td><td>3.0000</td><td>6.0000</td></tr>",
                            "<tr><td>893</td><td>3.0000</td><td>6.0000</td></tr>",
                            "<tr><td>893</td><td>3.0000</td><td>6.0000</td></tr>",
                            "<tr><td>893</td><td>3.0000</td><td>6.0000</td></tr>",
                            "<tr><td>893</td><td>3.0000</td><td>6.0000</td></tr>",
                            "<tr><td>893</td><td>3.0000</td><td>6.0000</td></tr>",
                            "<tr><td>893</td><td>3.0000</td><td>6.0000</td></tr>",
                            "<tr><td>893</td><td>3.0000</td><td>6.0000</td></tr>",
                            "<tr><td>893</td><td>3.0000</td><td>6.0000</td></tr>",
                            "<tr><td>893</td><td>3.0000</td><td>6.0000</td></tr>",
                            "<tr><td>893</td><td>3.0000</td><td>6.0000</td></tr>",
                            "<tr><td>893</td><td>3.0000</td><td>6.0000</td></tr>",
                            "<tr><td>893</td><td>3.0000</td><td>6.0000</td></tr>",
                            "<tr><td>893</td><td>3.0000</td><td>6.0000</td></tr>",
                            "<tr><td>893</td><td>3.0000</td><td>6.0000</td></tr>",
                            "<tr><td>893</td><td>3.0000</td><td>6.0000</td></tr>",
                            "<tr><td>893</td><td>3.0000</td><td>6.0000</td></tr>",
                            "<tr><td>893</td><td>3.0000</td><td>6.0000</td></tr>",
                            "<tr><td>893</td><td>3.0000</td><td>6.0000</td></tr>",
                            "<tr><td>893</td><td>3.0000</td><td>6.0000</td></tr>",
                            "<tr><td>893</td><td>3.0000</td><td>6.0000</td></tr>",
                            "<tr><td>893</td><td>3.0000</td><td>6.0000</td></tr>",
                            "<tr><td>893</td><td>3.0000</td><td>6.0000</td></tr>",
                            "<tr><td>893</td><td>3.0000</td><td>6.0000</td></tr>",
                            "<tr><td>893</td><td>3.0000</td><td>6.0000</td></tr>",
                            "<tr><td>1492</td><td>2.0000</td><td>4.0000</td></tr>",
                            "<tr><td>1492</td><td>2.0000</td><td>4.0000</td></tr>",
                            "<tr><td>1492</td><td>2.0000</td><td>4.0000</td></tr>",
                            "<tr><td>1492</td><td>2.0000</td><td>4.0000</td></tr>",
                            "<tr><td>1492</td><td>2.0000</td><td>4.0000</td></tr>",
                            "<tr><td>1492</td><td>2.0000</td><td>4.0000</td></tr>",
                            "<tr><td>1492</td><td>2.0000</td><td>4.0000</td></tr>",
                            "<tr><td>1492</td><td>2.0000</td><td>4.0000</td></tr>",
                            "<tr><td>1492</td><td>2.0000</td><td>4.0000</td></tr>",
                            "<tr><td>1492</td><td>2.0000</td><td>4.0000</td></tr>",
                            "<tr><td>1492</td><td>2.0000</td><td>4.0000</td></tr>",
                            "<tr><td>1492</td><td>2.0000</td><td>4.0000</td></tr>",
                            "<tr><td>1492</td><td>2.0000</td><td>4.0000</td></tr>",
                            "<tr><td>1492</td><td>2.0000</td><td>4.0000</td></tr>",
                            "<tr><td>1492</td><td>2.0000</td><td>4.0000</td></tr>",
                            "<tr><td>1492</td><td>2.0000</td><td>4.0000</td></tr>",
                            "<tr><td>1492</td><td>2.0000</td><td>4.0000</td></tr>",
                            "<tr><td>1492</td><td>2.0000</td><td>4.0000</td></tr>",
                            "<tr><td>1492</td><td>2.0000</td><td>4.0000</td></tr>",
                            "<tr><td>1492</td><td>2.0000</td><td>4.0000</td></tr>",
                            "<tr><td>1492</td><td>2.0000</td><td>4.0000</td></tr>",
                            "<tr><td>1492</td><td>2.0000</td><td>4.0000</td></tr>",
                            "<tr><td>1492</td><td>2.0000</td><td>4.0000</td></tr>",
                            "<tr><td>1492</td><td>2.0000</td><td>4.0000</td></tr>",
                            "<tr><td>1492</td><td>2.0000</td><td>4.0000</td></tr>",
                            "<tr><td>1492</td><td>2.0000</td><td>4.0000</td></tr>",
                            "<tr><td>2377</td><td>7.0000</td><td>14.0000</td></tr>",
                            "<tr><td>2377</td><td>7.0000</td><td>14.0000</td></tr>",
                            "<tr><td>2377</td><td>7.0000</td><td>14.0000</td></tr>",
                            "<tr><td>2377</td><td>7.0000</td><td>14.0000</td></tr>",
                            "<tr><td>2377</td><td>7.0000</td><td>14.0000</td></tr>",
                            "<tr><td>2377</td><td>7.0000</td><td>14.0000</td></tr>",
                            "<tr><td>2377</td><td>7.0000</td><td>14.0000</td></tr>",
                            "<tr><td>2377</td><td>7.0000</td><td>14.0000</td></tr>",
                            "<tr><td>2377</td><td>7.0000</td><td>14.0000</td></tr>",
                            "<tr><td>2377</td><td>7.0000</td><td>14.0000</td></tr>",
                            "<tr><td>2377</td><td>7.0000</td><td>14.0000</td></tr>",
                            "<tr><td>2377</td><td>7.0000</td><td>14.0000</td></tr>",
                            "<tr><td>2377</td><td>7.0000</td><td>14.0000</td></tr>",
                            "<tr><td>2377</td><td>7.0000</td><td>14.0000</td></tr>",
                            "<tr><td>2377</td><td>7.0000</td><td>14.0000</td></tr>",
                            "<tr><td>2377</td><td>7.0000</td><td>14.0000</td></tr>",
                            "<tr><td>2377</td><td>7.0000</td><td>14.0000</td></tr>",
                            "<tr><td>2377</td><td>7.0000</td><td>14.0000</td></tr>",
                            "<tr><td>2377</td><td>7.0000</td><td>14.0000</td></tr>",
                            "<tr><td>2377</td><td>7.0000</td><td>14.0000</td></tr>",
                            "<tr><td>2377</td><td>7.0000</td><td>14.0000</td></tr>",
                            "<tr><td>2377</td><td>7.0000</td><td>14.0000</td></tr>",
                            "<tr><td>2377</td><td>7.0000</td><td>14.0000</td></tr>",
                            "<tr><td>2377</td><td>7.0000</td><td>14.0000</td></tr>",
                            "<tr><td>2377</td><td>7.0000</td><td>14.0000</td></tr>",
                            "<tr><td>2377</td><td>7.0000</td><td>14.0000</td></tr>",
                            "<tr><td>5013</td><td>3.0000</td><td>6.0000</td></tr>",
                            "<tr><td>5013</td><td>3.0000</td><td>6.0000</td></tr>",
                            "<tr><td>5013</td><td>3.0000</td><td>6.0000</td></tr>",
                            "<tr><td>5013</td><td>3.0000</td><td>6.0000</td></tr>",
                            "<tr><td>5013</td><td>3.0000</td><td>6.0000</td></tr>",
                            "<tr><td>5013</td><td>3.0000</td><td>6.0000</td></tr>",
                            "<tr><td>5013</td><td>3.0000</td><td>6.0000</td></tr>",
                            "<tr><td>5013</td><td>3.0000</td><td>6.0000</td></tr>",
                            "<tr><td>5013</td><td>3.0000</td><td>6.0000</td></tr>",
                            "<tr><td>5013</td><td>3.0000</td><td>6.0000</td></tr>",
                            "<tr><td>5013</td><td>3.0000</td><td>6.0000</td></tr>",
                            "<tr><td>5013</td><td>3.0000</td><td>6.0000</td></tr>",
                            "<tr><td>5013</td><td>3.0000</td><td>6.0000</td></tr>",
                            "<tr><td>5013</td><td>3.0000</td><td>6.0000</td></tr>",
                            "<tr><td>5013</td><td>3.0000</td><td>6.0000</td></tr>",
                            "<tr><td>5013</td><td>3.0000</td><td>6.0000</td></tr>",
                            "<tr><td>5013</td><td>3.0000</td><td>6.0000</td></tr>",
                            "<tr><td>5013</td><td>3.0000</td><td>6.0000</td></tr>",
                            "<tr><td>5013</td><td>3.0000</td><td>6.0000</td></tr>",
                            "<tr><td>5013</td><td>3.0000</td><td>6.0000</td></tr>",
                            "<tr><td>5013</td><td>3.0000</td><td>6.0000</td></tr>",
                            "<tr><td>5013</td><td>3.0000</td><td>6.0000</td></tr>",
                            "<tr><td>5013</td><td>3.0000</td><td>6.0000</td></tr>",
                            "<tr><td>5013</td><td>3.0000</td><td>6.0000</td></tr>",
                            "<tr><td>5013</td><td>3.0000</td><td>6.0000</td></tr>",
                            "<tr><td>5013</td><td>3.0000</td><td>6.0000</td></tr>",
                            "<tr><td>6769</td><td>9.0000</td><td>18.0000</td></tr>",
                            "<tr><td>6769</td><td>9.0000</td><td>18.0000</td></tr>",
                            "<tr><td>6769</td><td>9.0000</td><td>18.0000</td></tr>",
                            "<tr><td>6769</td><td>9.0000</td><td>18.0000</td></tr>",
                            "<tr><td>6769</td><td>9.0000</td><td>18.0000</td></tr>",
                            "<tr><td>6769</td><td>9.0000</td><td>18.0000</td></tr>",
                            "<tr><td>6769</td><td>9.0000</td><td>18.0000</td></tr>",
                            "<tr><td>6769</td><td>9.0000</td><td>18.0000</td></tr>",
                            "<tr><td>6769</td><td>9.0000</td><td>18.0000</td></tr>",
                            "<tr><td>6769</td><td>9.0000</td><td>18.0000</td></tr>",
                            "<tr><td>6769</td><td>9.0000</td><td>18.0000</td></tr>",
                            "<tr><td>6769</td><td>9.0000</td><td>18.0000</td></tr>",
                            "<tr><td>6769</td><td>9.0000</td><td>18.0000</td></tr>",
                            "<tr><td>6769</td><td>9.0000</td><td>18.0000</td></tr>",
                            "<tr><td>6769</td><td>9.0000</td><td>18.0000</td></tr>",
                            "<tr><td>6769</td><td>9.0000</td><td>18.0000</td></tr>",
                            "<tr><td>6769</td><td>9.0000</td><td>18.0000</td></tr>",
                            "<tr><td>6769</td><td>9.0000</td><td>18.0000</td></tr>",
                            "<tr><td>6769</td><td>9.0000</td><td>18.0000</td></tr>",
                            "<tr><td>6769</td><td>9.0000</td><td>18.0000</td></tr>",
                            "<tr><td>6769</td><td>9.0000</td><td>18.0000</td></tr>",
                            "<tr><td>6769</td><td>9.0000</td><td>18.0000</td></tr>",
                            "<tr><td>6769</td><td>9.0000</td><td>18.0000</td></tr>",
                            "<tr><td>6769</td><td>9.0000</td><td>18.0000</td></tr>",
                            "<tr><td>6769</td><td>9.0000</td><td>18.0000</td></tr>",
                            "<tr><td>6769</td><td>9.0000</td><td>18.0000</td></tr>",
                            "<tr><td>8818</td><td>8.0000</td><td>16.0000</td></tr>",
                            "<tr><td>8818</td><td>8.0000</td><td>16.0000</td></tr>",
                            "<tr><td>8818</td><td>8.0000</td><td>16.0000</td></tr>",
                            "<tr><td>8818</td><td>8.0000</td><td>16.0000</td></tr>",
                            "<tr><td>8818</td><td>8.0000</td><td>16.0000</td></tr>",
                            "<tr><td>8818</td><td>8.0000</td><td>16.0000</td></tr>",
                            "<tr><td>8818</td><td>8.0000</td><td>16.0000</td></tr>",
                            "<tr><td>8818</td><td>8.0000</td><td>16.0000</td></tr>",
                            "<tr><td>8818</td><td>8.0000</td><td>16.0000</td></tr>",
                            "<tr><td>8818</td><td>8.0000</td><td>16.0000</td></tr>",
                            "<tr><td>8818</td><td>8.0000</td><td>16.0000</td></tr>",
                            "<tr><td>8818</td><td>8.0000</td><td>16.0000</td></tr>",
                            "<tr><td>8818</td><td>8.0000</td><td>16.0000</td></tr>",
                            "<tr><td>8818</td><td>8.0000</td><td>16.0000</td></tr>",
                            "<tr><td>8818</td><td>8.0000</td><td>16.0000</td></tr>",
                            "<tr><td>8818</td><td>8.0000</td><td>16.0000</td></tr>",
                            "<tr><td>8818</td><td>8.0000</td><td>16.0000</td></tr>",
                            "<tr><td>8818</td><td>8.0000</td><td>16.0000</td></tr>",
                            "<tr><td>8818</td><td>8.0000</td><td>16.0000</td></tr>",
                            "<tr><td>8818</td><td>8.0000</td><td>16.0000</td></tr>",
                            "<tr><td>8818</td><td>8.0000</td><td>16.0000</td></tr>",
                            "<tr><td>8818</td><td>8.0000</td><td>16.0000</td></tr>",
                            "<tr><td>8818</td><td>8.0000</td><td>16.0000</td></tr>",
                            "<tr><td>8818</td><td>8.0000</td><td>16.0000</td></tr>",
                            "<tr><td>8818</td><td>8.0000</td><td>16.0000</td></tr>",
                            "<tr><td>8818</td><td>8.0000</td><td>16.0000</td></tr>",
                            "<tr><td>1165</td><td>5.0000</td><td>10.0000</td></tr>",
                            "<tr><td>1165</td><td>5.0000</td><td>10.0000</td></tr>",
                            "<tr><td>1165</td><td>5.0000</td><td>10.0000</td></tr>",
                            "<tr><td>1165</td><td>5.0000</td><td>10.0000</td></tr>",
                            "<tr><td>1165</td><td>5.0000</td><td>10.0000</td></tr>",
                            "<tr><td>1165</td><td>5.0000</td><td>10.0000</td></tr>",
                            "<tr><td>1165</td><td>5.0000</td><td>10.0000</td></tr>",
                            "<tr><td>1165</td><td>5.0000</td><td>10.0000</td></tr>",
                            "<tr><td>1165</td><td>5.0000</td><td>10.0000</td></tr>",
                            "<tr><td>1165</td><td>5.0000</td><td>10.0000</td></tr>",
                            "<tr><td>1165</td><td>5.0000</td><td>10.0000</td></tr>",
                            "<tr><td>1165</td><td>5.0000</td><td>10.0000</td></tr>",
                            "<tr><td>1165</td><td>5.0000</td><td>10.0000</td></tr>",
                            "<tr><td>1165</td><td>5.0000</td><td>10.0000</td></tr>",
                            "<tr><td>1165</td><td>5.0000</td><td>10.0000</td></tr>",
                            "<tr><td>1165</td><td>5.0000</td><td>10.0000</td></tr>",
                            "<tr><td>1165</td><td>5.0000</td><td>10.0000</td></tr>",
                            "<tr><td>1165</td><td>5.0000</td><td>10.0000</td></tr>",
                            "<tr><td>1165</td><td>5.0000</td><td>10.0000</td></tr>",
                            "<tr><td>1165</td><td>5.0000</td><td>10.0000</td></tr>",
                            "<tr><td>1165</td><td>5.0000</td><td>10.0000</td></tr>",
                            "<tr><td>1165</td><td>5.0000</td><td>10.0000</td></tr>",
                            "<tr><td>1165</td><td>5.0000</td><td>10.0000</td></tr>",
                            "<tr><td>1165</td><td>5.0000</td><td>10.0000</td></tr>",
                            "<tr><td>1165</td><td>5.0000</td><td>10.0000</td></tr>",
                            "<tr><td>1165</td><td>5.0000</td><td>10.0000</td></tr>",
                            "<tr><td>3809</td><td>9.0000</td><td>18.0000</td></tr>",
                            "<tr><td>3809</td><td>9.0000</td><td>18.0000</td></tr>",
                            "<tr><td>3809</td><td>9.0000</td><td>18.0000</td></tr>",
                            "<tr><td>3809</td><td>9.0000</td><td>18.0000</td></tr>",
                            "<tr><td>3809</td><td>9.0000</td><td>18.0000</td></tr>",
                            "<tr><td>3809</td><td>9.0000</td><td>18.0000</td></tr>",
                            "<tr><td>3809</td><td>9.0000</td><td>18.0000</td></tr>",
                            "<tr><td>3809</td><td>9.0000</td><td>18.0000</td></tr>",
                            "<tr><td>3809</td><td>9.0000</td><td>18.0000</td></tr>",
                            "<tr><td>3809</td><td>9.0000</td><td>18.0000</td></tr>",
                            "<tr><td>3809</td><td>9.0000</td><td>18.0000</td></tr>",
                            "<tr><td>3809</td><td>9.0000</td><td>18.0000</td></tr>",
                            "<tr><td>3809</td><td>9.0000</td><td>18.0000</td></tr>",
                            "<tr><td>3809</td><td>9.0000</td><td>18.0000</td></tr>",
                            "<tr><td>3809</td><td>9.0000</td><td>18.0000</td></tr>",
                            "<tr><td>3809</td><td>9.0000</td><td>18.0000</td></tr>",
                            "<tr><td>3809</td><td>9.0000</td><td>18.0000</td></tr>",
                            "<tr><td>3809</td><td>9.0000</td><td>18.0000</td></tr>",
                            "<tr><td>3809</td><td>9.0000</td><td>18.0000</td></tr>",
                            "<tr><td>3809</td><td>9.0000</td><td>18.0000</td></tr>",
                            "<tr><td>3809</td><td>9.0000</td><td>18.0000</td></tr>",
                            "<tr><td>3809</td><td>9.0000</td><td>18.0000</td></tr>",
                            "<tr><td>3809</td><td>9.0000</td><td>18.0000</td></tr>",
                            "<tr><td>3809</td><td>9.0000</td><td>18.0000</td></tr>",
                            "<tr><td>3809</td><td>9.0000</td><td>18.0000</td></tr>",
                            "<tr><td>3809</td><td>9.0000</td><td>18.0000</td></tr>",
                            "<tr><td>6754</td><td>4.0000</td><td>8.0000</td></tr>",
                            "<tr><td>6754</td><td>4.0000</td><td>8.0000</td></tr>",
                            "<tr><td>6754</td><td>4.0000</td><td>8.0000</td></tr>",
                            "<tr><td>6754</td><td>4.0000</td><td>8.0000</td></tr>",
                            "<tr><td>6754</td><td>4.0000</td><td>8.0000</td></tr>",
                            "<tr><td>6754</td><td>4.0000</td><td>8.0000</td></tr>",
                            "<tr><td>6754</td><td>4.0000</td><td>8.0000</td></tr>",
                            "<tr><td>6754</td><td>4.0000</td><td>8.0000</td></tr>",
                            "<tr><td>6754</td><td>4.0000</td><td>8.0000</td></tr>",
                            "<tr><td>6754</td><td>4.0000</td><td>8.0000</td></tr>",
                            "<tr><td>6754</td><td>4.0000</td><td>8.0000</td></tr>",
                            "<tr><td>6754</td><td>4.0000</td><td>8.0000</td></tr>",
                            "<tr><td>6754</td><td>4.0000</td><td>8.0000</td></tr>",
                            "<tr><td>6754</td><td>4.0000</td><td>8.0000</td></tr>",
                            "<tr><td>6754</td><td>4.0000</td><td>8.0000</td></tr>",
                            "<tr><td>6754</td><td>4.0000</td><td>8.0000</td></tr>",
                            "<tr><td>6754</td><td>4.0000</td><td>8.0000</td></tr>",
                            "<tr><td>6754</td><td>4.0000</td><td>8.0000</td></tr>",
                            "<tr><td>6754</td><td>4.0000</td><td>8.0000</td></tr>",
                            "<tr><td>6754</td><td>4.0000</td><td>8.0000</td></tr>",
                            "<tr><td>6754</td><td>4.0000</td><td>8.0000</td></tr>",
                            "<tr><td>6754</td><td>4.0000</td><td>8.0000</td></tr>",
                            "<tr><td>6754</td><td>4.0000</td><td>8.0000</td></tr>",
                            "<tr><td>6754</td><td>4.0000</td><td>8.0000</td></tr>",
                            "<tr><td>6754</td><td>4.0000</td><td>8.0000</td></tr>",
                            "<tr><td>6754</td><td>4.0000</td><td>8.0000</td></tr>",
                            "</table>"
                        ]
                    }
                }
            ],
            "execution_count": 53
        },
        {
            "cell_type": "markdown",
            "source": [
                "3\\. Napisz polecenie, które\n",
                "\n",
                "- generuje pojedynczą kolumnę, która zawiera kolumny: imię członka biblioteki, inicjał drugiego imienia i nazwisko dla wszystkich członków biblioteki, którzy nazywają się Anderson\n",
                "- nazwij tak powstałą kolumnę „email\\_name”\n",
                "- zmodyfikuj polecenie, tak by zwróciło „listę proponowanych loginów e-mail” utworzonych przez połączenie imienia członka biblioteki, z inicjałem drugiego imienia i pierwszymi dwoma literami nazwiska (wszystko małymi literami).\n",
                "    - wykorzystaj funkcję SUBSTRING do uzyskania części kolumny znakowej oraz LOWER do zwrócenia wyniku małymi literami\n",
                "    - wykorzystaj operator (+) do połączenia stringów."
            ],
            "metadata": {
                "azdata_cell_guid": "63d29c7f-9619-4d95-9193-382689c822e5"
            },
            "attachments": {}
        },
        {
            "cell_type": "code",
            "source": [
                "SELECT \r\n",
                "    (firstname + middleinitial + lastname) AS email_name\r\n",
                "FROM \r\n",
                "    member\r\n",
                "WHERE\r\n",
                "    lastname LIKE 'Anderson'\r\n",
                "\r\n",
                "--------------------------------------------------------------------\r\n",
                "\r\n",
                "SELECT \r\n",
                "    LOWER(firstname + middleinitial + SUBSTRING(lastname, 1, 2)) AS 'lista proponowanych loginów e-mail'\r\n",
                "FROM \r\n",
                "    member\r\n",
                "WHERE\r\n",
                "    lastname LIKE 'Anderson'"
            ],
            "metadata": {
                "azdata_cell_guid": "64c2ea92-e2ad-42e3-a58a-4ee91a779afd"
            },
            "outputs": [
                {
                    "output_type": "display_data",
                    "data": {
                        "text/html": "(390 rows affected)"
                    },
                    "metadata": {}
                },
                {
                    "output_type": "display_data",
                    "data": {
                        "text/html": "(390 rows affected)"
                    },
                    "metadata": {}
                },
                {
                    "output_type": "display_data",
                    "data": {
                        "text/html": "Total execution time: 00:00:00.027"
                    },
                    "metadata": {}
                },
                {
                    "output_type": "execute_result",
                    "metadata": {},
                    "execution_count": 54,
                    "data": {
                        "application/vnd.dataresource+json": {
                            "schema": {
                                "fields": [
                                    {
                                        "name": "email_name"
                                    }
                                ]
                            },
                            "data": [
                                {
                                    "0": "AmyAAnderson"
                                },
                                {
                                    "0": "AngelaAAnderson"
                                },
                                {
                                    "0": "BrianAAnderson"
                                },
                                {
                                    "0": "ClairAAnderson"
                                },
                                {
                                    "0": "DanielAAnderson"
                                },
                                {
                                    "0": "DarleneAAnderson"
                                },
                                {
                                    "0": "EvaAAnderson"
                                },
                                {
                                    "0": "FrankAAnderson"
                                },
                                {
                                    "0": "GaryAAnderson"
                                },
                                {
                                    "0": "JoseAAnderson"
                                },
                                {
                                    "0": "JoshuaAAnderson"
                                },
                                {
                                    "0": "KarlAAnderson"
                                },
                                {
                                    "0": "KatieAAnderson"
                                },
                                {
                                    "0": "LindaAAnderson"
                                },
                                {
                                    "0": "Mary AnneAAnderson"
                                },
                                {
                                    "0": "MichaelAAnderson"
                                },
                                {
                                    "0": "MonicaAAnderson"
                                },
                                {
                                    "0": "NateAAnderson"
                                },
                                {
                                    "0": "PeterAAnderson"
                                },
                                {
                                    "0": "RobertAAnderson"
                                },
                                {
                                    "0": "SarahAAnderson"
                                },
                                {
                                    "0": "ShellyAAnderson"
                                },
                                {
                                    "0": "StephenAAnderson"
                                },
                                {
                                    "0": "TeresaAAnderson"
                                },
                                {
                                    "0": "ThomAAnderson"
                                },
                                {
                                    "0": "WilliamAAnderson"
                                },
                                {
                                    "0": "AmyBAnderson"
                                },
                                {
                                    "0": "AngelaBAnderson"
                                },
                                {
                                    "0": "BrianBAnderson"
                                },
                                {
                                    "0": "ClairBAnderson"
                                },
                                {
                                    "0": "DanielBAnderson"
                                },
                                {
                                    "0": "DarleneBAnderson"
                                },
                                {
                                    "0": "EvaBAnderson"
                                },
                                {
                                    "0": "FrankBAnderson"
                                },
                                {
                                    "0": "GaryBAnderson"
                                },
                                {
                                    "0": "JoseBAnderson"
                                },
                                {
                                    "0": "JoshuaBAnderson"
                                },
                                {
                                    "0": "KarlBAnderson"
                                },
                                {
                                    "0": "KatieBAnderson"
                                },
                                {
                                    "0": "LindaBAnderson"
                                },
                                {
                                    "0": "Mary AnneBAnderson"
                                },
                                {
                                    "0": "MichaelBAnderson"
                                },
                                {
                                    "0": "MonicaBAnderson"
                                },
                                {
                                    "0": "NateBAnderson"
                                },
                                {
                                    "0": "PeterBAnderson"
                                },
                                {
                                    "0": "RobertBAnderson"
                                },
                                {
                                    "0": "SarahBAnderson"
                                },
                                {
                                    "0": "ShellyBAnderson"
                                },
                                {
                                    "0": "StephenBAnderson"
                                },
                                {
                                    "0": "TeresaBAnderson"
                                },
                                {
                                    "0": "ThomBAnderson"
                                },
                                {
                                    "0": "WilliamBAnderson"
                                },
                                {
                                    "0": "AmyBAnderson"
                                },
                                {
                                    "0": "AngelaBAnderson"
                                },
                                {
                                    "0": "BrianBAnderson"
                                },
                                {
                                    "0": "ClairBAnderson"
                                },
                                {
                                    "0": "DanielBAnderson"
                                },
                                {
                                    "0": "DarleneBAnderson"
                                },
                                {
                                    "0": "EvaBAnderson"
                                },
                                {
                                    "0": "FrankBAnderson"
                                },
                                {
                                    "0": "GaryBAnderson"
                                },
                                {
                                    "0": "JoseBAnderson"
                                },
                                {
                                    "0": "JoshuaBAnderson"
                                },
                                {
                                    "0": "KarlBAnderson"
                                },
                                {
                                    "0": "KatieBAnderson"
                                },
                                {
                                    "0": "LindaBAnderson"
                                },
                                {
                                    "0": "Mary AnneBAnderson"
                                },
                                {
                                    "0": "MichaelBAnderson"
                                },
                                {
                                    "0": "MonicaBAnderson"
                                },
                                {
                                    "0": "NateBAnderson"
                                },
                                {
                                    "0": "PeterBAnderson"
                                },
                                {
                                    "0": "RobertBAnderson"
                                },
                                {
                                    "0": "SarahBAnderson"
                                },
                                {
                                    "0": "ShellyBAnderson"
                                },
                                {
                                    "0": "StephenBAnderson"
                                },
                                {
                                    "0": "TeresaBAnderson"
                                },
                                {
                                    "0": "ThomBAnderson"
                                },
                                {
                                    "0": "WilliamBAnderson"
                                },
                                {
                                    "0": "AmyCAnderson"
                                },
                                {
                                    "0": "AngelaCAnderson"
                                },
                                {
                                    "0": "BrianCAnderson"
                                },
                                {
                                    "0": "ClairCAnderson"
                                },
                                {
                                    "0": "DanielCAnderson"
                                },
                                {
                                    "0": "DarleneCAnderson"
                                },
                                {
                                    "0": "EvaCAnderson"
                                },
                                {
                                    "0": "FrankCAnderson"
                                },
                                {
                                    "0": "GaryCAnderson"
                                },
                                {
                                    "0": "JoseCAnderson"
                                },
                                {
                                    "0": "JoshuaCAnderson"
                                },
                                {
                                    "0": "KarlCAnderson"
                                },
                                {
                                    "0": "KatieCAnderson"
                                },
                                {
                                    "0": "LindaCAnderson"
                                },
                                {
                                    "0": "Mary AnneCAnderson"
                                },
                                {
                                    "0": "MichaelCAnderson"
                                },
                                {
                                    "0": "MonicaCAnderson"
                                },
                                {
                                    "0": "NateCAnderson"
                                },
                                {
                                    "0": "PeterCAnderson"
                                },
                                {
                                    "0": "RobertCAnderson"
                                },
                                {
                                    "0": "SarahCAnderson"
                                },
                                {
                                    "0": "ShellyCAnderson"
                                },
                                {
                                    "0": "StephenCAnderson"
                                },
                                {
                                    "0": "TeresaCAnderson"
                                },
                                {
                                    "0": "ThomCAnderson"
                                },
                                {
                                    "0": "WilliamCAnderson"
                                },
                                {
                                    "0": "AmyDAnderson"
                                },
                                {
                                    "0": "AngelaDAnderson"
                                },
                                {
                                    "0": "BrianDAnderson"
                                },
                                {
                                    "0": "ClairDAnderson"
                                },
                                {
                                    "0": "DanielDAnderson"
                                },
                                {
                                    "0": "DarleneDAnderson"
                                },
                                {
                                    "0": "EvaDAnderson"
                                },
                                {
                                    "0": "FrankDAnderson"
                                },
                                {
                                    "0": "GaryDAnderson"
                                },
                                {
                                    "0": "JoseDAnderson"
                                },
                                {
                                    "0": "JoshuaDAnderson"
                                },
                                {
                                    "0": "KarlDAnderson"
                                },
                                {
                                    "0": "KatieDAnderson"
                                },
                                {
                                    "0": "LindaDAnderson"
                                },
                                {
                                    "0": "Mary AnneDAnderson"
                                },
                                {
                                    "0": "MichaelDAnderson"
                                },
                                {
                                    "0": "MonicaDAnderson"
                                },
                                {
                                    "0": "NateDAnderson"
                                },
                                {
                                    "0": "PeterDAnderson"
                                },
                                {
                                    "0": "RobertDAnderson"
                                },
                                {
                                    "0": "SarahDAnderson"
                                },
                                {
                                    "0": "ShellyDAnderson"
                                },
                                {
                                    "0": "StephenDAnderson"
                                },
                                {
                                    "0": "TeresaDAnderson"
                                },
                                {
                                    "0": "ThomDAnderson"
                                },
                                {
                                    "0": "WilliamDAnderson"
                                },
                                {
                                    "0": "AmyEAnderson"
                                },
                                {
                                    "0": "AngelaEAnderson"
                                },
                                {
                                    "0": "BrianEAnderson"
                                },
                                {
                                    "0": "ClairEAnderson"
                                },
                                {
                                    "0": "DanielEAnderson"
                                },
                                {
                                    "0": "DarleneEAnderson"
                                },
                                {
                                    "0": "EvaEAnderson"
                                },
                                {
                                    "0": "FrankEAnderson"
                                },
                                {
                                    "0": "GaryEAnderson"
                                },
                                {
                                    "0": "JoseEAnderson"
                                },
                                {
                                    "0": "JoshuaEAnderson"
                                },
                                {
                                    "0": "KarlEAnderson"
                                },
                                {
                                    "0": "KatieEAnderson"
                                },
                                {
                                    "0": "LindaEAnderson"
                                },
                                {
                                    "0": "Mary AnneEAnderson"
                                },
                                {
                                    "0": "MichaelEAnderson"
                                },
                                {
                                    "0": "MonicaEAnderson"
                                },
                                {
                                    "0": "NateEAnderson"
                                },
                                {
                                    "0": "PeterEAnderson"
                                },
                                {
                                    "0": "RobertEAnderson"
                                },
                                {
                                    "0": "SarahEAnderson"
                                },
                                {
                                    "0": "ShellyEAnderson"
                                },
                                {
                                    "0": "StephenEAnderson"
                                },
                                {
                                    "0": "TeresaEAnderson"
                                },
                                {
                                    "0": "ThomEAnderson"
                                },
                                {
                                    "0": "WilliamEAnderson"
                                },
                                {
                                    "0": "AmyFAnderson"
                                },
                                {
                                    "0": "AngelaFAnderson"
                                },
                                {
                                    "0": "BrianFAnderson"
                                },
                                {
                                    "0": "ClairFAnderson"
                                },
                                {
                                    "0": "DanielFAnderson"
                                },
                                {
                                    "0": "DarleneFAnderson"
                                },
                                {
                                    "0": "EvaFAnderson"
                                },
                                {
                                    "0": "FrankFAnderson"
                                },
                                {
                                    "0": "GaryFAnderson"
                                },
                                {
                                    "0": "JoseFAnderson"
                                },
                                {
                                    "0": "JoshuaFAnderson"
                                },
                                {
                                    "0": "KarlFAnderson"
                                },
                                {
                                    "0": "KatieFAnderson"
                                },
                                {
                                    "0": "LindaFAnderson"
                                },
                                {
                                    "0": "Mary AnneFAnderson"
                                },
                                {
                                    "0": "MichaelFAnderson"
                                },
                                {
                                    "0": "MonicaFAnderson"
                                },
                                {
                                    "0": "NateFAnderson"
                                },
                                {
                                    "0": "PeterFAnderson"
                                },
                                {
                                    "0": "RobertFAnderson"
                                },
                                {
                                    "0": "SarahFAnderson"
                                },
                                {
                                    "0": "ShellyFAnderson"
                                },
                                {
                                    "0": "StephenFAnderson"
                                },
                                {
                                    "0": "TeresaFAnderson"
                                },
                                {
                                    "0": "ThomFAnderson"
                                },
                                {
                                    "0": "WilliamFAnderson"
                                },
                                {
                                    "0": "AmyGAnderson"
                                },
                                {
                                    "0": "AngelaGAnderson"
                                },
                                {
                                    "0": "BrianGAnderson"
                                },
                                {
                                    "0": "ClairGAnderson"
                                },
                                {
                                    "0": "DanielGAnderson"
                                },
                                {
                                    "0": "DarleneGAnderson"
                                },
                                {
                                    "0": "EvaGAnderson"
                                },
                                {
                                    "0": "FrankGAnderson"
                                },
                                {
                                    "0": "GaryGAnderson"
                                },
                                {
                                    "0": "JoseGAnderson"
                                },
                                {
                                    "0": "JoshuaGAnderson"
                                },
                                {
                                    "0": "KarlGAnderson"
                                },
                                {
                                    "0": "KatieGAnderson"
                                },
                                {
                                    "0": "LindaGAnderson"
                                },
                                {
                                    "0": "Mary AnneGAnderson"
                                },
                                {
                                    "0": "MichaelGAnderson"
                                },
                                {
                                    "0": "MonicaGAnderson"
                                },
                                {
                                    "0": "NateGAnderson"
                                },
                                {
                                    "0": "PeterGAnderson"
                                },
                                {
                                    "0": "RobertGAnderson"
                                },
                                {
                                    "0": "SarahGAnderson"
                                },
                                {
                                    "0": "ShellyGAnderson"
                                },
                                {
                                    "0": "StephenGAnderson"
                                },
                                {
                                    "0": "TeresaGAnderson"
                                },
                                {
                                    "0": "ThomGAnderson"
                                },
                                {
                                    "0": "WilliamGAnderson"
                                },
                                {
                                    "0": "BrianHAnderson"
                                },
                                {
                                    "0": "EvaHAnderson"
                                },
                                {
                                    "0": "GaryHAnderson"
                                },
                                {
                                    "0": "JoseHAnderson"
                                },
                                {
                                    "0": "JoshuaHAnderson"
                                },
                                {
                                    "0": "KarlHAnderson"
                                },
                                {
                                    "0": "KatieHAnderson"
                                },
                                {
                                    "0": "MichaelHAnderson"
                                },
                                {
                                    "0": "PeterHAnderson"
                                },
                                {
                                    "0": "RobertHAnderson"
                                },
                                {
                                    "0": "SarahHAnderson"
                                },
                                {
                                    "0": "ShellyHAnderson"
                                },
                                {
                                    "0": "ThomHAnderson"
                                },
                                {
                                    "0": "WilliamHAnderson"
                                },
                                {
                                    "0": "FrankHAnderson"
                                },
                                {
                                    "0": "ClairHAnderson"
                                },
                                {
                                    "0": "DanielHAnderson"
                                },
                                {
                                    "0": "EvaHAnderson"
                                },
                                {
                                    "0": "Mary AnneHAnderson"
                                },
                                {
                                    "0": "MichaelHAnderson"
                                },
                                {
                                    "0": "Mary AnneJAnderson"
                                },
                                {
                                    "0": "MonicaJAnderson"
                                },
                                {
                                    "0": "BrianKAnderson"
                                },
                                {
                                    "0": "SarahKAnderson"
                                },
                                {
                                    "0": "StephenKAnderson"
                                },
                                {
                                    "0": "JoseLAnderson"
                                },
                                {
                                    "0": "NateLAnderson"
                                },
                                {
                                    "0": "ClairHAnderson"
                                },
                                {
                                    "0": "DanielHAnderson"
                                },
                                {
                                    "0": "LindaHAnderson"
                                },
                                {
                                    "0": "StephenHAnderson"
                                },
                                {
                                    "0": "PeterHAnderson"
                                },
                                {
                                    "0": "SarahHAnderson"
                                },
                                {
                                    "0": "KarlJAnderson"
                                },
                                {
                                    "0": "MichaelJAnderson"
                                },
                                {
                                    "0": "SarahJAnderson"
                                },
                                {
                                    "0": "TeresaHAnderson"
                                },
                                {
                                    "0": "AmyHAnderson"
                                },
                                {
                                    "0": "AngelaHAnderson"
                                },
                                {
                                    "0": "BrianHAnderson"
                                },
                                {
                                    "0": "AmyHAnderson"
                                },
                                {
                                    "0": "Mary AnneHAnderson"
                                },
                                {
                                    "0": "StephenHAnderson"
                                },
                                {
                                    "0": "AmyJAnderson"
                                },
                                {
                                    "0": "PeterJAnderson"
                                },
                                {
                                    "0": "StephenJAnderson"
                                },
                                {
                                    "0": "ShellyLAnderson"
                                },
                                {
                                    "0": "AngelaHAnderson"
                                },
                                {
                                    "0": "DarleneHAnderson"
                                },
                                {
                                    "0": "MonicaHAnderson"
                                },
                                {
                                    "0": "NateHAnderson"
                                },
                                {
                                    "0": "ShellyHAnderson"
                                },
                                {
                                    "0": "FrankJAnderson"
                                },
                                {
                                    "0": "TeresaKAnderson"
                                },
                                {
                                    "0": "EvaLAnderson"
                                },
                                {
                                    "0": "GaryLAnderson"
                                },
                                {
                                    "0": "Mary AnneLAnderson"
                                },
                                {
                                    "0": "StephenLAnderson"
                                },
                                {
                                    "0": "AmyMAnderson"
                                },
                                {
                                    "0": "WilliamMAnderson"
                                },
                                {
                                    "0": "FrankHAnderson"
                                },
                                {
                                    "0": "GaryHAnderson"
                                },
                                {
                                    "0": "JoshuaHAnderson"
                                },
                                {
                                    "0": "KatieHAnderson"
                                },
                                {
                                    "0": "LindaHAnderson"
                                },
                                {
                                    "0": "GaryJAnderson"
                                },
                                {
                                    "0": "JoshuaJAnderson"
                                },
                                {
                                    "0": "LindaJAnderson"
                                },
                                {
                                    "0": "ShellyJAnderson"
                                },
                                {
                                    "0": "EvaKAnderson"
                                },
                                {
                                    "0": "KarlKAnderson"
                                },
                                {
                                    "0": "MichaelKAnderson"
                                },
                                {
                                    "0": "JoseHAnderson"
                                },
                                {
                                    "0": "KarlHAnderson"
                                },
                                {
                                    "0": "AngelaJAnderson"
                                },
                                {
                                    "0": "DarleneJAnderson"
                                },
                                {
                                    "0": "JoseJAnderson"
                                },
                                {
                                    "0": "RobertJAnderson"
                                },
                                {
                                    "0": "TeresaJAnderson"
                                },
                                {
                                    "0": "MonicaKAnderson"
                                },
                                {
                                    "0": "ClairLAnderson"
                                },
                                {
                                    "0": "KarlLAnderson"
                                },
                                {
                                    "0": "PeterLAnderson"
                                },
                                {
                                    "0": "KarlMAnderson"
                                },
                                {
                                    "0": "LindaMAnderson"
                                },
                                {
                                    "0": "Mary AnneMAnderson"
                                },
                                {
                                    "0": "NateHAnderson"
                                },
                                {
                                    "0": "TeresaHAnderson"
                                },
                                {
                                    "0": "WilliamJAnderson"
                                },
                                {
                                    "0": "AngelaKAnderson"
                                },
                                {
                                    "0": "NateKAnderson"
                                },
                                {
                                    "0": "WilliamKAnderson"
                                },
                                {
                                    "0": "MichaelLAnderson"
                                },
                                {
                                    "0": "SarahMAnderson"
                                },
                                {
                                    "0": "JoseMAnderson"
                                },
                                {
                                    "0": "DarleneHAnderson"
                                },
                                {
                                    "0": "RobertHAnderson"
                                },
                                {
                                    "0": "ClairJAnderson"
                                },
                                {
                                    "0": "EvaJAnderson"
                                },
                                {
                                    "0": "KatieJAnderson"
                                },
                                {
                                    "0": "BrianLAnderson"
                                },
                                {
                                    "0": "FrankMAnderson"
                                },
                                {
                                    "0": "MonicaHAnderson"
                                },
                                {
                                    "0": "ThomHAnderson"
                                },
                                {
                                    "0": "WilliamHAnderson"
                                },
                                {
                                    "0": "BrianJAnderson"
                                },
                                {
                                    "0": "NateJAnderson"
                                },
                                {
                                    "0": "RobertKAnderson"
                                },
                                {
                                    "0": "ThomKAnderson"
                                },
                                {
                                    "0": "RobertLAnderson"
                                },
                                {
                                    "0": "ThomLAnderson"
                                },
                                {
                                    "0": "MonicaMAnderson"
                                },
                                {
                                    "0": "NateMAnderson"
                                },
                                {
                                    "0": "SarahMAnderson"
                                },
                                {
                                    "0": "StephenMAnderson"
                                },
                                {
                                    "0": "ThomJAnderson"
                                },
                                {
                                    "0": "ClairKAnderson"
                                },
                                {
                                    "0": "JoshuaKAnderson"
                                },
                                {
                                    "0": "PeterKAnderson"
                                },
                                {
                                    "0": "WilliamLAnderson"
                                },
                                {
                                    "0": "EvaMAnderson"
                                },
                                {
                                    "0": "GaryMAnderson"
                                },
                                {
                                    "0": "DanielMAnderson"
                                },
                                {
                                    "0": "KarlMAnderson"
                                },
                                {
                                    "0": "KatieMAnderson"
                                },
                                {
                                    "0": "DanielJAnderson"
                                },
                                {
                                    "0": "BrianMAnderson"
                                },
                                {
                                    "0": "TeresaMAnderson"
                                },
                                {
                                    "0": "EvaMAnderson"
                                },
                                {
                                    "0": "DarleneKAnderson"
                                },
                                {
                                    "0": "JoshuaLAnderson"
                                },
                                {
                                    "0": "SarahLAnderson"
                                },
                                {
                                    "0": "TeresaLAnderson"
                                },
                                {
                                    "0": "PeterMAnderson"
                                },
                                {
                                    "0": "MonicaMAnderson"
                                },
                                {
                                    "0": "PeterMAnderson"
                                },
                                {
                                    "0": "DanielKAnderson"
                                },
                                {
                                    "0": "MonicaLAnderson"
                                },
                                {
                                    "0": "AngelaMAnderson"
                                },
                                {
                                    "0": "JoseMAnderson"
                                },
                                {
                                    "0": "Mary AnneMAnderson"
                                },
                                {
                                    "0": "GaryKAnderson"
                                },
                                {
                                    "0": "KatieKAnderson"
                                },
                                {
                                    "0": "Mary AnneKAnderson"
                                },
                                {
                                    "0": "AngelaLAnderson"
                                },
                                {
                                    "0": "RobertMAnderson"
                                },
                                {
                                    "0": "BrianMAnderson"
                                },
                                {
                                    "0": "AmyKAnderson"
                                },
                                {
                                    "0": "ShellyKAnderson"
                                },
                                {
                                    "0": "DarleneLAnderson"
                                },
                                {
                                    "0": "FrankLAnderson"
                                },
                                {
                                    "0": "KatieLAnderson"
                                },
                                {
                                    "0": "ClairMAnderson"
                                },
                                {
                                    "0": "FrankKAnderson"
                                },
                                {
                                    "0": "JoseKAnderson"
                                },
                                {
                                    "0": "DanielLAnderson"
                                },
                                {
                                    "0": "FrankMAnderson"
                                },
                                {
                                    "0": "LindaMAnderson"
                                },
                                {
                                    "0": "LindaKAnderson"
                                },
                                {
                                    "0": "AmyLAnderson"
                                },
                                {
                                    "0": "LindaLAnderson"
                                },
                                {
                                    "0": "ClairMAnderson"
                                },
                                {
                                    "0": "StephenMAnderson"
                                },
                                {
                                    "0": "AngelaMAnderson"
                                },
                                {
                                    "0": "DarleneMAnderson"
                                },
                                {
                                    "0": "DanielMAnderson"
                                },
                                {
                                    "0": "JoshuaMAnderson"
                                },
                                {
                                    "0": "MichaelMAnderson"
                                },
                                {
                                    "0": "NateMAnderson"
                                },
                                {
                                    "0": "ShellyMAnderson"
                                },
                                {
                                    "0": "TeresaMAnderson"
                                },
                                {
                                    "0": "WilliamMAnderson"
                                },
                                {
                                    "0": "DarleneMAnderson"
                                },
                                {
                                    "0": "KatieMAnderson"
                                },
                                {
                                    "0": "ShellyMAnderson"
                                },
                                {
                                    "0": "ThomMAnderson"
                                },
                                {
                                    "0": "GaryMAnderson"
                                },
                                {
                                    "0": "MichaelMAnderson"
                                },
                                {
                                    "0": "ThomMAnderson"
                                },
                                {
                                    "0": "RobertMAnderson"
                                },
                                {
                                    "0": "AmyMAnderson"
                                },
                                {
                                    "0": "JoshuaMAnderson"
                                }
                            ]
                        },
                        "text/html": [
                            "<table>",
                            "<tr><th>email_name</th></tr>",
                            "<tr><td>AmyAAnderson</td></tr>",
                            "<tr><td>AngelaAAnderson</td></tr>",
                            "<tr><td>BrianAAnderson</td></tr>",
                            "<tr><td>ClairAAnderson</td></tr>",
                            "<tr><td>DanielAAnderson</td></tr>",
                            "<tr><td>DarleneAAnderson</td></tr>",
                            "<tr><td>EvaAAnderson</td></tr>",
                            "<tr><td>FrankAAnderson</td></tr>",
                            "<tr><td>GaryAAnderson</td></tr>",
                            "<tr><td>JoseAAnderson</td></tr>",
                            "<tr><td>JoshuaAAnderson</td></tr>",
                            "<tr><td>KarlAAnderson</td></tr>",
                            "<tr><td>KatieAAnderson</td></tr>",
                            "<tr><td>LindaAAnderson</td></tr>",
                            "<tr><td>Mary AnneAAnderson</td></tr>",
                            "<tr><td>MichaelAAnderson</td></tr>",
                            "<tr><td>MonicaAAnderson</td></tr>",
                            "<tr><td>NateAAnderson</td></tr>",
                            "<tr><td>PeterAAnderson</td></tr>",
                            "<tr><td>RobertAAnderson</td></tr>",
                            "<tr><td>SarahAAnderson</td></tr>",
                            "<tr><td>ShellyAAnderson</td></tr>",
                            "<tr><td>StephenAAnderson</td></tr>",
                            "<tr><td>TeresaAAnderson</td></tr>",
                            "<tr><td>ThomAAnderson</td></tr>",
                            "<tr><td>WilliamAAnderson</td></tr>",
                            "<tr><td>AmyBAnderson</td></tr>",
                            "<tr><td>AngelaBAnderson</td></tr>",
                            "<tr><td>BrianBAnderson</td></tr>",
                            "<tr><td>ClairBAnderson</td></tr>",
                            "<tr><td>DanielBAnderson</td></tr>",
                            "<tr><td>DarleneBAnderson</td></tr>",
                            "<tr><td>EvaBAnderson</td></tr>",
                            "<tr><td>FrankBAnderson</td></tr>",
                            "<tr><td>GaryBAnderson</td></tr>",
                            "<tr><td>JoseBAnderson</td></tr>",
                            "<tr><td>JoshuaBAnderson</td></tr>",
                            "<tr><td>KarlBAnderson</td></tr>",
                            "<tr><td>KatieBAnderson</td></tr>",
                            "<tr><td>LindaBAnderson</td></tr>",
                            "<tr><td>Mary AnneBAnderson</td></tr>",
                            "<tr><td>MichaelBAnderson</td></tr>",
                            "<tr><td>MonicaBAnderson</td></tr>",
                            "<tr><td>NateBAnderson</td></tr>",
                            "<tr><td>PeterBAnderson</td></tr>",
                            "<tr><td>RobertBAnderson</td></tr>",
                            "<tr><td>SarahBAnderson</td></tr>",
                            "<tr><td>ShellyBAnderson</td></tr>",
                            "<tr><td>StephenBAnderson</td></tr>",
                            "<tr><td>TeresaBAnderson</td></tr>",
                            "<tr><td>ThomBAnderson</td></tr>",
                            "<tr><td>WilliamBAnderson</td></tr>",
                            "<tr><td>AmyBAnderson</td></tr>",
                            "<tr><td>AngelaBAnderson</td></tr>",
                            "<tr><td>BrianBAnderson</td></tr>",
                            "<tr><td>ClairBAnderson</td></tr>",
                            "<tr><td>DanielBAnderson</td></tr>",
                            "<tr><td>DarleneBAnderson</td></tr>",
                            "<tr><td>EvaBAnderson</td></tr>",
                            "<tr><td>FrankBAnderson</td></tr>",
                            "<tr><td>GaryBAnderson</td></tr>",
                            "<tr><td>JoseBAnderson</td></tr>",
                            "<tr><td>JoshuaBAnderson</td></tr>",
                            "<tr><td>KarlBAnderson</td></tr>",
                            "<tr><td>KatieBAnderson</td></tr>",
                            "<tr><td>LindaBAnderson</td></tr>",
                            "<tr><td>Mary AnneBAnderson</td></tr>",
                            "<tr><td>MichaelBAnderson</td></tr>",
                            "<tr><td>MonicaBAnderson</td></tr>",
                            "<tr><td>NateBAnderson</td></tr>",
                            "<tr><td>PeterBAnderson</td></tr>",
                            "<tr><td>RobertBAnderson</td></tr>",
                            "<tr><td>SarahBAnderson</td></tr>",
                            "<tr><td>ShellyBAnderson</td></tr>",
                            "<tr><td>StephenBAnderson</td></tr>",
                            "<tr><td>TeresaBAnderson</td></tr>",
                            "<tr><td>ThomBAnderson</td></tr>",
                            "<tr><td>WilliamBAnderson</td></tr>",
                            "<tr><td>AmyCAnderson</td></tr>",
                            "<tr><td>AngelaCAnderson</td></tr>",
                            "<tr><td>BrianCAnderson</td></tr>",
                            "<tr><td>ClairCAnderson</td></tr>",
                            "<tr><td>DanielCAnderson</td></tr>",
                            "<tr><td>DarleneCAnderson</td></tr>",
                            "<tr><td>EvaCAnderson</td></tr>",
                            "<tr><td>FrankCAnderson</td></tr>",
                            "<tr><td>GaryCAnderson</td></tr>",
                            "<tr><td>JoseCAnderson</td></tr>",
                            "<tr><td>JoshuaCAnderson</td></tr>",
                            "<tr><td>KarlCAnderson</td></tr>",
                            "<tr><td>KatieCAnderson</td></tr>",
                            "<tr><td>LindaCAnderson</td></tr>",
                            "<tr><td>Mary AnneCAnderson</td></tr>",
                            "<tr><td>MichaelCAnderson</td></tr>",
                            "<tr><td>MonicaCAnderson</td></tr>",
                            "<tr><td>NateCAnderson</td></tr>",
                            "<tr><td>PeterCAnderson</td></tr>",
                            "<tr><td>RobertCAnderson</td></tr>",
                            "<tr><td>SarahCAnderson</td></tr>",
                            "<tr><td>ShellyCAnderson</td></tr>",
                            "<tr><td>StephenCAnderson</td></tr>",
                            "<tr><td>TeresaCAnderson</td></tr>",
                            "<tr><td>ThomCAnderson</td></tr>",
                            "<tr><td>WilliamCAnderson</td></tr>",
                            "<tr><td>AmyDAnderson</td></tr>",
                            "<tr><td>AngelaDAnderson</td></tr>",
                            "<tr><td>BrianDAnderson</td></tr>",
                            "<tr><td>ClairDAnderson</td></tr>",
                            "<tr><td>DanielDAnderson</td></tr>",
                            "<tr><td>DarleneDAnderson</td></tr>",
                            "<tr><td>EvaDAnderson</td></tr>",
                            "<tr><td>FrankDAnderson</td></tr>",
                            "<tr><td>GaryDAnderson</td></tr>",
                            "<tr><td>JoseDAnderson</td></tr>",
                            "<tr><td>JoshuaDAnderson</td></tr>",
                            "<tr><td>KarlDAnderson</td></tr>",
                            "<tr><td>KatieDAnderson</td></tr>",
                            "<tr><td>LindaDAnderson</td></tr>",
                            "<tr><td>Mary AnneDAnderson</td></tr>",
                            "<tr><td>MichaelDAnderson</td></tr>",
                            "<tr><td>MonicaDAnderson</td></tr>",
                            "<tr><td>NateDAnderson</td></tr>",
                            "<tr><td>PeterDAnderson</td></tr>",
                            "<tr><td>RobertDAnderson</td></tr>",
                            "<tr><td>SarahDAnderson</td></tr>",
                            "<tr><td>ShellyDAnderson</td></tr>",
                            "<tr><td>StephenDAnderson</td></tr>",
                            "<tr><td>TeresaDAnderson</td></tr>",
                            "<tr><td>ThomDAnderson</td></tr>",
                            "<tr><td>WilliamDAnderson</td></tr>",
                            "<tr><td>AmyEAnderson</td></tr>",
                            "<tr><td>AngelaEAnderson</td></tr>",
                            "<tr><td>BrianEAnderson</td></tr>",
                            "<tr><td>ClairEAnderson</td></tr>",
                            "<tr><td>DanielEAnderson</td></tr>",
                            "<tr><td>DarleneEAnderson</td></tr>",
                            "<tr><td>EvaEAnderson</td></tr>",
                            "<tr><td>FrankEAnderson</td></tr>",
                            "<tr><td>GaryEAnderson</td></tr>",
                            "<tr><td>JoseEAnderson</td></tr>",
                            "<tr><td>JoshuaEAnderson</td></tr>",
                            "<tr><td>KarlEAnderson</td></tr>",
                            "<tr><td>KatieEAnderson</td></tr>",
                            "<tr><td>LindaEAnderson</td></tr>",
                            "<tr><td>Mary AnneEAnderson</td></tr>",
                            "<tr><td>MichaelEAnderson</td></tr>",
                            "<tr><td>MonicaEAnderson</td></tr>",
                            "<tr><td>NateEAnderson</td></tr>",
                            "<tr><td>PeterEAnderson</td></tr>",
                            "<tr><td>RobertEAnderson</td></tr>",
                            "<tr><td>SarahEAnderson</td></tr>",
                            "<tr><td>ShellyEAnderson</td></tr>",
                            "<tr><td>StephenEAnderson</td></tr>",
                            "<tr><td>TeresaEAnderson</td></tr>",
                            "<tr><td>ThomEAnderson</td></tr>",
                            "<tr><td>WilliamEAnderson</td></tr>",
                            "<tr><td>AmyFAnderson</td></tr>",
                            "<tr><td>AngelaFAnderson</td></tr>",
                            "<tr><td>BrianFAnderson</td></tr>",
                            "<tr><td>ClairFAnderson</td></tr>",
                            "<tr><td>DanielFAnderson</td></tr>",
                            "<tr><td>DarleneFAnderson</td></tr>",
                            "<tr><td>EvaFAnderson</td></tr>",
                            "<tr><td>FrankFAnderson</td></tr>",
                            "<tr><td>GaryFAnderson</td></tr>",
                            "<tr><td>JoseFAnderson</td></tr>",
                            "<tr><td>JoshuaFAnderson</td></tr>",
                            "<tr><td>KarlFAnderson</td></tr>",
                            "<tr><td>KatieFAnderson</td></tr>",
                            "<tr><td>LindaFAnderson</td></tr>",
                            "<tr><td>Mary AnneFAnderson</td></tr>",
                            "<tr><td>MichaelFAnderson</td></tr>",
                            "<tr><td>MonicaFAnderson</td></tr>",
                            "<tr><td>NateFAnderson</td></tr>",
                            "<tr><td>PeterFAnderson</td></tr>",
                            "<tr><td>RobertFAnderson</td></tr>",
                            "<tr><td>SarahFAnderson</td></tr>",
                            "<tr><td>ShellyFAnderson</td></tr>",
                            "<tr><td>StephenFAnderson</td></tr>",
                            "<tr><td>TeresaFAnderson</td></tr>",
                            "<tr><td>ThomFAnderson</td></tr>",
                            "<tr><td>WilliamFAnderson</td></tr>",
                            "<tr><td>AmyGAnderson</td></tr>",
                            "<tr><td>AngelaGAnderson</td></tr>",
                            "<tr><td>BrianGAnderson</td></tr>",
                            "<tr><td>ClairGAnderson</td></tr>",
                            "<tr><td>DanielGAnderson</td></tr>",
                            "<tr><td>DarleneGAnderson</td></tr>",
                            "<tr><td>EvaGAnderson</td></tr>",
                            "<tr><td>FrankGAnderson</td></tr>",
                            "<tr><td>GaryGAnderson</td></tr>",
                            "<tr><td>JoseGAnderson</td></tr>",
                            "<tr><td>JoshuaGAnderson</td></tr>",
                            "<tr><td>KarlGAnderson</td></tr>",
                            "<tr><td>KatieGAnderson</td></tr>",
                            "<tr><td>LindaGAnderson</td></tr>",
                            "<tr><td>Mary AnneGAnderson</td></tr>",
                            "<tr><td>MichaelGAnderson</td></tr>",
                            "<tr><td>MonicaGAnderson</td></tr>",
                            "<tr><td>NateGAnderson</td></tr>",
                            "<tr><td>PeterGAnderson</td></tr>",
                            "<tr><td>RobertGAnderson</td></tr>",
                            "<tr><td>SarahGAnderson</td></tr>",
                            "<tr><td>ShellyGAnderson</td></tr>",
                            "<tr><td>StephenGAnderson</td></tr>",
                            "<tr><td>TeresaGAnderson</td></tr>",
                            "<tr><td>ThomGAnderson</td></tr>",
                            "<tr><td>WilliamGAnderson</td></tr>",
                            "<tr><td>BrianHAnderson</td></tr>",
                            "<tr><td>EvaHAnderson</td></tr>",
                            "<tr><td>GaryHAnderson</td></tr>",
                            "<tr><td>JoseHAnderson</td></tr>",
                            "<tr><td>JoshuaHAnderson</td></tr>",
                            "<tr><td>KarlHAnderson</td></tr>",
                            "<tr><td>KatieHAnderson</td></tr>",
                            "<tr><td>MichaelHAnderson</td></tr>",
                            "<tr><td>PeterHAnderson</td></tr>",
                            "<tr><td>RobertHAnderson</td></tr>",
                            "<tr><td>SarahHAnderson</td></tr>",
                            "<tr><td>ShellyHAnderson</td></tr>",
                            "<tr><td>ThomHAnderson</td></tr>",
                            "<tr><td>WilliamHAnderson</td></tr>",
                            "<tr><td>FrankHAnderson</td></tr>",
                            "<tr><td>ClairHAnderson</td></tr>",
                            "<tr><td>DanielHAnderson</td></tr>",
                            "<tr><td>EvaHAnderson</td></tr>",
                            "<tr><td>Mary AnneHAnderson</td></tr>",
                            "<tr><td>MichaelHAnderson</td></tr>",
                            "<tr><td>Mary AnneJAnderson</td></tr>",
                            "<tr><td>MonicaJAnderson</td></tr>",
                            "<tr><td>BrianKAnderson</td></tr>",
                            "<tr><td>SarahKAnderson</td></tr>",
                            "<tr><td>StephenKAnderson</td></tr>",
                            "<tr><td>JoseLAnderson</td></tr>",
                            "<tr><td>NateLAnderson</td></tr>",
                            "<tr><td>ClairHAnderson</td></tr>",
                            "<tr><td>DanielHAnderson</td></tr>",
                            "<tr><td>LindaHAnderson</td></tr>",
                            "<tr><td>StephenHAnderson</td></tr>",
                            "<tr><td>PeterHAnderson</td></tr>",
                            "<tr><td>SarahHAnderson</td></tr>",
                            "<tr><td>KarlJAnderson</td></tr>",
                            "<tr><td>MichaelJAnderson</td></tr>",
                            "<tr><td>SarahJAnderson</td></tr>",
                            "<tr><td>TeresaHAnderson</td></tr>",
                            "<tr><td>AmyHAnderson</td></tr>",
                            "<tr><td>AngelaHAnderson</td></tr>",
                            "<tr><td>BrianHAnderson</td></tr>",
                            "<tr><td>AmyHAnderson</td></tr>",
                            "<tr><td>Mary AnneHAnderson</td></tr>",
                            "<tr><td>StephenHAnderson</td></tr>",
                            "<tr><td>AmyJAnderson</td></tr>",
                            "<tr><td>PeterJAnderson</td></tr>",
                            "<tr><td>StephenJAnderson</td></tr>",
                            "<tr><td>ShellyLAnderson</td></tr>",
                            "<tr><td>AngelaHAnderson</td></tr>",
                            "<tr><td>DarleneHAnderson</td></tr>",
                            "<tr><td>MonicaHAnderson</td></tr>",
                            "<tr><td>NateHAnderson</td></tr>",
                            "<tr><td>ShellyHAnderson</td></tr>",
                            "<tr><td>FrankJAnderson</td></tr>",
                            "<tr><td>TeresaKAnderson</td></tr>",
                            "<tr><td>EvaLAnderson</td></tr>",
                            "<tr><td>GaryLAnderson</td></tr>",
                            "<tr><td>Mary AnneLAnderson</td></tr>",
                            "<tr><td>StephenLAnderson</td></tr>",
                            "<tr><td>AmyMAnderson</td></tr>",
                            "<tr><td>WilliamMAnderson</td></tr>",
                            "<tr><td>FrankHAnderson</td></tr>",
                            "<tr><td>GaryHAnderson</td></tr>",
                            "<tr><td>JoshuaHAnderson</td></tr>",
                            "<tr><td>KatieHAnderson</td></tr>",
                            "<tr><td>LindaHAnderson</td></tr>",
                            "<tr><td>GaryJAnderson</td></tr>",
                            "<tr><td>JoshuaJAnderson</td></tr>",
                            "<tr><td>LindaJAnderson</td></tr>",
                            "<tr><td>ShellyJAnderson</td></tr>",
                            "<tr><td>EvaKAnderson</td></tr>",
                            "<tr><td>KarlKAnderson</td></tr>",
                            "<tr><td>MichaelKAnderson</td></tr>",
                            "<tr><td>JoseHAnderson</td></tr>",
                            "<tr><td>KarlHAnderson</td></tr>",
                            "<tr><td>AngelaJAnderson</td></tr>",
                            "<tr><td>DarleneJAnderson</td></tr>",
                            "<tr><td>JoseJAnderson</td></tr>",
                            "<tr><td>RobertJAnderson</td></tr>",
                            "<tr><td>TeresaJAnderson</td></tr>",
                            "<tr><td>MonicaKAnderson</td></tr>",
                            "<tr><td>ClairLAnderson</td></tr>",
                            "<tr><td>KarlLAnderson</td></tr>",
                            "<tr><td>PeterLAnderson</td></tr>",
                            "<tr><td>KarlMAnderson</td></tr>",
                            "<tr><td>LindaMAnderson</td></tr>",
                            "<tr><td>Mary AnneMAnderson</td></tr>",
                            "<tr><td>NateHAnderson</td></tr>",
                            "<tr><td>TeresaHAnderson</td></tr>",
                            "<tr><td>WilliamJAnderson</td></tr>",
                            "<tr><td>AngelaKAnderson</td></tr>",
                            "<tr><td>NateKAnderson</td></tr>",
                            "<tr><td>WilliamKAnderson</td></tr>",
                            "<tr><td>MichaelLAnderson</td></tr>",
                            "<tr><td>SarahMAnderson</td></tr>",
                            "<tr><td>JoseMAnderson</td></tr>",
                            "<tr><td>DarleneHAnderson</td></tr>",
                            "<tr><td>RobertHAnderson</td></tr>",
                            "<tr><td>ClairJAnderson</td></tr>",
                            "<tr><td>EvaJAnderson</td></tr>",
                            "<tr><td>KatieJAnderson</td></tr>",
                            "<tr><td>BrianLAnderson</td></tr>",
                            "<tr><td>FrankMAnderson</td></tr>",
                            "<tr><td>MonicaHAnderson</td></tr>",
                            "<tr><td>ThomHAnderson</td></tr>",
                            "<tr><td>WilliamHAnderson</td></tr>",
                            "<tr><td>BrianJAnderson</td></tr>",
                            "<tr><td>NateJAnderson</td></tr>",
                            "<tr><td>RobertKAnderson</td></tr>",
                            "<tr><td>ThomKAnderson</td></tr>",
                            "<tr><td>RobertLAnderson</td></tr>",
                            "<tr><td>ThomLAnderson</td></tr>",
                            "<tr><td>MonicaMAnderson</td></tr>",
                            "<tr><td>NateMAnderson</td></tr>",
                            "<tr><td>SarahMAnderson</td></tr>",
                            "<tr><td>StephenMAnderson</td></tr>",
                            "<tr><td>ThomJAnderson</td></tr>",
                            "<tr><td>ClairKAnderson</td></tr>",
                            "<tr><td>JoshuaKAnderson</td></tr>",
                            "<tr><td>PeterKAnderson</td></tr>",
                            "<tr><td>WilliamLAnderson</td></tr>",
                            "<tr><td>EvaMAnderson</td></tr>",
                            "<tr><td>GaryMAnderson</td></tr>",
                            "<tr><td>DanielMAnderson</td></tr>",
                            "<tr><td>KarlMAnderson</td></tr>",
                            "<tr><td>KatieMAnderson</td></tr>",
                            "<tr><td>DanielJAnderson</td></tr>",
                            "<tr><td>BrianMAnderson</td></tr>",
                            "<tr><td>TeresaMAnderson</td></tr>",
                            "<tr><td>EvaMAnderson</td></tr>",
                            "<tr><td>DarleneKAnderson</td></tr>",
                            "<tr><td>JoshuaLAnderson</td></tr>",
                            "<tr><td>SarahLAnderson</td></tr>",
                            "<tr><td>TeresaLAnderson</td></tr>",
                            "<tr><td>PeterMAnderson</td></tr>",
                            "<tr><td>MonicaMAnderson</td></tr>",
                            "<tr><td>PeterMAnderson</td></tr>",
                            "<tr><td>DanielKAnderson</td></tr>",
                            "<tr><td>MonicaLAnderson</td></tr>",
                            "<tr><td>AngelaMAnderson</td></tr>",
                            "<tr><td>JoseMAnderson</td></tr>",
                            "<tr><td>Mary AnneMAnderson</td></tr>",
                            "<tr><td>GaryKAnderson</td></tr>",
                            "<tr><td>KatieKAnderson</td></tr>",
                            "<tr><td>Mary AnneKAnderson</td></tr>",
                            "<tr><td>AngelaLAnderson</td></tr>",
                            "<tr><td>RobertMAnderson</td></tr>",
                            "<tr><td>BrianMAnderson</td></tr>",
                            "<tr><td>AmyKAnderson</td></tr>",
                            "<tr><td>ShellyKAnderson</td></tr>",
                            "<tr><td>DarleneLAnderson</td></tr>",
                            "<tr><td>FrankLAnderson</td></tr>",
                            "<tr><td>KatieLAnderson</td></tr>",
                            "<tr><td>ClairMAnderson</td></tr>",
                            "<tr><td>FrankKAnderson</td></tr>",
                            "<tr><td>JoseKAnderson</td></tr>",
                            "<tr><td>DanielLAnderson</td></tr>",
                            "<tr><td>FrankMAnderson</td></tr>",
                            "<tr><td>LindaMAnderson</td></tr>",
                            "<tr><td>LindaKAnderson</td></tr>",
                            "<tr><td>AmyLAnderson</td></tr>",
                            "<tr><td>LindaLAnderson</td></tr>",
                            "<tr><td>ClairMAnderson</td></tr>",
                            "<tr><td>StephenMAnderson</td></tr>",
                            "<tr><td>AngelaMAnderson</td></tr>",
                            "<tr><td>DarleneMAnderson</td></tr>",
                            "<tr><td>DanielMAnderson</td></tr>",
                            "<tr><td>JoshuaMAnderson</td></tr>",
                            "<tr><td>MichaelMAnderson</td></tr>",
                            "<tr><td>NateMAnderson</td></tr>",
                            "<tr><td>ShellyMAnderson</td></tr>",
                            "<tr><td>TeresaMAnderson</td></tr>",
                            "<tr><td>WilliamMAnderson</td></tr>",
                            "<tr><td>DarleneMAnderson</td></tr>",
                            "<tr><td>KatieMAnderson</td></tr>",
                            "<tr><td>ShellyMAnderson</td></tr>",
                            "<tr><td>ThomMAnderson</td></tr>",
                            "<tr><td>GaryMAnderson</td></tr>",
                            "<tr><td>MichaelMAnderson</td></tr>",
                            "<tr><td>ThomMAnderson</td></tr>",
                            "<tr><td>RobertMAnderson</td></tr>",
                            "<tr><td>AmyMAnderson</td></tr>",
                            "<tr><td>JoshuaMAnderson</td></tr>",
                            "</table>"
                        ]
                    }
                },
                {
                    "output_type": "execute_result",
                    "metadata": {},
                    "execution_count": 54,
                    "data": {
                        "application/vnd.dataresource+json": {
                            "schema": {
                                "fields": [
                                    {
                                        "name": "lista proponowanych loginów e-mail"
                                    }
                                ]
                            },
                            "data": [
                                {
                                    "0": "amyaan"
                                },
                                {
                                    "0": "angelaaan"
                                },
                                {
                                    "0": "brianaan"
                                },
                                {
                                    "0": "clairaan"
                                },
                                {
                                    "0": "danielaan"
                                },
                                {
                                    "0": "darleneaan"
                                },
                                {
                                    "0": "evaaan"
                                },
                                {
                                    "0": "frankaan"
                                },
                                {
                                    "0": "garyaan"
                                },
                                {
                                    "0": "joseaan"
                                },
                                {
                                    "0": "joshuaaan"
                                },
                                {
                                    "0": "karlaan"
                                },
                                {
                                    "0": "katieaan"
                                },
                                {
                                    "0": "lindaaan"
                                },
                                {
                                    "0": "mary anneaan"
                                },
                                {
                                    "0": "michaelaan"
                                },
                                {
                                    "0": "monicaaan"
                                },
                                {
                                    "0": "nateaan"
                                },
                                {
                                    "0": "peteraan"
                                },
                                {
                                    "0": "robertaan"
                                },
                                {
                                    "0": "sarahaan"
                                },
                                {
                                    "0": "shellyaan"
                                },
                                {
                                    "0": "stephenaan"
                                },
                                {
                                    "0": "teresaaan"
                                },
                                {
                                    "0": "thomaan"
                                },
                                {
                                    "0": "williamaan"
                                },
                                {
                                    "0": "amyban"
                                },
                                {
                                    "0": "angelaban"
                                },
                                {
                                    "0": "brianban"
                                },
                                {
                                    "0": "clairban"
                                },
                                {
                                    "0": "danielban"
                                },
                                {
                                    "0": "darleneban"
                                },
                                {
                                    "0": "evaban"
                                },
                                {
                                    "0": "frankban"
                                },
                                {
                                    "0": "garyban"
                                },
                                {
                                    "0": "joseban"
                                },
                                {
                                    "0": "joshuaban"
                                },
                                {
                                    "0": "karlban"
                                },
                                {
                                    "0": "katieban"
                                },
                                {
                                    "0": "lindaban"
                                },
                                {
                                    "0": "mary anneban"
                                },
                                {
                                    "0": "michaelban"
                                },
                                {
                                    "0": "monicaban"
                                },
                                {
                                    "0": "nateban"
                                },
                                {
                                    "0": "peterban"
                                },
                                {
                                    "0": "robertban"
                                },
                                {
                                    "0": "sarahban"
                                },
                                {
                                    "0": "shellyban"
                                },
                                {
                                    "0": "stephenban"
                                },
                                {
                                    "0": "teresaban"
                                },
                                {
                                    "0": "thomban"
                                },
                                {
                                    "0": "williamban"
                                },
                                {
                                    "0": "amyban"
                                },
                                {
                                    "0": "angelaban"
                                },
                                {
                                    "0": "brianban"
                                },
                                {
                                    "0": "clairban"
                                },
                                {
                                    "0": "danielban"
                                },
                                {
                                    "0": "darleneban"
                                },
                                {
                                    "0": "evaban"
                                },
                                {
                                    "0": "frankban"
                                },
                                {
                                    "0": "garyban"
                                },
                                {
                                    "0": "joseban"
                                },
                                {
                                    "0": "joshuaban"
                                },
                                {
                                    "0": "karlban"
                                },
                                {
                                    "0": "katieban"
                                },
                                {
                                    "0": "lindaban"
                                },
                                {
                                    "0": "mary anneban"
                                },
                                {
                                    "0": "michaelban"
                                },
                                {
                                    "0": "monicaban"
                                },
                                {
                                    "0": "nateban"
                                },
                                {
                                    "0": "peterban"
                                },
                                {
                                    "0": "robertban"
                                },
                                {
                                    "0": "sarahban"
                                },
                                {
                                    "0": "shellyban"
                                },
                                {
                                    "0": "stephenban"
                                },
                                {
                                    "0": "teresaban"
                                },
                                {
                                    "0": "thomban"
                                },
                                {
                                    "0": "williamban"
                                },
                                {
                                    "0": "amycan"
                                },
                                {
                                    "0": "angelacan"
                                },
                                {
                                    "0": "briancan"
                                },
                                {
                                    "0": "claircan"
                                },
                                {
                                    "0": "danielcan"
                                },
                                {
                                    "0": "darlenecan"
                                },
                                {
                                    "0": "evacan"
                                },
                                {
                                    "0": "frankcan"
                                },
                                {
                                    "0": "garycan"
                                },
                                {
                                    "0": "josecan"
                                },
                                {
                                    "0": "joshuacan"
                                },
                                {
                                    "0": "karlcan"
                                },
                                {
                                    "0": "katiecan"
                                },
                                {
                                    "0": "lindacan"
                                },
                                {
                                    "0": "mary annecan"
                                },
                                {
                                    "0": "michaelcan"
                                },
                                {
                                    "0": "monicacan"
                                },
                                {
                                    "0": "natecan"
                                },
                                {
                                    "0": "petercan"
                                },
                                {
                                    "0": "robertcan"
                                },
                                {
                                    "0": "sarahcan"
                                },
                                {
                                    "0": "shellycan"
                                },
                                {
                                    "0": "stephencan"
                                },
                                {
                                    "0": "teresacan"
                                },
                                {
                                    "0": "thomcan"
                                },
                                {
                                    "0": "williamcan"
                                },
                                {
                                    "0": "amydan"
                                },
                                {
                                    "0": "angeladan"
                                },
                                {
                                    "0": "briandan"
                                },
                                {
                                    "0": "clairdan"
                                },
                                {
                                    "0": "danieldan"
                                },
                                {
                                    "0": "darlenedan"
                                },
                                {
                                    "0": "evadan"
                                },
                                {
                                    "0": "frankdan"
                                },
                                {
                                    "0": "garydan"
                                },
                                {
                                    "0": "josedan"
                                },
                                {
                                    "0": "joshuadan"
                                },
                                {
                                    "0": "karldan"
                                },
                                {
                                    "0": "katiedan"
                                },
                                {
                                    "0": "lindadan"
                                },
                                {
                                    "0": "mary annedan"
                                },
                                {
                                    "0": "michaeldan"
                                },
                                {
                                    "0": "monicadan"
                                },
                                {
                                    "0": "natedan"
                                },
                                {
                                    "0": "peterdan"
                                },
                                {
                                    "0": "robertdan"
                                },
                                {
                                    "0": "sarahdan"
                                },
                                {
                                    "0": "shellydan"
                                },
                                {
                                    "0": "stephendan"
                                },
                                {
                                    "0": "teresadan"
                                },
                                {
                                    "0": "thomdan"
                                },
                                {
                                    "0": "williamdan"
                                },
                                {
                                    "0": "amyean"
                                },
                                {
                                    "0": "angelaean"
                                },
                                {
                                    "0": "brianean"
                                },
                                {
                                    "0": "clairean"
                                },
                                {
                                    "0": "danielean"
                                },
                                {
                                    "0": "darleneean"
                                },
                                {
                                    "0": "evaean"
                                },
                                {
                                    "0": "frankean"
                                },
                                {
                                    "0": "garyean"
                                },
                                {
                                    "0": "joseean"
                                },
                                {
                                    "0": "joshuaean"
                                },
                                {
                                    "0": "karlean"
                                },
                                {
                                    "0": "katieean"
                                },
                                {
                                    "0": "lindaean"
                                },
                                {
                                    "0": "mary anneean"
                                },
                                {
                                    "0": "michaelean"
                                },
                                {
                                    "0": "monicaean"
                                },
                                {
                                    "0": "nateean"
                                },
                                {
                                    "0": "peterean"
                                },
                                {
                                    "0": "robertean"
                                },
                                {
                                    "0": "sarahean"
                                },
                                {
                                    "0": "shellyean"
                                },
                                {
                                    "0": "stephenean"
                                },
                                {
                                    "0": "teresaean"
                                },
                                {
                                    "0": "thomean"
                                },
                                {
                                    "0": "williamean"
                                },
                                {
                                    "0": "amyfan"
                                },
                                {
                                    "0": "angelafan"
                                },
                                {
                                    "0": "brianfan"
                                },
                                {
                                    "0": "clairfan"
                                },
                                {
                                    "0": "danielfan"
                                },
                                {
                                    "0": "darlenefan"
                                },
                                {
                                    "0": "evafan"
                                },
                                {
                                    "0": "frankfan"
                                },
                                {
                                    "0": "garyfan"
                                },
                                {
                                    "0": "josefan"
                                },
                                {
                                    "0": "joshuafan"
                                },
                                {
                                    "0": "karlfan"
                                },
                                {
                                    "0": "katiefan"
                                },
                                {
                                    "0": "lindafan"
                                },
                                {
                                    "0": "mary annefan"
                                },
                                {
                                    "0": "michaelfan"
                                },
                                {
                                    "0": "monicafan"
                                },
                                {
                                    "0": "natefan"
                                },
                                {
                                    "0": "peterfan"
                                },
                                {
                                    "0": "robertfan"
                                },
                                {
                                    "0": "sarahfan"
                                },
                                {
                                    "0": "shellyfan"
                                },
                                {
                                    "0": "stephenfan"
                                },
                                {
                                    "0": "teresafan"
                                },
                                {
                                    "0": "thomfan"
                                },
                                {
                                    "0": "williamfan"
                                },
                                {
                                    "0": "amygan"
                                },
                                {
                                    "0": "angelagan"
                                },
                                {
                                    "0": "briangan"
                                },
                                {
                                    "0": "clairgan"
                                },
                                {
                                    "0": "danielgan"
                                },
                                {
                                    "0": "darlenegan"
                                },
                                {
                                    "0": "evagan"
                                },
                                {
                                    "0": "frankgan"
                                },
                                {
                                    "0": "garygan"
                                },
                                {
                                    "0": "josegan"
                                },
                                {
                                    "0": "joshuagan"
                                },
                                {
                                    "0": "karlgan"
                                },
                                {
                                    "0": "katiegan"
                                },
                                {
                                    "0": "lindagan"
                                },
                                {
                                    "0": "mary annegan"
                                },
                                {
                                    "0": "michaelgan"
                                },
                                {
                                    "0": "monicagan"
                                },
                                {
                                    "0": "nategan"
                                },
                                {
                                    "0": "petergan"
                                },
                                {
                                    "0": "robertgan"
                                },
                                {
                                    "0": "sarahgan"
                                },
                                {
                                    "0": "shellygan"
                                },
                                {
                                    "0": "stephengan"
                                },
                                {
                                    "0": "teresagan"
                                },
                                {
                                    "0": "thomgan"
                                },
                                {
                                    "0": "williamgan"
                                },
                                {
                                    "0": "brianhan"
                                },
                                {
                                    "0": "evahan"
                                },
                                {
                                    "0": "garyhan"
                                },
                                {
                                    "0": "josehan"
                                },
                                {
                                    "0": "joshuahan"
                                },
                                {
                                    "0": "karlhan"
                                },
                                {
                                    "0": "katiehan"
                                },
                                {
                                    "0": "michaelhan"
                                },
                                {
                                    "0": "peterhan"
                                },
                                {
                                    "0": "roberthan"
                                },
                                {
                                    "0": "sarahhan"
                                },
                                {
                                    "0": "shellyhan"
                                },
                                {
                                    "0": "thomhan"
                                },
                                {
                                    "0": "williamhan"
                                },
                                {
                                    "0": "frankhan"
                                },
                                {
                                    "0": "clairhan"
                                },
                                {
                                    "0": "danielhan"
                                },
                                {
                                    "0": "evahan"
                                },
                                {
                                    "0": "mary annehan"
                                },
                                {
                                    "0": "michaelhan"
                                },
                                {
                                    "0": "mary annejan"
                                },
                                {
                                    "0": "monicajan"
                                },
                                {
                                    "0": "briankan"
                                },
                                {
                                    "0": "sarahkan"
                                },
                                {
                                    "0": "stephenkan"
                                },
                                {
                                    "0": "joselan"
                                },
                                {
                                    "0": "natelan"
                                },
                                {
                                    "0": "clairhan"
                                },
                                {
                                    "0": "danielhan"
                                },
                                {
                                    "0": "lindahan"
                                },
                                {
                                    "0": "stephenhan"
                                },
                                {
                                    "0": "peterhan"
                                },
                                {
                                    "0": "sarahhan"
                                },
                                {
                                    "0": "karljan"
                                },
                                {
                                    "0": "michaeljan"
                                },
                                {
                                    "0": "sarahjan"
                                },
                                {
                                    "0": "teresahan"
                                },
                                {
                                    "0": "amyhan"
                                },
                                {
                                    "0": "angelahan"
                                },
                                {
                                    "0": "brianhan"
                                },
                                {
                                    "0": "amyhan"
                                },
                                {
                                    "0": "mary annehan"
                                },
                                {
                                    "0": "stephenhan"
                                },
                                {
                                    "0": "amyjan"
                                },
                                {
                                    "0": "peterjan"
                                },
                                {
                                    "0": "stephenjan"
                                },
                                {
                                    "0": "shellylan"
                                },
                                {
                                    "0": "angelahan"
                                },
                                {
                                    "0": "darlenehan"
                                },
                                {
                                    "0": "monicahan"
                                },
                                {
                                    "0": "natehan"
                                },
                                {
                                    "0": "shellyhan"
                                },
                                {
                                    "0": "frankjan"
                                },
                                {
                                    "0": "teresakan"
                                },
                                {
                                    "0": "evalan"
                                },
                                {
                                    "0": "garylan"
                                },
                                {
                                    "0": "mary annelan"
                                },
                                {
                                    "0": "stephenlan"
                                },
                                {
                                    "0": "amyman"
                                },
                                {
                                    "0": "williamman"
                                },
                                {
                                    "0": "frankhan"
                                },
                                {
                                    "0": "garyhan"
                                },
                                {
                                    "0": "joshuahan"
                                },
                                {
                                    "0": "katiehan"
                                },
                                {
                                    "0": "lindahan"
                                },
                                {
                                    "0": "garyjan"
                                },
                                {
                                    "0": "joshuajan"
                                },
                                {
                                    "0": "lindajan"
                                },
                                {
                                    "0": "shellyjan"
                                },
                                {
                                    "0": "evakan"
                                },
                                {
                                    "0": "karlkan"
                                },
                                {
                                    "0": "michaelkan"
                                },
                                {
                                    "0": "josehan"
                                },
                                {
                                    "0": "karlhan"
                                },
                                {
                                    "0": "angelajan"
                                },
                                {
                                    "0": "darlenejan"
                                },
                                {
                                    "0": "josejan"
                                },
                                {
                                    "0": "robertjan"
                                },
                                {
                                    "0": "teresajan"
                                },
                                {
                                    "0": "monicakan"
                                },
                                {
                                    "0": "clairlan"
                                },
                                {
                                    "0": "karllan"
                                },
                                {
                                    "0": "peterlan"
                                },
                                {
                                    "0": "karlman"
                                },
                                {
                                    "0": "lindaman"
                                },
                                {
                                    "0": "mary anneman"
                                },
                                {
                                    "0": "natehan"
                                },
                                {
                                    "0": "teresahan"
                                },
                                {
                                    "0": "williamjan"
                                },
                                {
                                    "0": "angelakan"
                                },
                                {
                                    "0": "natekan"
                                },
                                {
                                    "0": "williamkan"
                                },
                                {
                                    "0": "michaellan"
                                },
                                {
                                    "0": "sarahman"
                                },
                                {
                                    "0": "joseman"
                                },
                                {
                                    "0": "darlenehan"
                                },
                                {
                                    "0": "roberthan"
                                },
                                {
                                    "0": "clairjan"
                                },
                                {
                                    "0": "evajan"
                                },
                                {
                                    "0": "katiejan"
                                },
                                {
                                    "0": "brianlan"
                                },
                                {
                                    "0": "frankman"
                                },
                                {
                                    "0": "monicahan"
                                },
                                {
                                    "0": "thomhan"
                                },
                                {
                                    "0": "williamhan"
                                },
                                {
                                    "0": "brianjan"
                                },
                                {
                                    "0": "natejan"
                                },
                                {
                                    "0": "robertkan"
                                },
                                {
                                    "0": "thomkan"
                                },
                                {
                                    "0": "robertlan"
                                },
                                {
                                    "0": "thomlan"
                                },
                                {
                                    "0": "monicaman"
                                },
                                {
                                    "0": "nateman"
                                },
                                {
                                    "0": "sarahman"
                                },
                                {
                                    "0": "stephenman"
                                },
                                {
                                    "0": "thomjan"
                                },
                                {
                                    "0": "clairkan"
                                },
                                {
                                    "0": "joshuakan"
                                },
                                {
                                    "0": "peterkan"
                                },
                                {
                                    "0": "williamlan"
                                },
                                {
                                    "0": "evaman"
                                },
                                {
                                    "0": "garyman"
                                },
                                {
                                    "0": "danielman"
                                },
                                {
                                    "0": "karlman"
                                },
                                {
                                    "0": "katieman"
                                },
                                {
                                    "0": "danieljan"
                                },
                                {
                                    "0": "brianman"
                                },
                                {
                                    "0": "teresaman"
                                },
                                {
                                    "0": "evaman"
                                },
                                {
                                    "0": "darlenekan"
                                },
                                {
                                    "0": "joshualan"
                                },
                                {
                                    "0": "sarahlan"
                                },
                                {
                                    "0": "teresalan"
                                },
                                {
                                    "0": "peterman"
                                },
                                {
                                    "0": "monicaman"
                                },
                                {
                                    "0": "peterman"
                                },
                                {
                                    "0": "danielkan"
                                },
                                {
                                    "0": "monicalan"
                                },
                                {
                                    "0": "angelaman"
                                },
                                {
                                    "0": "joseman"
                                },
                                {
                                    "0": "mary anneman"
                                },
                                {
                                    "0": "garykan"
                                },
                                {
                                    "0": "katiekan"
                                },
                                {
                                    "0": "mary annekan"
                                },
                                {
                                    "0": "angelalan"
                                },
                                {
                                    "0": "robertman"
                                },
                                {
                                    "0": "brianman"
                                },
                                {
                                    "0": "amykan"
                                },
                                {
                                    "0": "shellykan"
                                },
                                {
                                    "0": "darlenelan"
                                },
                                {
                                    "0": "franklan"
                                },
                                {
                                    "0": "katielan"
                                },
                                {
                                    "0": "clairman"
                                },
                                {
                                    "0": "frankkan"
                                },
                                {
                                    "0": "josekan"
                                },
                                {
                                    "0": "daniellan"
                                },
                                {
                                    "0": "frankman"
                                },
                                {
                                    "0": "lindaman"
                                },
                                {
                                    "0": "lindakan"
                                },
                                {
                                    "0": "amylan"
                                },
                                {
                                    "0": "lindalan"
                                },
                                {
                                    "0": "clairman"
                                },
                                {
                                    "0": "stephenman"
                                },
                                {
                                    "0": "angelaman"
                                },
                                {
                                    "0": "darleneman"
                                },
                                {
                                    "0": "danielman"
                                },
                                {
                                    "0": "joshuaman"
                                },
                                {
                                    "0": "michaelman"
                                },
                                {
                                    "0": "nateman"
                                },
                                {
                                    "0": "shellyman"
                                },
                                {
                                    "0": "teresaman"
                                },
                                {
                                    "0": "williamman"
                                },
                                {
                                    "0": "darleneman"
                                },
                                {
                                    "0": "katieman"
                                },
                                {
                                    "0": "shellyman"
                                },
                                {
                                    "0": "thomman"
                                },
                                {
                                    "0": "garyman"
                                },
                                {
                                    "0": "michaelman"
                                },
                                {
                                    "0": "thomman"
                                },
                                {
                                    "0": "robertman"
                                },
                                {
                                    "0": "amyman"
                                },
                                {
                                    "0": "joshuaman"
                                }
                            ]
                        },
                        "text/html": [
                            "<table>",
                            "<tr><th>lista proponowanych loginów e-mail</th></tr>",
                            "<tr><td>amyaan</td></tr>",
                            "<tr><td>angelaaan</td></tr>",
                            "<tr><td>brianaan</td></tr>",
                            "<tr><td>clairaan</td></tr>",
                            "<tr><td>danielaan</td></tr>",
                            "<tr><td>darleneaan</td></tr>",
                            "<tr><td>evaaan</td></tr>",
                            "<tr><td>frankaan</td></tr>",
                            "<tr><td>garyaan</td></tr>",
                            "<tr><td>joseaan</td></tr>",
                            "<tr><td>joshuaaan</td></tr>",
                            "<tr><td>karlaan</td></tr>",
                            "<tr><td>katieaan</td></tr>",
                            "<tr><td>lindaaan</td></tr>",
                            "<tr><td>mary anneaan</td></tr>",
                            "<tr><td>michaelaan</td></tr>",
                            "<tr><td>monicaaan</td></tr>",
                            "<tr><td>nateaan</td></tr>",
                            "<tr><td>peteraan</td></tr>",
                            "<tr><td>robertaan</td></tr>",
                            "<tr><td>sarahaan</td></tr>",
                            "<tr><td>shellyaan</td></tr>",
                            "<tr><td>stephenaan</td></tr>",
                            "<tr><td>teresaaan</td></tr>",
                            "<tr><td>thomaan</td></tr>",
                            "<tr><td>williamaan</td></tr>",
                            "<tr><td>amyban</td></tr>",
                            "<tr><td>angelaban</td></tr>",
                            "<tr><td>brianban</td></tr>",
                            "<tr><td>clairban</td></tr>",
                            "<tr><td>danielban</td></tr>",
                            "<tr><td>darleneban</td></tr>",
                            "<tr><td>evaban</td></tr>",
                            "<tr><td>frankban</td></tr>",
                            "<tr><td>garyban</td></tr>",
                            "<tr><td>joseban</td></tr>",
                            "<tr><td>joshuaban</td></tr>",
                            "<tr><td>karlban</td></tr>",
                            "<tr><td>katieban</td></tr>",
                            "<tr><td>lindaban</td></tr>",
                            "<tr><td>mary anneban</td></tr>",
                            "<tr><td>michaelban</td></tr>",
                            "<tr><td>monicaban</td></tr>",
                            "<tr><td>nateban</td></tr>",
                            "<tr><td>peterban</td></tr>",
                            "<tr><td>robertban</td></tr>",
                            "<tr><td>sarahban</td></tr>",
                            "<tr><td>shellyban</td></tr>",
                            "<tr><td>stephenban</td></tr>",
                            "<tr><td>teresaban</td></tr>",
                            "<tr><td>thomban</td></tr>",
                            "<tr><td>williamban</td></tr>",
                            "<tr><td>amyban</td></tr>",
                            "<tr><td>angelaban</td></tr>",
                            "<tr><td>brianban</td></tr>",
                            "<tr><td>clairban</td></tr>",
                            "<tr><td>danielban</td></tr>",
                            "<tr><td>darleneban</td></tr>",
                            "<tr><td>evaban</td></tr>",
                            "<tr><td>frankban</td></tr>",
                            "<tr><td>garyban</td></tr>",
                            "<tr><td>joseban</td></tr>",
                            "<tr><td>joshuaban</td></tr>",
                            "<tr><td>karlban</td></tr>",
                            "<tr><td>katieban</td></tr>",
                            "<tr><td>lindaban</td></tr>",
                            "<tr><td>mary anneban</td></tr>",
                            "<tr><td>michaelban</td></tr>",
                            "<tr><td>monicaban</td></tr>",
                            "<tr><td>nateban</td></tr>",
                            "<tr><td>peterban</td></tr>",
                            "<tr><td>robertban</td></tr>",
                            "<tr><td>sarahban</td></tr>",
                            "<tr><td>shellyban</td></tr>",
                            "<tr><td>stephenban</td></tr>",
                            "<tr><td>teresaban</td></tr>",
                            "<tr><td>thomban</td></tr>",
                            "<tr><td>williamban</td></tr>",
                            "<tr><td>amycan</td></tr>",
                            "<tr><td>angelacan</td></tr>",
                            "<tr><td>briancan</td></tr>",
                            "<tr><td>claircan</td></tr>",
                            "<tr><td>danielcan</td></tr>",
                            "<tr><td>darlenecan</td></tr>",
                            "<tr><td>evacan</td></tr>",
                            "<tr><td>frankcan</td></tr>",
                            "<tr><td>garycan</td></tr>",
                            "<tr><td>josecan</td></tr>",
                            "<tr><td>joshuacan</td></tr>",
                            "<tr><td>karlcan</td></tr>",
                            "<tr><td>katiecan</td></tr>",
                            "<tr><td>lindacan</td></tr>",
                            "<tr><td>mary annecan</td></tr>",
                            "<tr><td>michaelcan</td></tr>",
                            "<tr><td>monicacan</td></tr>",
                            "<tr><td>natecan</td></tr>",
                            "<tr><td>petercan</td></tr>",
                            "<tr><td>robertcan</td></tr>",
                            "<tr><td>sarahcan</td></tr>",
                            "<tr><td>shellycan</td></tr>",
                            "<tr><td>stephencan</td></tr>",
                            "<tr><td>teresacan</td></tr>",
                            "<tr><td>thomcan</td></tr>",
                            "<tr><td>williamcan</td></tr>",
                            "<tr><td>amydan</td></tr>",
                            "<tr><td>angeladan</td></tr>",
                            "<tr><td>briandan</td></tr>",
                            "<tr><td>clairdan</td></tr>",
                            "<tr><td>danieldan</td></tr>",
                            "<tr><td>darlenedan</td></tr>",
                            "<tr><td>evadan</td></tr>",
                            "<tr><td>frankdan</td></tr>",
                            "<tr><td>garydan</td></tr>",
                            "<tr><td>josedan</td></tr>",
                            "<tr><td>joshuadan</td></tr>",
                            "<tr><td>karldan</td></tr>",
                            "<tr><td>katiedan</td></tr>",
                            "<tr><td>lindadan</td></tr>",
                            "<tr><td>mary annedan</td></tr>",
                            "<tr><td>michaeldan</td></tr>",
                            "<tr><td>monicadan</td></tr>",
                            "<tr><td>natedan</td></tr>",
                            "<tr><td>peterdan</td></tr>",
                            "<tr><td>robertdan</td></tr>",
                            "<tr><td>sarahdan</td></tr>",
                            "<tr><td>shellydan</td></tr>",
                            "<tr><td>stephendan</td></tr>",
                            "<tr><td>teresadan</td></tr>",
                            "<tr><td>thomdan</td></tr>",
                            "<tr><td>williamdan</td></tr>",
                            "<tr><td>amyean</td></tr>",
                            "<tr><td>angelaean</td></tr>",
                            "<tr><td>brianean</td></tr>",
                            "<tr><td>clairean</td></tr>",
                            "<tr><td>danielean</td></tr>",
                            "<tr><td>darleneean</td></tr>",
                            "<tr><td>evaean</td></tr>",
                            "<tr><td>frankean</td></tr>",
                            "<tr><td>garyean</td></tr>",
                            "<tr><td>joseean</td></tr>",
                            "<tr><td>joshuaean</td></tr>",
                            "<tr><td>karlean</td></tr>",
                            "<tr><td>katieean</td></tr>",
                            "<tr><td>lindaean</td></tr>",
                            "<tr><td>mary anneean</td></tr>",
                            "<tr><td>michaelean</td></tr>",
                            "<tr><td>monicaean</td></tr>",
                            "<tr><td>nateean</td></tr>",
                            "<tr><td>peterean</td></tr>",
                            "<tr><td>robertean</td></tr>",
                            "<tr><td>sarahean</td></tr>",
                            "<tr><td>shellyean</td></tr>",
                            "<tr><td>stephenean</td></tr>",
                            "<tr><td>teresaean</td></tr>",
                            "<tr><td>thomean</td></tr>",
                            "<tr><td>williamean</td></tr>",
                            "<tr><td>amyfan</td></tr>",
                            "<tr><td>angelafan</td></tr>",
                            "<tr><td>brianfan</td></tr>",
                            "<tr><td>clairfan</td></tr>",
                            "<tr><td>danielfan</td></tr>",
                            "<tr><td>darlenefan</td></tr>",
                            "<tr><td>evafan</td></tr>",
                            "<tr><td>frankfan</td></tr>",
                            "<tr><td>garyfan</td></tr>",
                            "<tr><td>josefan</td></tr>",
                            "<tr><td>joshuafan</td></tr>",
                            "<tr><td>karlfan</td></tr>",
                            "<tr><td>katiefan</td></tr>",
                            "<tr><td>lindafan</td></tr>",
                            "<tr><td>mary annefan</td></tr>",
                            "<tr><td>michaelfan</td></tr>",
                            "<tr><td>monicafan</td></tr>",
                            "<tr><td>natefan</td></tr>",
                            "<tr><td>peterfan</td></tr>",
                            "<tr><td>robertfan</td></tr>",
                            "<tr><td>sarahfan</td></tr>",
                            "<tr><td>shellyfan</td></tr>",
                            "<tr><td>stephenfan</td></tr>",
                            "<tr><td>teresafan</td></tr>",
                            "<tr><td>thomfan</td></tr>",
                            "<tr><td>williamfan</td></tr>",
                            "<tr><td>amygan</td></tr>",
                            "<tr><td>angelagan</td></tr>",
                            "<tr><td>briangan</td></tr>",
                            "<tr><td>clairgan</td></tr>",
                            "<tr><td>danielgan</td></tr>",
                            "<tr><td>darlenegan</td></tr>",
                            "<tr><td>evagan</td></tr>",
                            "<tr><td>frankgan</td></tr>",
                            "<tr><td>garygan</td></tr>",
                            "<tr><td>josegan</td></tr>",
                            "<tr><td>joshuagan</td></tr>",
                            "<tr><td>karlgan</td></tr>",
                            "<tr><td>katiegan</td></tr>",
                            "<tr><td>lindagan</td></tr>",
                            "<tr><td>mary annegan</td></tr>",
                            "<tr><td>michaelgan</td></tr>",
                            "<tr><td>monicagan</td></tr>",
                            "<tr><td>nategan</td></tr>",
                            "<tr><td>petergan</td></tr>",
                            "<tr><td>robertgan</td></tr>",
                            "<tr><td>sarahgan</td></tr>",
                            "<tr><td>shellygan</td></tr>",
                            "<tr><td>stephengan</td></tr>",
                            "<tr><td>teresagan</td></tr>",
                            "<tr><td>thomgan</td></tr>",
                            "<tr><td>williamgan</td></tr>",
                            "<tr><td>brianhan</td></tr>",
                            "<tr><td>evahan</td></tr>",
                            "<tr><td>garyhan</td></tr>",
                            "<tr><td>josehan</td></tr>",
                            "<tr><td>joshuahan</td></tr>",
                            "<tr><td>karlhan</td></tr>",
                            "<tr><td>katiehan</td></tr>",
                            "<tr><td>michaelhan</td></tr>",
                            "<tr><td>peterhan</td></tr>",
                            "<tr><td>roberthan</td></tr>",
                            "<tr><td>sarahhan</td></tr>",
                            "<tr><td>shellyhan</td></tr>",
                            "<tr><td>thomhan</td></tr>",
                            "<tr><td>williamhan</td></tr>",
                            "<tr><td>frankhan</td></tr>",
                            "<tr><td>clairhan</td></tr>",
                            "<tr><td>danielhan</td></tr>",
                            "<tr><td>evahan</td></tr>",
                            "<tr><td>mary annehan</td></tr>",
                            "<tr><td>michaelhan</td></tr>",
                            "<tr><td>mary annejan</td></tr>",
                            "<tr><td>monicajan</td></tr>",
                            "<tr><td>briankan</td></tr>",
                            "<tr><td>sarahkan</td></tr>",
                            "<tr><td>stephenkan</td></tr>",
                            "<tr><td>joselan</td></tr>",
                            "<tr><td>natelan</td></tr>",
                            "<tr><td>clairhan</td></tr>",
                            "<tr><td>danielhan</td></tr>",
                            "<tr><td>lindahan</td></tr>",
                            "<tr><td>stephenhan</td></tr>",
                            "<tr><td>peterhan</td></tr>",
                            "<tr><td>sarahhan</td></tr>",
                            "<tr><td>karljan</td></tr>",
                            "<tr><td>michaeljan</td></tr>",
                            "<tr><td>sarahjan</td></tr>",
                            "<tr><td>teresahan</td></tr>",
                            "<tr><td>amyhan</td></tr>",
                            "<tr><td>angelahan</td></tr>",
                            "<tr><td>brianhan</td></tr>",
                            "<tr><td>amyhan</td></tr>",
                            "<tr><td>mary annehan</td></tr>",
                            "<tr><td>stephenhan</td></tr>",
                            "<tr><td>amyjan</td></tr>",
                            "<tr><td>peterjan</td></tr>",
                            "<tr><td>stephenjan</td></tr>",
                            "<tr><td>shellylan</td></tr>",
                            "<tr><td>angelahan</td></tr>",
                            "<tr><td>darlenehan</td></tr>",
                            "<tr><td>monicahan</td></tr>",
                            "<tr><td>natehan</td></tr>",
                            "<tr><td>shellyhan</td></tr>",
                            "<tr><td>frankjan</td></tr>",
                            "<tr><td>teresakan</td></tr>",
                            "<tr><td>evalan</td></tr>",
                            "<tr><td>garylan</td></tr>",
                            "<tr><td>mary annelan</td></tr>",
                            "<tr><td>stephenlan</td></tr>",
                            "<tr><td>amyman</td></tr>",
                            "<tr><td>williamman</td></tr>",
                            "<tr><td>frankhan</td></tr>",
                            "<tr><td>garyhan</td></tr>",
                            "<tr><td>joshuahan</td></tr>",
                            "<tr><td>katiehan</td></tr>",
                            "<tr><td>lindahan</td></tr>",
                            "<tr><td>garyjan</td></tr>",
                            "<tr><td>joshuajan</td></tr>",
                            "<tr><td>lindajan</td></tr>",
                            "<tr><td>shellyjan</td></tr>",
                            "<tr><td>evakan</td></tr>",
                            "<tr><td>karlkan</td></tr>",
                            "<tr><td>michaelkan</td></tr>",
                            "<tr><td>josehan</td></tr>",
                            "<tr><td>karlhan</td></tr>",
                            "<tr><td>angelajan</td></tr>",
                            "<tr><td>darlenejan</td></tr>",
                            "<tr><td>josejan</td></tr>",
                            "<tr><td>robertjan</td></tr>",
                            "<tr><td>teresajan</td></tr>",
                            "<tr><td>monicakan</td></tr>",
                            "<tr><td>clairlan</td></tr>",
                            "<tr><td>karllan</td></tr>",
                            "<tr><td>peterlan</td></tr>",
                            "<tr><td>karlman</td></tr>",
                            "<tr><td>lindaman</td></tr>",
                            "<tr><td>mary anneman</td></tr>",
                            "<tr><td>natehan</td></tr>",
                            "<tr><td>teresahan</td></tr>",
                            "<tr><td>williamjan</td></tr>",
                            "<tr><td>angelakan</td></tr>",
                            "<tr><td>natekan</td></tr>",
                            "<tr><td>williamkan</td></tr>",
                            "<tr><td>michaellan</td></tr>",
                            "<tr><td>sarahman</td></tr>",
                            "<tr><td>joseman</td></tr>",
                            "<tr><td>darlenehan</td></tr>",
                            "<tr><td>roberthan</td></tr>",
                            "<tr><td>clairjan</td></tr>",
                            "<tr><td>evajan</td></tr>",
                            "<tr><td>katiejan</td></tr>",
                            "<tr><td>brianlan</td></tr>",
                            "<tr><td>frankman</td></tr>",
                            "<tr><td>monicahan</td></tr>",
                            "<tr><td>thomhan</td></tr>",
                            "<tr><td>williamhan</td></tr>",
                            "<tr><td>brianjan</td></tr>",
                            "<tr><td>natejan</td></tr>",
                            "<tr><td>robertkan</td></tr>",
                            "<tr><td>thomkan</td></tr>",
                            "<tr><td>robertlan</td></tr>",
                            "<tr><td>thomlan</td></tr>",
                            "<tr><td>monicaman</td></tr>",
                            "<tr><td>nateman</td></tr>",
                            "<tr><td>sarahman</td></tr>",
                            "<tr><td>stephenman</td></tr>",
                            "<tr><td>thomjan</td></tr>",
                            "<tr><td>clairkan</td></tr>",
                            "<tr><td>joshuakan</td></tr>",
                            "<tr><td>peterkan</td></tr>",
                            "<tr><td>williamlan</td></tr>",
                            "<tr><td>evaman</td></tr>",
                            "<tr><td>garyman</td></tr>",
                            "<tr><td>danielman</td></tr>",
                            "<tr><td>karlman</td></tr>",
                            "<tr><td>katieman</td></tr>",
                            "<tr><td>danieljan</td></tr>",
                            "<tr><td>brianman</td></tr>",
                            "<tr><td>teresaman</td></tr>",
                            "<tr><td>evaman</td></tr>",
                            "<tr><td>darlenekan</td></tr>",
                            "<tr><td>joshualan</td></tr>",
                            "<tr><td>sarahlan</td></tr>",
                            "<tr><td>teresalan</td></tr>",
                            "<tr><td>peterman</td></tr>",
                            "<tr><td>monicaman</td></tr>",
                            "<tr><td>peterman</td></tr>",
                            "<tr><td>danielkan</td></tr>",
                            "<tr><td>monicalan</td></tr>",
                            "<tr><td>angelaman</td></tr>",
                            "<tr><td>joseman</td></tr>",
                            "<tr><td>mary anneman</td></tr>",
                            "<tr><td>garykan</td></tr>",
                            "<tr><td>katiekan</td></tr>",
                            "<tr><td>mary annekan</td></tr>",
                            "<tr><td>angelalan</td></tr>",
                            "<tr><td>robertman</td></tr>",
                            "<tr><td>brianman</td></tr>",
                            "<tr><td>amykan</td></tr>",
                            "<tr><td>shellykan</td></tr>",
                            "<tr><td>darlenelan</td></tr>",
                            "<tr><td>franklan</td></tr>",
                            "<tr><td>katielan</td></tr>",
                            "<tr><td>clairman</td></tr>",
                            "<tr><td>frankkan</td></tr>",
                            "<tr><td>josekan</td></tr>",
                            "<tr><td>daniellan</td></tr>",
                            "<tr><td>frankman</td></tr>",
                            "<tr><td>lindaman</td></tr>",
                            "<tr><td>lindakan</td></tr>",
                            "<tr><td>amylan</td></tr>",
                            "<tr><td>lindalan</td></tr>",
                            "<tr><td>clairman</td></tr>",
                            "<tr><td>stephenman</td></tr>",
                            "<tr><td>angelaman</td></tr>",
                            "<tr><td>darleneman</td></tr>",
                            "<tr><td>danielman</td></tr>",
                            "<tr><td>joshuaman</td></tr>",
                            "<tr><td>michaelman</td></tr>",
                            "<tr><td>nateman</td></tr>",
                            "<tr><td>shellyman</td></tr>",
                            "<tr><td>teresaman</td></tr>",
                            "<tr><td>williamman</td></tr>",
                            "<tr><td>darleneman</td></tr>",
                            "<tr><td>katieman</td></tr>",
                            "<tr><td>shellyman</td></tr>",
                            "<tr><td>thomman</td></tr>",
                            "<tr><td>garyman</td></tr>",
                            "<tr><td>michaelman</td></tr>",
                            "<tr><td>thomman</td></tr>",
                            "<tr><td>robertman</td></tr>",
                            "<tr><td>amyman</td></tr>",
                            "<tr><td>joshuaman</td></tr>",
                            "</table>"
                        ]
                    }
                }
            ],
            "execution_count": 54
        }
    ]
}