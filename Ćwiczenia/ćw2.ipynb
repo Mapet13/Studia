{
    "metadata": {
        "kernelspec": {
            "name": "SQL",
            "display_name": "SQL",
            "language": "sql"
        },
        "language_info": {
            "name": "sql",
            "version": ""
        },
        "extensions": {
            "azuredatastudio": {
                "version": 1,
                "views": []
            }
        }
    },
    "nbformat_minor": 2,
    "nbformat": 4,
    "cells": [
        {
            "cell_type": "markdown",
            "source": [
                "## Przykład zastosowania:\n",
                "\n",
                "> Chcemy się dowiedzieć, ile zamówień zostało dostarczonych dla danego kraju przez danego dostawcę.\n",
                "> \n",
                "> Gdy użyjemy CUBE, dostaniemy dodatkowo informacje o tym, ile zamówień było łącznie dostarczonych do danego kraju, ile było wszystkich zamówień oraz ile było łącznie zamówień obsłużonych przez danego dostawcę, natomiast  \n",
                "> gdy użyjemy ROLLUP, dostaniemy tylko informacje o tym, ile było wszystkich zamówień oraz ile było łącznie zamówień obsłużonych przez danego dostawcę."
            ],
            "metadata": {
                "azdata_cell_guid": "290c316f-1058-4112-9fff-2ec51e82aabd"
            },
            "attachments": {}
        },
        {
            "cell_type": "code",
            "source": [
                "SELECT COUNT(*) AS [COUNT OF ORDERS], ShipVia, ShipCountry FROM Orders \r\n",
                "    GROUP BY ShipVia, ShipCountry\r\n",
                "    WITH CUBE\r\n",
                "    ORDER BY ShipVia, ShipCountry\r\n",
                "\r\n",
                "SELECT COUNT(*) AS [COUNT OF ORDERS], ShipVia, ShipCountry FROM Orders \r\n",
                "    GROUP BY ShipVia, ShipCountry\r\n",
                "    WITH ROLLUP\r\n",
                "    ORDER BY ShipVia, ShipCountry\r\n",
                ""
            ],
            "metadata": {
                "azdata_cell_guid": "2af023e6-209a-435c-a5fd-9c8fcac8ba01",
                "tags": []
            },
            "outputs": [
                {
                    "output_type": "display_data",
                    "data": {
                        "text/html": "(88 rows affected)"
                    },
                    "metadata": {}
                },
                {
                    "output_type": "display_data",
                    "data": {
                        "text/html": "(67 rows affected)"
                    },
                    "metadata": {}
                },
                {
                    "output_type": "display_data",
                    "data": {
                        "text/html": "Total execution time: 00:00:00.033"
                    },
                    "metadata": {}
                },
                {
                    "output_type": "execute_result",
                    "metadata": {},
                    "execution_count": 19,
                    "data": {
                        "application/vnd.dataresource+json": {
                            "schema": {
                                "fields": [
                                    {
                                        "name": "COUNT OF ORDERS"
                                    },
                                    {
                                        "name": "ShipVia"
                                    },
                                    {
                                        "name": "ShipCountry"
                                    }
                                ]
                            },
                            "data": [
                                {
                                    "0": "830",
                                    "1": "NULL",
                                    "2": "NULL"
                                },
                                {
                                    "0": "16",
                                    "1": "NULL",
                                    "2": "Argentina"
                                },
                                {
                                    "0": "40",
                                    "1": "NULL",
                                    "2": "Austria"
                                },
                                {
                                    "0": "19",
                                    "1": "NULL",
                                    "2": "Belgium"
                                },
                                {
                                    "0": "83",
                                    "1": "NULL",
                                    "2": "Brazil"
                                },
                                {
                                    "0": "30",
                                    "1": "NULL",
                                    "2": "Canada"
                                },
                                {
                                    "0": "18",
                                    "1": "NULL",
                                    "2": "Denmark"
                                },
                                {
                                    "0": "22",
                                    "1": "NULL",
                                    "2": "Finland"
                                },
                                {
                                    "0": "77",
                                    "1": "NULL",
                                    "2": "France"
                                },
                                {
                                    "0": "122",
                                    "1": "NULL",
                                    "2": "Germany"
                                },
                                {
                                    "0": "19",
                                    "1": "NULL",
                                    "2": "Ireland"
                                },
                                {
                                    "0": "28",
                                    "1": "NULL",
                                    "2": "Italy"
                                },
                                {
                                    "0": "28",
                                    "1": "NULL",
                                    "2": "Mexico"
                                },
                                {
                                    "0": "6",
                                    "1": "NULL",
                                    "2": "Norway"
                                },
                                {
                                    "0": "7",
                                    "1": "NULL",
                                    "2": "Poland"
                                },
                                {
                                    "0": "13",
                                    "1": "NULL",
                                    "2": "Portugal"
                                },
                                {
                                    "0": "23",
                                    "1": "NULL",
                                    "2": "Spain"
                                },
                                {
                                    "0": "37",
                                    "1": "NULL",
                                    "2": "Sweden"
                                },
                                {
                                    "0": "18",
                                    "1": "NULL",
                                    "2": "Switzerland"
                                },
                                {
                                    "0": "56",
                                    "1": "NULL",
                                    "2": "UK"
                                },
                                {
                                    "0": "122",
                                    "1": "NULL",
                                    "2": "USA"
                                },
                                {
                                    "0": "46",
                                    "1": "NULL",
                                    "2": "Venezuela"
                                },
                                {
                                    "0": "249",
                                    "1": "1",
                                    "2": "NULL"
                                },
                                {
                                    "0": "5",
                                    "1": "1",
                                    "2": "Argentina"
                                },
                                {
                                    "0": "12",
                                    "1": "1",
                                    "2": "Austria"
                                },
                                {
                                    "0": "3",
                                    "1": "1",
                                    "2": "Belgium"
                                },
                                {
                                    "0": "31",
                                    "1": "1",
                                    "2": "Brazil"
                                },
                                {
                                    "0": "4",
                                    "1": "1",
                                    "2": "Canada"
                                },
                                {
                                    "0": "6",
                                    "1": "1",
                                    "2": "Denmark"
                                },
                                {
                                    "0": "8",
                                    "1": "1",
                                    "2": "Finland"
                                },
                                {
                                    "0": "27",
                                    "1": "1",
                                    "2": "France"
                                },
                                {
                                    "0": "41",
                                    "1": "1",
                                    "2": "Germany"
                                },
                                {
                                    "0": "4",
                                    "1": "1",
                                    "2": "Ireland"
                                },
                                {
                                    "0": "14",
                                    "1": "1",
                                    "2": "Italy"
                                },
                                {
                                    "0": "4",
                                    "1": "1",
                                    "2": "Mexico"
                                },
                                {
                                    "0": "1",
                                    "1": "1",
                                    "2": "Norway"
                                },
                                {
                                    "0": "1",
                                    "1": "1",
                                    "2": "Poland"
                                },
                                {
                                    "0": "2",
                                    "1": "1",
                                    "2": "Portugal"
                                },
                                {
                                    "0": "9",
                                    "1": "1",
                                    "2": "Spain"
                                },
                                {
                                    "0": "14",
                                    "1": "1",
                                    "2": "Sweden"
                                },
                                {
                                    "0": "4",
                                    "1": "1",
                                    "2": "Switzerland"
                                },
                                {
                                    "0": "11",
                                    "1": "1",
                                    "2": "UK"
                                },
                                {
                                    "0": "31",
                                    "1": "1",
                                    "2": "USA"
                                },
                                {
                                    "0": "17",
                                    "1": "1",
                                    "2": "Venezuela"
                                },
                                {
                                    "0": "326",
                                    "1": "2",
                                    "2": "NULL"
                                },
                                {
                                    "0": "7",
                                    "1": "2",
                                    "2": "Argentina"
                                },
                                {
                                    "0": "15",
                                    "1": "2",
                                    "2": "Austria"
                                },
                                {
                                    "0": "8",
                                    "1": "2",
                                    "2": "Belgium"
                                },
                                {
                                    "0": "35",
                                    "1": "2",
                                    "2": "Brazil"
                                },
                                {
                                    "0": "10",
                                    "1": "2",
                                    "2": "Canada"
                                },
                                {
                                    "0": "5",
                                    "1": "2",
                                    "2": "Denmark"
                                },
                                {
                                    "0": "5",
                                    "1": "2",
                                    "2": "Finland"
                                },
                                {
                                    "0": "29",
                                    "1": "2",
                                    "2": "France"
                                },
                                {
                                    "0": "53",
                                    "1": "2",
                                    "2": "Germany"
                                },
                                {
                                    "0": "9",
                                    "1": "2",
                                    "2": "Ireland"
                                },
                                {
                                    "0": "9",
                                    "1": "2",
                                    "2": "Italy"
                                },
                                {
                                    "0": "10",
                                    "1": "2",
                                    "2": "Mexico"
                                },
                                {
                                    "0": "4",
                                    "1": "2",
                                    "2": "Norway"
                                },
                                {
                                    "0": "2",
                                    "1": "2",
                                    "2": "Poland"
                                },
                                {
                                    "0": "4",
                                    "1": "2",
                                    "2": "Portugal"
                                },
                                {
                                    "0": "8",
                                    "1": "2",
                                    "2": "Spain"
                                },
                                {
                                    "0": "15",
                                    "1": "2",
                                    "2": "Sweden"
                                },
                                {
                                    "0": "8",
                                    "1": "2",
                                    "2": "Switzerland"
                                },
                                {
                                    "0": "23",
                                    "1": "2",
                                    "2": "UK"
                                },
                                {
                                    "0": "51",
                                    "1": "2",
                                    "2": "USA"
                                },
                                {
                                    "0": "16",
                                    "1": "2",
                                    "2": "Venezuela"
                                },
                                {
                                    "0": "255",
                                    "1": "3",
                                    "2": "NULL"
                                },
                                {
                                    "0": "4",
                                    "1": "3",
                                    "2": "Argentina"
                                },
                                {
                                    "0": "13",
                                    "1": "3",
                                    "2": "Austria"
                                },
                                {
                                    "0": "8",
                                    "1": "3",
                                    "2": "Belgium"
                                },
                                {
                                    "0": "17",
                                    "1": "3",
                                    "2": "Brazil"
                                },
                                {
                                    "0": "16",
                                    "1": "3",
                                    "2": "Canada"
                                },
                                {
                                    "0": "7",
                                    "1": "3",
                                    "2": "Denmark"
                                },
                                {
                                    "0": "9",
                                    "1": "3",
                                    "2": "Finland"
                                },
                                {
                                    "0": "21",
                                    "1": "3",
                                    "2": "France"
                                },
                                {
                                    "0": "28",
                                    "1": "3",
                                    "2": "Germany"
                                },
                                {
                                    "0": "6",
                                    "1": "3",
                                    "2": "Ireland"
                                },
                                {
                                    "0": "5",
                                    "1": "3",
                                    "2": "Italy"
                                },
                                {
                                    "0": "14",
                                    "1": "3",
                                    "2": "Mexico"
                                },
                                {
                                    "0": "1",
                                    "1": "3",
                                    "2": "Norway"
                                },
                                {
                                    "0": "4",
                                    "1": "3",
                                    "2": "Poland"
                                },
                                {
                                    "0": "7",
                                    "1": "3",
                                    "2": "Portugal"
                                },
                                {
                                    "0": "6",
                                    "1": "3",
                                    "2": "Spain"
                                },
                                {
                                    "0": "8",
                                    "1": "3",
                                    "2": "Sweden"
                                },
                                {
                                    "0": "6",
                                    "1": "3",
                                    "2": "Switzerland"
                                },
                                {
                                    "0": "22",
                                    "1": "3",
                                    "2": "UK"
                                },
                                {
                                    "0": "40",
                                    "1": "3",
                                    "2": "USA"
                                },
                                {
                                    "0": "13",
                                    "1": "3",
                                    "2": "Venezuela"
                                }
                            ]
                        },
                        "text/html": [
                            "<table>",
                            "<tr><th>COUNT OF ORDERS</th><th>ShipVia</th><th>ShipCountry</th></tr>",
                            "<tr><td>830</td><td>NULL</td><td>NULL</td></tr>",
                            "<tr><td>16</td><td>NULL</td><td>Argentina</td></tr>",
                            "<tr><td>40</td><td>NULL</td><td>Austria</td></tr>",
                            "<tr><td>19</td><td>NULL</td><td>Belgium</td></tr>",
                            "<tr><td>83</td><td>NULL</td><td>Brazil</td></tr>",
                            "<tr><td>30</td><td>NULL</td><td>Canada</td></tr>",
                            "<tr><td>18</td><td>NULL</td><td>Denmark</td></tr>",
                            "<tr><td>22</td><td>NULL</td><td>Finland</td></tr>",
                            "<tr><td>77</td><td>NULL</td><td>France</td></tr>",
                            "<tr><td>122</td><td>NULL</td><td>Germany</td></tr>",
                            "<tr><td>19</td><td>NULL</td><td>Ireland</td></tr>",
                            "<tr><td>28</td><td>NULL</td><td>Italy</td></tr>",
                            "<tr><td>28</td><td>NULL</td><td>Mexico</td></tr>",
                            "<tr><td>6</td><td>NULL</td><td>Norway</td></tr>",
                            "<tr><td>7</td><td>NULL</td><td>Poland</td></tr>",
                            "<tr><td>13</td><td>NULL</td><td>Portugal</td></tr>",
                            "<tr><td>23</td><td>NULL</td><td>Spain</td></tr>",
                            "<tr><td>37</td><td>NULL</td><td>Sweden</td></tr>",
                            "<tr><td>18</td><td>NULL</td><td>Switzerland</td></tr>",
                            "<tr><td>56</td><td>NULL</td><td>UK</td></tr>",
                            "<tr><td>122</td><td>NULL</td><td>USA</td></tr>",
                            "<tr><td>46</td><td>NULL</td><td>Venezuela</td></tr>",
                            "<tr><td>249</td><td>1</td><td>NULL</td></tr>",
                            "<tr><td>5</td><td>1</td><td>Argentina</td></tr>",
                            "<tr><td>12</td><td>1</td><td>Austria</td></tr>",
                            "<tr><td>3</td><td>1</td><td>Belgium</td></tr>",
                            "<tr><td>31</td><td>1</td><td>Brazil</td></tr>",
                            "<tr><td>4</td><td>1</td><td>Canada</td></tr>",
                            "<tr><td>6</td><td>1</td><td>Denmark</td></tr>",
                            "<tr><td>8</td><td>1</td><td>Finland</td></tr>",
                            "<tr><td>27</td><td>1</td><td>France</td></tr>",
                            "<tr><td>41</td><td>1</td><td>Germany</td></tr>",
                            "<tr><td>4</td><td>1</td><td>Ireland</td></tr>",
                            "<tr><td>14</td><td>1</td><td>Italy</td></tr>",
                            "<tr><td>4</td><td>1</td><td>Mexico</td></tr>",
                            "<tr><td>1</td><td>1</td><td>Norway</td></tr>",
                            "<tr><td>1</td><td>1</td><td>Poland</td></tr>",
                            "<tr><td>2</td><td>1</td><td>Portugal</td></tr>",
                            "<tr><td>9</td><td>1</td><td>Spain</td></tr>",
                            "<tr><td>14</td><td>1</td><td>Sweden</td></tr>",
                            "<tr><td>4</td><td>1</td><td>Switzerland</td></tr>",
                            "<tr><td>11</td><td>1</td><td>UK</td></tr>",
                            "<tr><td>31</td><td>1</td><td>USA</td></tr>",
                            "<tr><td>17</td><td>1</td><td>Venezuela</td></tr>",
                            "<tr><td>326</td><td>2</td><td>NULL</td></tr>",
                            "<tr><td>7</td><td>2</td><td>Argentina</td></tr>",
                            "<tr><td>15</td><td>2</td><td>Austria</td></tr>",
                            "<tr><td>8</td><td>2</td><td>Belgium</td></tr>",
                            "<tr><td>35</td><td>2</td><td>Brazil</td></tr>",
                            "<tr><td>10</td><td>2</td><td>Canada</td></tr>",
                            "<tr><td>5</td><td>2</td><td>Denmark</td></tr>",
                            "<tr><td>5</td><td>2</td><td>Finland</td></tr>",
                            "<tr><td>29</td><td>2</td><td>France</td></tr>",
                            "<tr><td>53</td><td>2</td><td>Germany</td></tr>",
                            "<tr><td>9</td><td>2</td><td>Ireland</td></tr>",
                            "<tr><td>9</td><td>2</td><td>Italy</td></tr>",
                            "<tr><td>10</td><td>2</td><td>Mexico</td></tr>",
                            "<tr><td>4</td><td>2</td><td>Norway</td></tr>",
                            "<tr><td>2</td><td>2</td><td>Poland</td></tr>",
                            "<tr><td>4</td><td>2</td><td>Portugal</td></tr>",
                            "<tr><td>8</td><td>2</td><td>Spain</td></tr>",
                            "<tr><td>15</td><td>2</td><td>Sweden</td></tr>",
                            "<tr><td>8</td><td>2</td><td>Switzerland</td></tr>",
                            "<tr><td>23</td><td>2</td><td>UK</td></tr>",
                            "<tr><td>51</td><td>2</td><td>USA</td></tr>",
                            "<tr><td>16</td><td>2</td><td>Venezuela</td></tr>",
                            "<tr><td>255</td><td>3</td><td>NULL</td></tr>",
                            "<tr><td>4</td><td>3</td><td>Argentina</td></tr>",
                            "<tr><td>13</td><td>3</td><td>Austria</td></tr>",
                            "<tr><td>8</td><td>3</td><td>Belgium</td></tr>",
                            "<tr><td>17</td><td>3</td><td>Brazil</td></tr>",
                            "<tr><td>16</td><td>3</td><td>Canada</td></tr>",
                            "<tr><td>7</td><td>3</td><td>Denmark</td></tr>",
                            "<tr><td>9</td><td>3</td><td>Finland</td></tr>",
                            "<tr><td>21</td><td>3</td><td>France</td></tr>",
                            "<tr><td>28</td><td>3</td><td>Germany</td></tr>",
                            "<tr><td>6</td><td>3</td><td>Ireland</td></tr>",
                            "<tr><td>5</td><td>3</td><td>Italy</td></tr>",
                            "<tr><td>14</td><td>3</td><td>Mexico</td></tr>",
                            "<tr><td>1</td><td>3</td><td>Norway</td></tr>",
                            "<tr><td>4</td><td>3</td><td>Poland</td></tr>",
                            "<tr><td>7</td><td>3</td><td>Portugal</td></tr>",
                            "<tr><td>6</td><td>3</td><td>Spain</td></tr>",
                            "<tr><td>8</td><td>3</td><td>Sweden</td></tr>",
                            "<tr><td>6</td><td>3</td><td>Switzerland</td></tr>",
                            "<tr><td>22</td><td>3</td><td>UK</td></tr>",
                            "<tr><td>40</td><td>3</td><td>USA</td></tr>",
                            "<tr><td>13</td><td>3</td><td>Venezuela</td></tr>",
                            "</table>"
                        ]
                    }
                },
                {
                    "output_type": "execute_result",
                    "metadata": {},
                    "execution_count": 19,
                    "data": {
                        "application/vnd.dataresource+json": {
                            "schema": {
                                "fields": [
                                    {
                                        "name": "COUNT OF ORDERS"
                                    },
                                    {
                                        "name": "ShipVia"
                                    },
                                    {
                                        "name": "ShipCountry"
                                    }
                                ]
                            },
                            "data": [
                                {
                                    "0": "830",
                                    "1": "NULL",
                                    "2": "NULL"
                                },
                                {
                                    "0": "249",
                                    "1": "1",
                                    "2": "NULL"
                                },
                                {
                                    "0": "5",
                                    "1": "1",
                                    "2": "Argentina"
                                },
                                {
                                    "0": "12",
                                    "1": "1",
                                    "2": "Austria"
                                },
                                {
                                    "0": "3",
                                    "1": "1",
                                    "2": "Belgium"
                                },
                                {
                                    "0": "31",
                                    "1": "1",
                                    "2": "Brazil"
                                },
                                {
                                    "0": "4",
                                    "1": "1",
                                    "2": "Canada"
                                },
                                {
                                    "0": "6",
                                    "1": "1",
                                    "2": "Denmark"
                                },
                                {
                                    "0": "8",
                                    "1": "1",
                                    "2": "Finland"
                                },
                                {
                                    "0": "27",
                                    "1": "1",
                                    "2": "France"
                                },
                                {
                                    "0": "41",
                                    "1": "1",
                                    "2": "Germany"
                                },
                                {
                                    "0": "4",
                                    "1": "1",
                                    "2": "Ireland"
                                },
                                {
                                    "0": "14",
                                    "1": "1",
                                    "2": "Italy"
                                },
                                {
                                    "0": "4",
                                    "1": "1",
                                    "2": "Mexico"
                                },
                                {
                                    "0": "1",
                                    "1": "1",
                                    "2": "Norway"
                                },
                                {
                                    "0": "1",
                                    "1": "1",
                                    "2": "Poland"
                                },
                                {
                                    "0": "2",
                                    "1": "1",
                                    "2": "Portugal"
                                },
                                {
                                    "0": "9",
                                    "1": "1",
                                    "2": "Spain"
                                },
                                {
                                    "0": "14",
                                    "1": "1",
                                    "2": "Sweden"
                                },
                                {
                                    "0": "4",
                                    "1": "1",
                                    "2": "Switzerland"
                                },
                                {
                                    "0": "11",
                                    "1": "1",
                                    "2": "UK"
                                },
                                {
                                    "0": "31",
                                    "1": "1",
                                    "2": "USA"
                                },
                                {
                                    "0": "17",
                                    "1": "1",
                                    "2": "Venezuela"
                                },
                                {
                                    "0": "326",
                                    "1": "2",
                                    "2": "NULL"
                                },
                                {
                                    "0": "7",
                                    "1": "2",
                                    "2": "Argentina"
                                },
                                {
                                    "0": "15",
                                    "1": "2",
                                    "2": "Austria"
                                },
                                {
                                    "0": "8",
                                    "1": "2",
                                    "2": "Belgium"
                                },
                                {
                                    "0": "35",
                                    "1": "2",
                                    "2": "Brazil"
                                },
                                {
                                    "0": "10",
                                    "1": "2",
                                    "2": "Canada"
                                },
                                {
                                    "0": "5",
                                    "1": "2",
                                    "2": "Denmark"
                                },
                                {
                                    "0": "5",
                                    "1": "2",
                                    "2": "Finland"
                                },
                                {
                                    "0": "29",
                                    "1": "2",
                                    "2": "France"
                                },
                                {
                                    "0": "53",
                                    "1": "2",
                                    "2": "Germany"
                                },
                                {
                                    "0": "9",
                                    "1": "2",
                                    "2": "Ireland"
                                },
                                {
                                    "0": "9",
                                    "1": "2",
                                    "2": "Italy"
                                },
                                {
                                    "0": "10",
                                    "1": "2",
                                    "2": "Mexico"
                                },
                                {
                                    "0": "4",
                                    "1": "2",
                                    "2": "Norway"
                                },
                                {
                                    "0": "2",
                                    "1": "2",
                                    "2": "Poland"
                                },
                                {
                                    "0": "4",
                                    "1": "2",
                                    "2": "Portugal"
                                },
                                {
                                    "0": "8",
                                    "1": "2",
                                    "2": "Spain"
                                },
                                {
                                    "0": "15",
                                    "1": "2",
                                    "2": "Sweden"
                                },
                                {
                                    "0": "8",
                                    "1": "2",
                                    "2": "Switzerland"
                                },
                                {
                                    "0": "23",
                                    "1": "2",
                                    "2": "UK"
                                },
                                {
                                    "0": "51",
                                    "1": "2",
                                    "2": "USA"
                                },
                                {
                                    "0": "16",
                                    "1": "2",
                                    "2": "Venezuela"
                                },
                                {
                                    "0": "255",
                                    "1": "3",
                                    "2": "NULL"
                                },
                                {
                                    "0": "4",
                                    "1": "3",
                                    "2": "Argentina"
                                },
                                {
                                    "0": "13",
                                    "1": "3",
                                    "2": "Austria"
                                },
                                {
                                    "0": "8",
                                    "1": "3",
                                    "2": "Belgium"
                                },
                                {
                                    "0": "17",
                                    "1": "3",
                                    "2": "Brazil"
                                },
                                {
                                    "0": "16",
                                    "1": "3",
                                    "2": "Canada"
                                },
                                {
                                    "0": "7",
                                    "1": "3",
                                    "2": "Denmark"
                                },
                                {
                                    "0": "9",
                                    "1": "3",
                                    "2": "Finland"
                                },
                                {
                                    "0": "21",
                                    "1": "3",
                                    "2": "France"
                                },
                                {
                                    "0": "28",
                                    "1": "3",
                                    "2": "Germany"
                                },
                                {
                                    "0": "6",
                                    "1": "3",
                                    "2": "Ireland"
                                },
                                {
                                    "0": "5",
                                    "1": "3",
                                    "2": "Italy"
                                },
                                {
                                    "0": "14",
                                    "1": "3",
                                    "2": "Mexico"
                                },
                                {
                                    "0": "1",
                                    "1": "3",
                                    "2": "Norway"
                                },
                                {
                                    "0": "4",
                                    "1": "3",
                                    "2": "Poland"
                                },
                                {
                                    "0": "7",
                                    "1": "3",
                                    "2": "Portugal"
                                },
                                {
                                    "0": "6",
                                    "1": "3",
                                    "2": "Spain"
                                },
                                {
                                    "0": "8",
                                    "1": "3",
                                    "2": "Sweden"
                                },
                                {
                                    "0": "6",
                                    "1": "3",
                                    "2": "Switzerland"
                                },
                                {
                                    "0": "22",
                                    "1": "3",
                                    "2": "UK"
                                },
                                {
                                    "0": "40",
                                    "1": "3",
                                    "2": "USA"
                                },
                                {
                                    "0": "13",
                                    "1": "3",
                                    "2": "Venezuela"
                                }
                            ]
                        },
                        "text/html": [
                            "<table>",
                            "<tr><th>COUNT OF ORDERS</th><th>ShipVia</th><th>ShipCountry</th></tr>",
                            "<tr><td>830</td><td>NULL</td><td>NULL</td></tr>",
                            "<tr><td>249</td><td>1</td><td>NULL</td></tr>",
                            "<tr><td>5</td><td>1</td><td>Argentina</td></tr>",
                            "<tr><td>12</td><td>1</td><td>Austria</td></tr>",
                            "<tr><td>3</td><td>1</td><td>Belgium</td></tr>",
                            "<tr><td>31</td><td>1</td><td>Brazil</td></tr>",
                            "<tr><td>4</td><td>1</td><td>Canada</td></tr>",
                            "<tr><td>6</td><td>1</td><td>Denmark</td></tr>",
                            "<tr><td>8</td><td>1</td><td>Finland</td></tr>",
                            "<tr><td>27</td><td>1</td><td>France</td></tr>",
                            "<tr><td>41</td><td>1</td><td>Germany</td></tr>",
                            "<tr><td>4</td><td>1</td><td>Ireland</td></tr>",
                            "<tr><td>14</td><td>1</td><td>Italy</td></tr>",
                            "<tr><td>4</td><td>1</td><td>Mexico</td></tr>",
                            "<tr><td>1</td><td>1</td><td>Norway</td></tr>",
                            "<tr><td>1</td><td>1</td><td>Poland</td></tr>",
                            "<tr><td>2</td><td>1</td><td>Portugal</td></tr>",
                            "<tr><td>9</td><td>1</td><td>Spain</td></tr>",
                            "<tr><td>14</td><td>1</td><td>Sweden</td></tr>",
                            "<tr><td>4</td><td>1</td><td>Switzerland</td></tr>",
                            "<tr><td>11</td><td>1</td><td>UK</td></tr>",
                            "<tr><td>31</td><td>1</td><td>USA</td></tr>",
                            "<tr><td>17</td><td>1</td><td>Venezuela</td></tr>",
                            "<tr><td>326</td><td>2</td><td>NULL</td></tr>",
                            "<tr><td>7</td><td>2</td><td>Argentina</td></tr>",
                            "<tr><td>15</td><td>2</td><td>Austria</td></tr>",
                            "<tr><td>8</td><td>2</td><td>Belgium</td></tr>",
                            "<tr><td>35</td><td>2</td><td>Brazil</td></tr>",
                            "<tr><td>10</td><td>2</td><td>Canada</td></tr>",
                            "<tr><td>5</td><td>2</td><td>Denmark</td></tr>",
                            "<tr><td>5</td><td>2</td><td>Finland</td></tr>",
                            "<tr><td>29</td><td>2</td><td>France</td></tr>",
                            "<tr><td>53</td><td>2</td><td>Germany</td></tr>",
                            "<tr><td>9</td><td>2</td><td>Ireland</td></tr>",
                            "<tr><td>9</td><td>2</td><td>Italy</td></tr>",
                            "<tr><td>10</td><td>2</td><td>Mexico</td></tr>",
                            "<tr><td>4</td><td>2</td><td>Norway</td></tr>",
                            "<tr><td>2</td><td>2</td><td>Poland</td></tr>",
                            "<tr><td>4</td><td>2</td><td>Portugal</td></tr>",
                            "<tr><td>8</td><td>2</td><td>Spain</td></tr>",
                            "<tr><td>15</td><td>2</td><td>Sweden</td></tr>",
                            "<tr><td>8</td><td>2</td><td>Switzerland</td></tr>",
                            "<tr><td>23</td><td>2</td><td>UK</td></tr>",
                            "<tr><td>51</td><td>2</td><td>USA</td></tr>",
                            "<tr><td>16</td><td>2</td><td>Venezuela</td></tr>",
                            "<tr><td>255</td><td>3</td><td>NULL</td></tr>",
                            "<tr><td>4</td><td>3</td><td>Argentina</td></tr>",
                            "<tr><td>13</td><td>3</td><td>Austria</td></tr>",
                            "<tr><td>8</td><td>3</td><td>Belgium</td></tr>",
                            "<tr><td>17</td><td>3</td><td>Brazil</td></tr>",
                            "<tr><td>16</td><td>3</td><td>Canada</td></tr>",
                            "<tr><td>7</td><td>3</td><td>Denmark</td></tr>",
                            "<tr><td>9</td><td>3</td><td>Finland</td></tr>",
                            "<tr><td>21</td><td>3</td><td>France</td></tr>",
                            "<tr><td>28</td><td>3</td><td>Germany</td></tr>",
                            "<tr><td>6</td><td>3</td><td>Ireland</td></tr>",
                            "<tr><td>5</td><td>3</td><td>Italy</td></tr>",
                            "<tr><td>14</td><td>3</td><td>Mexico</td></tr>",
                            "<tr><td>1</td><td>3</td><td>Norway</td></tr>",
                            "<tr><td>4</td><td>3</td><td>Poland</td></tr>",
                            "<tr><td>7</td><td>3</td><td>Portugal</td></tr>",
                            "<tr><td>6</td><td>3</td><td>Spain</td></tr>",
                            "<tr><td>8</td><td>3</td><td>Sweden</td></tr>",
                            "<tr><td>6</td><td>3</td><td>Switzerland</td></tr>",
                            "<tr><td>22</td><td>3</td><td>UK</td></tr>",
                            "<tr><td>40</td><td>3</td><td>USA</td></tr>",
                            "<tr><td>13</td><td>3</td><td>Venezuela</td></tr>",
                            "</table>"
                        ]
                    }
                }
            ],
            "execution_count": 19
        }
    ]
}